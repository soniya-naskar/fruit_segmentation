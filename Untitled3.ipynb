{
 "cells": [
  {
   "cell_type": "code",
   "execution_count": 38,
   "id": "2675b76d-44ef-4711-82fb-87d2375cec1d",
   "metadata": {},
   "outputs": [],
   "source": [
    "import zipfile\n",
    "import os\n",
    "\n",
    "# Set your zip file path and destination folder\n",
    "zip_path = \"Fruit Detection.v1i.coco-segmentation (1).zip\"  # or \"path/to/fruit_dataset.zip\"\n",
    "extract_to = \"fruit_dataset\"\n",
    "\n",
    "# Create the destination directory if it doesn't exist\n",
    "os.makedirs(extract_to, exist_ok=True)\n",
    "\n",
    "# Unzip the file\n",
    "with zipfile.ZipFile(zip_path, 'r') as zip_ref:\n",
    "    zip_ref.extractall(extract_to)\n"
   ]
  },
  {
   "cell_type": "code",
   "execution_count": 41,
   "id": "2c4aa009-47e3-49e9-a1ab-65e00ba4fda9",
   "metadata": {},
   "outputs": [
    {
     "name": "stdout",
     "output_type": "stream",
     "text": [
      "fruit_dataset\\README.roboflow.txt\n",
      "fruit_dataset\\test\\005_jpg.rf.63fb699c8a264f9deb14125b7f9b50e5.jpg\n",
      "fruit_dataset\\test\\005_jpg.rf.a581adee25782cb8b677c67cd40d1af7.jpg\n",
      "fruit_dataset\\test\\006_jpg.rf.351a6317de7a01b81d10e7bae162e2de.jpg\n",
      "fruit_dataset\\test\\006_jpg.rf.92a92069631d5e51810c19edea43be96.jpg\n",
      "fruit_dataset\\test\\017_jpg.rf.1a6cdb9475b9dbecdc666f5929dc19be.jpg\n",
      "fruit_dataset\\test\\017_jpg.rf.76a682182271d1c94f4bdf8bbff4b49b.jpg\n",
      "fruit_dataset\\test\\026_jpg.rf.16f41d747e27436141f554a3d98d8d14.jpg\n",
      "fruit_dataset\\test\\026_jpg.rf.c98b3c3ee5a1f86de77a0890e3aa0307.jpg\n",
      "fruit_dataset\\test\\027_jpg.rf.616db5dd7860cfaf6b928128064c91be.jpg\n",
      "fruit_dataset\\test\\027_jpg.rf.a631cd67031f205d2d6bdf2e52467f01.jpg\n",
      "fruit_dataset\\test\\028_jpg.rf.4ef14f74b5bd8cd68ac91d75cf82e8d3.jpg\n",
      "fruit_dataset\\test\\028_jpg.rf.50b9fc480e39f8fe588b3880616fb9a7.jpg\n",
      "fruit_dataset\\test\\032_jpg.rf.039fbf379fc4841c90bb5a5a0c9d2cd7.jpg\n",
      "fruit_dataset\\test\\032_jpg.rf.9aa045d9d689a258775023ed3f251018.jpg\n",
      "fruit_dataset\\test\\033_jpg.rf.83dbb33cd0a3e96b2e19697c3a7aeb6a.jpg\n",
      "fruit_dataset\\test\\033_jpg.rf.bb73e26a949396cba20997a2e5634b84.jpg\n",
      "fruit_dataset\\test\\036_jpg.rf.1bb1cec0f23729bf7056ccbfa38eeb86.jpg\n",
      "fruit_dataset\\test\\036_jpg.rf.51df8e165e2d041dd279ae9d8c9ddfa4.jpg\n",
      "fruit_dataset\\test\\043_jpg.rf.793825dac18932b5ad6303ea5a711169.jpg\n",
      "fruit_dataset\\test\\043_jpg.rf.fa255d6b50bbd925aa2ae76c33c530b0.jpg\n",
      "fruit_dataset\\test\\052_jpg.rf.adf72fdad9aeeace39188c27920f88e7.jpg\n",
      "fruit_dataset\\test\\058_jpg.rf.de1a6cc3bc6a0fb5c8d44d7e8ffaa189.jpg\n",
      "fruit_dataset\\test\\059_jpg.rf.443b0bc8588755de38598c29d21520ef.jpg\n",
      "fruit_dataset\\test\\060_jpg.rf.1077f50f2a66d4c2ae2674b9dca6fe10.jpg\n",
      "fruit_dataset\\test\\064_jpg.rf.1fb797d5bf0f9facf5b14ea870420c8d.jpg\n",
      "fruit_dataset\\test\\070_jpg.rf.93c6c165fc5895c2da9b1b93059090b5.jpg\n",
      "fruit_dataset\\test\\079_jpg.rf.4b019062eae2966a50f091d35188fe3a.jpg\n",
      "fruit_dataset\\test\\092_jpg.rf.0259c89fc476dfb1ed60a68e052b4d27.jpg\n",
      "fruit_dataset\\test\\094_jpg.rf.920e34da211089c661d16c2b543ba0f8.jpg\n",
      "fruit_dataset\\test\\096_jpg.rf.c58c4e58fa291a715a7293fc7d68f3a0.jpg\n",
      "fruit_dataset\\test\\102_jpg.rf.d6ae754055dcb29449bb5b44d44b6a6d.jpg\n",
      "fruit_dataset\\test\\109_jpg.rf.d96fbf16ff1c4901b0a9d261fc2cba7d.jpg\n",
      "fruit_dataset\\test\\111_jpg.rf.983e277acd01719dda7aa013e9466d37.jpg\n",
      "fruit_dataset\\test\\117_jpg.rf.4eeeed97dc5a6f6db65e5bcaf96c06ec.jpg\n",
      "fruit_dataset\\test\\125_jpg.rf.16b00d2bbbc80419ea72c9d375a01c8b.jpg\n",
      "fruit_dataset\\test\\138_jpg.rf.0438a5f96bbdbb5346fbb04cf4ac1cfc.jpg\n",
      "fruit_dataset\\test\\140_jpg.rf.6fbc56acdfbd1a8146fa5b9653c4fdad.jpg\n",
      "fruit_dataset\\test\\150_jpg.rf.8a9442c61f6f8237befc3e75037ac738.jpg\n",
      "fruit_dataset\\test\\153_jpg.rf.944f92fd3f566882bacd86ec311b7ba7.jpg\n",
      "fruit_dataset\\test\\158_jpg.rf.e117a4b42a1cb7ab30bb6f3237b6ae5b.jpg\n",
      "fruit_dataset\\test\\164_jpg.rf.bf346638b8ad9a531db4e69c7b2a1616.jpg\n",
      "fruit_dataset\\test\\174_jpg.rf.400f09061d6db84fb7a724d193e6dd1f.jpg\n",
      "fruit_dataset\\test\\179_jpg.rf.d9d31a0e5aac6895f35254f5a5fcc0f0.jpg\n",
      "fruit_dataset\\test\\183_jpg.rf.e5e20bd912c063422dbca0a5d89e650b.jpg\n",
      "fruit_dataset\\test\\184_jpg.rf.9a0120bf2bab3a3ef56227d24a3cbe4c.jpg\n",
      "fruit_dataset\\test\\185_jpg.rf.156a42b877ca58d9164060b3eac90c07.jpg\n",
      "fruit_dataset\\test\\193_jpg.rf.f81aea4cff1b4c4d546bcdb12f4866d0.jpg\n",
      "fruit_dataset\\test\\201_jpg.rf.b6ffe4b913373ab6f16aab47df1d019e.jpg\n",
      "fruit_dataset\\test\\224_jpg.rf.32ab353134b81fe06fddb030dffd737f.jpg\n",
      "fruit_dataset\\test\\226_jpg.rf.16bd92ef388b09d361aa04245e6d3837.jpg\n",
      "fruit_dataset\\test\\231_jpg.rf.f8b4392d101bfd95b9e84e31465db97d.jpg\n",
      "fruit_dataset\\test\\234_jpg.rf.00278f9025fbf8cdb5aa70a06d48c5a1.jpg\n",
      "fruit_dataset\\test\\237_jpg.rf.bec999f407f4891ab8e420d70c58a82f.jpg\n",
      "fruit_dataset\\test\\249_jpg.rf.ab8c393498aafa8ada8a12f55ac8d6a2.jpg\n",
      "fruit_dataset\\test\\253_jpg.rf.ff8357d64c1a354404f4e578d65d57ad.jpg\n",
      "fruit_dataset\\test\\254_jpg.rf.2c2acbfc5a13a0381f8e2d51539564e8.jpg\n",
      "fruit_dataset\\test\\257_jpg.rf.0732ef489e391cf683c8b6d85ba254a4.jpg\n",
      "fruit_dataset\\test\\265_jpg.rf.efe297a56773a4856e4d0d36770794ee.jpg\n",
      "fruit_dataset\\test\\268_jpg.rf.f23f1a34632a3c196089034a305ef50f.jpg\n",
      "fruit_dataset\\test\\269_jpg.rf.148fde2d034971d1be7cfa86bccf2450.jpg\n",
      "fruit_dataset\\test\\277_jpg.rf.c85acad8fae21d10eb972ac6f3a4ba18.jpg\n",
      "fruit_dataset\\test\\283_jpg.rf.f3954f403c9b55617dd21539301687fc.jpg\n",
      "fruit_dataset\\test\\284_jpg.rf.7f1f14cd588933a4e1a1ee90a19a5f2e.jpg\n",
      "fruit_dataset\\test\\290_jpg.rf.fbc55420ccb018f20961a4fc7dae2dfe.jpg\n",
      "fruit_dataset\\test\\296_jpg.rf.02e361dc12db57152b239b3bceee546e.jpg\n",
      "fruit_dataset\\test\\_annotations.coco.json\n",
      "fruit_dataset\\test\\images\\005_jpg.rf.63fb699c8a264f9deb14125b7f9b50e5.jpg\n",
      "fruit_dataset\\test\\images\\005_jpg.rf.a581adee25782cb8b677c67cd40d1af7.jpg\n",
      "fruit_dataset\\test\\images\\006_jpg.rf.351a6317de7a01b81d10e7bae162e2de.jpg\n",
      "fruit_dataset\\test\\images\\006_jpg.rf.92a92069631d5e51810c19edea43be96.jpg\n",
      "fruit_dataset\\test\\images\\017_jpg.rf.1a6cdb9475b9dbecdc666f5929dc19be.jpg\n",
      "fruit_dataset\\test\\images\\017_jpg.rf.76a682182271d1c94f4bdf8bbff4b49b.jpg\n",
      "fruit_dataset\\test\\images\\026_jpg.rf.16f41d747e27436141f554a3d98d8d14.jpg\n",
      "fruit_dataset\\test\\images\\026_jpg.rf.c98b3c3ee5a1f86de77a0890e3aa0307.jpg\n",
      "fruit_dataset\\test\\images\\027_jpg.rf.616db5dd7860cfaf6b928128064c91be.jpg\n",
      "fruit_dataset\\test\\images\\027_jpg.rf.a631cd67031f205d2d6bdf2e52467f01.jpg\n",
      "fruit_dataset\\test\\images\\028_jpg.rf.4ef14f74b5bd8cd68ac91d75cf82e8d3.jpg\n",
      "fruit_dataset\\test\\images\\028_jpg.rf.50b9fc480e39f8fe588b3880616fb9a7.jpg\n",
      "fruit_dataset\\test\\images\\032_jpg.rf.039fbf379fc4841c90bb5a5a0c9d2cd7.jpg\n",
      "fruit_dataset\\test\\images\\032_jpg.rf.9aa045d9d689a258775023ed3f251018.jpg\n",
      "fruit_dataset\\test\\images\\033_jpg.rf.83dbb33cd0a3e96b2e19697c3a7aeb6a.jpg\n",
      "fruit_dataset\\test\\images\\033_jpg.rf.bb73e26a949396cba20997a2e5634b84.jpg\n",
      "fruit_dataset\\test\\images\\036_jpg.rf.1bb1cec0f23729bf7056ccbfa38eeb86.jpg\n",
      "fruit_dataset\\test\\images\\036_jpg.rf.51df8e165e2d041dd279ae9d8c9ddfa4.jpg\n",
      "fruit_dataset\\test\\images\\043_jpg.rf.793825dac18932b5ad6303ea5a711169.jpg\n",
      "fruit_dataset\\test\\images\\043_jpg.rf.fa255d6b50bbd925aa2ae76c33c530b0.jpg\n",
      "fruit_dataset\\test\\images\\052_jpg.rf.adf72fdad9aeeace39188c27920f88e7.jpg\n",
      "fruit_dataset\\test\\images\\058_jpg.rf.de1a6cc3bc6a0fb5c8d44d7e8ffaa189.jpg\n",
      "fruit_dataset\\test\\images\\059_jpg.rf.443b0bc8588755de38598c29d21520ef.jpg\n",
      "fruit_dataset\\test\\images\\060_jpg.rf.1077f50f2a66d4c2ae2674b9dca6fe10.jpg\n",
      "fruit_dataset\\test\\images\\064_jpg.rf.1fb797d5bf0f9facf5b14ea870420c8d.jpg\n",
      "fruit_dataset\\test\\images\\070_jpg.rf.93c6c165fc5895c2da9b1b93059090b5.jpg\n",
      "fruit_dataset\\test\\images\\079_jpg.rf.4b019062eae2966a50f091d35188fe3a.jpg\n",
      "fruit_dataset\\test\\images\\092_jpg.rf.0259c89fc476dfb1ed60a68e052b4d27.jpg\n",
      "fruit_dataset\\test\\images\\094_jpg.rf.920e34da211089c661d16c2b543ba0f8.jpg\n",
      "fruit_dataset\\test\\images\\096_jpg.rf.c58c4e58fa291a715a7293fc7d68f3a0.jpg\n",
      "fruit_dataset\\test\\images\\102_jpg.rf.d6ae754055dcb29449bb5b44d44b6a6d.jpg\n",
      "fruit_dataset\\test\\images\\109_jpg.rf.d96fbf16ff1c4901b0a9d261fc2cba7d.jpg\n",
      "fruit_dataset\\test\\images\\111_jpg.rf.983e277acd01719dda7aa013e9466d37.jpg\n",
      "fruit_dataset\\test\\images\\117_jpg.rf.4eeeed97dc5a6f6db65e5bcaf96c06ec.jpg\n",
      "fruit_dataset\\test\\images\\125_jpg.rf.16b00d2bbbc80419ea72c9d375a01c8b.jpg\n",
      "fruit_dataset\\test\\images\\138_jpg.rf.0438a5f96bbdbb5346fbb04cf4ac1cfc.jpg\n",
      "fruit_dataset\\test\\images\\140_jpg.rf.6fbc56acdfbd1a8146fa5b9653c4fdad.jpg\n",
      "fruit_dataset\\test\\images\\150_jpg.rf.8a9442c61f6f8237befc3e75037ac738.jpg\n",
      "fruit_dataset\\test\\images\\153_jpg.rf.944f92fd3f566882bacd86ec311b7ba7.jpg\n",
      "fruit_dataset\\test\\images\\158_jpg.rf.e117a4b42a1cb7ab30bb6f3237b6ae5b.jpg\n",
      "fruit_dataset\\test\\images\\164_jpg.rf.bf346638b8ad9a531db4e69c7b2a1616.jpg\n",
      "fruit_dataset\\test\\images\\174_jpg.rf.400f09061d6db84fb7a724d193e6dd1f.jpg\n",
      "fruit_dataset\\test\\images\\179_jpg.rf.d9d31a0e5aac6895f35254f5a5fcc0f0.jpg\n",
      "fruit_dataset\\test\\images\\183_jpg.rf.e5e20bd912c063422dbca0a5d89e650b.jpg\n",
      "fruit_dataset\\test\\images\\184_jpg.rf.9a0120bf2bab3a3ef56227d24a3cbe4c.jpg\n",
      "fruit_dataset\\test\\images\\185_jpg.rf.156a42b877ca58d9164060b3eac90c07.jpg\n",
      "fruit_dataset\\test\\images\\193_jpg.rf.f81aea4cff1b4c4d546bcdb12f4866d0.jpg\n",
      "fruit_dataset\\test\\images\\201_jpg.rf.b6ffe4b913373ab6f16aab47df1d019e.jpg\n",
      "fruit_dataset\\test\\images\\224_jpg.rf.32ab353134b81fe06fddb030dffd737f.jpg\n",
      "fruit_dataset\\test\\images\\226_jpg.rf.16bd92ef388b09d361aa04245e6d3837.jpg\n",
      "fruit_dataset\\test\\images\\231_jpg.rf.f8b4392d101bfd95b9e84e31465db97d.jpg\n",
      "fruit_dataset\\test\\images\\234_jpg.rf.00278f9025fbf8cdb5aa70a06d48c5a1.jpg\n",
      "fruit_dataset\\test\\images\\237_jpg.rf.bec999f407f4891ab8e420d70c58a82f.jpg\n",
      "fruit_dataset\\test\\images\\249_jpg.rf.ab8c393498aafa8ada8a12f55ac8d6a2.jpg\n",
      "fruit_dataset\\test\\images\\253_jpg.rf.ff8357d64c1a354404f4e578d65d57ad.jpg\n",
      "fruit_dataset\\test\\images\\254_jpg.rf.2c2acbfc5a13a0381f8e2d51539564e8.jpg\n",
      "fruit_dataset\\test\\images\\257_jpg.rf.0732ef489e391cf683c8b6d85ba254a4.jpg\n",
      "fruit_dataset\\test\\images\\265_jpg.rf.efe297a56773a4856e4d0d36770794ee.jpg\n",
      "fruit_dataset\\test\\images\\268_jpg.rf.f23f1a34632a3c196089034a305ef50f.jpg\n",
      "fruit_dataset\\test\\images\\269_jpg.rf.148fde2d034971d1be7cfa86bccf2450.jpg\n",
      "fruit_dataset\\test\\images\\277_jpg.rf.c85acad8fae21d10eb972ac6f3a4ba18.jpg\n",
      "fruit_dataset\\test\\images\\283_jpg.rf.f3954f403c9b55617dd21539301687fc.jpg\n",
      "fruit_dataset\\test\\images\\284_jpg.rf.7f1f14cd588933a4e1a1ee90a19a5f2e.jpg\n",
      "fruit_dataset\\test\\images\\290_jpg.rf.fbc55420ccb018f20961a4fc7dae2dfe.jpg\n",
      "fruit_dataset\\test\\images\\296_jpg.rf.02e361dc12db57152b239b3bceee546e.jpg\n",
      "fruit_dataset\\test\\labels\\005_jpg.rf.63fb699c8a264f9deb14125b7f9b50e5.txt\n",
      "fruit_dataset\\test\\labels\\005_jpg.rf.a581adee25782cb8b677c67cd40d1af7.txt\n",
      "fruit_dataset\\test\\labels\\006_jpg.rf.351a6317de7a01b81d10e7bae162e2de.txt\n",
      "fruit_dataset\\test\\labels\\006_jpg.rf.92a92069631d5e51810c19edea43be96.txt\n",
      "fruit_dataset\\test\\labels\\017_jpg.rf.1a6cdb9475b9dbecdc666f5929dc19be.txt\n",
      "fruit_dataset\\test\\labels\\017_jpg.rf.76a682182271d1c94f4bdf8bbff4b49b.txt\n",
      "fruit_dataset\\test\\labels\\026_jpg.rf.16f41d747e27436141f554a3d98d8d14.txt\n",
      "fruit_dataset\\test\\labels\\026_jpg.rf.c98b3c3ee5a1f86de77a0890e3aa0307.txt\n",
      "fruit_dataset\\test\\labels\\027_jpg.rf.616db5dd7860cfaf6b928128064c91be.txt\n",
      "fruit_dataset\\test\\labels\\027_jpg.rf.a631cd67031f205d2d6bdf2e52467f01.txt\n",
      "fruit_dataset\\test\\labels\\028_jpg.rf.4ef14f74b5bd8cd68ac91d75cf82e8d3.txt\n",
      "fruit_dataset\\test\\labels\\028_jpg.rf.50b9fc480e39f8fe588b3880616fb9a7.txt\n",
      "fruit_dataset\\test\\labels\\032_jpg.rf.039fbf379fc4841c90bb5a5a0c9d2cd7.txt\n",
      "fruit_dataset\\test\\labels\\032_jpg.rf.9aa045d9d689a258775023ed3f251018.txt\n",
      "fruit_dataset\\test\\labels\\033_jpg.rf.83dbb33cd0a3e96b2e19697c3a7aeb6a.txt\n",
      "fruit_dataset\\test\\labels\\033_jpg.rf.bb73e26a949396cba20997a2e5634b84.txt\n",
      "fruit_dataset\\test\\labels\\036_jpg.rf.1bb1cec0f23729bf7056ccbfa38eeb86.txt\n",
      "fruit_dataset\\test\\labels\\036_jpg.rf.51df8e165e2d041dd279ae9d8c9ddfa4.txt\n",
      "fruit_dataset\\test\\labels\\043_jpg.rf.793825dac18932b5ad6303ea5a711169.txt\n",
      "fruit_dataset\\test\\labels\\043_jpg.rf.fa255d6b50bbd925aa2ae76c33c530b0.txt\n",
      "fruit_dataset\\test\\labels\\052_jpg.rf.adf72fdad9aeeace39188c27920f88e7.txt\n",
      "fruit_dataset\\test\\labels\\058_jpg.rf.de1a6cc3bc6a0fb5c8d44d7e8ffaa189.txt\n",
      "fruit_dataset\\test\\labels\\059_jpg.rf.443b0bc8588755de38598c29d21520ef.txt\n",
      "fruit_dataset\\test\\labels\\060_jpg.rf.1077f50f2a66d4c2ae2674b9dca6fe10.txt\n",
      "fruit_dataset\\test\\labels\\064_jpg.rf.1fb797d5bf0f9facf5b14ea870420c8d.txt\n",
      "fruit_dataset\\test\\labels\\070_jpg.rf.93c6c165fc5895c2da9b1b93059090b5.txt\n",
      "fruit_dataset\\test\\labels\\079_jpg.rf.4b019062eae2966a50f091d35188fe3a.txt\n",
      "fruit_dataset\\test\\labels\\092_jpg.rf.0259c89fc476dfb1ed60a68e052b4d27.txt\n",
      "fruit_dataset\\test\\labels\\094_jpg.rf.920e34da211089c661d16c2b543ba0f8.txt\n",
      "fruit_dataset\\test\\labels\\096_jpg.rf.c58c4e58fa291a715a7293fc7d68f3a0.txt\n",
      "fruit_dataset\\test\\labels\\102_jpg.rf.d6ae754055dcb29449bb5b44d44b6a6d.txt\n",
      "fruit_dataset\\test\\labels\\109_jpg.rf.d96fbf16ff1c4901b0a9d261fc2cba7d.txt\n",
      "fruit_dataset\\test\\labels\\111_jpg.rf.983e277acd01719dda7aa013e9466d37.txt\n",
      "fruit_dataset\\test\\labels\\117_jpg.rf.4eeeed97dc5a6f6db65e5bcaf96c06ec.txt\n",
      "fruit_dataset\\test\\labels\\125_jpg.rf.16b00d2bbbc80419ea72c9d375a01c8b.txt\n",
      "fruit_dataset\\test\\labels\\138_jpg.rf.0438a5f96bbdbb5346fbb04cf4ac1cfc.txt\n",
      "fruit_dataset\\test\\labels\\140_jpg.rf.6fbc56acdfbd1a8146fa5b9653c4fdad.txt\n",
      "fruit_dataset\\test\\labels\\150_jpg.rf.8a9442c61f6f8237befc3e75037ac738.txt\n",
      "fruit_dataset\\test\\labels\\153_jpg.rf.944f92fd3f566882bacd86ec311b7ba7.txt\n",
      "fruit_dataset\\test\\labels\\158_jpg.rf.e117a4b42a1cb7ab30bb6f3237b6ae5b.txt\n",
      "fruit_dataset\\test\\labels\\164_jpg.rf.bf346638b8ad9a531db4e69c7b2a1616.txt\n",
      "fruit_dataset\\test\\labels\\174_jpg.rf.400f09061d6db84fb7a724d193e6dd1f.txt\n",
      "fruit_dataset\\test\\labels\\179_jpg.rf.d9d31a0e5aac6895f35254f5a5fcc0f0.txt\n",
      "fruit_dataset\\test\\labels\\183_jpg.rf.e5e20bd912c063422dbca0a5d89e650b.txt\n",
      "fruit_dataset\\test\\labels\\184_jpg.rf.9a0120bf2bab3a3ef56227d24a3cbe4c.txt\n",
      "fruit_dataset\\test\\labels\\185_jpg.rf.156a42b877ca58d9164060b3eac90c07.txt\n",
      "fruit_dataset\\test\\labels\\193_jpg.rf.f81aea4cff1b4c4d546bcdb12f4866d0.txt\n",
      "fruit_dataset\\test\\labels\\201_jpg.rf.b6ffe4b913373ab6f16aab47df1d019e.txt\n",
      "fruit_dataset\\test\\labels\\224_jpg.rf.32ab353134b81fe06fddb030dffd737f.txt\n",
      "fruit_dataset\\test\\labels\\226_jpg.rf.16bd92ef388b09d361aa04245e6d3837.txt\n",
      "fruit_dataset\\test\\labels\\231_jpg.rf.f8b4392d101bfd95b9e84e31465db97d.txt\n",
      "fruit_dataset\\test\\labels\\234_jpg.rf.00278f9025fbf8cdb5aa70a06d48c5a1.txt\n",
      "fruit_dataset\\test\\labels\\237_jpg.rf.bec999f407f4891ab8e420d70c58a82f.txt\n",
      "fruit_dataset\\test\\labels\\249_jpg.rf.ab8c393498aafa8ada8a12f55ac8d6a2.txt\n",
      "fruit_dataset\\test\\labels\\253_jpg.rf.ff8357d64c1a354404f4e578d65d57ad.txt\n",
      "fruit_dataset\\test\\labels\\254_jpg.rf.2c2acbfc5a13a0381f8e2d51539564e8.txt\n",
      "fruit_dataset\\test\\labels\\257_jpg.rf.0732ef489e391cf683c8b6d85ba254a4.txt\n",
      "fruit_dataset\\test\\labels\\265_jpg.rf.efe297a56773a4856e4d0d36770794ee.txt\n",
      "fruit_dataset\\test\\labels\\268_jpg.rf.f23f1a34632a3c196089034a305ef50f.txt\n",
      "fruit_dataset\\test\\labels\\269_jpg.rf.148fde2d034971d1be7cfa86bccf2450.txt\n",
      "fruit_dataset\\test\\labels\\277_jpg.rf.c85acad8fae21d10eb972ac6f3a4ba18.txt\n",
      "fruit_dataset\\test\\labels\\283_jpg.rf.f3954f403c9b55617dd21539301687fc.txt\n",
      "fruit_dataset\\test\\labels\\284_jpg.rf.7f1f14cd588933a4e1a1ee90a19a5f2e.txt\n",
      "fruit_dataset\\test\\labels\\290_jpg.rf.fbc55420ccb018f20961a4fc7dae2dfe.txt\n",
      "fruit_dataset\\test\\labels\\296_jpg.rf.02e361dc12db57152b239b3bceee546e.txt\n",
      "fruit_dataset\\train\\002_jpg.rf.85098927ee741d479d38e86077bdb982.jpg\n",
      "fruit_dataset\\train\\002_jpg.rf.b1827298ca541b6c549c3e6e58159549.jpg\n",
      "fruit_dataset\\train\\008_jpg.rf.d65e9b692ee8370c5eb6ddb9c66c311e.jpg\n",
      "fruit_dataset\\train\\008_jpg.rf.f8839345825b0b121ab91b3197a600e6.jpg\n",
      "fruit_dataset\\train\\011_jpg.rf.0f1aca35a1b1d829b105dc1e62fe2443.jpg\n",
      "fruit_dataset\\train\\011_jpg.rf.f6ad0def98c813efa713a6d1fb5559b9.jpg\n",
      "fruit_dataset\\train\\012_jpg.rf.9918d4d5712d71c0d5fb1aa6b29e7a6d.jpg\n",
      "fruit_dataset\\train\\012_jpg.rf.a062943c95777a170b54091ffdd4477f.jpg\n",
      "fruit_dataset\\train\\014_jpg.rf.26cdbfdf784a451c040eaa51d22f1cd4.jpg\n",
      "fruit_dataset\\train\\014_jpg.rf.adbccb6d3764d3a0d0220c7148e28a42.jpg\n",
      "fruit_dataset\\train\\015_jpg.rf.92653bc096ece891d0c91728c3f88949.jpg\n",
      "fruit_dataset\\train\\015_jpg.rf.e6d7a33eac12b8254d91030de218cd8f.jpg\n",
      "fruit_dataset\\train\\016_jpg.rf.9d1d9c5f79f5bde03f2002f7f8f9f65f.jpg\n",
      "fruit_dataset\\train\\016_jpg.rf.dcb38dbb3be1bd2b5d3ec2ead60c7dec.jpg\n",
      "fruit_dataset\\train\\018_jpg.rf.0066c369064c7cd93e94d29267debe9e.jpg\n",
      "fruit_dataset\\train\\018_jpg.rf.dbda3dac8458fe9b087eb7ff19210d7b.jpg\n",
      "fruit_dataset\\train\\019_jpg.rf.37a85bfef66f33280fcc543cef922ff6.jpg\n",
      "fruit_dataset\\train\\019_jpg.rf.7a4645fa6be9940f746afc78a26716bc.jpg\n",
      "fruit_dataset\\train\\020_jpg.rf.7c95a641067ec61a6b6929aef8bce5a2.jpg\n",
      "fruit_dataset\\train\\020_jpg.rf.b540f2fdc36b57ccf540fde7c9f534a1.jpg\n",
      "fruit_dataset\\train\\022_jpg.rf.964d1140d977e2d7e9774554b2bc1700.jpg\n",
      "fruit_dataset\\train\\022_jpg.rf.ea113861aaaa2982b5a1524673e563ea.jpg\n",
      "fruit_dataset\\train\\024_jpg.rf.2aaaa12af651920cdd994f5352daa4a3.jpg\n",
      "fruit_dataset\\train\\024_jpg.rf.afb86bccce3257ee3870bbbdbe1cd936.jpg\n",
      "fruit_dataset\\train\\025_jpg.rf.b82c8e674492a65ed5730c124bce5604.jpg\n",
      "fruit_dataset\\train\\025_jpg.rf.d09c7514a79373b6096128152b5e39bf.jpg\n",
      "fruit_dataset\\train\\029_jpg.rf.4702a62643697293410e4c4132a67ba1.jpg\n",
      "fruit_dataset\\train\\029_jpg.rf.4e9dcbae5ee87faa161f6fac3e34b36d.jpg\n",
      "fruit_dataset\\train\\035_jpg.rf.b3efbdb8d871f758bdba2720a7514c8b.jpg\n",
      "fruit_dataset\\train\\035_jpg.rf.e82822f83debfdce18ab915ec3a75b3d.jpg\n",
      "fruit_dataset\\train\\037_jpg.rf.a464578fdc9bfd4eac0867ba95dcc5be.jpg\n",
      "fruit_dataset\\train\\037_jpg.rf.dcd6bfd98921673eda3cc0330b01ed58.jpg\n",
      "fruit_dataset\\train\\038_jpg.rf.2b569fa4ef9228fb3f1d28a72f820060.jpg\n",
      "fruit_dataset\\train\\038_jpg.rf.398b75d674414350d555990d245f6ea4.jpg\n",
      "fruit_dataset\\train\\039_jpg.rf.afe046655f176d12b5deb4d6b7f2ef0e.jpg\n",
      "fruit_dataset\\train\\039_jpg.rf.c92d46fa01625953c6d82fc9819735c7.jpg\n",
      "fruit_dataset\\train\\040_jpg.rf.2569a3fb1f423466be38947416b628fa.jpg\n",
      "fruit_dataset\\train\\040_jpg.rf.c43f99260888310d2d31a948913fe0c5.jpg\n",
      "fruit_dataset\\train\\044_jpg.rf.3328ae6f70e5adfcc68b24b489539018.jpg\n",
      "fruit_dataset\\train\\044_jpg.rf.4689f7a43b7fedce4afc7e84551b717e.jpg\n",
      "fruit_dataset\\train\\046_jpg.rf.74b35e0263f28d0b184f5795494e37a3.jpg\n",
      "fruit_dataset\\train\\046_jpg.rf.7c7decdcbcab189f13b1d068b2fa014c.jpg\n",
      "fruit_dataset\\train\\047_jpg.rf.55165fc064b966230021b38f07cb4510.jpg\n",
      "fruit_dataset\\train\\047_jpg.rf.e35ce2b8c5e831c444617705cffb294f.jpg\n",
      "fruit_dataset\\train\\049_jpg.rf.135131b507b6dd4aa85717bd2b0e77a1.jpg\n",
      "fruit_dataset\\train\\050_jpg.rf.0299ed7d67da2d318c55b21ab2162dc4.jpg\n",
      "fruit_dataset\\train\\051_jpg.rf.000eb6503e5ad3dcbbd066aa8be68aa0.jpg\n",
      "fruit_dataset\\train\\053_jpg.rf.792e920967a3f95fd0666836af5b4284.jpg\n",
      "fruit_dataset\\train\\055_jpg.rf.ba256642d47fa594d3adfab2c17e12ea.jpg\n",
      "fruit_dataset\\train\\057_jpg.rf.762eb5e92d07269510cd45cea46e0d43.jpg\n",
      "fruit_dataset\\train\\061_jpg.rf.b02096d7c5eb62db025d6b21ccc08cf6.jpg\n",
      "fruit_dataset\\train\\062_jpg.rf.0b9e430e5349e4d655fbf6372dd46793.jpg\n",
      "fruit_dataset\\train\\063_jpg.rf.e33314b4b5f374a99e66729f2fe60373.jpg\n",
      "fruit_dataset\\train\\066_jpg.rf.b97f015bf486a150d8f379dd31662709.jpg\n",
      "fruit_dataset\\train\\068_jpg.rf.9c21cccdddb243fb4ce5139f7f7c8964.jpg\n",
      "fruit_dataset\\train\\069_jpg.rf.852cb9c85d8eb0f89f9c87e615b158d5.jpg\n",
      "fruit_dataset\\train\\071_jpg.rf.70431cf9ea9d68ec407b0764e3958b08.jpg\n",
      "fruit_dataset\\train\\072_jpg.rf.941f6d2b4370c366e640e686c76b408f.jpg\n",
      "fruit_dataset\\train\\074_jpg.rf.260a72cdec6c7a05fcc8f07bdf34e201.jpg\n",
      "fruit_dataset\\train\\075_jpg.rf.49cfdd0daadd5ac3265ee6266acc5d47.jpg\n",
      "fruit_dataset\\train\\076_jpg.rf.dbc0277b60b7d24ed7d4c914e845617f.jpg\n",
      "fruit_dataset\\train\\077_jpg.rf.af4bd336a5407286ee63fe56e5ff5df2.jpg\n",
      "fruit_dataset\\train\\080_jpg.rf.8e0f3e04cd7d4af9f98dbb5ef011324c.jpg\n",
      "fruit_dataset\\train\\081_jpg.rf.d1b66133ef4929a9562c72e54b438dce.jpg\n",
      "fruit_dataset\\train\\082_jpg.rf.dc7daf2851f4d1830d5ff8ffef37eb4e.jpg\n",
      "fruit_dataset\\train\\084_jpg.rf.74e1fa0118205e44d86ee39ce5c7d945.jpg\n",
      "fruit_dataset\\train\\088_jpg.rf.b343be014afe0a9da06b845c57109a2f.jpg\n",
      "fruit_dataset\\train\\089_jpg.rf.d0d890a23707746231e2975b2e376b76.jpg\n",
      "fruit_dataset\\train\\090_jpg.rf.7663868ec9a8db6047f267c29654f0cf.jpg\n",
      "fruit_dataset\\train\\093_jpg.rf.ff6611dbf6009f594b3a47ba04d01e4c.jpg\n",
      "fruit_dataset\\train\\095_jpg.rf.1e363cb15fe5b3afe0fa4dbd09348ffe.jpg\n",
      "fruit_dataset\\train\\097_jpg.rf.12736949552d90f087b2bbcd49d033ec.jpg\n",
      "fruit_dataset\\train\\098_jpg.rf.4b2805a9a222f4ab9d3dfa0b33f64108.jpg\n",
      "fruit_dataset\\train\\099_jpg.rf.ec417c472161acf70c34b17d097534d8.jpg\n",
      "fruit_dataset\\train\\100_jpg.rf.c3e6905ed83ce70ced9c79b17db780ff.jpg\n",
      "fruit_dataset\\train\\101_jpg.rf.c46d4cd54e3da91025a25cb1af5e5770.jpg\n",
      "fruit_dataset\\train\\105_jpg.rf.9fd4e5ec255e16f2e3b4b9ab4b293330.jpg\n",
      "fruit_dataset\\train\\106_jpg.rf.4dd00c64e732c6a1d3680a7682ca6745.jpg\n",
      "fruit_dataset\\train\\110_jpg.rf.c77a0634d66fa1ff6f5077d7bf3e2e69.jpg\n",
      "fruit_dataset\\train\\113_jpg.rf.eaab48341e29cbf63839da7263540faa.jpg\n",
      "fruit_dataset\\train\\114_jpg.rf.4d8a38e866391fbe197f034278b5daae.jpg\n",
      "fruit_dataset\\train\\115_jpg.rf.088e606c0d40a1e4bb9279410c329593.jpg\n",
      "fruit_dataset\\train\\116_jpg.rf.b95a0190bffaf8fbf5347728b23bfe7b.jpg\n",
      "fruit_dataset\\train\\120_jpg.rf.3559494e9332b087e274a905baacc1fa.jpg\n",
      "fruit_dataset\\train\\121_jpg.rf.ea2ac964c05dd6ec2fb924768131c981.jpg\n",
      "fruit_dataset\\train\\122_jpg.rf.48937b0e3719734382791d0683c14a55.jpg\n",
      "fruit_dataset\\train\\126_jpg.rf.8d8746ab0115a902302d40430e4b73af.jpg\n",
      "fruit_dataset\\train\\127_jpg.rf.ca64dc0117b52395392abd4fff6845fd.jpg\n",
      "fruit_dataset\\train\\128_jpg.rf.9ba23a1ac77915a66d39c911037c5bf3.jpg\n",
      "fruit_dataset\\train\\129_jpg.rf.525fd06c5ddf20d62e4f045e02b24656.jpg\n",
      "fruit_dataset\\train\\130_jpg.rf.8d5c2e7be60afd816f7323ac0a126ede.jpg\n",
      "fruit_dataset\\train\\131_jpg.rf.68f6898da4457414c78ae682bc9dd5f4.jpg\n",
      "fruit_dataset\\train\\132_jpg.rf.2158f397c5787eb87b1a25d9ac90ba04.jpg\n",
      "fruit_dataset\\train\\133_jpg.rf.32c1d1761f9e30926a15b0f763c26fc0.jpg\n",
      "fruit_dataset\\train\\134_jpg.rf.02d95c41986c4603636a240b121500e6.jpg\n",
      "fruit_dataset\\train\\136_jpg.rf.e0912e2eb558234f8a316f8f78f46916.jpg\n",
      "fruit_dataset\\train\\141_jpg.rf.b9e75762e61e2753764370842ee509fb.jpg\n",
      "fruit_dataset\\train\\143_jpg.rf.ae218ea115e96c04724f36a652815752.jpg\n",
      "fruit_dataset\\train\\146_jpg.rf.da89caaf79d7e7159f52631fec5ef55f.jpg\n",
      "fruit_dataset\\train\\147_jpg.rf.24dba43a29d6f0831029333f6ca029ac.jpg\n",
      "fruit_dataset\\train\\151_jpg.rf.55f0d4ce9184938cb25a57ad5273bd8a.jpg\n",
      "fruit_dataset\\train\\154_jpg.rf.29cf27b43a2778d6fa9c4ebae9ac0021.jpg\n",
      "fruit_dataset\\train\\155_jpg.rf.dd0570b8b989b55fd31d7d1b717d0cd9.jpg\n",
      "fruit_dataset\\train\\156_jpg.rf.ec37b9e78647d072d8d99f28ccd0b51a.jpg\n",
      "fruit_dataset\\train\\160_jpg.rf.e69bd936837c6e96ed6b4c5c4d4a5346.jpg\n",
      "fruit_dataset\\train\\162_jpg.rf.68648247aea9feb555265f2485042ec7.jpg\n",
      "fruit_dataset\\train\\163_jpg.rf.f1e78d2dc730bb5759e142b9d87de54e.jpg\n",
      "fruit_dataset\\train\\165_jpg.rf.b65efaa078661a78da1ec27366b43c85.jpg\n",
      "fruit_dataset\\train\\166_jpg.rf.4636363122967b6c69d4eaf5c155362b.jpg\n",
      "fruit_dataset\\train\\169_jpg.rf.2ae22109dbaa218b97dc573848d7979a.jpg\n",
      "fruit_dataset\\train\\171_jpg.rf.a992bfe174dc1f8f9a2fbe2721a30910.jpg\n",
      "fruit_dataset\\train\\172_jpg.rf.cd67af1336c688f5680334dcc5e0e824.jpg\n",
      "fruit_dataset\\train\\175_jpg.rf.4cd4c6817f7e0262b1186e17aca62f1f.jpg\n",
      "fruit_dataset\\train\\176_jpg.rf.91cf247b4df252fa0d714ca371e7a1c3.jpg\n",
      "fruit_dataset\\train\\177_jpg.rf.4896bac76fa9a543372a9014181737f1.jpg\n",
      "fruit_dataset\\train\\178_jpg.rf.b884ba546bd89b421b57d1559fc9fe07.jpg\n",
      "fruit_dataset\\train\\180_jpg.rf.32d65770a075510b82ee48f9506842e6.jpg\n",
      "fruit_dataset\\train\\181_jpg.rf.789cf47c8d4d1043ac3b57577c45f9ae.jpg\n",
      "fruit_dataset\\train\\182_jpg.rf.db8915d6368732ceb988a879faaa5b3a.jpg\n",
      "fruit_dataset\\train\\187_jpg.rf.1c6fbb7fdfcaf4d8396910b40dc009bc.jpg\n",
      "fruit_dataset\\train\\191_jpg.rf.a335d5e42894def70484766ed1fc5404.jpg\n",
      "fruit_dataset\\train\\194_jpg.rf.6d86f756ef9d691bd8e9d7e226ccb2f2.jpg\n",
      "fruit_dataset\\train\\195_jpg.rf.1e95d8ad5cc8d064058349164fd96c77.jpg\n",
      "fruit_dataset\\train\\197_jpg.rf.d50b2e2f713376e44ae37477b2d42401.jpg\n",
      "fruit_dataset\\train\\200_jpg.rf.2f9e57e0c85512ce5796752ef5d83735.jpg\n",
      "fruit_dataset\\train\\202_jpg.rf.dc2644435be86a6a66587b7e835a0134.jpg\n",
      "fruit_dataset\\train\\204_jpg.rf.1d33de08339110e526c104717bc38980.jpg\n",
      "fruit_dataset\\train\\209_jpg.rf.1f74df7c2310df0300ba5729a7431375.jpg\n",
      "fruit_dataset\\train\\210_jpg.rf.bfa691176c64a36d7af58d9a439a20bf.jpg\n",
      "fruit_dataset\\train\\211_jpg.rf.741ee94e4c1faecbe672ff997809a657.jpg\n",
      "fruit_dataset\\train\\212_jpg.rf.90cf2c224a291536816c23bdcd0c116e.jpg\n",
      "fruit_dataset\\train\\213_jpg.rf.fd5e37151924545e888de8defad40b6f.jpg\n",
      "fruit_dataset\\train\\214_jpg.rf.585a882afd64984cdd4629beafea5df4.jpg\n",
      "fruit_dataset\\train\\216_jpg.rf.e24d455880f252ec0e050ae176c88706.jpg\n",
      "fruit_dataset\\train\\217_jpg.rf.bedcc5067519235ed662c0457915438a.jpg\n",
      "fruit_dataset\\train\\218_jpg.rf.d0cb24c7d318b3157f724c1125c3d12c.jpg\n",
      "fruit_dataset\\train\\220_jpg.rf.436e53b35cad67c48bf7abcbdbdd2bb6.jpg\n",
      "fruit_dataset\\train\\221_jpg.rf.2c84e6c4c7fcb0802779d40e27d8eebe.jpg\n",
      "fruit_dataset\\train\\222_jpg.rf.c94a116aee6c7b3e7ed9f19764992a75.jpg\n",
      "fruit_dataset\\train\\225_jpg.rf.8f4ceae0f6cadd99926cc821c4872678.jpg\n",
      "fruit_dataset\\train\\227_jpg.rf.a1dff3ec3a1f51fe4d0bb0c69c6df502.jpg\n",
      "fruit_dataset\\train\\229_jpg.rf.f7262ae0a766ccb5a188233a81f8e10a.jpg\n",
      "fruit_dataset\\train\\236_jpg.rf.4c5e84106519e50f646ff83a9da8e504.jpg\n",
      "fruit_dataset\\train\\239_jpg.rf.5d9df37f674fa80acdd21cbd78e6c498.jpg\n",
      "fruit_dataset\\train\\240_jpg.rf.ad13824203f50bdc8857b3ce195823ce.jpg\n",
      "fruit_dataset\\train\\242_jpg.rf.bb83f75e1cbbee9cf262a97579d62858.jpg\n",
      "fruit_dataset\\train\\244_jpg.rf.85c7a0bfeb25e759d77461b238ef8d6a.jpg\n",
      "fruit_dataset\\train\\247_jpg.rf.31af2e9f469ffec674df5a1577d943c3.jpg\n",
      "fruit_dataset\\train\\248_jpg.rf.3d812e05e72a43a04e9dabe50968710f.jpg\n",
      "fruit_dataset\\train\\250_jpg.rf.5dd3c9b5b1a02eea33406b03536822a4.jpg\n",
      "fruit_dataset\\train\\252_jpg.rf.e9e10baedaeabb31cbcd93737d71ab81.jpg\n",
      "fruit_dataset\\train\\256_jpg.rf.3e54662419bd78741d228bfea837c980.jpg\n",
      "fruit_dataset\\train\\258_jpg.rf.ba6649479561a34b5a4f717b0a15a42f.jpg\n",
      "fruit_dataset\\train\\259_jpg.rf.e5598f0f31d53075fbdb1bb1305e78c5.jpg\n",
      "fruit_dataset\\train\\260_jpg.rf.2a277c997739b360f3c97da6f9945342.jpg\n",
      "fruit_dataset\\train\\261_jpg.rf.f1558a24de3c29f0242e5d4280668ed9.jpg\n",
      "fruit_dataset\\train\\262_jpg.rf.30bf5ff7ce23b345f56be73ea8e234a5.jpg\n",
      "fruit_dataset\\train\\263_jpg.rf.a69dc4198e9eb237e606153db19db595.jpg\n",
      "fruit_dataset\\train\\266_jpg.rf.61d304fa09987cd89caa2964fb151eb8.jpg\n",
      "fruit_dataset\\train\\267_jpg.rf.74ab72a23589bb4168c170da7ee2d78a.jpg\n",
      "fruit_dataset\\train\\270_jpg.rf.433419b915fc6d7ce90ae55372936b9e.jpg\n",
      "fruit_dataset\\train\\271_jpg.rf.7fb6017af062730d6e5a265a691f9116.jpg\n",
      "fruit_dataset\\train\\272_jpg.rf.5b763004a581b82e5971716213016002.jpg\n",
      "fruit_dataset\\train\\273_jpg.rf.122ee30c46ce9686b0199b83d60ea30f.jpg\n",
      "fruit_dataset\\train\\276_jpg.rf.abc7ee0557debf54a022102390d96ca9.jpg\n",
      "fruit_dataset\\train\\279_jpg.rf.a610dab2242009142cab488dafb0ac35.jpg\n",
      "fruit_dataset\\train\\280_jpg.rf.010d3f0c3206d81585aa0d29a454946b.jpg\n",
      "fruit_dataset\\train\\282_jpg.rf.618c6ce9e2b3a6cb3119bd21f2c5925f.jpg\n",
      "fruit_dataset\\train\\285_jpg.rf.d5aa7c6de37689f8f0b58bfa410fd58f.jpg\n",
      "fruit_dataset\\train\\288_jpg.rf.883960539c666f3568ee537474c429d6.jpg\n",
      "fruit_dataset\\train\\289_jpg.rf.71e5771515853cffb1bf91ba625e77cc.jpg\n",
      "fruit_dataset\\train\\291_jpg.rf.847a4303fe99059e3b3dc5003d3d4045.jpg\n",
      "fruit_dataset\\train\\292_jpg.rf.f7d5e47fcbebf8d9e932b227d985161d.jpg\n",
      "fruit_dataset\\train\\293_jpg.rf.abbae7dd24d889d76c2d9754bc61ab06.jpg\n",
      "fruit_dataset\\train\\294_jpg.rf.3fad848313066c9d108db17c2f1c83e1.jpg\n",
      "fruit_dataset\\train\\295_jpg.rf.95864edacc02c76d3402cddffa395aed.jpg\n",
      "fruit_dataset\\train\\297_jpg.rf.ae1f06376b6654b27f2ed9e25aaa8e61.jpg\n",
      "fruit_dataset\\train\\298_jpg.rf.79a8c8b0be6c23f1fb8d76c5f02858f3.jpg\n",
      "fruit_dataset\\train\\300_jpg.rf.5163e02fc9e6c23e9b9fcb5d7db1f69d.jpg\n",
      "fruit_dataset\\train\\_annotations.coco.json\n",
      "fruit_dataset\\train\\images\\002_jpg.rf.85098927ee741d479d38e86077bdb982.jpg\n",
      "fruit_dataset\\train\\images\\002_jpg.rf.b1827298ca541b6c549c3e6e58159549.jpg\n",
      "fruit_dataset\\train\\images\\008_jpg.rf.d65e9b692ee8370c5eb6ddb9c66c311e.jpg\n",
      "fruit_dataset\\train\\images\\008_jpg.rf.f8839345825b0b121ab91b3197a600e6.jpg\n",
      "fruit_dataset\\train\\images\\011_jpg.rf.0f1aca35a1b1d829b105dc1e62fe2443.jpg\n",
      "fruit_dataset\\train\\images\\011_jpg.rf.f6ad0def98c813efa713a6d1fb5559b9.jpg\n",
      "fruit_dataset\\train\\images\\012_jpg.rf.9918d4d5712d71c0d5fb1aa6b29e7a6d.jpg\n",
      "fruit_dataset\\train\\images\\012_jpg.rf.a062943c95777a170b54091ffdd4477f.jpg\n",
      "fruit_dataset\\train\\images\\014_jpg.rf.26cdbfdf784a451c040eaa51d22f1cd4.jpg\n",
      "fruit_dataset\\train\\images\\014_jpg.rf.adbccb6d3764d3a0d0220c7148e28a42.jpg\n",
      "fruit_dataset\\train\\images\\015_jpg.rf.92653bc096ece891d0c91728c3f88949.jpg\n",
      "fruit_dataset\\train\\images\\015_jpg.rf.e6d7a33eac12b8254d91030de218cd8f.jpg\n",
      "fruit_dataset\\train\\images\\016_jpg.rf.9d1d9c5f79f5bde03f2002f7f8f9f65f.jpg\n",
      "fruit_dataset\\train\\images\\016_jpg.rf.dcb38dbb3be1bd2b5d3ec2ead60c7dec.jpg\n",
      "fruit_dataset\\train\\images\\018_jpg.rf.0066c369064c7cd93e94d29267debe9e.jpg\n",
      "fruit_dataset\\train\\images\\018_jpg.rf.dbda3dac8458fe9b087eb7ff19210d7b.jpg\n",
      "fruit_dataset\\train\\images\\019_jpg.rf.37a85bfef66f33280fcc543cef922ff6.jpg\n",
      "fruit_dataset\\train\\images\\019_jpg.rf.7a4645fa6be9940f746afc78a26716bc.jpg\n",
      "fruit_dataset\\train\\images\\020_jpg.rf.7c95a641067ec61a6b6929aef8bce5a2.jpg\n",
      "fruit_dataset\\train\\images\\020_jpg.rf.b540f2fdc36b57ccf540fde7c9f534a1.jpg\n",
      "fruit_dataset\\train\\images\\022_jpg.rf.964d1140d977e2d7e9774554b2bc1700.jpg\n",
      "fruit_dataset\\train\\images\\022_jpg.rf.ea113861aaaa2982b5a1524673e563ea.jpg\n",
      "fruit_dataset\\train\\images\\024_jpg.rf.2aaaa12af651920cdd994f5352daa4a3.jpg\n",
      "fruit_dataset\\train\\images\\024_jpg.rf.afb86bccce3257ee3870bbbdbe1cd936.jpg\n",
      "fruit_dataset\\train\\images\\025_jpg.rf.b82c8e674492a65ed5730c124bce5604.jpg\n",
      "fruit_dataset\\train\\images\\025_jpg.rf.d09c7514a79373b6096128152b5e39bf.jpg\n",
      "fruit_dataset\\train\\images\\029_jpg.rf.4702a62643697293410e4c4132a67ba1.jpg\n",
      "fruit_dataset\\train\\images\\029_jpg.rf.4e9dcbae5ee87faa161f6fac3e34b36d.jpg\n",
      "fruit_dataset\\train\\images\\035_jpg.rf.b3efbdb8d871f758bdba2720a7514c8b.jpg\n",
      "fruit_dataset\\train\\images\\035_jpg.rf.e82822f83debfdce18ab915ec3a75b3d.jpg\n",
      "fruit_dataset\\train\\images\\037_jpg.rf.a464578fdc9bfd4eac0867ba95dcc5be.jpg\n",
      "fruit_dataset\\train\\images\\037_jpg.rf.dcd6bfd98921673eda3cc0330b01ed58.jpg\n",
      "fruit_dataset\\train\\images\\038_jpg.rf.2b569fa4ef9228fb3f1d28a72f820060.jpg\n",
      "fruit_dataset\\train\\images\\038_jpg.rf.398b75d674414350d555990d245f6ea4.jpg\n",
      "fruit_dataset\\train\\images\\039_jpg.rf.afe046655f176d12b5deb4d6b7f2ef0e.jpg\n",
      "fruit_dataset\\train\\images\\039_jpg.rf.c92d46fa01625953c6d82fc9819735c7.jpg\n",
      "fruit_dataset\\train\\images\\040_jpg.rf.2569a3fb1f423466be38947416b628fa.jpg\n",
      "fruit_dataset\\train\\images\\040_jpg.rf.c43f99260888310d2d31a948913fe0c5.jpg\n",
      "fruit_dataset\\train\\images\\044_jpg.rf.3328ae6f70e5adfcc68b24b489539018.jpg\n",
      "fruit_dataset\\train\\images\\044_jpg.rf.4689f7a43b7fedce4afc7e84551b717e.jpg\n",
      "fruit_dataset\\train\\images\\046_jpg.rf.74b35e0263f28d0b184f5795494e37a3.jpg\n",
      "fruit_dataset\\train\\images\\046_jpg.rf.7c7decdcbcab189f13b1d068b2fa014c.jpg\n",
      "fruit_dataset\\train\\images\\047_jpg.rf.55165fc064b966230021b38f07cb4510.jpg\n",
      "fruit_dataset\\train\\images\\047_jpg.rf.e35ce2b8c5e831c444617705cffb294f.jpg\n",
      "fruit_dataset\\train\\images\\049_jpg.rf.135131b507b6dd4aa85717bd2b0e77a1.jpg\n",
      "fruit_dataset\\train\\images\\050_jpg.rf.0299ed7d67da2d318c55b21ab2162dc4.jpg\n",
      "fruit_dataset\\train\\images\\051_jpg.rf.000eb6503e5ad3dcbbd066aa8be68aa0.jpg\n",
      "fruit_dataset\\train\\images\\053_jpg.rf.792e920967a3f95fd0666836af5b4284.jpg\n",
      "fruit_dataset\\train\\images\\055_jpg.rf.ba256642d47fa594d3adfab2c17e12ea.jpg\n",
      "fruit_dataset\\train\\images\\057_jpg.rf.762eb5e92d07269510cd45cea46e0d43.jpg\n",
      "fruit_dataset\\train\\images\\061_jpg.rf.b02096d7c5eb62db025d6b21ccc08cf6.jpg\n",
      "fruit_dataset\\train\\images\\062_jpg.rf.0b9e430e5349e4d655fbf6372dd46793.jpg\n",
      "fruit_dataset\\train\\images\\063_jpg.rf.e33314b4b5f374a99e66729f2fe60373.jpg\n",
      "fruit_dataset\\train\\images\\066_jpg.rf.b97f015bf486a150d8f379dd31662709.jpg\n",
      "fruit_dataset\\train\\images\\068_jpg.rf.9c21cccdddb243fb4ce5139f7f7c8964.jpg\n",
      "fruit_dataset\\train\\images\\069_jpg.rf.852cb9c85d8eb0f89f9c87e615b158d5.jpg\n",
      "fruit_dataset\\train\\images\\071_jpg.rf.70431cf9ea9d68ec407b0764e3958b08.jpg\n",
      "fruit_dataset\\train\\images\\072_jpg.rf.941f6d2b4370c366e640e686c76b408f.jpg\n",
      "fruit_dataset\\train\\images\\074_jpg.rf.260a72cdec6c7a05fcc8f07bdf34e201.jpg\n",
      "fruit_dataset\\train\\images\\075_jpg.rf.49cfdd0daadd5ac3265ee6266acc5d47.jpg\n",
      "fruit_dataset\\train\\images\\076_jpg.rf.dbc0277b60b7d24ed7d4c914e845617f.jpg\n",
      "fruit_dataset\\train\\images\\077_jpg.rf.af4bd336a5407286ee63fe56e5ff5df2.jpg\n",
      "fruit_dataset\\train\\images\\080_jpg.rf.8e0f3e04cd7d4af9f98dbb5ef011324c.jpg\n",
      "fruit_dataset\\train\\images\\081_jpg.rf.d1b66133ef4929a9562c72e54b438dce.jpg\n",
      "fruit_dataset\\train\\images\\082_jpg.rf.dc7daf2851f4d1830d5ff8ffef37eb4e.jpg\n",
      "fruit_dataset\\train\\images\\084_jpg.rf.74e1fa0118205e44d86ee39ce5c7d945.jpg\n",
      "fruit_dataset\\train\\images\\088_jpg.rf.b343be014afe0a9da06b845c57109a2f.jpg\n",
      "fruit_dataset\\train\\images\\089_jpg.rf.d0d890a23707746231e2975b2e376b76.jpg\n",
      "fruit_dataset\\train\\images\\090_jpg.rf.7663868ec9a8db6047f267c29654f0cf.jpg\n",
      "fruit_dataset\\train\\images\\093_jpg.rf.ff6611dbf6009f594b3a47ba04d01e4c.jpg\n",
      "fruit_dataset\\train\\images\\095_jpg.rf.1e363cb15fe5b3afe0fa4dbd09348ffe.jpg\n",
      "fruit_dataset\\train\\images\\097_jpg.rf.12736949552d90f087b2bbcd49d033ec.jpg\n",
      "fruit_dataset\\train\\images\\098_jpg.rf.4b2805a9a222f4ab9d3dfa0b33f64108.jpg\n",
      "fruit_dataset\\train\\images\\099_jpg.rf.ec417c472161acf70c34b17d097534d8.jpg\n",
      "fruit_dataset\\train\\images\\100_jpg.rf.c3e6905ed83ce70ced9c79b17db780ff.jpg\n",
      "fruit_dataset\\train\\images\\101_jpg.rf.c46d4cd54e3da91025a25cb1af5e5770.jpg\n",
      "fruit_dataset\\train\\images\\105_jpg.rf.9fd4e5ec255e16f2e3b4b9ab4b293330.jpg\n",
      "fruit_dataset\\train\\images\\106_jpg.rf.4dd00c64e732c6a1d3680a7682ca6745.jpg\n",
      "fruit_dataset\\train\\images\\110_jpg.rf.c77a0634d66fa1ff6f5077d7bf3e2e69.jpg\n",
      "fruit_dataset\\train\\images\\113_jpg.rf.eaab48341e29cbf63839da7263540faa.jpg\n",
      "fruit_dataset\\train\\images\\114_jpg.rf.4d8a38e866391fbe197f034278b5daae.jpg\n",
      "fruit_dataset\\train\\images\\115_jpg.rf.088e606c0d40a1e4bb9279410c329593.jpg\n",
      "fruit_dataset\\train\\images\\116_jpg.rf.b95a0190bffaf8fbf5347728b23bfe7b.jpg\n",
      "fruit_dataset\\train\\images\\120_jpg.rf.3559494e9332b087e274a905baacc1fa.jpg\n",
      "fruit_dataset\\train\\images\\121_jpg.rf.ea2ac964c05dd6ec2fb924768131c981.jpg\n",
      "fruit_dataset\\train\\images\\122_jpg.rf.48937b0e3719734382791d0683c14a55.jpg\n",
      "fruit_dataset\\train\\images\\126_jpg.rf.8d8746ab0115a902302d40430e4b73af.jpg\n",
      "fruit_dataset\\train\\images\\127_jpg.rf.ca64dc0117b52395392abd4fff6845fd.jpg\n",
      "fruit_dataset\\train\\images\\128_jpg.rf.9ba23a1ac77915a66d39c911037c5bf3.jpg\n",
      "fruit_dataset\\train\\images\\129_jpg.rf.525fd06c5ddf20d62e4f045e02b24656.jpg\n",
      "fruit_dataset\\train\\images\\130_jpg.rf.8d5c2e7be60afd816f7323ac0a126ede.jpg\n",
      "fruit_dataset\\train\\images\\131_jpg.rf.68f6898da4457414c78ae682bc9dd5f4.jpg\n",
      "fruit_dataset\\train\\images\\132_jpg.rf.2158f397c5787eb87b1a25d9ac90ba04.jpg\n",
      "fruit_dataset\\train\\images\\133_jpg.rf.32c1d1761f9e30926a15b0f763c26fc0.jpg\n",
      "fruit_dataset\\train\\images\\134_jpg.rf.02d95c41986c4603636a240b121500e6.jpg\n",
      "fruit_dataset\\train\\images\\136_jpg.rf.e0912e2eb558234f8a316f8f78f46916.jpg\n",
      "fruit_dataset\\train\\images\\141_jpg.rf.b9e75762e61e2753764370842ee509fb.jpg\n",
      "fruit_dataset\\train\\images\\143_jpg.rf.ae218ea115e96c04724f36a652815752.jpg\n",
      "fruit_dataset\\train\\images\\146_jpg.rf.da89caaf79d7e7159f52631fec5ef55f.jpg\n",
      "fruit_dataset\\train\\images\\147_jpg.rf.24dba43a29d6f0831029333f6ca029ac.jpg\n",
      "fruit_dataset\\train\\images\\151_jpg.rf.55f0d4ce9184938cb25a57ad5273bd8a.jpg\n",
      "fruit_dataset\\train\\images\\154_jpg.rf.29cf27b43a2778d6fa9c4ebae9ac0021.jpg\n",
      "fruit_dataset\\train\\images\\155_jpg.rf.dd0570b8b989b55fd31d7d1b717d0cd9.jpg\n",
      "fruit_dataset\\train\\images\\156_jpg.rf.ec37b9e78647d072d8d99f28ccd0b51a.jpg\n",
      "fruit_dataset\\train\\images\\160_jpg.rf.e69bd936837c6e96ed6b4c5c4d4a5346.jpg\n",
      "fruit_dataset\\train\\images\\162_jpg.rf.68648247aea9feb555265f2485042ec7.jpg\n",
      "fruit_dataset\\train\\images\\163_jpg.rf.f1e78d2dc730bb5759e142b9d87de54e.jpg\n",
      "fruit_dataset\\train\\images\\165_jpg.rf.b65efaa078661a78da1ec27366b43c85.jpg\n",
      "fruit_dataset\\train\\images\\166_jpg.rf.4636363122967b6c69d4eaf5c155362b.jpg\n",
      "fruit_dataset\\train\\images\\169_jpg.rf.2ae22109dbaa218b97dc573848d7979a.jpg\n",
      "fruit_dataset\\train\\images\\171_jpg.rf.a992bfe174dc1f8f9a2fbe2721a30910.jpg\n",
      "fruit_dataset\\train\\images\\172_jpg.rf.cd67af1336c688f5680334dcc5e0e824.jpg\n",
      "fruit_dataset\\train\\images\\175_jpg.rf.4cd4c6817f7e0262b1186e17aca62f1f.jpg\n",
      "fruit_dataset\\train\\images\\176_jpg.rf.91cf247b4df252fa0d714ca371e7a1c3.jpg\n",
      "fruit_dataset\\train\\images\\177_jpg.rf.4896bac76fa9a543372a9014181737f1.jpg\n",
      "fruit_dataset\\train\\images\\178_jpg.rf.b884ba546bd89b421b57d1559fc9fe07.jpg\n",
      "fruit_dataset\\train\\images\\180_jpg.rf.32d65770a075510b82ee48f9506842e6.jpg\n",
      "fruit_dataset\\train\\images\\181_jpg.rf.789cf47c8d4d1043ac3b57577c45f9ae.jpg\n",
      "fruit_dataset\\train\\images\\182_jpg.rf.db8915d6368732ceb988a879faaa5b3a.jpg\n",
      "fruit_dataset\\train\\images\\187_jpg.rf.1c6fbb7fdfcaf4d8396910b40dc009bc.jpg\n",
      "fruit_dataset\\train\\images\\191_jpg.rf.a335d5e42894def70484766ed1fc5404.jpg\n",
      "fruit_dataset\\train\\images\\194_jpg.rf.6d86f756ef9d691bd8e9d7e226ccb2f2.jpg\n",
      "fruit_dataset\\train\\images\\195_jpg.rf.1e95d8ad5cc8d064058349164fd96c77.jpg\n",
      "fruit_dataset\\train\\images\\197_jpg.rf.d50b2e2f713376e44ae37477b2d42401.jpg\n",
      "fruit_dataset\\train\\images\\200_jpg.rf.2f9e57e0c85512ce5796752ef5d83735.jpg\n",
      "fruit_dataset\\train\\images\\202_jpg.rf.dc2644435be86a6a66587b7e835a0134.jpg\n",
      "fruit_dataset\\train\\images\\204_jpg.rf.1d33de08339110e526c104717bc38980.jpg\n",
      "fruit_dataset\\train\\images\\209_jpg.rf.1f74df7c2310df0300ba5729a7431375.jpg\n",
      "fruit_dataset\\train\\images\\210_jpg.rf.bfa691176c64a36d7af58d9a439a20bf.jpg\n",
      "fruit_dataset\\train\\images\\211_jpg.rf.741ee94e4c1faecbe672ff997809a657.jpg\n",
      "fruit_dataset\\train\\images\\212_jpg.rf.90cf2c224a291536816c23bdcd0c116e.jpg\n",
      "fruit_dataset\\train\\images\\213_jpg.rf.fd5e37151924545e888de8defad40b6f.jpg\n",
      "fruit_dataset\\train\\images\\214_jpg.rf.585a882afd64984cdd4629beafea5df4.jpg\n",
      "fruit_dataset\\train\\images\\216_jpg.rf.e24d455880f252ec0e050ae176c88706.jpg\n",
      "fruit_dataset\\train\\images\\217_jpg.rf.bedcc5067519235ed662c0457915438a.jpg\n",
      "fruit_dataset\\train\\images\\218_jpg.rf.d0cb24c7d318b3157f724c1125c3d12c.jpg\n",
      "fruit_dataset\\train\\images\\220_jpg.rf.436e53b35cad67c48bf7abcbdbdd2bb6.jpg\n",
      "fruit_dataset\\train\\images\\221_jpg.rf.2c84e6c4c7fcb0802779d40e27d8eebe.jpg\n",
      "fruit_dataset\\train\\images\\222_jpg.rf.c94a116aee6c7b3e7ed9f19764992a75.jpg\n",
      "fruit_dataset\\train\\images\\225_jpg.rf.8f4ceae0f6cadd99926cc821c4872678.jpg\n",
      "fruit_dataset\\train\\images\\227_jpg.rf.a1dff3ec3a1f51fe4d0bb0c69c6df502.jpg\n",
      "fruit_dataset\\train\\images\\229_jpg.rf.f7262ae0a766ccb5a188233a81f8e10a.jpg\n",
      "fruit_dataset\\train\\images\\236_jpg.rf.4c5e84106519e50f646ff83a9da8e504.jpg\n",
      "fruit_dataset\\train\\images\\239_jpg.rf.5d9df37f674fa80acdd21cbd78e6c498.jpg\n",
      "fruit_dataset\\train\\images\\240_jpg.rf.ad13824203f50bdc8857b3ce195823ce.jpg\n",
      "fruit_dataset\\train\\images\\242_jpg.rf.bb83f75e1cbbee9cf262a97579d62858.jpg\n",
      "fruit_dataset\\train\\images\\244_jpg.rf.85c7a0bfeb25e759d77461b238ef8d6a.jpg\n",
      "fruit_dataset\\train\\images\\247_jpg.rf.31af2e9f469ffec674df5a1577d943c3.jpg\n",
      "fruit_dataset\\train\\images\\248_jpg.rf.3d812e05e72a43a04e9dabe50968710f.jpg\n",
      "fruit_dataset\\train\\images\\250_jpg.rf.5dd3c9b5b1a02eea33406b03536822a4.jpg\n",
      "fruit_dataset\\train\\images\\252_jpg.rf.e9e10baedaeabb31cbcd93737d71ab81.jpg\n",
      "fruit_dataset\\train\\images\\256_jpg.rf.3e54662419bd78741d228bfea837c980.jpg\n",
      "fruit_dataset\\train\\images\\258_jpg.rf.ba6649479561a34b5a4f717b0a15a42f.jpg\n",
      "fruit_dataset\\train\\images\\259_jpg.rf.e5598f0f31d53075fbdb1bb1305e78c5.jpg\n",
      "fruit_dataset\\train\\images\\260_jpg.rf.2a277c997739b360f3c97da6f9945342.jpg\n",
      "fruit_dataset\\train\\images\\261_jpg.rf.f1558a24de3c29f0242e5d4280668ed9.jpg\n",
      "fruit_dataset\\train\\images\\262_jpg.rf.30bf5ff7ce23b345f56be73ea8e234a5.jpg\n",
      "fruit_dataset\\train\\images\\263_jpg.rf.a69dc4198e9eb237e606153db19db595.jpg\n",
      "fruit_dataset\\train\\images\\266_jpg.rf.61d304fa09987cd89caa2964fb151eb8.jpg\n",
      "fruit_dataset\\train\\images\\267_jpg.rf.74ab72a23589bb4168c170da7ee2d78a.jpg\n",
      "fruit_dataset\\train\\images\\270_jpg.rf.433419b915fc6d7ce90ae55372936b9e.jpg\n",
      "fruit_dataset\\train\\images\\271_jpg.rf.7fb6017af062730d6e5a265a691f9116.jpg\n",
      "fruit_dataset\\train\\images\\272_jpg.rf.5b763004a581b82e5971716213016002.jpg\n",
      "fruit_dataset\\train\\images\\273_jpg.rf.122ee30c46ce9686b0199b83d60ea30f.jpg\n",
      "fruit_dataset\\train\\images\\276_jpg.rf.abc7ee0557debf54a022102390d96ca9.jpg\n",
      "fruit_dataset\\train\\images\\279_jpg.rf.a610dab2242009142cab488dafb0ac35.jpg\n",
      "fruit_dataset\\train\\images\\280_jpg.rf.010d3f0c3206d81585aa0d29a454946b.jpg\n",
      "fruit_dataset\\train\\images\\282_jpg.rf.618c6ce9e2b3a6cb3119bd21f2c5925f.jpg\n",
      "fruit_dataset\\train\\images\\285_jpg.rf.d5aa7c6de37689f8f0b58bfa410fd58f.jpg\n",
      "fruit_dataset\\train\\images\\288_jpg.rf.883960539c666f3568ee537474c429d6.jpg\n",
      "fruit_dataset\\train\\images\\289_jpg.rf.71e5771515853cffb1bf91ba625e77cc.jpg\n",
      "fruit_dataset\\train\\images\\291_jpg.rf.847a4303fe99059e3b3dc5003d3d4045.jpg\n",
      "fruit_dataset\\train\\images\\292_jpg.rf.f7d5e47fcbebf8d9e932b227d985161d.jpg\n",
      "fruit_dataset\\train\\images\\293_jpg.rf.abbae7dd24d889d76c2d9754bc61ab06.jpg\n",
      "fruit_dataset\\train\\images\\294_jpg.rf.3fad848313066c9d108db17c2f1c83e1.jpg\n",
      "fruit_dataset\\train\\images\\295_jpg.rf.95864edacc02c76d3402cddffa395aed.jpg\n",
      "fruit_dataset\\train\\images\\297_jpg.rf.ae1f06376b6654b27f2ed9e25aaa8e61.jpg\n",
      "fruit_dataset\\train\\images\\298_jpg.rf.79a8c8b0be6c23f1fb8d76c5f02858f3.jpg\n",
      "fruit_dataset\\train\\images\\300_jpg.rf.5163e02fc9e6c23e9b9fcb5d7db1f69d.jpg\n",
      "fruit_dataset\\train\\labels\\002_jpg.rf.85098927ee741d479d38e86077bdb982.txt\n",
      "fruit_dataset\\train\\labels\\002_jpg.rf.b1827298ca541b6c549c3e6e58159549.txt\n",
      "fruit_dataset\\train\\labels\\008_jpg.rf.d65e9b692ee8370c5eb6ddb9c66c311e.txt\n",
      "fruit_dataset\\train\\labels\\008_jpg.rf.f8839345825b0b121ab91b3197a600e6.txt\n",
      "fruit_dataset\\train\\labels\\011_jpg.rf.0f1aca35a1b1d829b105dc1e62fe2443.txt\n",
      "fruit_dataset\\train\\labels\\011_jpg.rf.f6ad0def98c813efa713a6d1fb5559b9.txt\n",
      "fruit_dataset\\train\\labels\\012_jpg.rf.9918d4d5712d71c0d5fb1aa6b29e7a6d.txt\n",
      "fruit_dataset\\train\\labels\\012_jpg.rf.a062943c95777a170b54091ffdd4477f.txt\n",
      "fruit_dataset\\train\\labels\\014_jpg.rf.26cdbfdf784a451c040eaa51d22f1cd4.txt\n",
      "fruit_dataset\\train\\labels\\014_jpg.rf.adbccb6d3764d3a0d0220c7148e28a42.txt\n",
      "fruit_dataset\\train\\labels\\015_jpg.rf.92653bc096ece891d0c91728c3f88949.txt\n",
      "fruit_dataset\\train\\labels\\015_jpg.rf.e6d7a33eac12b8254d91030de218cd8f.txt\n",
      "fruit_dataset\\train\\labels\\016_jpg.rf.9d1d9c5f79f5bde03f2002f7f8f9f65f.txt\n",
      "fruit_dataset\\train\\labels\\016_jpg.rf.dcb38dbb3be1bd2b5d3ec2ead60c7dec.txt\n",
      "fruit_dataset\\train\\labels\\018_jpg.rf.0066c369064c7cd93e94d29267debe9e.txt\n",
      "fruit_dataset\\train\\labels\\018_jpg.rf.dbda3dac8458fe9b087eb7ff19210d7b.txt\n",
      "fruit_dataset\\train\\labels\\019_jpg.rf.37a85bfef66f33280fcc543cef922ff6.txt\n",
      "fruit_dataset\\train\\labels\\019_jpg.rf.7a4645fa6be9940f746afc78a26716bc.txt\n",
      "fruit_dataset\\train\\labels\\020_jpg.rf.7c95a641067ec61a6b6929aef8bce5a2.txt\n",
      "fruit_dataset\\train\\labels\\020_jpg.rf.b540f2fdc36b57ccf540fde7c9f534a1.txt\n",
      "fruit_dataset\\train\\labels\\022_jpg.rf.964d1140d977e2d7e9774554b2bc1700.txt\n",
      "fruit_dataset\\train\\labels\\022_jpg.rf.ea113861aaaa2982b5a1524673e563ea.txt\n",
      "fruit_dataset\\train\\labels\\024_jpg.rf.2aaaa12af651920cdd994f5352daa4a3.txt\n",
      "fruit_dataset\\train\\labels\\024_jpg.rf.afb86bccce3257ee3870bbbdbe1cd936.txt\n",
      "fruit_dataset\\train\\labels\\025_jpg.rf.b82c8e674492a65ed5730c124bce5604.txt\n",
      "fruit_dataset\\train\\labels\\025_jpg.rf.d09c7514a79373b6096128152b5e39bf.txt\n",
      "fruit_dataset\\train\\labels\\029_jpg.rf.4702a62643697293410e4c4132a67ba1.txt\n",
      "fruit_dataset\\train\\labels\\029_jpg.rf.4e9dcbae5ee87faa161f6fac3e34b36d.txt\n",
      "fruit_dataset\\train\\labels\\035_jpg.rf.b3efbdb8d871f758bdba2720a7514c8b.txt\n",
      "fruit_dataset\\train\\labels\\035_jpg.rf.e82822f83debfdce18ab915ec3a75b3d.txt\n",
      "fruit_dataset\\train\\labels\\037_jpg.rf.a464578fdc9bfd4eac0867ba95dcc5be.txt\n",
      "fruit_dataset\\train\\labels\\037_jpg.rf.dcd6bfd98921673eda3cc0330b01ed58.txt\n",
      "fruit_dataset\\train\\labels\\038_jpg.rf.2b569fa4ef9228fb3f1d28a72f820060.txt\n",
      "fruit_dataset\\train\\labels\\038_jpg.rf.398b75d674414350d555990d245f6ea4.txt\n",
      "fruit_dataset\\train\\labels\\039_jpg.rf.afe046655f176d12b5deb4d6b7f2ef0e.txt\n",
      "fruit_dataset\\train\\labels\\039_jpg.rf.c92d46fa01625953c6d82fc9819735c7.txt\n",
      "fruit_dataset\\train\\labels\\040_jpg.rf.2569a3fb1f423466be38947416b628fa.txt\n",
      "fruit_dataset\\train\\labels\\040_jpg.rf.c43f99260888310d2d31a948913fe0c5.txt\n",
      "fruit_dataset\\train\\labels\\044_jpg.rf.3328ae6f70e5adfcc68b24b489539018.txt\n",
      "fruit_dataset\\train\\labels\\044_jpg.rf.4689f7a43b7fedce4afc7e84551b717e.txt\n",
      "fruit_dataset\\train\\labels\\046_jpg.rf.74b35e0263f28d0b184f5795494e37a3.txt\n",
      "fruit_dataset\\train\\labels\\046_jpg.rf.7c7decdcbcab189f13b1d068b2fa014c.txt\n",
      "fruit_dataset\\train\\labels\\047_jpg.rf.55165fc064b966230021b38f07cb4510.txt\n",
      "fruit_dataset\\train\\labels\\047_jpg.rf.e35ce2b8c5e831c444617705cffb294f.txt\n",
      "fruit_dataset\\train\\labels\\049_jpg.rf.135131b507b6dd4aa85717bd2b0e77a1.txt\n",
      "fruit_dataset\\train\\labels\\050_jpg.rf.0299ed7d67da2d318c55b21ab2162dc4.txt\n",
      "fruit_dataset\\train\\labels\\051_jpg.rf.000eb6503e5ad3dcbbd066aa8be68aa0.txt\n",
      "fruit_dataset\\train\\labels\\053_jpg.rf.792e920967a3f95fd0666836af5b4284.txt\n",
      "fruit_dataset\\train\\labels\\055_jpg.rf.ba256642d47fa594d3adfab2c17e12ea.txt\n",
      "fruit_dataset\\train\\labels\\057_jpg.rf.762eb5e92d07269510cd45cea46e0d43.txt\n",
      "fruit_dataset\\train\\labels\\061_jpg.rf.b02096d7c5eb62db025d6b21ccc08cf6.txt\n",
      "fruit_dataset\\train\\labels\\062_jpg.rf.0b9e430e5349e4d655fbf6372dd46793.txt\n",
      "fruit_dataset\\train\\labels\\063_jpg.rf.e33314b4b5f374a99e66729f2fe60373.txt\n",
      "fruit_dataset\\train\\labels\\066_jpg.rf.b97f015bf486a150d8f379dd31662709.txt\n",
      "fruit_dataset\\train\\labels\\068_jpg.rf.9c21cccdddb243fb4ce5139f7f7c8964.txt\n",
      "fruit_dataset\\train\\labels\\069_jpg.rf.852cb9c85d8eb0f89f9c87e615b158d5.txt\n",
      "fruit_dataset\\train\\labels\\071_jpg.rf.70431cf9ea9d68ec407b0764e3958b08.txt\n",
      "fruit_dataset\\train\\labels\\072_jpg.rf.941f6d2b4370c366e640e686c76b408f.txt\n",
      "fruit_dataset\\train\\labels\\074_jpg.rf.260a72cdec6c7a05fcc8f07bdf34e201.txt\n",
      "fruit_dataset\\train\\labels\\075_jpg.rf.49cfdd0daadd5ac3265ee6266acc5d47.txt\n",
      "fruit_dataset\\train\\labels\\076_jpg.rf.dbc0277b60b7d24ed7d4c914e845617f.txt\n",
      "fruit_dataset\\train\\labels\\077_jpg.rf.af4bd336a5407286ee63fe56e5ff5df2.txt\n",
      "fruit_dataset\\train\\labels\\080_jpg.rf.8e0f3e04cd7d4af9f98dbb5ef011324c.txt\n",
      "fruit_dataset\\train\\labels\\081_jpg.rf.d1b66133ef4929a9562c72e54b438dce.txt\n",
      "fruit_dataset\\train\\labels\\082_jpg.rf.dc7daf2851f4d1830d5ff8ffef37eb4e.txt\n",
      "fruit_dataset\\train\\labels\\084_jpg.rf.74e1fa0118205e44d86ee39ce5c7d945.txt\n",
      "fruit_dataset\\train\\labels\\088_jpg.rf.b343be014afe0a9da06b845c57109a2f.txt\n",
      "fruit_dataset\\train\\labels\\089_jpg.rf.d0d890a23707746231e2975b2e376b76.txt\n",
      "fruit_dataset\\train\\labels\\090_jpg.rf.7663868ec9a8db6047f267c29654f0cf.txt\n",
      "fruit_dataset\\train\\labels\\093_jpg.rf.ff6611dbf6009f594b3a47ba04d01e4c.txt\n",
      "fruit_dataset\\train\\labels\\095_jpg.rf.1e363cb15fe5b3afe0fa4dbd09348ffe.txt\n",
      "fruit_dataset\\train\\labels\\097_jpg.rf.12736949552d90f087b2bbcd49d033ec.txt\n",
      "fruit_dataset\\train\\labels\\098_jpg.rf.4b2805a9a222f4ab9d3dfa0b33f64108.txt\n",
      "fruit_dataset\\train\\labels\\099_jpg.rf.ec417c472161acf70c34b17d097534d8.txt\n",
      "fruit_dataset\\train\\labels\\100_jpg.rf.c3e6905ed83ce70ced9c79b17db780ff.txt\n",
      "fruit_dataset\\train\\labels\\101_jpg.rf.c46d4cd54e3da91025a25cb1af5e5770.txt\n",
      "fruit_dataset\\train\\labels\\105_jpg.rf.9fd4e5ec255e16f2e3b4b9ab4b293330.txt\n",
      "fruit_dataset\\train\\labels\\106_jpg.rf.4dd00c64e732c6a1d3680a7682ca6745.txt\n",
      "fruit_dataset\\train\\labels\\110_jpg.rf.c77a0634d66fa1ff6f5077d7bf3e2e69.txt\n",
      "fruit_dataset\\train\\labels\\113_jpg.rf.eaab48341e29cbf63839da7263540faa.txt\n",
      "fruit_dataset\\train\\labels\\114_jpg.rf.4d8a38e866391fbe197f034278b5daae.txt\n",
      "fruit_dataset\\train\\labels\\115_jpg.rf.088e606c0d40a1e4bb9279410c329593.txt\n",
      "fruit_dataset\\train\\labels\\116_jpg.rf.b95a0190bffaf8fbf5347728b23bfe7b.txt\n",
      "fruit_dataset\\train\\labels\\120_jpg.rf.3559494e9332b087e274a905baacc1fa.txt\n",
      "fruit_dataset\\train\\labels\\121_jpg.rf.ea2ac964c05dd6ec2fb924768131c981.txt\n",
      "fruit_dataset\\train\\labels\\122_jpg.rf.48937b0e3719734382791d0683c14a55.txt\n",
      "fruit_dataset\\train\\labels\\126_jpg.rf.8d8746ab0115a902302d40430e4b73af.txt\n",
      "fruit_dataset\\train\\labels\\127_jpg.rf.ca64dc0117b52395392abd4fff6845fd.txt\n",
      "fruit_dataset\\train\\labels\\128_jpg.rf.9ba23a1ac77915a66d39c911037c5bf3.txt\n",
      "fruit_dataset\\train\\labels\\129_jpg.rf.525fd06c5ddf20d62e4f045e02b24656.txt\n",
      "fruit_dataset\\train\\labels\\130_jpg.rf.8d5c2e7be60afd816f7323ac0a126ede.txt\n",
      "fruit_dataset\\train\\labels\\131_jpg.rf.68f6898da4457414c78ae682bc9dd5f4.txt\n",
      "fruit_dataset\\train\\labels\\132_jpg.rf.2158f397c5787eb87b1a25d9ac90ba04.txt\n",
      "fruit_dataset\\train\\labels\\133_jpg.rf.32c1d1761f9e30926a15b0f763c26fc0.txt\n",
      "fruit_dataset\\train\\labels\\134_jpg.rf.02d95c41986c4603636a240b121500e6.txt\n",
      "fruit_dataset\\train\\labels\\136_jpg.rf.e0912e2eb558234f8a316f8f78f46916.txt\n",
      "fruit_dataset\\train\\labels\\141_jpg.rf.b9e75762e61e2753764370842ee509fb.txt\n",
      "fruit_dataset\\train\\labels\\143_jpg.rf.ae218ea115e96c04724f36a652815752.txt\n",
      "fruit_dataset\\train\\labels\\146_jpg.rf.da89caaf79d7e7159f52631fec5ef55f.txt\n",
      "fruit_dataset\\train\\labels\\147_jpg.rf.24dba43a29d6f0831029333f6ca029ac.txt\n",
      "fruit_dataset\\train\\labels\\151_jpg.rf.55f0d4ce9184938cb25a57ad5273bd8a.txt\n",
      "fruit_dataset\\train\\labels\\154_jpg.rf.29cf27b43a2778d6fa9c4ebae9ac0021.txt\n",
      "fruit_dataset\\train\\labels\\155_jpg.rf.dd0570b8b989b55fd31d7d1b717d0cd9.txt\n",
      "fruit_dataset\\train\\labels\\156_jpg.rf.ec37b9e78647d072d8d99f28ccd0b51a.txt\n",
      "fruit_dataset\\train\\labels\\160_jpg.rf.e69bd936837c6e96ed6b4c5c4d4a5346.txt\n",
      "fruit_dataset\\train\\labels\\162_jpg.rf.68648247aea9feb555265f2485042ec7.txt\n",
      "fruit_dataset\\train\\labels\\163_jpg.rf.f1e78d2dc730bb5759e142b9d87de54e.txt\n",
      "fruit_dataset\\train\\labels\\165_jpg.rf.b65efaa078661a78da1ec27366b43c85.txt\n",
      "fruit_dataset\\train\\labels\\166_jpg.rf.4636363122967b6c69d4eaf5c155362b.txt\n",
      "fruit_dataset\\train\\labels\\169_jpg.rf.2ae22109dbaa218b97dc573848d7979a.txt\n",
      "fruit_dataset\\train\\labels\\171_jpg.rf.a992bfe174dc1f8f9a2fbe2721a30910.txt\n",
      "fruit_dataset\\train\\labels\\172_jpg.rf.cd67af1336c688f5680334dcc5e0e824.txt\n",
      "fruit_dataset\\train\\labels\\175_jpg.rf.4cd4c6817f7e0262b1186e17aca62f1f.txt\n",
      "fruit_dataset\\train\\labels\\176_jpg.rf.91cf247b4df252fa0d714ca371e7a1c3.txt\n",
      "fruit_dataset\\train\\labels\\177_jpg.rf.4896bac76fa9a543372a9014181737f1.txt\n",
      "fruit_dataset\\train\\labels\\178_jpg.rf.b884ba546bd89b421b57d1559fc9fe07.txt\n",
      "fruit_dataset\\train\\labels\\180_jpg.rf.32d65770a075510b82ee48f9506842e6.txt\n",
      "fruit_dataset\\train\\labels\\181_jpg.rf.789cf47c8d4d1043ac3b57577c45f9ae.txt\n",
      "fruit_dataset\\train\\labels\\182_jpg.rf.db8915d6368732ceb988a879faaa5b3a.txt\n",
      "fruit_dataset\\train\\labels\\187_jpg.rf.1c6fbb7fdfcaf4d8396910b40dc009bc.txt\n",
      "fruit_dataset\\train\\labels\\191_jpg.rf.a335d5e42894def70484766ed1fc5404.txt\n",
      "fruit_dataset\\train\\labels\\194_jpg.rf.6d86f756ef9d691bd8e9d7e226ccb2f2.txt\n",
      "fruit_dataset\\train\\labels\\195_jpg.rf.1e95d8ad5cc8d064058349164fd96c77.txt\n",
      "fruit_dataset\\train\\labels\\197_jpg.rf.d50b2e2f713376e44ae37477b2d42401.txt\n",
      "fruit_dataset\\train\\labels\\200_jpg.rf.2f9e57e0c85512ce5796752ef5d83735.txt\n",
      "fruit_dataset\\train\\labels\\202_jpg.rf.dc2644435be86a6a66587b7e835a0134.txt\n",
      "fruit_dataset\\train\\labels\\204_jpg.rf.1d33de08339110e526c104717bc38980.txt\n",
      "fruit_dataset\\train\\labels\\209_jpg.rf.1f74df7c2310df0300ba5729a7431375.txt\n",
      "fruit_dataset\\train\\labels\\210_jpg.rf.bfa691176c64a36d7af58d9a439a20bf.txt\n",
      "fruit_dataset\\train\\labels\\211_jpg.rf.741ee94e4c1faecbe672ff997809a657.txt\n",
      "fruit_dataset\\train\\labels\\212_jpg.rf.90cf2c224a291536816c23bdcd0c116e.txt\n",
      "fruit_dataset\\train\\labels\\213_jpg.rf.fd5e37151924545e888de8defad40b6f.txt\n",
      "fruit_dataset\\train\\labels\\214_jpg.rf.585a882afd64984cdd4629beafea5df4.txt\n",
      "fruit_dataset\\train\\labels\\216_jpg.rf.e24d455880f252ec0e050ae176c88706.txt\n",
      "fruit_dataset\\train\\labels\\217_jpg.rf.bedcc5067519235ed662c0457915438a.txt\n",
      "fruit_dataset\\train\\labels\\218_jpg.rf.d0cb24c7d318b3157f724c1125c3d12c.txt\n",
      "fruit_dataset\\train\\labels\\220_jpg.rf.436e53b35cad67c48bf7abcbdbdd2bb6.txt\n",
      "fruit_dataset\\train\\labels\\221_jpg.rf.2c84e6c4c7fcb0802779d40e27d8eebe.txt\n",
      "fruit_dataset\\train\\labels\\222_jpg.rf.c94a116aee6c7b3e7ed9f19764992a75.txt\n",
      "fruit_dataset\\train\\labels\\225_jpg.rf.8f4ceae0f6cadd99926cc821c4872678.txt\n",
      "fruit_dataset\\train\\labels\\227_jpg.rf.a1dff3ec3a1f51fe4d0bb0c69c6df502.txt\n",
      "fruit_dataset\\train\\labels\\229_jpg.rf.f7262ae0a766ccb5a188233a81f8e10a.txt\n",
      "fruit_dataset\\train\\labels\\236_jpg.rf.4c5e84106519e50f646ff83a9da8e504.txt\n",
      "fruit_dataset\\train\\labels\\239_jpg.rf.5d9df37f674fa80acdd21cbd78e6c498.txt\n",
      "fruit_dataset\\train\\labels\\240_jpg.rf.ad13824203f50bdc8857b3ce195823ce.txt\n",
      "fruit_dataset\\train\\labels\\242_jpg.rf.bb83f75e1cbbee9cf262a97579d62858.txt\n",
      "fruit_dataset\\train\\labels\\244_jpg.rf.85c7a0bfeb25e759d77461b238ef8d6a.txt\n",
      "fruit_dataset\\train\\labels\\247_jpg.rf.31af2e9f469ffec674df5a1577d943c3.txt\n",
      "fruit_dataset\\train\\labels\\248_jpg.rf.3d812e05e72a43a04e9dabe50968710f.txt\n",
      "fruit_dataset\\train\\labels\\250_jpg.rf.5dd3c9b5b1a02eea33406b03536822a4.txt\n",
      "fruit_dataset\\train\\labels\\252_jpg.rf.e9e10baedaeabb31cbcd93737d71ab81.txt\n",
      "fruit_dataset\\train\\labels\\256_jpg.rf.3e54662419bd78741d228bfea837c980.txt\n",
      "fruit_dataset\\train\\labels\\258_jpg.rf.ba6649479561a34b5a4f717b0a15a42f.txt\n",
      "fruit_dataset\\train\\labels\\259_jpg.rf.e5598f0f31d53075fbdb1bb1305e78c5.txt\n",
      "fruit_dataset\\train\\labels\\260_jpg.rf.2a277c997739b360f3c97da6f9945342.txt\n",
      "fruit_dataset\\train\\labels\\261_jpg.rf.f1558a24de3c29f0242e5d4280668ed9.txt\n",
      "fruit_dataset\\train\\labels\\262_jpg.rf.30bf5ff7ce23b345f56be73ea8e234a5.txt\n",
      "fruit_dataset\\train\\labels\\263_jpg.rf.a69dc4198e9eb237e606153db19db595.txt\n",
      "fruit_dataset\\train\\labels\\266_jpg.rf.61d304fa09987cd89caa2964fb151eb8.txt\n",
      "fruit_dataset\\train\\labels\\267_jpg.rf.74ab72a23589bb4168c170da7ee2d78a.txt\n",
      "fruit_dataset\\train\\labels\\270_jpg.rf.433419b915fc6d7ce90ae55372936b9e.txt\n",
      "fruit_dataset\\train\\labels\\271_jpg.rf.7fb6017af062730d6e5a265a691f9116.txt\n",
      "fruit_dataset\\train\\labels\\272_jpg.rf.5b763004a581b82e5971716213016002.txt\n",
      "fruit_dataset\\train\\labels\\273_jpg.rf.122ee30c46ce9686b0199b83d60ea30f.txt\n",
      "fruit_dataset\\train\\labels\\276_jpg.rf.abc7ee0557debf54a022102390d96ca9.txt\n",
      "fruit_dataset\\train\\labels\\279_jpg.rf.a610dab2242009142cab488dafb0ac35.txt\n",
      "fruit_dataset\\train\\labels\\280_jpg.rf.010d3f0c3206d81585aa0d29a454946b.txt\n",
      "fruit_dataset\\train\\labels\\282_jpg.rf.618c6ce9e2b3a6cb3119bd21f2c5925f.txt\n",
      "fruit_dataset\\train\\labels\\285_jpg.rf.d5aa7c6de37689f8f0b58bfa410fd58f.txt\n",
      "fruit_dataset\\train\\labels\\288_jpg.rf.883960539c666f3568ee537474c429d6.txt\n",
      "fruit_dataset\\train\\labels\\289_jpg.rf.71e5771515853cffb1bf91ba625e77cc.txt\n",
      "fruit_dataset\\train\\labels\\291_jpg.rf.847a4303fe99059e3b3dc5003d3d4045.txt\n",
      "fruit_dataset\\train\\labels\\292_jpg.rf.f7d5e47fcbebf8d9e932b227d985161d.txt\n",
      "fruit_dataset\\train\\labels\\293_jpg.rf.abbae7dd24d889d76c2d9754bc61ab06.txt\n",
      "fruit_dataset\\train\\labels\\294_jpg.rf.3fad848313066c9d108db17c2f1c83e1.txt\n",
      "fruit_dataset\\train\\labels\\295_jpg.rf.95864edacc02c76d3402cddffa395aed.txt\n",
      "fruit_dataset\\train\\labels\\297_jpg.rf.ae1f06376b6654b27f2ed9e25aaa8e61.txt\n",
      "fruit_dataset\\train\\labels\\298_jpg.rf.79a8c8b0be6c23f1fb8d76c5f02858f3.txt\n",
      "fruit_dataset\\train\\labels\\300_jpg.rf.5163e02fc9e6c23e9b9fcb5d7db1f69d.txt\n",
      "fruit_dataset\\valid\\001_jpg.rf.2c0d9797aa901307eecb44f3670502cc.jpg\n",
      "fruit_dataset\\valid\\001_jpg.rf.4e7033150d773bd3b5fce9d98e9dcbde.jpg\n",
      "fruit_dataset\\valid\\004_jpg.rf.0d1f1bd6130dc4f55c826888d0503d34.jpg\n",
      "fruit_dataset\\valid\\004_jpg.rf.be23a68430914a026b0ced8a1cdc9cc5.jpg\n",
      "fruit_dataset\\valid\\009_jpg.rf.3f29554bffa693b5a58253069bfc0036.jpg\n",
      "fruit_dataset\\valid\\009_jpg.rf.8e16512473060aa6919ed6ad31ecb515.jpg\n",
      "fruit_dataset\\valid\\010_jpg.rf.49cf9424c58ff61bc948d1edbd6a1192.jpg\n",
      "fruit_dataset\\valid\\010_jpg.rf.6b9deb366ca755c59d4d4d8d841e59ab.jpg\n",
      "fruit_dataset\\valid\\013_jpg.rf.2a2bdee380b1aa7742d296bec3c5819b.jpg\n",
      "fruit_dataset\\valid\\013_jpg.rf.65730f72732cd8064ce0b4879c596e7d.jpg\n",
      "fruit_dataset\\valid\\030_jpg.rf.369aac36f1ffff866e4e43ec21d2f2c2.jpg\n",
      "fruit_dataset\\valid\\030_jpg.rf.d2490b4fb0f3133e4b703b0f914ab9bd.jpg\n",
      "fruit_dataset\\valid\\031_jpg.rf.ac3d08879fecc9ecbf1b76a2e5f97b95.jpg\n",
      "fruit_dataset\\valid\\031_jpg.rf.f18851659a5caa6f09afafb48bb85bfa.jpg\n",
      "fruit_dataset\\valid\\034_jpg.rf.016db8a90efcf1efdb94850bf8d53b7d.jpg\n",
      "fruit_dataset\\valid\\034_jpg.rf.217dae36e0152e31eb4fff9fba4021b0.jpg\n",
      "fruit_dataset\\valid\\065_jpg.rf.7e72f980710dff7e8a1008aa29edba1d.jpg\n",
      "fruit_dataset\\valid\\067_jpg.rf.6b0de13d801349f308bf2bba170783d2.jpg\n",
      "fruit_dataset\\valid\\078_jpg.rf.203fb53a59779e801558025763944e64.jpg\n",
      "fruit_dataset\\valid\\083_jpg.rf.96937a80348ac6fd0de89996be8988b4.jpg\n",
      "fruit_dataset\\valid\\085_jpg.rf.9e98580703bed12edcf1edd722001cd6.jpg\n",
      "fruit_dataset\\valid\\087_jpg.rf.6aff4230b17ac668bf97beade19e6368.jpg\n",
      "fruit_dataset\\valid\\091_jpg.rf.403ab298fd292140ff79048a9fc4ee41.jpg\n",
      "fruit_dataset\\valid\\104_jpg.rf.3092b03e5f36174845d913d3d7f86fbb.jpg\n",
      "fruit_dataset\\valid\\107_jpg.rf.5e79edfc9907936a55f17dd3acdcc358.jpg\n",
      "fruit_dataset\\valid\\108_jpg.rf.f4d2d67b724e2644a9b6bc6df671d355.jpg\n",
      "fruit_dataset\\valid\\112_jpg.rf.9d8534445b2d73ed0967460338637f8b.jpg\n",
      "fruit_dataset\\valid\\118_jpg.rf.dc3e8226bb8f111451b18469a5d186c9.jpg\n",
      "fruit_dataset\\valid\\123_jpg.rf.387c69f94767f20e951a4e61e8c99079.jpg\n",
      "fruit_dataset\\valid\\124_jpg.rf.be956ce70025a46b9c8cb69d196b0c3d.jpg\n",
      "fruit_dataset\\valid\\137_jpg.rf.3a35962ef5cea15b9e5efd118d8364a3.jpg\n",
      "fruit_dataset\\valid\\139_jpg.rf.0e5552b54b317c61d54039cfd68ecba7.jpg\n",
      "fruit_dataset\\valid\\144_jpg.rf.6db64d7bc9e07a99081c8970fe21c52c.jpg\n",
      "fruit_dataset\\valid\\145_jpg.rf.9f9ce9472a0a81dc7229ff5ae0226c33.jpg\n",
      "fruit_dataset\\valid\\159_jpg.rf.2a2793d0fcaa89dd6328eea838613b3a.jpg\n",
      "fruit_dataset\\valid\\167_jpg.rf.3b84ac0a50a169ab2531502f81a4c60a.jpg\n",
      "fruit_dataset\\valid\\189_jpg.rf.c1bceb9c12117e8fb56c7ea433e8d4a9.jpg\n",
      "fruit_dataset\\valid\\192_jpg.rf.e71e24201f552700f9c27b1f275d3db3.jpg\n",
      "fruit_dataset\\valid\\196_jpg.rf.5fd631b9111d0beb762f5464524e63b4.jpg\n",
      "fruit_dataset\\valid\\198_jpg.rf.10bb22f4e83bc359d408db1c493070d0.jpg\n",
      "fruit_dataset\\valid\\199_jpg.rf.47fd2206b4597cd68fb9030b38dbb4b6.jpg\n",
      "fruit_dataset\\valid\\203_jpg.rf.9d615a5e109026e243d43f479944bc9c.jpg\n",
      "fruit_dataset\\valid\\206_jpg.rf.bdab31ccc0504f44b0bb1be095a64aa5.jpg\n",
      "fruit_dataset\\valid\\207_jpg.rf.2049d352f85d1a2d3a6434d6fb810ca7.jpg\n",
      "fruit_dataset\\valid\\208_jpg.rf.955463eaab0114fb2f824d1ed768b416.jpg\n",
      "fruit_dataset\\valid\\219_jpg.rf.937b29accb9b2a69e96783e3f6d545c5.jpg\n",
      "fruit_dataset\\valid\\223_jpg.rf.5281ac52413e6ff0a3827348cfd59e36.jpg\n",
      "fruit_dataset\\valid\\230_jpg.rf.4654bf3fcc7774d786310ab9071367d4.jpg\n",
      "fruit_dataset\\valid\\232_jpg.rf.993e90057fd77aaec6b20e229f185862.jpg\n",
      "fruit_dataset\\valid\\235_jpg.rf.d1bf0e3841616a5f8320233ea3342b37.jpg\n",
      "fruit_dataset\\valid\\238_jpg.rf.de8fbe684cbd213a88347758ccd30935.jpg\n",
      "fruit_dataset\\valid\\241_jpg.rf.5aece83af1ea45fd1cbfabd3b5b6b22a.jpg\n",
      "fruit_dataset\\valid\\243_jpg.rf.c949c407c8d534b90bc7ea885d04d605.jpg\n",
      "fruit_dataset\\valid\\245_jpg.rf.5e7cb814d9c52afe5afd987078bdf55b.jpg\n",
      "fruit_dataset\\valid\\251_jpg.rf.c4f9c14216d87132e9601e79e0072d45.jpg\n",
      "fruit_dataset\\valid\\274_jpg.rf.3fc090df3462169425b4ff5cc6781e19.jpg\n",
      "fruit_dataset\\valid\\275_jpg.rf.dea907cf31c8b899d585af321427f873.jpg\n",
      "fruit_dataset\\valid\\278_jpg.rf.cc054c853151e6f777c2efafbc5589a3.jpg\n",
      "fruit_dataset\\valid\\287_jpg.rf.cbee93389d3efd82cda3ab732c57a13d.jpg\n",
      "fruit_dataset\\valid\\_annotations.coco.json\n",
      "fruit_dataset\\valid\\images\\001_jpg.rf.2c0d9797aa901307eecb44f3670502cc.jpg\n",
      "fruit_dataset\\valid\\images\\001_jpg.rf.4e7033150d773bd3b5fce9d98e9dcbde.jpg\n",
      "fruit_dataset\\valid\\images\\004_jpg.rf.0d1f1bd6130dc4f55c826888d0503d34.jpg\n",
      "fruit_dataset\\valid\\images\\004_jpg.rf.be23a68430914a026b0ced8a1cdc9cc5.jpg\n",
      "fruit_dataset\\valid\\images\\009_jpg.rf.3f29554bffa693b5a58253069bfc0036.jpg\n",
      "fruit_dataset\\valid\\images\\009_jpg.rf.8e16512473060aa6919ed6ad31ecb515.jpg\n",
      "fruit_dataset\\valid\\images\\010_jpg.rf.49cf9424c58ff61bc948d1edbd6a1192.jpg\n",
      "fruit_dataset\\valid\\images\\010_jpg.rf.6b9deb366ca755c59d4d4d8d841e59ab.jpg\n",
      "fruit_dataset\\valid\\images\\013_jpg.rf.2a2bdee380b1aa7742d296bec3c5819b.jpg\n",
      "fruit_dataset\\valid\\images\\013_jpg.rf.65730f72732cd8064ce0b4879c596e7d.jpg\n",
      "fruit_dataset\\valid\\images\\030_jpg.rf.369aac36f1ffff866e4e43ec21d2f2c2.jpg\n",
      "fruit_dataset\\valid\\images\\030_jpg.rf.d2490b4fb0f3133e4b703b0f914ab9bd.jpg\n",
      "fruit_dataset\\valid\\images\\031_jpg.rf.ac3d08879fecc9ecbf1b76a2e5f97b95.jpg\n",
      "fruit_dataset\\valid\\images\\031_jpg.rf.f18851659a5caa6f09afafb48bb85bfa.jpg\n",
      "fruit_dataset\\valid\\images\\034_jpg.rf.016db8a90efcf1efdb94850bf8d53b7d.jpg\n",
      "fruit_dataset\\valid\\images\\034_jpg.rf.217dae36e0152e31eb4fff9fba4021b0.jpg\n",
      "fruit_dataset\\valid\\images\\065_jpg.rf.7e72f980710dff7e8a1008aa29edba1d.jpg\n",
      "fruit_dataset\\valid\\images\\067_jpg.rf.6b0de13d801349f308bf2bba170783d2.jpg\n",
      "fruit_dataset\\valid\\images\\078_jpg.rf.203fb53a59779e801558025763944e64.jpg\n",
      "fruit_dataset\\valid\\images\\083_jpg.rf.96937a80348ac6fd0de89996be8988b4.jpg\n",
      "fruit_dataset\\valid\\images\\085_jpg.rf.9e98580703bed12edcf1edd722001cd6.jpg\n",
      "fruit_dataset\\valid\\images\\087_jpg.rf.6aff4230b17ac668bf97beade19e6368.jpg\n",
      "fruit_dataset\\valid\\images\\091_jpg.rf.403ab298fd292140ff79048a9fc4ee41.jpg\n",
      "fruit_dataset\\valid\\images\\104_jpg.rf.3092b03e5f36174845d913d3d7f86fbb.jpg\n",
      "fruit_dataset\\valid\\images\\107_jpg.rf.5e79edfc9907936a55f17dd3acdcc358.jpg\n",
      "fruit_dataset\\valid\\images\\108_jpg.rf.f4d2d67b724e2644a9b6bc6df671d355.jpg\n",
      "fruit_dataset\\valid\\images\\112_jpg.rf.9d8534445b2d73ed0967460338637f8b.jpg\n",
      "fruit_dataset\\valid\\images\\118_jpg.rf.dc3e8226bb8f111451b18469a5d186c9.jpg\n",
      "fruit_dataset\\valid\\images\\123_jpg.rf.387c69f94767f20e951a4e61e8c99079.jpg\n",
      "fruit_dataset\\valid\\images\\124_jpg.rf.be956ce70025a46b9c8cb69d196b0c3d.jpg\n",
      "fruit_dataset\\valid\\images\\137_jpg.rf.3a35962ef5cea15b9e5efd118d8364a3.jpg\n",
      "fruit_dataset\\valid\\images\\139_jpg.rf.0e5552b54b317c61d54039cfd68ecba7.jpg\n",
      "fruit_dataset\\valid\\images\\144_jpg.rf.6db64d7bc9e07a99081c8970fe21c52c.jpg\n",
      "fruit_dataset\\valid\\images\\145_jpg.rf.9f9ce9472a0a81dc7229ff5ae0226c33.jpg\n",
      "fruit_dataset\\valid\\images\\159_jpg.rf.2a2793d0fcaa89dd6328eea838613b3a.jpg\n",
      "fruit_dataset\\valid\\images\\167_jpg.rf.3b84ac0a50a169ab2531502f81a4c60a.jpg\n",
      "fruit_dataset\\valid\\images\\189_jpg.rf.c1bceb9c12117e8fb56c7ea433e8d4a9.jpg\n",
      "fruit_dataset\\valid\\images\\192_jpg.rf.e71e24201f552700f9c27b1f275d3db3.jpg\n",
      "fruit_dataset\\valid\\images\\196_jpg.rf.5fd631b9111d0beb762f5464524e63b4.jpg\n",
      "fruit_dataset\\valid\\images\\198_jpg.rf.10bb22f4e83bc359d408db1c493070d0.jpg\n",
      "fruit_dataset\\valid\\images\\199_jpg.rf.47fd2206b4597cd68fb9030b38dbb4b6.jpg\n",
      "fruit_dataset\\valid\\images\\203_jpg.rf.9d615a5e109026e243d43f479944bc9c.jpg\n",
      "fruit_dataset\\valid\\images\\206_jpg.rf.bdab31ccc0504f44b0bb1be095a64aa5.jpg\n",
      "fruit_dataset\\valid\\images\\207_jpg.rf.2049d352f85d1a2d3a6434d6fb810ca7.jpg\n",
      "fruit_dataset\\valid\\images\\208_jpg.rf.955463eaab0114fb2f824d1ed768b416.jpg\n",
      "fruit_dataset\\valid\\images\\219_jpg.rf.937b29accb9b2a69e96783e3f6d545c5.jpg\n",
      "fruit_dataset\\valid\\images\\223_jpg.rf.5281ac52413e6ff0a3827348cfd59e36.jpg\n",
      "fruit_dataset\\valid\\images\\230_jpg.rf.4654bf3fcc7774d786310ab9071367d4.jpg\n",
      "fruit_dataset\\valid\\images\\232_jpg.rf.993e90057fd77aaec6b20e229f185862.jpg\n",
      "fruit_dataset\\valid\\images\\235_jpg.rf.d1bf0e3841616a5f8320233ea3342b37.jpg\n",
      "fruit_dataset\\valid\\images\\238_jpg.rf.de8fbe684cbd213a88347758ccd30935.jpg\n",
      "fruit_dataset\\valid\\images\\241_jpg.rf.5aece83af1ea45fd1cbfabd3b5b6b22a.jpg\n",
      "fruit_dataset\\valid\\images\\243_jpg.rf.c949c407c8d534b90bc7ea885d04d605.jpg\n",
      "fruit_dataset\\valid\\images\\245_jpg.rf.5e7cb814d9c52afe5afd987078bdf55b.jpg\n",
      "fruit_dataset\\valid\\images\\251_jpg.rf.c4f9c14216d87132e9601e79e0072d45.jpg\n",
      "fruit_dataset\\valid\\images\\274_jpg.rf.3fc090df3462169425b4ff5cc6781e19.jpg\n",
      "fruit_dataset\\valid\\images\\275_jpg.rf.dea907cf31c8b899d585af321427f873.jpg\n",
      "fruit_dataset\\valid\\images\\278_jpg.rf.cc054c853151e6f777c2efafbc5589a3.jpg\n",
      "fruit_dataset\\valid\\images\\287_jpg.rf.cbee93389d3efd82cda3ab732c57a13d.jpg\n",
      "fruit_dataset\\valid\\labels\\001_jpg.rf.2c0d9797aa901307eecb44f3670502cc.txt\n",
      "fruit_dataset\\valid\\labels\\001_jpg.rf.4e7033150d773bd3b5fce9d98e9dcbde.txt\n",
      "fruit_dataset\\valid\\labels\\004_jpg.rf.0d1f1bd6130dc4f55c826888d0503d34.txt\n",
      "fruit_dataset\\valid\\labels\\004_jpg.rf.be23a68430914a026b0ced8a1cdc9cc5.txt\n",
      "fruit_dataset\\valid\\labels\\009_jpg.rf.3f29554bffa693b5a58253069bfc0036.txt\n",
      "fruit_dataset\\valid\\labels\\009_jpg.rf.8e16512473060aa6919ed6ad31ecb515.txt\n",
      "fruit_dataset\\valid\\labels\\010_jpg.rf.49cf9424c58ff61bc948d1edbd6a1192.txt\n",
      "fruit_dataset\\valid\\labels\\010_jpg.rf.6b9deb366ca755c59d4d4d8d841e59ab.txt\n",
      "fruit_dataset\\valid\\labels\\013_jpg.rf.2a2bdee380b1aa7742d296bec3c5819b.txt\n",
      "fruit_dataset\\valid\\labels\\013_jpg.rf.65730f72732cd8064ce0b4879c596e7d.txt\n",
      "fruit_dataset\\valid\\labels\\030_jpg.rf.369aac36f1ffff866e4e43ec21d2f2c2.txt\n",
      "fruit_dataset\\valid\\labels\\030_jpg.rf.d2490b4fb0f3133e4b703b0f914ab9bd.txt\n",
      "fruit_dataset\\valid\\labels\\031_jpg.rf.ac3d08879fecc9ecbf1b76a2e5f97b95.txt\n",
      "fruit_dataset\\valid\\labels\\031_jpg.rf.f18851659a5caa6f09afafb48bb85bfa.txt\n",
      "fruit_dataset\\valid\\labels\\034_jpg.rf.016db8a90efcf1efdb94850bf8d53b7d.txt\n",
      "fruit_dataset\\valid\\labels\\034_jpg.rf.217dae36e0152e31eb4fff9fba4021b0.txt\n",
      "fruit_dataset\\valid\\labels\\065_jpg.rf.7e72f980710dff7e8a1008aa29edba1d.txt\n",
      "fruit_dataset\\valid\\labels\\067_jpg.rf.6b0de13d801349f308bf2bba170783d2.txt\n",
      "fruit_dataset\\valid\\labels\\078_jpg.rf.203fb53a59779e801558025763944e64.txt\n",
      "fruit_dataset\\valid\\labels\\083_jpg.rf.96937a80348ac6fd0de89996be8988b4.txt\n",
      "fruit_dataset\\valid\\labels\\085_jpg.rf.9e98580703bed12edcf1edd722001cd6.txt\n",
      "fruit_dataset\\valid\\labels\\087_jpg.rf.6aff4230b17ac668bf97beade19e6368.txt\n",
      "fruit_dataset\\valid\\labels\\091_jpg.rf.403ab298fd292140ff79048a9fc4ee41.txt\n",
      "fruit_dataset\\valid\\labels\\104_jpg.rf.3092b03e5f36174845d913d3d7f86fbb.txt\n",
      "fruit_dataset\\valid\\labels\\107_jpg.rf.5e79edfc9907936a55f17dd3acdcc358.txt\n",
      "fruit_dataset\\valid\\labels\\108_jpg.rf.f4d2d67b724e2644a9b6bc6df671d355.txt\n",
      "fruit_dataset\\valid\\labels\\112_jpg.rf.9d8534445b2d73ed0967460338637f8b.txt\n",
      "fruit_dataset\\valid\\labels\\118_jpg.rf.dc3e8226bb8f111451b18469a5d186c9.txt\n",
      "fruit_dataset\\valid\\labels\\123_jpg.rf.387c69f94767f20e951a4e61e8c99079.txt\n",
      "fruit_dataset\\valid\\labels\\124_jpg.rf.be956ce70025a46b9c8cb69d196b0c3d.txt\n",
      "fruit_dataset\\valid\\labels\\137_jpg.rf.3a35962ef5cea15b9e5efd118d8364a3.txt\n",
      "fruit_dataset\\valid\\labels\\139_jpg.rf.0e5552b54b317c61d54039cfd68ecba7.txt\n",
      "fruit_dataset\\valid\\labels\\144_jpg.rf.6db64d7bc9e07a99081c8970fe21c52c.txt\n",
      "fruit_dataset\\valid\\labels\\145_jpg.rf.9f9ce9472a0a81dc7229ff5ae0226c33.txt\n",
      "fruit_dataset\\valid\\labels\\159_jpg.rf.2a2793d0fcaa89dd6328eea838613b3a.txt\n",
      "fruit_dataset\\valid\\labels\\167_jpg.rf.3b84ac0a50a169ab2531502f81a4c60a.txt\n",
      "fruit_dataset\\valid\\labels\\189_jpg.rf.c1bceb9c12117e8fb56c7ea433e8d4a9.txt\n",
      "fruit_dataset\\valid\\labels\\192_jpg.rf.e71e24201f552700f9c27b1f275d3db3.txt\n",
      "fruit_dataset\\valid\\labels\\196_jpg.rf.5fd631b9111d0beb762f5464524e63b4.txt\n",
      "fruit_dataset\\valid\\labels\\198_jpg.rf.10bb22f4e83bc359d408db1c493070d0.txt\n",
      "fruit_dataset\\valid\\labels\\199_jpg.rf.47fd2206b4597cd68fb9030b38dbb4b6.txt\n",
      "fruit_dataset\\valid\\labels\\203_jpg.rf.9d615a5e109026e243d43f479944bc9c.txt\n",
      "fruit_dataset\\valid\\labels\\206_jpg.rf.bdab31ccc0504f44b0bb1be095a64aa5.txt\n",
      "fruit_dataset\\valid\\labels\\207_jpg.rf.2049d352f85d1a2d3a6434d6fb810ca7.txt\n",
      "fruit_dataset\\valid\\labels\\208_jpg.rf.955463eaab0114fb2f824d1ed768b416.txt\n",
      "fruit_dataset\\valid\\labels\\219_jpg.rf.937b29accb9b2a69e96783e3f6d545c5.txt\n",
      "fruit_dataset\\valid\\labels\\223_jpg.rf.5281ac52413e6ff0a3827348cfd59e36.txt\n",
      "fruit_dataset\\valid\\labels\\230_jpg.rf.4654bf3fcc7774d786310ab9071367d4.txt\n",
      "fruit_dataset\\valid\\labels\\232_jpg.rf.993e90057fd77aaec6b20e229f185862.txt\n",
      "fruit_dataset\\valid\\labels\\235_jpg.rf.d1bf0e3841616a5f8320233ea3342b37.txt\n",
      "fruit_dataset\\valid\\labels\\238_jpg.rf.de8fbe684cbd213a88347758ccd30935.txt\n",
      "fruit_dataset\\valid\\labels\\241_jpg.rf.5aece83af1ea45fd1cbfabd3b5b6b22a.txt\n",
      "fruit_dataset\\valid\\labels\\243_jpg.rf.c949c407c8d534b90bc7ea885d04d605.txt\n",
      "fruit_dataset\\valid\\labels\\245_jpg.rf.5e7cb814d9c52afe5afd987078bdf55b.txt\n",
      "fruit_dataset\\valid\\labels\\251_jpg.rf.c4f9c14216d87132e9601e79e0072d45.txt\n",
      "fruit_dataset\\valid\\labels\\274_jpg.rf.3fc090df3462169425b4ff5cc6781e19.txt\n",
      "fruit_dataset\\valid\\labels\\275_jpg.rf.dea907cf31c8b899d585af321427f873.txt\n",
      "fruit_dataset\\valid\\labels\\278_jpg.rf.cc054c853151e6f777c2efafbc5589a3.txt\n",
      "fruit_dataset\\valid\\labels\\287_jpg.rf.cbee93389d3efd82cda3ab732c57a13d.txt\n"
     ]
    }
   ],
   "source": [
    "for root, dirs, files in os.walk(extract_to):\n",
    "    for file in files:\n",
    "        print(os.path.join(root, file))"
   ]
  },
  {
   "cell_type": "code",
   "execution_count": 91,
   "id": "87e798e6-c4d0-42bd-895d-086817b17149",
   "metadata": {},
   "outputs": [
    {
     "name": "stderr",
     "output_type": "stream",
     "text": [
      "Processing train: 100%|██████████| 179/179 [00:00<00:00, 601.17it/s]\n",
      "Processing valid: 100%|██████████| 59/59 [00:00<00:00, 668.22it/s]\n",
      "Processing test: 100%|██████████| 65/65 [00:00<00:00, 537.24it/s]\n"
     ]
    }
   ],
   "source": [
    "import os\n",
    "import json\n",
    "import shutil\n",
    "from tqdm import tqdm\n",
    "\n",
    "def convert_split_to_yolo_segmentation(split_dir):\n",
    "    coco_path = os.path.join(split_dir, '_annotations.coco.json')\n",
    "    \n",
    "    if not os.path.exists(coco_path):\n",
    "        print(f\"⚠️ No annotation file found in {split_dir}\")\n",
    "        return\n",
    "\n",
    "    with open(coco_path, 'r') as f:\n",
    "        coco = json.load(f)\n",
    "\n",
    "    categories = coco['categories']\n",
    "    category_map = {cat['id']: idx for idx, cat in enumerate(categories)}  # 0-based class IDs\n",
    "    image_id_map = {img['id']: img for img in coco['images']}\n",
    "    annotations = coco['annotations']\n",
    "\n",
    "    # Map annotations per image\n",
    "    ann_map = {}\n",
    "    for ann in annotations:\n",
    "        image_id = ann['image_id']\n",
    "        if image_id not in ann_map:\n",
    "            ann_map[image_id] = []\n",
    "        ann_map[image_id].append(ann)\n",
    "\n",
    "    # Create images/ and labels/ folders\n",
    "    images_dir = os.path.join(split_dir, 'images')\n",
    "    labels_dir = os.path.join(split_dir, 'labels')\n",
    "    os.makedirs(images_dir, exist_ok=True)\n",
    "    os.makedirs(labels_dir, exist_ok=True)\n",
    "\n",
    "    for image_id, anns in tqdm(ann_map.items(), desc=f\"Processing {os.path.basename(split_dir)}\"):\n",
    "        img_info = image_id_map[image_id]\n",
    "        filename = img_info['file_name']\n",
    "        width = img_info['width']\n",
    "        height = img_info['height']\n",
    "\n",
    "        # Move image\n",
    "        src_path = os.path.join(split_dir, filename)\n",
    "        dst_path = os.path.join(images_dir, filename)\n",
    "        if os.path.exists(src_path):\n",
    "            shutil.move(src_path, dst_path)\n",
    "\n",
    "        # Write label file\n",
    "        label_path = os.path.join(labels_dir, os.path.splitext(filename)[0] + '.txt')\n",
    "        with open(label_path, 'w') as f:\n",
    "            for ann in anns:\n",
    "                bbox = ann['bbox']\n",
    "                segmentation = ann.get('segmentation', [])\n",
    "                if not segmentation or not isinstance(segmentation[0], list):\n",
    "                    continue  # Skip if segmentation is not polygon-based\n",
    "\n",
    "                category_id = ann['category_id']\n",
    "                class_id = category_map[category_id]\n",
    "\n",
    "                x, y, w, h = bbox\n",
    "                x_center = (x + w / 2) / width\n",
    "                y_center = (y + h / 2) / height\n",
    "                w /= width\n",
    "                h /= height\n",
    "\n",
    "                # Normalize segmentation points\n",
    "                poly = segmentation[0]  # list of [x1, y1, x2, y2, ...]\n",
    "                norm_poly = [str(round(poly[i] / width, 6)) if i % 2 == 0 else str(round(poly[i] / height, 6))\n",
    "                             for i in range(len(poly))]\n",
    "\n",
    "                line = f\"{class_id} {x_center:.6f} {y_center:.6f} {w:.6f} {h:.6f} \" + \" \".join(norm_poly)\n",
    "                f.write(line + \"\\n\")\n",
    "\n",
    "# 🔁 Convert all splits\n",
    "base_path = os.path.abspath(\"fruit_dataset\")  # or your dataset path\n",
    "for split in ['train', 'valid', 'test']:\n",
    "    convert_split_to_yolo_segmentation(os.path.join(base_path, split))\n",
    "\n",
    "\n",
    "\n"
   ]
  },
  {
   "cell_type": "code",
   "execution_count": 148,
   "id": "f15bd503-57b2-4b16-8193-9cc9ee37862f",
   "metadata": {},
   "outputs": [],
   "source": [
    "import os\n",
    "import json\n",
    "import numpy as np\n",
    "from PIL import Image, ImageDraw\n",
    "from tqdm import tqdm\n",
    "\n",
    "def create_rgb_masks(split_dir):\n",
    "    json_path = os.path.join(split_dir, '_annotations.coco.json')\n",
    "    with open(json_path, 'r') as f:\n",
    "        coco = json.load(f)\n",
    "\n",
    "    images = coco['images']\n",
    "    annotations = coco['annotations']\n",
    "    categories = {cat['id']: cat['name'] for cat in coco['categories']}\n",
    "\n",
    "    colors = {\n",
    "        'apple': (156, 2, 27),\n",
    "        'banana': (237, 214, 62),\n",
    "        'orange': (230, 103, 30),\n",
    "        'none': (0, 0, 0)\n",
    "    }\n",
    "\n",
    "    ann_map = {}\n",
    "    for ann in annotations:\n",
    "        image_id = ann['image_id']\n",
    "        ann_map.setdefault(image_id, []).append(ann)\n",
    "\n",
    "    mask_dir = os.path.join(split_dir, 'masks')\n",
    "    os.makedirs(mask_dir, exist_ok=True)\n",
    "\n",
    "    for img in tqdm(images, desc=f\"Creating masks in {split_dir}\"):\n",
    "        width, height = img['width'], img['height']\n",
    "        mask = Image.new('RGB', (width, height), colors['none'])\n",
    "        draw = ImageDraw.Draw(mask)\n",
    "\n",
    "        anns = ann_map.get(img['id'], [])\n",
    "        for ann in anns:\n",
    "            segmentation = ann['segmentation']\n",
    "            label = categories[ann['category_id']]\n",
    "            color = colors.get(label, colors['none'])\n",
    "\n",
    "            for seg in segmentation:\n",
    "                seg_points = np.array(seg).reshape(-1, 2)\n",
    "                draw.polygon([tuple(pt) for pt in seg_points], fill=color)\n",
    "\n",
    "        out_path = os.path.join(mask_dir, img['file_name'].replace('.jpg', '_mask.png'))\n",
    "        mask.save(out_path)\n",
    "\n"
   ]
  },
  {
   "cell_type": "code",
   "execution_count": 150,
   "id": "5e368987-2020-4325-9211-351f813fff5f",
   "metadata": {},
   "outputs": [
    {
     "name": "stderr",
     "output_type": "stream",
     "text": [
      "Creating masks in fruit_dataset/train: 100%|██████████| 179/179 [00:05<00:00, 32.02it/s]\n",
      "Creating masks in fruit_dataset/valid: 100%|██████████| 59/59 [00:01<00:00, 51.19it/s]\n",
      "Creating masks in fruit_dataset/test: 100%|██████████| 65/65 [00:01<00:00, 43.76it/s]\n"
     ]
    }
   ],
   "source": [
    "for split in ['train', 'valid', 'test']:\n",
    "    create_rgb_masks(f\"fruit_dataset/{split}\")"
   ]
  },
  {
   "cell_type": "code",
   "execution_count": 152,
   "id": "9d06dab9-d9d9-459b-bdf7-1bae9354521a",
   "metadata": {},
   "outputs": [
    {
     "name": "stdout",
     "output_type": "stream",
     "text": [
      "✅ Absolute-path data1.yaml created\n"
     ]
    }
   ],
   "source": [
    "import os\n",
    "\n",
    "abs_path = os.path.abspath(\"fruit_dataset\")\n",
    "yaml_content = f'''\n",
    "path: {abs_path}\n",
    "\n",
    "train: {abs_path}/train/images\n",
    "val: {abs_path}/valid/images\n",
    "test: {abs_path}/test/images\n",
    "\n",
    "nc: 4\n",
    "\n",
    "names:\n",
    "  0: none\n",
    "  1: apple\n",
    "  2: banana\n",
    "  3: orange\n",
    "'''\n",
    "\n",
    "\n",
    "with open(os.path.join(\"fruit_dataset\", \"data1.yaml\"), \"w\") as f:\n",
    "    f.write(yaml_content)\n",
    "\n",
    "print(\"✅ Absolute-path data1.yaml created\")"
   ]
  },
  {
   "cell_type": "code",
   "execution_count": 154,
   "id": "03506234-21b8-4d03-baba-3ea218e1260c",
   "metadata": {},
   "outputs": [
    {
     "name": "stdout",
     "output_type": "stream",
     "text": [
      "New https://pypi.org/project/ultralytics/8.3.87 available  Update with 'pip install -U ultralytics'\n",
      "Ultralytics 8.3.86  Python-3.12.4 torch-2.6.0+cu118 CPU (Intel Core(TM) i3-4005U 1.70GHz)\n",
      "\u001b[34m\u001b[1mengine\\trainer: \u001b[0mtask=segment, mode=train, model=yolov8n-seg.pt, data=fruit_dataset/data1.yaml, epochs=30, time=None, patience=100, batch=8, imgsz=416, save=True, save_period=-1, cache=False, device=None, workers=8, project=fruit_detection_1, name=yolov8_fruit_detector_3, exist_ok=False, pretrained=True, optimizer=auto, verbose=True, seed=0, deterministic=True, single_cls=False, rect=False, cos_lr=False, close_mosaic=10, resume=False, amp=True, fraction=1.0, profile=False, freeze=None, multi_scale=False, overlap_mask=True, mask_ratio=4, dropout=0.0, val=True, split=val, save_json=False, save_hybrid=False, conf=None, iou=0.7, max_det=300, half=False, dnn=False, plots=True, source=None, vid_stride=1, stream_buffer=False, visualize=False, augment=False, agnostic_nms=False, classes=None, retina_masks=False, embed=None, show=False, save_frames=False, save_txt=False, save_conf=False, save_crop=False, show_labels=True, show_conf=True, show_boxes=True, line_width=None, format=torchscript, keras=False, optimize=False, int8=False, dynamic=False, simplify=True, opset=None, workspace=None, nms=False, lr0=0.01, lrf=0.01, momentum=0.937, weight_decay=0.0005, warmup_epochs=3.0, warmup_momentum=0.8, warmup_bias_lr=0.1, box=7.5, cls=0.5, dfl=1.5, pose=12.0, kobj=1.0, nbs=64, hsv_h=0.015, hsv_s=0.7, hsv_v=0.4, degrees=0.0, translate=0.1, scale=0.5, shear=0.0, perspective=0.0, flipud=0.0, fliplr=0.5, bgr=0.0, mosaic=1.0, mixup=0.0, copy_paste=0.0, copy_paste_mode=flip, auto_augment=randaugment, erasing=0.4, crop_fraction=1.0, cfg=None, tracker=botsort.yaml, save_dir=fruit_detection_1\\yolov8_fruit_detector_3\n",
      "Overriding model.yaml nc=80 with nc=4\n",
      "\n",
      "                   from  n    params  module                                       arguments                     \n",
      "  0                  -1  1       464  ultralytics.nn.modules.conv.Conv             [3, 16, 3, 2]                 \n",
      "  1                  -1  1      4672  ultralytics.nn.modules.conv.Conv             [16, 32, 3, 2]                \n",
      "  2                  -1  1      7360  ultralytics.nn.modules.block.C2f             [32, 32, 1, True]             \n",
      "  3                  -1  1     18560  ultralytics.nn.modules.conv.Conv             [32, 64, 3, 2]                \n",
      "  4                  -1  2     49664  ultralytics.nn.modules.block.C2f             [64, 64, 2, True]             \n",
      "  5                  -1  1     73984  ultralytics.nn.modules.conv.Conv             [64, 128, 3, 2]               \n",
      "  6                  -1  2    197632  ultralytics.nn.modules.block.C2f             [128, 128, 2, True]           \n",
      "  7                  -1  1    295424  ultralytics.nn.modules.conv.Conv             [128, 256, 3, 2]              \n",
      "  8                  -1  1    460288  ultralytics.nn.modules.block.C2f             [256, 256, 1, True]           \n",
      "  9                  -1  1    164608  ultralytics.nn.modules.block.SPPF            [256, 256, 5]                 \n",
      " 10                  -1  1         0  torch.nn.modules.upsampling.Upsample         [None, 2, 'nearest']          \n",
      " 11             [-1, 6]  1         0  ultralytics.nn.modules.conv.Concat           [1]                           \n",
      " 12                  -1  1    148224  ultralytics.nn.modules.block.C2f             [384, 128, 1]                 \n",
      " 13                  -1  1         0  torch.nn.modules.upsampling.Upsample         [None, 2, 'nearest']          \n",
      " 14             [-1, 4]  1         0  ultralytics.nn.modules.conv.Concat           [1]                           \n",
      " 15                  -1  1     37248  ultralytics.nn.modules.block.C2f             [192, 64, 1]                  \n",
      " 16                  -1  1     36992  ultralytics.nn.modules.conv.Conv             [64, 64, 3, 2]                \n",
      " 17            [-1, 12]  1         0  ultralytics.nn.modules.conv.Concat           [1]                           \n",
      " 18                  -1  1    123648  ultralytics.nn.modules.block.C2f             [192, 128, 1]                 \n",
      " 19                  -1  1    147712  ultralytics.nn.modules.conv.Conv             [128, 128, 3, 2]              \n",
      " 20             [-1, 9]  1         0  ultralytics.nn.modules.conv.Concat           [1]                           \n",
      " 21                  -1  1    493056  ultralytics.nn.modules.block.C2f             [384, 256, 1]                 \n",
      " 22        [15, 18, 21]  1   1004860  ultralytics.nn.modules.head.Segment          [4, 32, 64, [64, 128, 256]]   \n",
      "YOLOv8n-seg summary: 151 layers, 3,264,396 parameters, 3,264,380 gradients, 12.1 GFLOPs\n",
      "\n",
      "Transferred 381/417 items from pretrained weights\n",
      "\u001b[34m\u001b[1mTensorBoard: \u001b[0mStart with 'tensorboard --logdir fruit_detection_1\\yolov8_fruit_detector_3', view at http://localhost:6006/\n",
      "Freezing layer 'model.22.dfl.conv.weight'\n"
     ]
    },
    {
     "name": "stderr",
     "output_type": "stream",
     "text": [
      "\u001b[34m\u001b[1mtrain: \u001b[0mScanning C:\\Users\\user\\fruit_dataset\\train\\labels.cache... 179 images, 0 backgrounds, 0 corrupt: 100%|██████████| 179/179 [00:00<?, ?it/s]\n",
      "\u001b[34m\u001b[1mval: \u001b[0mScanning C:\\Users\\user\\fruit_dataset\\valid\\labels.cache... 59 images, 0 backgrounds, 0 corrupt: 100%|██████████| 59/59 [00:00<?, ?it/s]\n"
     ]
    },
    {
     "name": "stdout",
     "output_type": "stream",
     "text": [
      "Plotting labels to fruit_detection_1\\yolov8_fruit_detector_3\\labels.jpg... \n",
      "\u001b[34m\u001b[1moptimizer:\u001b[0m 'optimizer=auto' found, ignoring 'lr0=0.01' and 'momentum=0.937' and determining best 'optimizer', 'lr0' and 'momentum' automatically... \n",
      "\u001b[34m\u001b[1moptimizer:\u001b[0m AdamW(lr=0.00125, momentum=0.9) with parameter groups 66 weight(decay=0.0), 77 weight(decay=0.0005), 76 bias(decay=0.0)\n",
      "\u001b[34m\u001b[1mTensorBoard: \u001b[0mmodel graph visualization added \n",
      "Image sizes 416 train, 416 val\n",
      "Using 0 dataloader workers\n",
      "Logging results to \u001b[1mfruit_detection_1\\yolov8_fruit_detector_3\u001b[0m\n",
      "Starting training for 30 epochs...\n",
      "\n",
      "      Epoch    GPU_mem   box_loss   seg_loss   cls_loss   dfl_loss  Instances       Size\n"
     ]
    },
    {
     "name": "stderr",
     "output_type": "stream",
     "text": [
      "       1/30         0G      1.423      6.968      3.207        1.6         14        416: 100%|██████████| 23/23 [02:25<00:00,  6.31s/it]\n",
      "                 Class     Images  Instances      Box(P          R      mAP50  mAP50-95)     Mask(P          R      mAP50  mAP50-95): 100%|██████████| 4/4 [00:15<00:00,  3.84s/it]"
     ]
    },
    {
     "name": "stdout",
     "output_type": "stream",
     "text": [
      "                   all         59        109     0.0104      0.849      0.253      0.123   0.000679     0.0583    0.00452   0.000895\n"
     ]
    },
    {
     "name": "stderr",
     "output_type": "stream",
     "text": [
      "\n"
     ]
    },
    {
     "name": "stdout",
     "output_type": "stream",
     "text": [
      "\n",
      "      Epoch    GPU_mem   box_loss   seg_loss   cls_loss   dfl_loss  Instances       Size\n"
     ]
    },
    {
     "name": "stderr",
     "output_type": "stream",
     "text": [
      "       2/30         0G      1.388      4.736      2.709      1.565         12        416: 100%|██████████| 23/23 [02:14<00:00,  5.83s/it]\n",
      "                 Class     Images  Instances      Box(P          R      mAP50  mAP50-95)     Mask(P          R      mAP50  mAP50-95): 100%|██████████| 4/4 [00:14<00:00,  3.72s/it]"
     ]
    },
    {
     "name": "stdout",
     "output_type": "stream",
     "text": [
      "                   all         59        109      0.716      0.242      0.351      0.221      0.554      0.175      0.202     0.0601\n"
     ]
    },
    {
     "name": "stderr",
     "output_type": "stream",
     "text": [
      "\n"
     ]
    },
    {
     "name": "stdout",
     "output_type": "stream",
     "text": [
      "\n",
      "      Epoch    GPU_mem   box_loss   seg_loss   cls_loss   dfl_loss  Instances       Size\n"
     ]
    },
    {
     "name": "stderr",
     "output_type": "stream",
     "text": [
      "       3/30         0G       1.45      4.557       2.28      1.618         11        416: 100%|██████████| 23/23 [02:06<00:00,  5.49s/it]\n",
      "                 Class     Images  Instances      Box(P          R      mAP50  mAP50-95)     Mask(P          R      mAP50  mAP50-95): 100%|██████████| 4/4 [00:14<00:00,  3.64s/it]"
     ]
    },
    {
     "name": "stdout",
     "output_type": "stream",
     "text": [
      "                   all         59        109      0.391      0.393      0.339      0.187      0.304      0.276      0.176     0.0432\n"
     ]
    },
    {
     "name": "stderr",
     "output_type": "stream",
     "text": [
      "\n"
     ]
    },
    {
     "name": "stdout",
     "output_type": "stream",
     "text": [
      "\n",
      "      Epoch    GPU_mem   box_loss   seg_loss   cls_loss   dfl_loss  Instances       Size\n"
     ]
    },
    {
     "name": "stderr",
     "output_type": "stream",
     "text": [
      "       4/30         0G      1.478      4.392      2.016      1.628         15        416: 100%|██████████| 23/23 [02:05<00:00,  5.45s/it]\n",
      "                 Class     Images  Instances      Box(P          R      mAP50  mAP50-95)     Mask(P          R      mAP50  mAP50-95): 100%|██████████| 4/4 [00:15<00:00,  3.90s/it]"
     ]
    },
    {
     "name": "stdout",
     "output_type": "stream",
     "text": [
      "                   all         59        109      0.381      0.543      0.401      0.237      0.133      0.051     0.0402    0.00567\n"
     ]
    },
    {
     "name": "stderr",
     "output_type": "stream",
     "text": [
      "\n"
     ]
    },
    {
     "name": "stdout",
     "output_type": "stream",
     "text": [
      "\n",
      "      Epoch    GPU_mem   box_loss   seg_loss   cls_loss   dfl_loss  Instances       Size\n"
     ]
    },
    {
     "name": "stderr",
     "output_type": "stream",
     "text": [
      "       5/30         0G      1.498      4.394      1.963      1.633         21        416: 100%|██████████| 23/23 [02:08<00:00,  5.57s/it]\n",
      "                 Class     Images  Instances      Box(P          R      mAP50  mAP50-95)     Mask(P          R      mAP50  mAP50-95): 100%|██████████| 4/4 [00:15<00:00,  3.90s/it]"
     ]
    },
    {
     "name": "stdout",
     "output_type": "stream",
     "text": [
      "                   all         59        109      0.415      0.577      0.482      0.253      0.275      0.148      0.133     0.0327\n"
     ]
    },
    {
     "name": "stderr",
     "output_type": "stream",
     "text": [
      "\n"
     ]
    },
    {
     "name": "stdout",
     "output_type": "stream",
     "text": [
      "\n",
      "      Epoch    GPU_mem   box_loss   seg_loss   cls_loss   dfl_loss  Instances       Size\n"
     ]
    },
    {
     "name": "stderr",
     "output_type": "stream",
     "text": [
      "       6/30         0G      1.512      4.405      1.942      1.633         12        416: 100%|██████████| 23/23 [02:09<00:00,  5.62s/it]\n",
      "                 Class     Images  Instances      Box(P          R      mAP50  mAP50-95)     Mask(P          R      mAP50  mAP50-95): 100%|██████████| 4/4 [00:15<00:00,  3.82s/it]"
     ]
    },
    {
     "name": "stdout",
     "output_type": "stream",
     "text": [
      "                   all         59        109      0.502      0.634      0.568      0.324      0.444      0.397      0.353      0.103\n"
     ]
    },
    {
     "name": "stderr",
     "output_type": "stream",
     "text": [
      "\n"
     ]
    },
    {
     "name": "stdout",
     "output_type": "stream",
     "text": [
      "\n",
      "      Epoch    GPU_mem   box_loss   seg_loss   cls_loss   dfl_loss  Instances       Size\n"
     ]
    },
    {
     "name": "stderr",
     "output_type": "stream",
     "text": [
      "       7/30         0G      1.418      4.299      1.737      1.579         10        416: 100%|██████████| 23/23 [02:06<00:00,  5.49s/it]\n",
      "                 Class     Images  Instances      Box(P          R      mAP50  mAP50-95)     Mask(P          R      mAP50  mAP50-95): 100%|██████████| 4/4 [00:14<00:00,  3.69s/it]"
     ]
    },
    {
     "name": "stdout",
     "output_type": "stream",
     "text": [
      "                   all         59        109      0.625      0.608      0.657      0.361      0.475      0.448      0.412     0.0809\n"
     ]
    },
    {
     "name": "stderr",
     "output_type": "stream",
     "text": [
      "\n"
     ]
    },
    {
     "name": "stdout",
     "output_type": "stream",
     "text": [
      "\n",
      "      Epoch    GPU_mem   box_loss   seg_loss   cls_loss   dfl_loss  Instances       Size\n"
     ]
    },
    {
     "name": "stderr",
     "output_type": "stream",
     "text": [
      "       8/30         0G      1.408      4.241      1.662      1.571         18        416: 100%|██████████| 23/23 [02:04<00:00,  5.43s/it]\n",
      "                 Class     Images  Instances      Box(P          R      mAP50  mAP50-95)     Mask(P          R      mAP50  mAP50-95): 100%|██████████| 4/4 [00:14<00:00,  3.73s/it]"
     ]
    },
    {
     "name": "stdout",
     "output_type": "stream",
     "text": [
      "                   all         59        109      0.778      0.584      0.687      0.416       0.58      0.411      0.405      0.102\n"
     ]
    },
    {
     "name": "stderr",
     "output_type": "stream",
     "text": [
      "\n"
     ]
    },
    {
     "name": "stdout",
     "output_type": "stream",
     "text": [
      "\n",
      "      Epoch    GPU_mem   box_loss   seg_loss   cls_loss   dfl_loss  Instances       Size\n"
     ]
    },
    {
     "name": "stderr",
     "output_type": "stream",
     "text": [
      "       9/30         0G      1.397      4.278      1.642      1.549         31        416: 100%|██████████| 23/23 [02:04<00:00,  5.41s/it]\n",
      "                 Class     Images  Instances      Box(P          R      mAP50  mAP50-95)     Mask(P          R      mAP50  mAP50-95): 100%|██████████| 4/4 [00:14<00:00,  3.67s/it]"
     ]
    },
    {
     "name": "stdout",
     "output_type": "stream",
     "text": [
      "                   all         59        109      0.693      0.604       0.69      0.434      0.551      0.482      0.487      0.166\n"
     ]
    },
    {
     "name": "stderr",
     "output_type": "stream",
     "text": [
      "\n"
     ]
    },
    {
     "name": "stdout",
     "output_type": "stream",
     "text": [
      "\n",
      "      Epoch    GPU_mem   box_loss   seg_loss   cls_loss   dfl_loss  Instances       Size\n"
     ]
    },
    {
     "name": "stderr",
     "output_type": "stream",
     "text": [
      "      10/30         0G      1.336      4.102      1.498      1.515         18        416: 100%|██████████| 23/23 [02:07<00:00,  5.56s/it]\n",
      "                 Class     Images  Instances      Box(P          R      mAP50  mAP50-95)     Mask(P          R      mAP50  mAP50-95): 100%|██████████| 4/4 [00:14<00:00,  3.71s/it]"
     ]
    },
    {
     "name": "stdout",
     "output_type": "stream",
     "text": [
      "                   all         59        109      0.751      0.585      0.705       0.43      0.615      0.509      0.491      0.165\n"
     ]
    },
    {
     "name": "stderr",
     "output_type": "stream",
     "text": [
      "\n"
     ]
    },
    {
     "name": "stdout",
     "output_type": "stream",
     "text": [
      "\n",
      "      Epoch    GPU_mem   box_loss   seg_loss   cls_loss   dfl_loss  Instances       Size\n"
     ]
    },
    {
     "name": "stderr",
     "output_type": "stream",
     "text": [
      "      11/30         0G      1.375      4.137      1.546      1.522         23        416: 100%|██████████| 23/23 [02:09<00:00,  5.64s/it]\n",
      "                 Class     Images  Instances      Box(P          R      mAP50  mAP50-95)     Mask(P          R      mAP50  mAP50-95): 100%|██████████| 4/4 [00:15<00:00,  3.87s/it]"
     ]
    },
    {
     "name": "stdout",
     "output_type": "stream",
     "text": [
      "                   all         59        109      0.718      0.608      0.714      0.447       0.66      0.403      0.443      0.163\n"
     ]
    },
    {
     "name": "stderr",
     "output_type": "stream",
     "text": [
      "\n"
     ]
    },
    {
     "name": "stdout",
     "output_type": "stream",
     "text": [
      "\n",
      "      Epoch    GPU_mem   box_loss   seg_loss   cls_loss   dfl_loss  Instances       Size\n"
     ]
    },
    {
     "name": "stderr",
     "output_type": "stream",
     "text": [
      "      12/30         0G       1.33      4.008      1.463      1.455         15        416: 100%|██████████| 23/23 [02:06<00:00,  5.48s/it]\n",
      "                 Class     Images  Instances      Box(P          R      mAP50  mAP50-95)     Mask(P          R      mAP50  mAP50-95): 100%|██████████| 4/4 [00:16<00:00,  4.00s/it]"
     ]
    },
    {
     "name": "stdout",
     "output_type": "stream",
     "text": [
      "                   all         59        109      0.727      0.676      0.718      0.463      0.543      0.483       0.43      0.149\n"
     ]
    },
    {
     "name": "stderr",
     "output_type": "stream",
     "text": [
      "\n"
     ]
    },
    {
     "name": "stdout",
     "output_type": "stream",
     "text": [
      "\n",
      "      Epoch    GPU_mem   box_loss   seg_loss   cls_loss   dfl_loss  Instances       Size\n"
     ]
    },
    {
     "name": "stderr",
     "output_type": "stream",
     "text": [
      "      13/30         0G      1.293      4.099      1.498      1.458         20        416: 100%|██████████| 23/23 [02:08<00:00,  5.59s/it]\n",
      "                 Class     Images  Instances      Box(P          R      mAP50  mAP50-95)     Mask(P          R      mAP50  mAP50-95): 100%|██████████| 4/4 [00:15<00:00,  3.98s/it]"
     ]
    },
    {
     "name": "stdout",
     "output_type": "stream",
     "text": [
      "                   all         59        109      0.754      0.701      0.732       0.47       0.59      0.468      0.485      0.183\n"
     ]
    },
    {
     "name": "stderr",
     "output_type": "stream",
     "text": [
      "\n"
     ]
    },
    {
     "name": "stdout",
     "output_type": "stream",
     "text": [
      "\n",
      "      Epoch    GPU_mem   box_loss   seg_loss   cls_loss   dfl_loss  Instances       Size\n"
     ]
    },
    {
     "name": "stderr",
     "output_type": "stream",
     "text": [
      "      14/30         0G      1.302      4.066      1.502      1.459         10        416: 100%|██████████| 23/23 [02:02<00:00,  5.31s/it]\n",
      "                 Class     Images  Instances      Box(P          R      mAP50  mAP50-95)     Mask(P          R      mAP50  mAP50-95): 100%|██████████| 4/4 [00:15<00:00,  3.90s/it]"
     ]
    },
    {
     "name": "stdout",
     "output_type": "stream",
     "text": [
      "                   all         59        109        0.8       0.68      0.742      0.449      0.614      0.481      0.505      0.208\n"
     ]
    },
    {
     "name": "stderr",
     "output_type": "stream",
     "text": [
      "\n"
     ]
    },
    {
     "name": "stdout",
     "output_type": "stream",
     "text": [
      "\n",
      "      Epoch    GPU_mem   box_loss   seg_loss   cls_loss   dfl_loss  Instances       Size\n"
     ]
    },
    {
     "name": "stderr",
     "output_type": "stream",
     "text": [
      "      15/30         0G      1.272       3.91      1.441      1.455         19        416: 100%|██████████| 23/23 [02:06<00:00,  5.50s/it]\n",
      "                 Class     Images  Instances      Box(P          R      mAP50  mAP50-95)     Mask(P          R      mAP50  mAP50-95): 100%|██████████| 4/4 [00:15<00:00,  3.77s/it]"
     ]
    },
    {
     "name": "stdout",
     "output_type": "stream",
     "text": [
      "                   all         59        109       0.73      0.761      0.757      0.484      0.475      0.326      0.322     0.0914\n"
     ]
    },
    {
     "name": "stderr",
     "output_type": "stream",
     "text": [
      "\n"
     ]
    },
    {
     "name": "stdout",
     "output_type": "stream",
     "text": [
      "\n",
      "      Epoch    GPU_mem   box_loss   seg_loss   cls_loss   dfl_loss  Instances       Size\n"
     ]
    },
    {
     "name": "stderr",
     "output_type": "stream",
     "text": [
      "      16/30         0G      1.189      3.895      1.316      1.394         13        416: 100%|██████████| 23/23 [02:08<00:00,  5.58s/it]\n",
      "                 Class     Images  Instances      Box(P          R      mAP50  mAP50-95)     Mask(P          R      mAP50  mAP50-95): 100%|██████████| 4/4 [00:20<00:00,  5.01s/it]"
     ]
    },
    {
     "name": "stdout",
     "output_type": "stream",
     "text": [
      "                   all         59        109      0.766      0.667      0.782      0.513      0.645      0.396       0.41      0.096\n"
     ]
    },
    {
     "name": "stderr",
     "output_type": "stream",
     "text": [
      "\n"
     ]
    },
    {
     "name": "stdout",
     "output_type": "stream",
     "text": [
      "\n",
      "      Epoch    GPU_mem   box_loss   seg_loss   cls_loss   dfl_loss  Instances       Size\n"
     ]
    },
    {
     "name": "stderr",
     "output_type": "stream",
     "text": [
      "      17/30         0G       1.19      3.955      1.335      1.385         14        416: 100%|██████████| 23/23 [02:40<00:00,  6.99s/it]\n",
      "                 Class     Images  Instances      Box(P          R      mAP50  mAP50-95)     Mask(P          R      mAP50  mAP50-95): 100%|██████████| 4/4 [00:15<00:00,  3.98s/it]"
     ]
    },
    {
     "name": "stdout",
     "output_type": "stream",
     "text": [
      "                   all         59        109      0.836      0.682      0.801      0.513      0.671       0.46      0.456      0.133\n"
     ]
    },
    {
     "name": "stderr",
     "output_type": "stream",
     "text": [
      "\n"
     ]
    },
    {
     "name": "stdout",
     "output_type": "stream",
     "text": [
      "\n",
      "      Epoch    GPU_mem   box_loss   seg_loss   cls_loss   dfl_loss  Instances       Size\n"
     ]
    },
    {
     "name": "stderr",
     "output_type": "stream",
     "text": [
      "      18/30         0G      1.145      3.957      1.309      1.366         11        416: 100%|██████████| 23/23 [02:11<00:00,  5.70s/it]\n",
      "                 Class     Images  Instances      Box(P          R      mAP50  mAP50-95)     Mask(P          R      mAP50  mAP50-95): 100%|██████████| 4/4 [00:16<00:00,  4.17s/it]"
     ]
    },
    {
     "name": "stdout",
     "output_type": "stream",
     "text": [
      "                   all         59        109      0.779      0.746      0.799       0.52      0.554      0.521      0.481      0.145\n"
     ]
    },
    {
     "name": "stderr",
     "output_type": "stream",
     "text": [
      "\n"
     ]
    },
    {
     "name": "stdout",
     "output_type": "stream",
     "text": [
      "\n",
      "      Epoch    GPU_mem   box_loss   seg_loss   cls_loss   dfl_loss  Instances       Size\n"
     ]
    },
    {
     "name": "stderr",
     "output_type": "stream",
     "text": [
      "      19/30         0G      1.169      3.915      1.371      1.385         12        416: 100%|██████████| 23/23 [02:07<00:00,  5.54s/it]\n",
      "                 Class     Images  Instances      Box(P          R      mAP50  mAP50-95)     Mask(P          R      mAP50  mAP50-95): 100%|██████████| 4/4 [00:15<00:00,  3.94s/it]"
     ]
    },
    {
     "name": "stdout",
     "output_type": "stream",
     "text": [
      "                   all         59        109      0.844        0.7      0.797      0.518      0.604      0.534      0.521      0.173\n"
     ]
    },
    {
     "name": "stderr",
     "output_type": "stream",
     "text": [
      "\n"
     ]
    },
    {
     "name": "stdout",
     "output_type": "stream",
     "text": [
      "\n",
      "      Epoch    GPU_mem   box_loss   seg_loss   cls_loss   dfl_loss  Instances       Size\n"
     ]
    },
    {
     "name": "stderr",
     "output_type": "stream",
     "text": [
      "      20/30         0G      1.116      3.869      1.272      1.331         14        416: 100%|██████████| 23/23 [02:03<00:00,  5.36s/it]\n",
      "                 Class     Images  Instances      Box(P          R      mAP50  mAP50-95)     Mask(P          R      mAP50  mAP50-95): 100%|██████████| 4/4 [00:16<00:00,  4.11s/it]"
     ]
    },
    {
     "name": "stdout",
     "output_type": "stream",
     "text": [
      "                   all         59        109      0.686      0.686      0.729      0.483      0.575      0.457      0.448      0.139\n"
     ]
    },
    {
     "name": "stderr",
     "output_type": "stream",
     "text": [
      "\n"
     ]
    },
    {
     "name": "stdout",
     "output_type": "stream",
     "text": [
      "Closing dataloader mosaic\n",
      "\n",
      "      Epoch    GPU_mem   box_loss   seg_loss   cls_loss   dfl_loss  Instances       Size\n"
     ]
    },
    {
     "name": "stderr",
     "output_type": "stream",
     "text": [
      "      21/30         0G      1.072      3.941      1.496      1.357          4        416: 100%|██████████| 23/23 [01:59<00:00,  5.22s/it]\n",
      "                 Class     Images  Instances      Box(P          R      mAP50  mAP50-95)     Mask(P          R      mAP50  mAP50-95): 100%|██████████| 4/4 [00:16<00:00,  4.02s/it]"
     ]
    },
    {
     "name": "stdout",
     "output_type": "stream",
     "text": [
      "                   all         59        109      0.683      0.662      0.736       0.45      0.616      0.493      0.477       0.16\n"
     ]
    },
    {
     "name": "stderr",
     "output_type": "stream",
     "text": [
      "\n"
     ]
    },
    {
     "name": "stdout",
     "output_type": "stream",
     "text": [
      "\n",
      "      Epoch    GPU_mem   box_loss   seg_loss   cls_loss   dfl_loss  Instances       Size\n"
     ]
    },
    {
     "name": "stderr",
     "output_type": "stream",
     "text": [
      "      22/30         0G     0.9755      3.832      1.335      1.262          6        416: 100%|██████████| 23/23 [01:58<00:00,  5.13s/it]\n",
      "                 Class     Images  Instances      Box(P          R      mAP50  mAP50-95)     Mask(P          R      mAP50  mAP50-95): 100%|██████████| 4/4 [00:15<00:00,  3.92s/it]"
     ]
    },
    {
     "name": "stdout",
     "output_type": "stream",
     "text": [
      "                   all         59        109      0.794      0.655      0.763       0.47      0.623      0.534      0.544      0.196\n"
     ]
    },
    {
     "name": "stderr",
     "output_type": "stream",
     "text": [
      "\n"
     ]
    },
    {
     "name": "stdout",
     "output_type": "stream",
     "text": [
      "\n",
      "      Epoch    GPU_mem   box_loss   seg_loss   cls_loss   dfl_loss  Instances       Size\n"
     ]
    },
    {
     "name": "stderr",
     "output_type": "stream",
     "text": [
      "      23/30         0G     0.9854      3.829       1.28      1.248          5        416: 100%|██████████| 23/23 [01:58<00:00,  5.13s/it]\n",
      "                 Class     Images  Instances      Box(P          R      mAP50  mAP50-95)     Mask(P          R      mAP50  mAP50-95): 100%|██████████| 4/4 [00:16<00:00,  4.03s/it]"
     ]
    },
    {
     "name": "stdout",
     "output_type": "stream",
     "text": [
      "                   all         59        109      0.809      0.689      0.818      0.528      0.761      0.473      0.557       0.16\n"
     ]
    },
    {
     "name": "stderr",
     "output_type": "stream",
     "text": [
      "\n"
     ]
    },
    {
     "name": "stdout",
     "output_type": "stream",
     "text": [
      "\n",
      "      Epoch    GPU_mem   box_loss   seg_loss   cls_loss   dfl_loss  Instances       Size\n"
     ]
    },
    {
     "name": "stderr",
     "output_type": "stream",
     "text": [
      "      24/30         0G      0.936      3.716      1.196      1.258          3        416: 100%|██████████| 23/23 [02:06<00:00,  5.50s/it]\n",
      "                 Class     Images  Instances      Box(P          R      mAP50  mAP50-95)     Mask(P          R      mAP50  mAP50-95): 100%|██████████| 4/4 [00:15<00:00,  3.91s/it]"
     ]
    },
    {
     "name": "stdout",
     "output_type": "stream",
     "text": [
      "                   all         59        109      0.832      0.687      0.811      0.533      0.713      0.497      0.522      0.144\n"
     ]
    },
    {
     "name": "stderr",
     "output_type": "stream",
     "text": [
      "\n"
     ]
    },
    {
     "name": "stdout",
     "output_type": "stream",
     "text": [
      "\n",
      "      Epoch    GPU_mem   box_loss   seg_loss   cls_loss   dfl_loss  Instances       Size\n"
     ]
    },
    {
     "name": "stderr",
     "output_type": "stream",
     "text": [
      "      25/30         0G     0.9123      3.658      1.118      1.235          5        416: 100%|██████████| 23/23 [02:05<00:00,  5.46s/it]\n",
      "                 Class     Images  Instances      Box(P          R      mAP50  mAP50-95)     Mask(P          R      mAP50  mAP50-95): 100%|██████████| 4/4 [00:19<00:00,  4.90s/it]"
     ]
    },
    {
     "name": "stdout",
     "output_type": "stream",
     "text": [
      "                   all         59        109      0.851      0.687      0.818       0.55      0.742       0.55      0.588      0.167\n"
     ]
    },
    {
     "name": "stderr",
     "output_type": "stream",
     "text": [
      "\n"
     ]
    },
    {
     "name": "stdout",
     "output_type": "stream",
     "text": [
      "\n",
      "      Epoch    GPU_mem   box_loss   seg_loss   cls_loss   dfl_loss  Instances       Size\n"
     ]
    },
    {
     "name": "stderr",
     "output_type": "stream",
     "text": [
      "      26/30         0G     0.8995      3.569      1.105       1.21          6        416: 100%|██████████| 23/23 [02:04<00:00,  5.43s/it]\n",
      "                 Class     Images  Instances      Box(P          R      mAP50  mAP50-95)     Mask(P          R      mAP50  mAP50-95): 100%|██████████| 4/4 [00:17<00:00,  4.26s/it]"
     ]
    },
    {
     "name": "stdout",
     "output_type": "stream",
     "text": [
      "                   all         59        109      0.878      0.668      0.821      0.527      0.746      0.551      0.576      0.199\n"
     ]
    },
    {
     "name": "stderr",
     "output_type": "stream",
     "text": [
      "\n"
     ]
    },
    {
     "name": "stdout",
     "output_type": "stream",
     "text": [
      "\n",
      "      Epoch    GPU_mem   box_loss   seg_loss   cls_loss   dfl_loss  Instances       Size\n"
     ]
    },
    {
     "name": "stderr",
     "output_type": "stream",
     "text": [
      "      27/30         0G     0.8963      3.605       1.14      1.221          6        416: 100%|██████████| 23/23 [01:59<00:00,  5.18s/it]\n",
      "                 Class     Images  Instances      Box(P          R      mAP50  mAP50-95)     Mask(P          R      mAP50  mAP50-95): 100%|██████████| 4/4 [00:16<00:00,  4.18s/it]"
     ]
    },
    {
     "name": "stdout",
     "output_type": "stream",
     "text": [
      "                   all         59        109       0.86      0.674       0.82      0.536      0.722      0.532       0.56      0.187\n"
     ]
    },
    {
     "name": "stderr",
     "output_type": "stream",
     "text": [
      "\n"
     ]
    },
    {
     "name": "stdout",
     "output_type": "stream",
     "text": [
      "\n",
      "      Epoch    GPU_mem   box_loss   seg_loss   cls_loss   dfl_loss  Instances       Size\n"
     ]
    },
    {
     "name": "stderr",
     "output_type": "stream",
     "text": [
      "      28/30         0G     0.8712      3.552      1.097      1.192          5        416: 100%|██████████| 23/23 [02:00<00:00,  5.24s/it]\n",
      "                 Class     Images  Instances      Box(P          R      mAP50  mAP50-95)     Mask(P          R      mAP50  mAP50-95): 100%|██████████| 4/4 [00:16<00:00,  4.21s/it]"
     ]
    },
    {
     "name": "stdout",
     "output_type": "stream",
     "text": [
      "                   all         59        109      0.778      0.753      0.825      0.544       0.68      0.518      0.529      0.178\n"
     ]
    },
    {
     "name": "stderr",
     "output_type": "stream",
     "text": [
      "\n"
     ]
    },
    {
     "name": "stdout",
     "output_type": "stream",
     "text": [
      "\n",
      "      Epoch    GPU_mem   box_loss   seg_loss   cls_loss   dfl_loss  Instances       Size\n"
     ]
    },
    {
     "name": "stderr",
     "output_type": "stream",
     "text": [
      "      29/30         0G     0.8741      3.556      1.104      1.213          5        416: 100%|██████████| 23/23 [01:58<00:00,  5.17s/it]\n",
      "                 Class     Images  Instances      Box(P          R      mAP50  mAP50-95)     Mask(P          R      mAP50  mAP50-95): 100%|██████████| 4/4 [00:16<00:00,  4.13s/it]"
     ]
    },
    {
     "name": "stdout",
     "output_type": "stream",
     "text": [
      "                   all         59        109      0.811      0.761       0.84      0.554      0.682      0.512      0.535       0.17\n"
     ]
    },
    {
     "name": "stderr",
     "output_type": "stream",
     "text": [
      "\n"
     ]
    },
    {
     "name": "stdout",
     "output_type": "stream",
     "text": [
      "\n",
      "      Epoch    GPU_mem   box_loss   seg_loss   cls_loss   dfl_loss  Instances       Size\n"
     ]
    },
    {
     "name": "stderr",
     "output_type": "stream",
     "text": [
      "      30/30         0G     0.8601      3.511      1.042      1.185         14        416: 100%|██████████| 23/23 [01:56<00:00,  5.08s/it]\n",
      "                 Class     Images  Instances      Box(P          R      mAP50  mAP50-95)     Mask(P          R      mAP50  mAP50-95): 100%|██████████| 4/4 [00:16<00:00,  4.04s/it]"
     ]
    },
    {
     "name": "stdout",
     "output_type": "stream",
     "text": [
      "                   all         59        109      0.797      0.767      0.839      0.555        0.6      0.591      0.544       0.17\n"
     ]
    },
    {
     "name": "stderr",
     "output_type": "stream",
     "text": [
      "\n"
     ]
    },
    {
     "name": "stdout",
     "output_type": "stream",
     "text": [
      "\n",
      "30 epochs completed in 1.229 hours.\n",
      "Optimizer stripped from fruit_detection_1\\yolov8_fruit_detector_3\\weights\\last.pt, 6.7MB\n",
      "Optimizer stripped from fruit_detection_1\\yolov8_fruit_detector_3\\weights\\best.pt, 6.7MB\n",
      "\n",
      "Validating fruit_detection_1\\yolov8_fruit_detector_3\\weights\\best.pt...\n",
      "Ultralytics 8.3.86  Python-3.12.4 torch-2.6.0+cu118 CPU (Intel Core(TM) i3-4005U 1.70GHz)\n",
      "YOLOv8n-seg summary (fused): 85 layers, 3,258,844 parameters, 0 gradients, 12.0 GFLOPs\n"
     ]
    },
    {
     "name": "stderr",
     "output_type": "stream",
     "text": [
      "                 Class     Images  Instances      Box(P          R      mAP50  mAP50-95)     Mask(P          R      mAP50  mAP50-95): 100%|██████████| 4/4 [00:18<00:00,  4.74s/it]\n"
     ]
    },
    {
     "name": "stdout",
     "output_type": "stream",
     "text": [
      "                   all         59        109      0.878      0.668      0.822      0.527      0.746      0.551      0.576      0.199\n",
      "                 apple         23         30      0.848      0.667      0.802      0.605      0.914        0.7      0.829      0.311\n",
      "                banana         25         51      0.856      0.588       0.78      0.451      0.392       0.24      0.181     0.0391\n",
      "                orange         16         28       0.93       0.75      0.882      0.524      0.933      0.714      0.719      0.246\n",
      "Speed: 5.0ms preprocess, 217.4ms inference, 0.0ms loss, 9.6ms postprocess per image\n",
      "Results saved to \u001b[1mfruit_detection_1\\yolov8_fruit_detector_3\u001b[0m\n"
     ]
    },
    {
     "data": {
      "text/plain": [
       "ultralytics.utils.metrics.SegmentMetrics object with attributes:\n",
       "\n",
       "ap_class_index: array([1, 2, 3])\n",
       "box: ultralytics.utils.metrics.Metric object\n",
       "confusion_matrix: <ultralytics.utils.metrics.ConfusionMatrix object at 0x00000186C4DCBE60>\n",
       "curves: ['Precision-Recall(B)', 'F1-Confidence(B)', 'Precision-Confidence(B)', 'Recall-Confidence(B)', 'Precision-Recall(M)', 'F1-Confidence(M)', 'Precision-Confidence(M)', 'Recall-Confidence(M)']\n",
       "curves_results: [[array([          0,    0.001001,    0.002002,    0.003003,    0.004004,    0.005005,    0.006006,    0.007007,    0.008008,    0.009009,     0.01001,    0.011011,    0.012012,    0.013013,    0.014014,    0.015015,    0.016016,    0.017017,    0.018018,    0.019019,     0.02002,    0.021021,    0.022022,    0.023023,\n",
       "          0.024024,    0.025025,    0.026026,    0.027027,    0.028028,    0.029029,     0.03003,    0.031031,    0.032032,    0.033033,    0.034034,    0.035035,    0.036036,    0.037037,    0.038038,    0.039039,     0.04004,    0.041041,    0.042042,    0.043043,    0.044044,    0.045045,    0.046046,    0.047047,\n",
       "          0.048048,    0.049049,     0.05005,    0.051051,    0.052052,    0.053053,    0.054054,    0.055055,    0.056056,    0.057057,    0.058058,    0.059059,     0.06006,    0.061061,    0.062062,    0.063063,    0.064064,    0.065065,    0.066066,    0.067067,    0.068068,    0.069069,     0.07007,    0.071071,\n",
       "          0.072072,    0.073073,    0.074074,    0.075075,    0.076076,    0.077077,    0.078078,    0.079079,     0.08008,    0.081081,    0.082082,    0.083083,    0.084084,    0.085085,    0.086086,    0.087087,    0.088088,    0.089089,     0.09009,    0.091091,    0.092092,    0.093093,    0.094094,    0.095095,\n",
       "          0.096096,    0.097097,    0.098098,    0.099099,      0.1001,      0.1011,      0.1021,      0.1031,      0.1041,     0.10511,     0.10611,     0.10711,     0.10811,     0.10911,     0.11011,     0.11111,     0.11211,     0.11311,     0.11411,     0.11512,     0.11612,     0.11712,     0.11812,     0.11912,\n",
       "           0.12012,     0.12112,     0.12212,     0.12312,     0.12412,     0.12513,     0.12613,     0.12713,     0.12813,     0.12913,     0.13013,     0.13113,     0.13213,     0.13313,     0.13413,     0.13514,     0.13614,     0.13714,     0.13814,     0.13914,     0.14014,     0.14114,     0.14214,     0.14314,\n",
       "           0.14414,     0.14515,     0.14615,     0.14715,     0.14815,     0.14915,     0.15015,     0.15115,     0.15215,     0.15315,     0.15415,     0.15516,     0.15616,     0.15716,     0.15816,     0.15916,     0.16016,     0.16116,     0.16216,     0.16316,     0.16416,     0.16517,     0.16617,     0.16717,\n",
       "           0.16817,     0.16917,     0.17017,     0.17117,     0.17217,     0.17317,     0.17417,     0.17518,     0.17618,     0.17718,     0.17818,     0.17918,     0.18018,     0.18118,     0.18218,     0.18318,     0.18418,     0.18519,     0.18619,     0.18719,     0.18819,     0.18919,     0.19019,     0.19119,\n",
       "           0.19219,     0.19319,     0.19419,      0.1952,      0.1962,      0.1972,      0.1982,      0.1992,      0.2002,      0.2012,      0.2022,      0.2032,      0.2042,     0.20521,     0.20621,     0.20721,     0.20821,     0.20921,     0.21021,     0.21121,     0.21221,     0.21321,     0.21421,     0.21522,\n",
       "           0.21622,     0.21722,     0.21822,     0.21922,     0.22022,     0.22122,     0.22222,     0.22322,     0.22422,     0.22523,     0.22623,     0.22723,     0.22823,     0.22923,     0.23023,     0.23123,     0.23223,     0.23323,     0.23423,     0.23524,     0.23624,     0.23724,     0.23824,     0.23924,\n",
       "           0.24024,     0.24124,     0.24224,     0.24324,     0.24424,     0.24525,     0.24625,     0.24725,     0.24825,     0.24925,     0.25025,     0.25125,     0.25225,     0.25325,     0.25425,     0.25526,     0.25626,     0.25726,     0.25826,     0.25926,     0.26026,     0.26126,     0.26226,     0.26326,\n",
       "           0.26426,     0.26527,     0.26627,     0.26727,     0.26827,     0.26927,     0.27027,     0.27127,     0.27227,     0.27327,     0.27427,     0.27528,     0.27628,     0.27728,     0.27828,     0.27928,     0.28028,     0.28128,     0.28228,     0.28328,     0.28428,     0.28529,     0.28629,     0.28729,\n",
       "           0.28829,     0.28929,     0.29029,     0.29129,     0.29229,     0.29329,     0.29429,      0.2953,      0.2963,      0.2973,      0.2983,      0.2993,      0.3003,      0.3013,      0.3023,      0.3033,      0.3043,     0.30531,     0.30631,     0.30731,     0.30831,     0.30931,     0.31031,     0.31131,\n",
       "           0.31231,     0.31331,     0.31431,     0.31532,     0.31632,     0.31732,     0.31832,     0.31932,     0.32032,     0.32132,     0.32232,     0.32332,     0.32432,     0.32533,     0.32633,     0.32733,     0.32833,     0.32933,     0.33033,     0.33133,     0.33233,     0.33333,     0.33433,     0.33534,\n",
       "           0.33634,     0.33734,     0.33834,     0.33934,     0.34034,     0.34134,     0.34234,     0.34334,     0.34434,     0.34535,     0.34635,     0.34735,     0.34835,     0.34935,     0.35035,     0.35135,     0.35235,     0.35335,     0.35435,     0.35536,     0.35636,     0.35736,     0.35836,     0.35936,\n",
       "           0.36036,     0.36136,     0.36236,     0.36336,     0.36436,     0.36537,     0.36637,     0.36737,     0.36837,     0.36937,     0.37037,     0.37137,     0.37237,     0.37337,     0.37437,     0.37538,     0.37638,     0.37738,     0.37838,     0.37938,     0.38038,     0.38138,     0.38238,     0.38338,\n",
       "           0.38438,     0.38539,     0.38639,     0.38739,     0.38839,     0.38939,     0.39039,     0.39139,     0.39239,     0.39339,     0.39439,      0.3954,      0.3964,      0.3974,      0.3984,      0.3994,      0.4004,      0.4014,      0.4024,      0.4034,      0.4044,     0.40541,     0.40641,     0.40741,\n",
       "           0.40841,     0.40941,     0.41041,     0.41141,     0.41241,     0.41341,     0.41441,     0.41542,     0.41642,     0.41742,     0.41842,     0.41942,     0.42042,     0.42142,     0.42242,     0.42342,     0.42442,     0.42543,     0.42643,     0.42743,     0.42843,     0.42943,     0.43043,     0.43143,\n",
       "           0.43243,     0.43343,     0.43443,     0.43544,     0.43644,     0.43744,     0.43844,     0.43944,     0.44044,     0.44144,     0.44244,     0.44344,     0.44444,     0.44545,     0.44645,     0.44745,     0.44845,     0.44945,     0.45045,     0.45145,     0.45245,     0.45345,     0.45445,     0.45546,\n",
       "           0.45646,     0.45746,     0.45846,     0.45946,     0.46046,     0.46146,     0.46246,     0.46346,     0.46446,     0.46547,     0.46647,     0.46747,     0.46847,     0.46947,     0.47047,     0.47147,     0.47247,     0.47347,     0.47447,     0.47548,     0.47648,     0.47748,     0.47848,     0.47948,\n",
       "           0.48048,     0.48148,     0.48248,     0.48348,     0.48448,     0.48549,     0.48649,     0.48749,     0.48849,     0.48949,     0.49049,     0.49149,     0.49249,     0.49349,     0.49449,      0.4955,      0.4965,      0.4975,      0.4985,      0.4995,      0.5005,      0.5015,      0.5025,      0.5035,\n",
       "            0.5045,     0.50551,     0.50651,     0.50751,     0.50851,     0.50951,     0.51051,     0.51151,     0.51251,     0.51351,     0.51451,     0.51552,     0.51652,     0.51752,     0.51852,     0.51952,     0.52052,     0.52152,     0.52252,     0.52352,     0.52452,     0.52553,     0.52653,     0.52753,\n",
       "           0.52853,     0.52953,     0.53053,     0.53153,     0.53253,     0.53353,     0.53453,     0.53554,     0.53654,     0.53754,     0.53854,     0.53954,     0.54054,     0.54154,     0.54254,     0.54354,     0.54454,     0.54555,     0.54655,     0.54755,     0.54855,     0.54955,     0.55055,     0.55155,\n",
       "           0.55255,     0.55355,     0.55455,     0.55556,     0.55656,     0.55756,     0.55856,     0.55956,     0.56056,     0.56156,     0.56256,     0.56356,     0.56456,     0.56557,     0.56657,     0.56757,     0.56857,     0.56957,     0.57057,     0.57157,     0.57257,     0.57357,     0.57457,     0.57558,\n",
       "           0.57658,     0.57758,     0.57858,     0.57958,     0.58058,     0.58158,     0.58258,     0.58358,     0.58458,     0.58559,     0.58659,     0.58759,     0.58859,     0.58959,     0.59059,     0.59159,     0.59259,     0.59359,     0.59459,      0.5956,      0.5966,      0.5976,      0.5986,      0.5996,\n",
       "            0.6006,      0.6016,      0.6026,      0.6036,      0.6046,     0.60561,     0.60661,     0.60761,     0.60861,     0.60961,     0.61061,     0.61161,     0.61261,     0.61361,     0.61461,     0.61562,     0.61662,     0.61762,     0.61862,     0.61962,     0.62062,     0.62162,     0.62262,     0.62362,\n",
       "           0.62462,     0.62563,     0.62663,     0.62763,     0.62863,     0.62963,     0.63063,     0.63163,     0.63263,     0.63363,     0.63463,     0.63564,     0.63664,     0.63764,     0.63864,     0.63964,     0.64064,     0.64164,     0.64264,     0.64364,     0.64464,     0.64565,     0.64665,     0.64765,\n",
       "           0.64865,     0.64965,     0.65065,     0.65165,     0.65265,     0.65365,     0.65465,     0.65566,     0.65666,     0.65766,     0.65866,     0.65966,     0.66066,     0.66166,     0.66266,     0.66366,     0.66466,     0.66567,     0.66667,     0.66767,     0.66867,     0.66967,     0.67067,     0.67167,\n",
       "           0.67267,     0.67367,     0.67467,     0.67568,     0.67668,     0.67768,     0.67868,     0.67968,     0.68068,     0.68168,     0.68268,     0.68368,     0.68468,     0.68569,     0.68669,     0.68769,     0.68869,     0.68969,     0.69069,     0.69169,     0.69269,     0.69369,     0.69469,      0.6957,\n",
       "            0.6967,      0.6977,      0.6987,      0.6997,      0.7007,      0.7017,      0.7027,      0.7037,      0.7047,     0.70571,     0.70671,     0.70771,     0.70871,     0.70971,     0.71071,     0.71171,     0.71271,     0.71371,     0.71471,     0.71572,     0.71672,     0.71772,     0.71872,     0.71972,\n",
       "           0.72072,     0.72172,     0.72272,     0.72372,     0.72472,     0.72573,     0.72673,     0.72773,     0.72873,     0.72973,     0.73073,     0.73173,     0.73273,     0.73373,     0.73473,     0.73574,     0.73674,     0.73774,     0.73874,     0.73974,     0.74074,     0.74174,     0.74274,     0.74374,\n",
       "           0.74474,     0.74575,     0.74675,     0.74775,     0.74875,     0.74975,     0.75075,     0.75175,     0.75275,     0.75375,     0.75475,     0.75576,     0.75676,     0.75776,     0.75876,     0.75976,     0.76076,     0.76176,     0.76276,     0.76376,     0.76476,     0.76577,     0.76677,     0.76777,\n",
       "           0.76877,     0.76977,     0.77077,     0.77177,     0.77277,     0.77377,     0.77477,     0.77578,     0.77678,     0.77778,     0.77878,     0.77978,     0.78078,     0.78178,     0.78278,     0.78378,     0.78478,     0.78579,     0.78679,     0.78779,     0.78879,     0.78979,     0.79079,     0.79179,\n",
       "           0.79279,     0.79379,     0.79479,      0.7958,      0.7968,      0.7978,      0.7988,      0.7998,      0.8008,      0.8018,      0.8028,      0.8038,      0.8048,     0.80581,     0.80681,     0.80781,     0.80881,     0.80981,     0.81081,     0.81181,     0.81281,     0.81381,     0.81481,     0.81582,\n",
       "           0.81682,     0.81782,     0.81882,     0.81982,     0.82082,     0.82182,     0.82282,     0.82382,     0.82482,     0.82583,     0.82683,     0.82783,     0.82883,     0.82983,     0.83083,     0.83183,     0.83283,     0.83383,     0.83483,     0.83584,     0.83684,     0.83784,     0.83884,     0.83984,\n",
       "           0.84084,     0.84184,     0.84284,     0.84384,     0.84484,     0.84585,     0.84685,     0.84785,     0.84885,     0.84985,     0.85085,     0.85185,     0.85285,     0.85385,     0.85485,     0.85586,     0.85686,     0.85786,     0.85886,     0.85986,     0.86086,     0.86186,     0.86286,     0.86386,\n",
       "           0.86486,     0.86587,     0.86687,     0.86787,     0.86887,     0.86987,     0.87087,     0.87187,     0.87287,     0.87387,     0.87487,     0.87588,     0.87688,     0.87788,     0.87888,     0.87988,     0.88088,     0.88188,     0.88288,     0.88388,     0.88488,     0.88589,     0.88689,     0.88789,\n",
       "           0.88889,     0.88989,     0.89089,     0.89189,     0.89289,     0.89389,     0.89489,      0.8959,      0.8969,      0.8979,      0.8989,      0.8999,      0.9009,      0.9019,      0.9029,      0.9039,      0.9049,     0.90591,     0.90691,     0.90791,     0.90891,     0.90991,     0.91091,     0.91191,\n",
       "           0.91291,     0.91391,     0.91491,     0.91592,     0.91692,     0.91792,     0.91892,     0.91992,     0.92092,     0.92192,     0.92292,     0.92392,     0.92492,     0.92593,     0.92693,     0.92793,     0.92893,     0.92993,     0.93093,     0.93193,     0.93293,     0.93393,     0.93493,     0.93594,\n",
       "           0.93694,     0.93794,     0.93894,     0.93994,     0.94094,     0.94194,     0.94294,     0.94394,     0.94494,     0.94595,     0.94695,     0.94795,     0.94895,     0.94995,     0.95095,     0.95195,     0.95295,     0.95395,     0.95495,     0.95596,     0.95696,     0.95796,     0.95896,     0.95996,\n",
       "           0.96096,     0.96196,     0.96296,     0.96396,     0.96496,     0.96597,     0.96697,     0.96797,     0.96897,     0.96997,     0.97097,     0.97197,     0.97297,     0.97397,     0.97497,     0.97598,     0.97698,     0.97798,     0.97898,     0.97998,     0.98098,     0.98198,     0.98298,     0.98398,\n",
       "           0.98498,     0.98599,     0.98699,     0.98799,     0.98899,     0.98999,     0.99099,     0.99199,     0.99299,     0.99399,     0.99499,       0.996,       0.997,       0.998,       0.999,           1]), array([[          1,           1,           1, ...,     0.10169,     0.10169,           0],\n",
       "       [          1,           1,           1, ...,    0.028603,    0.028603,           0],\n",
       "       [          1,           1,           1, ...,    0.025135,    0.025135,           0]]), 'Recall', 'Precision'], [array([          0,    0.001001,    0.002002,    0.003003,    0.004004,    0.005005,    0.006006,    0.007007,    0.008008,    0.009009,     0.01001,    0.011011,    0.012012,    0.013013,    0.014014,    0.015015,    0.016016,    0.017017,    0.018018,    0.019019,     0.02002,    0.021021,    0.022022,    0.023023,\n",
       "          0.024024,    0.025025,    0.026026,    0.027027,    0.028028,    0.029029,     0.03003,    0.031031,    0.032032,    0.033033,    0.034034,    0.035035,    0.036036,    0.037037,    0.038038,    0.039039,     0.04004,    0.041041,    0.042042,    0.043043,    0.044044,    0.045045,    0.046046,    0.047047,\n",
       "          0.048048,    0.049049,     0.05005,    0.051051,    0.052052,    0.053053,    0.054054,    0.055055,    0.056056,    0.057057,    0.058058,    0.059059,     0.06006,    0.061061,    0.062062,    0.063063,    0.064064,    0.065065,    0.066066,    0.067067,    0.068068,    0.069069,     0.07007,    0.071071,\n",
       "          0.072072,    0.073073,    0.074074,    0.075075,    0.076076,    0.077077,    0.078078,    0.079079,     0.08008,    0.081081,    0.082082,    0.083083,    0.084084,    0.085085,    0.086086,    0.087087,    0.088088,    0.089089,     0.09009,    0.091091,    0.092092,    0.093093,    0.094094,    0.095095,\n",
       "          0.096096,    0.097097,    0.098098,    0.099099,      0.1001,      0.1011,      0.1021,      0.1031,      0.1041,     0.10511,     0.10611,     0.10711,     0.10811,     0.10911,     0.11011,     0.11111,     0.11211,     0.11311,     0.11411,     0.11512,     0.11612,     0.11712,     0.11812,     0.11912,\n",
       "           0.12012,     0.12112,     0.12212,     0.12312,     0.12412,     0.12513,     0.12613,     0.12713,     0.12813,     0.12913,     0.13013,     0.13113,     0.13213,     0.13313,     0.13413,     0.13514,     0.13614,     0.13714,     0.13814,     0.13914,     0.14014,     0.14114,     0.14214,     0.14314,\n",
       "           0.14414,     0.14515,     0.14615,     0.14715,     0.14815,     0.14915,     0.15015,     0.15115,     0.15215,     0.15315,     0.15415,     0.15516,     0.15616,     0.15716,     0.15816,     0.15916,     0.16016,     0.16116,     0.16216,     0.16316,     0.16416,     0.16517,     0.16617,     0.16717,\n",
       "           0.16817,     0.16917,     0.17017,     0.17117,     0.17217,     0.17317,     0.17417,     0.17518,     0.17618,     0.17718,     0.17818,     0.17918,     0.18018,     0.18118,     0.18218,     0.18318,     0.18418,     0.18519,     0.18619,     0.18719,     0.18819,     0.18919,     0.19019,     0.19119,\n",
       "           0.19219,     0.19319,     0.19419,      0.1952,      0.1962,      0.1972,      0.1982,      0.1992,      0.2002,      0.2012,      0.2022,      0.2032,      0.2042,     0.20521,     0.20621,     0.20721,     0.20821,     0.20921,     0.21021,     0.21121,     0.21221,     0.21321,     0.21421,     0.21522,\n",
       "           0.21622,     0.21722,     0.21822,     0.21922,     0.22022,     0.22122,     0.22222,     0.22322,     0.22422,     0.22523,     0.22623,     0.22723,     0.22823,     0.22923,     0.23023,     0.23123,     0.23223,     0.23323,     0.23423,     0.23524,     0.23624,     0.23724,     0.23824,     0.23924,\n",
       "           0.24024,     0.24124,     0.24224,     0.24324,     0.24424,     0.24525,     0.24625,     0.24725,     0.24825,     0.24925,     0.25025,     0.25125,     0.25225,     0.25325,     0.25425,     0.25526,     0.25626,     0.25726,     0.25826,     0.25926,     0.26026,     0.26126,     0.26226,     0.26326,\n",
       "           0.26426,     0.26527,     0.26627,     0.26727,     0.26827,     0.26927,     0.27027,     0.27127,     0.27227,     0.27327,     0.27427,     0.27528,     0.27628,     0.27728,     0.27828,     0.27928,     0.28028,     0.28128,     0.28228,     0.28328,     0.28428,     0.28529,     0.28629,     0.28729,\n",
       "           0.28829,     0.28929,     0.29029,     0.29129,     0.29229,     0.29329,     0.29429,      0.2953,      0.2963,      0.2973,      0.2983,      0.2993,      0.3003,      0.3013,      0.3023,      0.3033,      0.3043,     0.30531,     0.30631,     0.30731,     0.30831,     0.30931,     0.31031,     0.31131,\n",
       "           0.31231,     0.31331,     0.31431,     0.31532,     0.31632,     0.31732,     0.31832,     0.31932,     0.32032,     0.32132,     0.32232,     0.32332,     0.32432,     0.32533,     0.32633,     0.32733,     0.32833,     0.32933,     0.33033,     0.33133,     0.33233,     0.33333,     0.33433,     0.33534,\n",
       "           0.33634,     0.33734,     0.33834,     0.33934,     0.34034,     0.34134,     0.34234,     0.34334,     0.34434,     0.34535,     0.34635,     0.34735,     0.34835,     0.34935,     0.35035,     0.35135,     0.35235,     0.35335,     0.35435,     0.35536,     0.35636,     0.35736,     0.35836,     0.35936,\n",
       "           0.36036,     0.36136,     0.36236,     0.36336,     0.36436,     0.36537,     0.36637,     0.36737,     0.36837,     0.36937,     0.37037,     0.37137,     0.37237,     0.37337,     0.37437,     0.37538,     0.37638,     0.37738,     0.37838,     0.37938,     0.38038,     0.38138,     0.38238,     0.38338,\n",
       "           0.38438,     0.38539,     0.38639,     0.38739,     0.38839,     0.38939,     0.39039,     0.39139,     0.39239,     0.39339,     0.39439,      0.3954,      0.3964,      0.3974,      0.3984,      0.3994,      0.4004,      0.4014,      0.4024,      0.4034,      0.4044,     0.40541,     0.40641,     0.40741,\n",
       "           0.40841,     0.40941,     0.41041,     0.41141,     0.41241,     0.41341,     0.41441,     0.41542,     0.41642,     0.41742,     0.41842,     0.41942,     0.42042,     0.42142,     0.42242,     0.42342,     0.42442,     0.42543,     0.42643,     0.42743,     0.42843,     0.42943,     0.43043,     0.43143,\n",
       "           0.43243,     0.43343,     0.43443,     0.43544,     0.43644,     0.43744,     0.43844,     0.43944,     0.44044,     0.44144,     0.44244,     0.44344,     0.44444,     0.44545,     0.44645,     0.44745,     0.44845,     0.44945,     0.45045,     0.45145,     0.45245,     0.45345,     0.45445,     0.45546,\n",
       "           0.45646,     0.45746,     0.45846,     0.45946,     0.46046,     0.46146,     0.46246,     0.46346,     0.46446,     0.46547,     0.46647,     0.46747,     0.46847,     0.46947,     0.47047,     0.47147,     0.47247,     0.47347,     0.47447,     0.47548,     0.47648,     0.47748,     0.47848,     0.47948,\n",
       "           0.48048,     0.48148,     0.48248,     0.48348,     0.48448,     0.48549,     0.48649,     0.48749,     0.48849,     0.48949,     0.49049,     0.49149,     0.49249,     0.49349,     0.49449,      0.4955,      0.4965,      0.4975,      0.4985,      0.4995,      0.5005,      0.5015,      0.5025,      0.5035,\n",
       "            0.5045,     0.50551,     0.50651,     0.50751,     0.50851,     0.50951,     0.51051,     0.51151,     0.51251,     0.51351,     0.51451,     0.51552,     0.51652,     0.51752,     0.51852,     0.51952,     0.52052,     0.52152,     0.52252,     0.52352,     0.52452,     0.52553,     0.52653,     0.52753,\n",
       "           0.52853,     0.52953,     0.53053,     0.53153,     0.53253,     0.53353,     0.53453,     0.53554,     0.53654,     0.53754,     0.53854,     0.53954,     0.54054,     0.54154,     0.54254,     0.54354,     0.54454,     0.54555,     0.54655,     0.54755,     0.54855,     0.54955,     0.55055,     0.55155,\n",
       "           0.55255,     0.55355,     0.55455,     0.55556,     0.55656,     0.55756,     0.55856,     0.55956,     0.56056,     0.56156,     0.56256,     0.56356,     0.56456,     0.56557,     0.56657,     0.56757,     0.56857,     0.56957,     0.57057,     0.57157,     0.57257,     0.57357,     0.57457,     0.57558,\n",
       "           0.57658,     0.57758,     0.57858,     0.57958,     0.58058,     0.58158,     0.58258,     0.58358,     0.58458,     0.58559,     0.58659,     0.58759,     0.58859,     0.58959,     0.59059,     0.59159,     0.59259,     0.59359,     0.59459,      0.5956,      0.5966,      0.5976,      0.5986,      0.5996,\n",
       "            0.6006,      0.6016,      0.6026,      0.6036,      0.6046,     0.60561,     0.60661,     0.60761,     0.60861,     0.60961,     0.61061,     0.61161,     0.61261,     0.61361,     0.61461,     0.61562,     0.61662,     0.61762,     0.61862,     0.61962,     0.62062,     0.62162,     0.62262,     0.62362,\n",
       "           0.62462,     0.62563,     0.62663,     0.62763,     0.62863,     0.62963,     0.63063,     0.63163,     0.63263,     0.63363,     0.63463,     0.63564,     0.63664,     0.63764,     0.63864,     0.63964,     0.64064,     0.64164,     0.64264,     0.64364,     0.64464,     0.64565,     0.64665,     0.64765,\n",
       "           0.64865,     0.64965,     0.65065,     0.65165,     0.65265,     0.65365,     0.65465,     0.65566,     0.65666,     0.65766,     0.65866,     0.65966,     0.66066,     0.66166,     0.66266,     0.66366,     0.66466,     0.66567,     0.66667,     0.66767,     0.66867,     0.66967,     0.67067,     0.67167,\n",
       "           0.67267,     0.67367,     0.67467,     0.67568,     0.67668,     0.67768,     0.67868,     0.67968,     0.68068,     0.68168,     0.68268,     0.68368,     0.68468,     0.68569,     0.68669,     0.68769,     0.68869,     0.68969,     0.69069,     0.69169,     0.69269,     0.69369,     0.69469,      0.6957,\n",
       "            0.6967,      0.6977,      0.6987,      0.6997,      0.7007,      0.7017,      0.7027,      0.7037,      0.7047,     0.70571,     0.70671,     0.70771,     0.70871,     0.70971,     0.71071,     0.71171,     0.71271,     0.71371,     0.71471,     0.71572,     0.71672,     0.71772,     0.71872,     0.71972,\n",
       "           0.72072,     0.72172,     0.72272,     0.72372,     0.72472,     0.72573,     0.72673,     0.72773,     0.72873,     0.72973,     0.73073,     0.73173,     0.73273,     0.73373,     0.73473,     0.73574,     0.73674,     0.73774,     0.73874,     0.73974,     0.74074,     0.74174,     0.74274,     0.74374,\n",
       "           0.74474,     0.74575,     0.74675,     0.74775,     0.74875,     0.74975,     0.75075,     0.75175,     0.75275,     0.75375,     0.75475,     0.75576,     0.75676,     0.75776,     0.75876,     0.75976,     0.76076,     0.76176,     0.76276,     0.76376,     0.76476,     0.76577,     0.76677,     0.76777,\n",
       "           0.76877,     0.76977,     0.77077,     0.77177,     0.77277,     0.77377,     0.77477,     0.77578,     0.77678,     0.77778,     0.77878,     0.77978,     0.78078,     0.78178,     0.78278,     0.78378,     0.78478,     0.78579,     0.78679,     0.78779,     0.78879,     0.78979,     0.79079,     0.79179,\n",
       "           0.79279,     0.79379,     0.79479,      0.7958,      0.7968,      0.7978,      0.7988,      0.7998,      0.8008,      0.8018,      0.8028,      0.8038,      0.8048,     0.80581,     0.80681,     0.80781,     0.80881,     0.80981,     0.81081,     0.81181,     0.81281,     0.81381,     0.81481,     0.81582,\n",
       "           0.81682,     0.81782,     0.81882,     0.81982,     0.82082,     0.82182,     0.82282,     0.82382,     0.82482,     0.82583,     0.82683,     0.82783,     0.82883,     0.82983,     0.83083,     0.83183,     0.83283,     0.83383,     0.83483,     0.83584,     0.83684,     0.83784,     0.83884,     0.83984,\n",
       "           0.84084,     0.84184,     0.84284,     0.84384,     0.84484,     0.84585,     0.84685,     0.84785,     0.84885,     0.84985,     0.85085,     0.85185,     0.85285,     0.85385,     0.85485,     0.85586,     0.85686,     0.85786,     0.85886,     0.85986,     0.86086,     0.86186,     0.86286,     0.86386,\n",
       "           0.86486,     0.86587,     0.86687,     0.86787,     0.86887,     0.86987,     0.87087,     0.87187,     0.87287,     0.87387,     0.87487,     0.87588,     0.87688,     0.87788,     0.87888,     0.87988,     0.88088,     0.88188,     0.88288,     0.88388,     0.88488,     0.88589,     0.88689,     0.88789,\n",
       "           0.88889,     0.88989,     0.89089,     0.89189,     0.89289,     0.89389,     0.89489,      0.8959,      0.8969,      0.8979,      0.8989,      0.8999,      0.9009,      0.9019,      0.9029,      0.9039,      0.9049,     0.90591,     0.90691,     0.90791,     0.90891,     0.90991,     0.91091,     0.91191,\n",
       "           0.91291,     0.91391,     0.91491,     0.91592,     0.91692,     0.91792,     0.91892,     0.91992,     0.92092,     0.92192,     0.92292,     0.92392,     0.92492,     0.92593,     0.92693,     0.92793,     0.92893,     0.92993,     0.93093,     0.93193,     0.93293,     0.93393,     0.93493,     0.93594,\n",
       "           0.93694,     0.93794,     0.93894,     0.93994,     0.94094,     0.94194,     0.94294,     0.94394,     0.94494,     0.94595,     0.94695,     0.94795,     0.94895,     0.94995,     0.95095,     0.95195,     0.95295,     0.95395,     0.95495,     0.95596,     0.95696,     0.95796,     0.95896,     0.95996,\n",
       "           0.96096,     0.96196,     0.96296,     0.96396,     0.96496,     0.96597,     0.96697,     0.96797,     0.96897,     0.96997,     0.97097,     0.97197,     0.97297,     0.97397,     0.97497,     0.97598,     0.97698,     0.97798,     0.97898,     0.97998,     0.98098,     0.98198,     0.98298,     0.98398,\n",
       "           0.98498,     0.98599,     0.98699,     0.98799,     0.98899,     0.98999,     0.99099,     0.99199,     0.99299,     0.99399,     0.99499,       0.996,       0.997,       0.998,       0.999,           1]), array([[  0.0091089,   0.0091089,    0.043095, ...,           0,           0,           0],\n",
       "       [   0.021162,    0.021162,    0.032586, ...,           0,           0,           0],\n",
       "       [   0.017495,    0.017495,    0.038597, ...,           0,           0,           0]]), 'Confidence', 'F1'], [array([          0,    0.001001,    0.002002,    0.003003,    0.004004,    0.005005,    0.006006,    0.007007,    0.008008,    0.009009,     0.01001,    0.011011,    0.012012,    0.013013,    0.014014,    0.015015,    0.016016,    0.017017,    0.018018,    0.019019,     0.02002,    0.021021,    0.022022,    0.023023,\n",
       "          0.024024,    0.025025,    0.026026,    0.027027,    0.028028,    0.029029,     0.03003,    0.031031,    0.032032,    0.033033,    0.034034,    0.035035,    0.036036,    0.037037,    0.038038,    0.039039,     0.04004,    0.041041,    0.042042,    0.043043,    0.044044,    0.045045,    0.046046,    0.047047,\n",
       "          0.048048,    0.049049,     0.05005,    0.051051,    0.052052,    0.053053,    0.054054,    0.055055,    0.056056,    0.057057,    0.058058,    0.059059,     0.06006,    0.061061,    0.062062,    0.063063,    0.064064,    0.065065,    0.066066,    0.067067,    0.068068,    0.069069,     0.07007,    0.071071,\n",
       "          0.072072,    0.073073,    0.074074,    0.075075,    0.076076,    0.077077,    0.078078,    0.079079,     0.08008,    0.081081,    0.082082,    0.083083,    0.084084,    0.085085,    0.086086,    0.087087,    0.088088,    0.089089,     0.09009,    0.091091,    0.092092,    0.093093,    0.094094,    0.095095,\n",
       "          0.096096,    0.097097,    0.098098,    0.099099,      0.1001,      0.1011,      0.1021,      0.1031,      0.1041,     0.10511,     0.10611,     0.10711,     0.10811,     0.10911,     0.11011,     0.11111,     0.11211,     0.11311,     0.11411,     0.11512,     0.11612,     0.11712,     0.11812,     0.11912,\n",
       "           0.12012,     0.12112,     0.12212,     0.12312,     0.12412,     0.12513,     0.12613,     0.12713,     0.12813,     0.12913,     0.13013,     0.13113,     0.13213,     0.13313,     0.13413,     0.13514,     0.13614,     0.13714,     0.13814,     0.13914,     0.14014,     0.14114,     0.14214,     0.14314,\n",
       "           0.14414,     0.14515,     0.14615,     0.14715,     0.14815,     0.14915,     0.15015,     0.15115,     0.15215,     0.15315,     0.15415,     0.15516,     0.15616,     0.15716,     0.15816,     0.15916,     0.16016,     0.16116,     0.16216,     0.16316,     0.16416,     0.16517,     0.16617,     0.16717,\n",
       "           0.16817,     0.16917,     0.17017,     0.17117,     0.17217,     0.17317,     0.17417,     0.17518,     0.17618,     0.17718,     0.17818,     0.17918,     0.18018,     0.18118,     0.18218,     0.18318,     0.18418,     0.18519,     0.18619,     0.18719,     0.18819,     0.18919,     0.19019,     0.19119,\n",
       "           0.19219,     0.19319,     0.19419,      0.1952,      0.1962,      0.1972,      0.1982,      0.1992,      0.2002,      0.2012,      0.2022,      0.2032,      0.2042,     0.20521,     0.20621,     0.20721,     0.20821,     0.20921,     0.21021,     0.21121,     0.21221,     0.21321,     0.21421,     0.21522,\n",
       "           0.21622,     0.21722,     0.21822,     0.21922,     0.22022,     0.22122,     0.22222,     0.22322,     0.22422,     0.22523,     0.22623,     0.22723,     0.22823,     0.22923,     0.23023,     0.23123,     0.23223,     0.23323,     0.23423,     0.23524,     0.23624,     0.23724,     0.23824,     0.23924,\n",
       "           0.24024,     0.24124,     0.24224,     0.24324,     0.24424,     0.24525,     0.24625,     0.24725,     0.24825,     0.24925,     0.25025,     0.25125,     0.25225,     0.25325,     0.25425,     0.25526,     0.25626,     0.25726,     0.25826,     0.25926,     0.26026,     0.26126,     0.26226,     0.26326,\n",
       "           0.26426,     0.26527,     0.26627,     0.26727,     0.26827,     0.26927,     0.27027,     0.27127,     0.27227,     0.27327,     0.27427,     0.27528,     0.27628,     0.27728,     0.27828,     0.27928,     0.28028,     0.28128,     0.28228,     0.28328,     0.28428,     0.28529,     0.28629,     0.28729,\n",
       "           0.28829,     0.28929,     0.29029,     0.29129,     0.29229,     0.29329,     0.29429,      0.2953,      0.2963,      0.2973,      0.2983,      0.2993,      0.3003,      0.3013,      0.3023,      0.3033,      0.3043,     0.30531,     0.30631,     0.30731,     0.30831,     0.30931,     0.31031,     0.31131,\n",
       "           0.31231,     0.31331,     0.31431,     0.31532,     0.31632,     0.31732,     0.31832,     0.31932,     0.32032,     0.32132,     0.32232,     0.32332,     0.32432,     0.32533,     0.32633,     0.32733,     0.32833,     0.32933,     0.33033,     0.33133,     0.33233,     0.33333,     0.33433,     0.33534,\n",
       "           0.33634,     0.33734,     0.33834,     0.33934,     0.34034,     0.34134,     0.34234,     0.34334,     0.34434,     0.34535,     0.34635,     0.34735,     0.34835,     0.34935,     0.35035,     0.35135,     0.35235,     0.35335,     0.35435,     0.35536,     0.35636,     0.35736,     0.35836,     0.35936,\n",
       "           0.36036,     0.36136,     0.36236,     0.36336,     0.36436,     0.36537,     0.36637,     0.36737,     0.36837,     0.36937,     0.37037,     0.37137,     0.37237,     0.37337,     0.37437,     0.37538,     0.37638,     0.37738,     0.37838,     0.37938,     0.38038,     0.38138,     0.38238,     0.38338,\n",
       "           0.38438,     0.38539,     0.38639,     0.38739,     0.38839,     0.38939,     0.39039,     0.39139,     0.39239,     0.39339,     0.39439,      0.3954,      0.3964,      0.3974,      0.3984,      0.3994,      0.4004,      0.4014,      0.4024,      0.4034,      0.4044,     0.40541,     0.40641,     0.40741,\n",
       "           0.40841,     0.40941,     0.41041,     0.41141,     0.41241,     0.41341,     0.41441,     0.41542,     0.41642,     0.41742,     0.41842,     0.41942,     0.42042,     0.42142,     0.42242,     0.42342,     0.42442,     0.42543,     0.42643,     0.42743,     0.42843,     0.42943,     0.43043,     0.43143,\n",
       "           0.43243,     0.43343,     0.43443,     0.43544,     0.43644,     0.43744,     0.43844,     0.43944,     0.44044,     0.44144,     0.44244,     0.44344,     0.44444,     0.44545,     0.44645,     0.44745,     0.44845,     0.44945,     0.45045,     0.45145,     0.45245,     0.45345,     0.45445,     0.45546,\n",
       "           0.45646,     0.45746,     0.45846,     0.45946,     0.46046,     0.46146,     0.46246,     0.46346,     0.46446,     0.46547,     0.46647,     0.46747,     0.46847,     0.46947,     0.47047,     0.47147,     0.47247,     0.47347,     0.47447,     0.47548,     0.47648,     0.47748,     0.47848,     0.47948,\n",
       "           0.48048,     0.48148,     0.48248,     0.48348,     0.48448,     0.48549,     0.48649,     0.48749,     0.48849,     0.48949,     0.49049,     0.49149,     0.49249,     0.49349,     0.49449,      0.4955,      0.4965,      0.4975,      0.4985,      0.4995,      0.5005,      0.5015,      0.5025,      0.5035,\n",
       "            0.5045,     0.50551,     0.50651,     0.50751,     0.50851,     0.50951,     0.51051,     0.51151,     0.51251,     0.51351,     0.51451,     0.51552,     0.51652,     0.51752,     0.51852,     0.51952,     0.52052,     0.52152,     0.52252,     0.52352,     0.52452,     0.52553,     0.52653,     0.52753,\n",
       "           0.52853,     0.52953,     0.53053,     0.53153,     0.53253,     0.53353,     0.53453,     0.53554,     0.53654,     0.53754,     0.53854,     0.53954,     0.54054,     0.54154,     0.54254,     0.54354,     0.54454,     0.54555,     0.54655,     0.54755,     0.54855,     0.54955,     0.55055,     0.55155,\n",
       "           0.55255,     0.55355,     0.55455,     0.55556,     0.55656,     0.55756,     0.55856,     0.55956,     0.56056,     0.56156,     0.56256,     0.56356,     0.56456,     0.56557,     0.56657,     0.56757,     0.56857,     0.56957,     0.57057,     0.57157,     0.57257,     0.57357,     0.57457,     0.57558,\n",
       "           0.57658,     0.57758,     0.57858,     0.57958,     0.58058,     0.58158,     0.58258,     0.58358,     0.58458,     0.58559,     0.58659,     0.58759,     0.58859,     0.58959,     0.59059,     0.59159,     0.59259,     0.59359,     0.59459,      0.5956,      0.5966,      0.5976,      0.5986,      0.5996,\n",
       "            0.6006,      0.6016,      0.6026,      0.6036,      0.6046,     0.60561,     0.60661,     0.60761,     0.60861,     0.60961,     0.61061,     0.61161,     0.61261,     0.61361,     0.61461,     0.61562,     0.61662,     0.61762,     0.61862,     0.61962,     0.62062,     0.62162,     0.62262,     0.62362,\n",
       "           0.62462,     0.62563,     0.62663,     0.62763,     0.62863,     0.62963,     0.63063,     0.63163,     0.63263,     0.63363,     0.63463,     0.63564,     0.63664,     0.63764,     0.63864,     0.63964,     0.64064,     0.64164,     0.64264,     0.64364,     0.64464,     0.64565,     0.64665,     0.64765,\n",
       "           0.64865,     0.64965,     0.65065,     0.65165,     0.65265,     0.65365,     0.65465,     0.65566,     0.65666,     0.65766,     0.65866,     0.65966,     0.66066,     0.66166,     0.66266,     0.66366,     0.66466,     0.66567,     0.66667,     0.66767,     0.66867,     0.66967,     0.67067,     0.67167,\n",
       "           0.67267,     0.67367,     0.67467,     0.67568,     0.67668,     0.67768,     0.67868,     0.67968,     0.68068,     0.68168,     0.68268,     0.68368,     0.68468,     0.68569,     0.68669,     0.68769,     0.68869,     0.68969,     0.69069,     0.69169,     0.69269,     0.69369,     0.69469,      0.6957,\n",
       "            0.6967,      0.6977,      0.6987,      0.6997,      0.7007,      0.7017,      0.7027,      0.7037,      0.7047,     0.70571,     0.70671,     0.70771,     0.70871,     0.70971,     0.71071,     0.71171,     0.71271,     0.71371,     0.71471,     0.71572,     0.71672,     0.71772,     0.71872,     0.71972,\n",
       "           0.72072,     0.72172,     0.72272,     0.72372,     0.72472,     0.72573,     0.72673,     0.72773,     0.72873,     0.72973,     0.73073,     0.73173,     0.73273,     0.73373,     0.73473,     0.73574,     0.73674,     0.73774,     0.73874,     0.73974,     0.74074,     0.74174,     0.74274,     0.74374,\n",
       "           0.74474,     0.74575,     0.74675,     0.74775,     0.74875,     0.74975,     0.75075,     0.75175,     0.75275,     0.75375,     0.75475,     0.75576,     0.75676,     0.75776,     0.75876,     0.75976,     0.76076,     0.76176,     0.76276,     0.76376,     0.76476,     0.76577,     0.76677,     0.76777,\n",
       "           0.76877,     0.76977,     0.77077,     0.77177,     0.77277,     0.77377,     0.77477,     0.77578,     0.77678,     0.77778,     0.77878,     0.77978,     0.78078,     0.78178,     0.78278,     0.78378,     0.78478,     0.78579,     0.78679,     0.78779,     0.78879,     0.78979,     0.79079,     0.79179,\n",
       "           0.79279,     0.79379,     0.79479,      0.7958,      0.7968,      0.7978,      0.7988,      0.7998,      0.8008,      0.8018,      0.8028,      0.8038,      0.8048,     0.80581,     0.80681,     0.80781,     0.80881,     0.80981,     0.81081,     0.81181,     0.81281,     0.81381,     0.81481,     0.81582,\n",
       "           0.81682,     0.81782,     0.81882,     0.81982,     0.82082,     0.82182,     0.82282,     0.82382,     0.82482,     0.82583,     0.82683,     0.82783,     0.82883,     0.82983,     0.83083,     0.83183,     0.83283,     0.83383,     0.83483,     0.83584,     0.83684,     0.83784,     0.83884,     0.83984,\n",
       "           0.84084,     0.84184,     0.84284,     0.84384,     0.84484,     0.84585,     0.84685,     0.84785,     0.84885,     0.84985,     0.85085,     0.85185,     0.85285,     0.85385,     0.85485,     0.85586,     0.85686,     0.85786,     0.85886,     0.85986,     0.86086,     0.86186,     0.86286,     0.86386,\n",
       "           0.86486,     0.86587,     0.86687,     0.86787,     0.86887,     0.86987,     0.87087,     0.87187,     0.87287,     0.87387,     0.87487,     0.87588,     0.87688,     0.87788,     0.87888,     0.87988,     0.88088,     0.88188,     0.88288,     0.88388,     0.88488,     0.88589,     0.88689,     0.88789,\n",
       "           0.88889,     0.88989,     0.89089,     0.89189,     0.89289,     0.89389,     0.89489,      0.8959,      0.8969,      0.8979,      0.8989,      0.8999,      0.9009,      0.9019,      0.9029,      0.9039,      0.9049,     0.90591,     0.90691,     0.90791,     0.90891,     0.90991,     0.91091,     0.91191,\n",
       "           0.91291,     0.91391,     0.91491,     0.91592,     0.91692,     0.91792,     0.91892,     0.91992,     0.92092,     0.92192,     0.92292,     0.92392,     0.92492,     0.92593,     0.92693,     0.92793,     0.92893,     0.92993,     0.93093,     0.93193,     0.93293,     0.93393,     0.93493,     0.93594,\n",
       "           0.93694,     0.93794,     0.93894,     0.93994,     0.94094,     0.94194,     0.94294,     0.94394,     0.94494,     0.94595,     0.94695,     0.94795,     0.94895,     0.94995,     0.95095,     0.95195,     0.95295,     0.95395,     0.95495,     0.95596,     0.95696,     0.95796,     0.95896,     0.95996,\n",
       "           0.96096,     0.96196,     0.96296,     0.96396,     0.96496,     0.96597,     0.96697,     0.96797,     0.96897,     0.96997,     0.97097,     0.97197,     0.97297,     0.97397,     0.97497,     0.97598,     0.97698,     0.97798,     0.97898,     0.97998,     0.98098,     0.98198,     0.98298,     0.98398,\n",
       "           0.98498,     0.98599,     0.98699,     0.98799,     0.98899,     0.98999,     0.99099,     0.99199,     0.99299,     0.99399,     0.99499,       0.996,       0.997,       0.998,       0.999,           1]), array([[  0.0045753,   0.0045753,    0.022022, ...,           1,           1,           1],\n",
       "       [   0.010694,    0.010694,    0.016563, ...,           1,           1,           1],\n",
       "       [  0.0088245,   0.0088245,    0.019678, ...,           1,           1,           1]]), 'Confidence', 'Precision'], [array([          0,    0.001001,    0.002002,    0.003003,    0.004004,    0.005005,    0.006006,    0.007007,    0.008008,    0.009009,     0.01001,    0.011011,    0.012012,    0.013013,    0.014014,    0.015015,    0.016016,    0.017017,    0.018018,    0.019019,     0.02002,    0.021021,    0.022022,    0.023023,\n",
       "          0.024024,    0.025025,    0.026026,    0.027027,    0.028028,    0.029029,     0.03003,    0.031031,    0.032032,    0.033033,    0.034034,    0.035035,    0.036036,    0.037037,    0.038038,    0.039039,     0.04004,    0.041041,    0.042042,    0.043043,    0.044044,    0.045045,    0.046046,    0.047047,\n",
       "          0.048048,    0.049049,     0.05005,    0.051051,    0.052052,    0.053053,    0.054054,    0.055055,    0.056056,    0.057057,    0.058058,    0.059059,     0.06006,    0.061061,    0.062062,    0.063063,    0.064064,    0.065065,    0.066066,    0.067067,    0.068068,    0.069069,     0.07007,    0.071071,\n",
       "          0.072072,    0.073073,    0.074074,    0.075075,    0.076076,    0.077077,    0.078078,    0.079079,     0.08008,    0.081081,    0.082082,    0.083083,    0.084084,    0.085085,    0.086086,    0.087087,    0.088088,    0.089089,     0.09009,    0.091091,    0.092092,    0.093093,    0.094094,    0.095095,\n",
       "          0.096096,    0.097097,    0.098098,    0.099099,      0.1001,      0.1011,      0.1021,      0.1031,      0.1041,     0.10511,     0.10611,     0.10711,     0.10811,     0.10911,     0.11011,     0.11111,     0.11211,     0.11311,     0.11411,     0.11512,     0.11612,     0.11712,     0.11812,     0.11912,\n",
       "           0.12012,     0.12112,     0.12212,     0.12312,     0.12412,     0.12513,     0.12613,     0.12713,     0.12813,     0.12913,     0.13013,     0.13113,     0.13213,     0.13313,     0.13413,     0.13514,     0.13614,     0.13714,     0.13814,     0.13914,     0.14014,     0.14114,     0.14214,     0.14314,\n",
       "           0.14414,     0.14515,     0.14615,     0.14715,     0.14815,     0.14915,     0.15015,     0.15115,     0.15215,     0.15315,     0.15415,     0.15516,     0.15616,     0.15716,     0.15816,     0.15916,     0.16016,     0.16116,     0.16216,     0.16316,     0.16416,     0.16517,     0.16617,     0.16717,\n",
       "           0.16817,     0.16917,     0.17017,     0.17117,     0.17217,     0.17317,     0.17417,     0.17518,     0.17618,     0.17718,     0.17818,     0.17918,     0.18018,     0.18118,     0.18218,     0.18318,     0.18418,     0.18519,     0.18619,     0.18719,     0.18819,     0.18919,     0.19019,     0.19119,\n",
       "           0.19219,     0.19319,     0.19419,      0.1952,      0.1962,      0.1972,      0.1982,      0.1992,      0.2002,      0.2012,      0.2022,      0.2032,      0.2042,     0.20521,     0.20621,     0.20721,     0.20821,     0.20921,     0.21021,     0.21121,     0.21221,     0.21321,     0.21421,     0.21522,\n",
       "           0.21622,     0.21722,     0.21822,     0.21922,     0.22022,     0.22122,     0.22222,     0.22322,     0.22422,     0.22523,     0.22623,     0.22723,     0.22823,     0.22923,     0.23023,     0.23123,     0.23223,     0.23323,     0.23423,     0.23524,     0.23624,     0.23724,     0.23824,     0.23924,\n",
       "           0.24024,     0.24124,     0.24224,     0.24324,     0.24424,     0.24525,     0.24625,     0.24725,     0.24825,     0.24925,     0.25025,     0.25125,     0.25225,     0.25325,     0.25425,     0.25526,     0.25626,     0.25726,     0.25826,     0.25926,     0.26026,     0.26126,     0.26226,     0.26326,\n",
       "           0.26426,     0.26527,     0.26627,     0.26727,     0.26827,     0.26927,     0.27027,     0.27127,     0.27227,     0.27327,     0.27427,     0.27528,     0.27628,     0.27728,     0.27828,     0.27928,     0.28028,     0.28128,     0.28228,     0.28328,     0.28428,     0.28529,     0.28629,     0.28729,\n",
       "           0.28829,     0.28929,     0.29029,     0.29129,     0.29229,     0.29329,     0.29429,      0.2953,      0.2963,      0.2973,      0.2983,      0.2993,      0.3003,      0.3013,      0.3023,      0.3033,      0.3043,     0.30531,     0.30631,     0.30731,     0.30831,     0.30931,     0.31031,     0.31131,\n",
       "           0.31231,     0.31331,     0.31431,     0.31532,     0.31632,     0.31732,     0.31832,     0.31932,     0.32032,     0.32132,     0.32232,     0.32332,     0.32432,     0.32533,     0.32633,     0.32733,     0.32833,     0.32933,     0.33033,     0.33133,     0.33233,     0.33333,     0.33433,     0.33534,\n",
       "           0.33634,     0.33734,     0.33834,     0.33934,     0.34034,     0.34134,     0.34234,     0.34334,     0.34434,     0.34535,     0.34635,     0.34735,     0.34835,     0.34935,     0.35035,     0.35135,     0.35235,     0.35335,     0.35435,     0.35536,     0.35636,     0.35736,     0.35836,     0.35936,\n",
       "           0.36036,     0.36136,     0.36236,     0.36336,     0.36436,     0.36537,     0.36637,     0.36737,     0.36837,     0.36937,     0.37037,     0.37137,     0.37237,     0.37337,     0.37437,     0.37538,     0.37638,     0.37738,     0.37838,     0.37938,     0.38038,     0.38138,     0.38238,     0.38338,\n",
       "           0.38438,     0.38539,     0.38639,     0.38739,     0.38839,     0.38939,     0.39039,     0.39139,     0.39239,     0.39339,     0.39439,      0.3954,      0.3964,      0.3974,      0.3984,      0.3994,      0.4004,      0.4014,      0.4024,      0.4034,      0.4044,     0.40541,     0.40641,     0.40741,\n",
       "           0.40841,     0.40941,     0.41041,     0.41141,     0.41241,     0.41341,     0.41441,     0.41542,     0.41642,     0.41742,     0.41842,     0.41942,     0.42042,     0.42142,     0.42242,     0.42342,     0.42442,     0.42543,     0.42643,     0.42743,     0.42843,     0.42943,     0.43043,     0.43143,\n",
       "           0.43243,     0.43343,     0.43443,     0.43544,     0.43644,     0.43744,     0.43844,     0.43944,     0.44044,     0.44144,     0.44244,     0.44344,     0.44444,     0.44545,     0.44645,     0.44745,     0.44845,     0.44945,     0.45045,     0.45145,     0.45245,     0.45345,     0.45445,     0.45546,\n",
       "           0.45646,     0.45746,     0.45846,     0.45946,     0.46046,     0.46146,     0.46246,     0.46346,     0.46446,     0.46547,     0.46647,     0.46747,     0.46847,     0.46947,     0.47047,     0.47147,     0.47247,     0.47347,     0.47447,     0.47548,     0.47648,     0.47748,     0.47848,     0.47948,\n",
       "           0.48048,     0.48148,     0.48248,     0.48348,     0.48448,     0.48549,     0.48649,     0.48749,     0.48849,     0.48949,     0.49049,     0.49149,     0.49249,     0.49349,     0.49449,      0.4955,      0.4965,      0.4975,      0.4985,      0.4995,      0.5005,      0.5015,      0.5025,      0.5035,\n",
       "            0.5045,     0.50551,     0.50651,     0.50751,     0.50851,     0.50951,     0.51051,     0.51151,     0.51251,     0.51351,     0.51451,     0.51552,     0.51652,     0.51752,     0.51852,     0.51952,     0.52052,     0.52152,     0.52252,     0.52352,     0.52452,     0.52553,     0.52653,     0.52753,\n",
       "           0.52853,     0.52953,     0.53053,     0.53153,     0.53253,     0.53353,     0.53453,     0.53554,     0.53654,     0.53754,     0.53854,     0.53954,     0.54054,     0.54154,     0.54254,     0.54354,     0.54454,     0.54555,     0.54655,     0.54755,     0.54855,     0.54955,     0.55055,     0.55155,\n",
       "           0.55255,     0.55355,     0.55455,     0.55556,     0.55656,     0.55756,     0.55856,     0.55956,     0.56056,     0.56156,     0.56256,     0.56356,     0.56456,     0.56557,     0.56657,     0.56757,     0.56857,     0.56957,     0.57057,     0.57157,     0.57257,     0.57357,     0.57457,     0.57558,\n",
       "           0.57658,     0.57758,     0.57858,     0.57958,     0.58058,     0.58158,     0.58258,     0.58358,     0.58458,     0.58559,     0.58659,     0.58759,     0.58859,     0.58959,     0.59059,     0.59159,     0.59259,     0.59359,     0.59459,      0.5956,      0.5966,      0.5976,      0.5986,      0.5996,\n",
       "            0.6006,      0.6016,      0.6026,      0.6036,      0.6046,     0.60561,     0.60661,     0.60761,     0.60861,     0.60961,     0.61061,     0.61161,     0.61261,     0.61361,     0.61461,     0.61562,     0.61662,     0.61762,     0.61862,     0.61962,     0.62062,     0.62162,     0.62262,     0.62362,\n",
       "           0.62462,     0.62563,     0.62663,     0.62763,     0.62863,     0.62963,     0.63063,     0.63163,     0.63263,     0.63363,     0.63463,     0.63564,     0.63664,     0.63764,     0.63864,     0.63964,     0.64064,     0.64164,     0.64264,     0.64364,     0.64464,     0.64565,     0.64665,     0.64765,\n",
       "           0.64865,     0.64965,     0.65065,     0.65165,     0.65265,     0.65365,     0.65465,     0.65566,     0.65666,     0.65766,     0.65866,     0.65966,     0.66066,     0.66166,     0.66266,     0.66366,     0.66466,     0.66567,     0.66667,     0.66767,     0.66867,     0.66967,     0.67067,     0.67167,\n",
       "           0.67267,     0.67367,     0.67467,     0.67568,     0.67668,     0.67768,     0.67868,     0.67968,     0.68068,     0.68168,     0.68268,     0.68368,     0.68468,     0.68569,     0.68669,     0.68769,     0.68869,     0.68969,     0.69069,     0.69169,     0.69269,     0.69369,     0.69469,      0.6957,\n",
       "            0.6967,      0.6977,      0.6987,      0.6997,      0.7007,      0.7017,      0.7027,      0.7037,      0.7047,     0.70571,     0.70671,     0.70771,     0.70871,     0.70971,     0.71071,     0.71171,     0.71271,     0.71371,     0.71471,     0.71572,     0.71672,     0.71772,     0.71872,     0.71972,\n",
       "           0.72072,     0.72172,     0.72272,     0.72372,     0.72472,     0.72573,     0.72673,     0.72773,     0.72873,     0.72973,     0.73073,     0.73173,     0.73273,     0.73373,     0.73473,     0.73574,     0.73674,     0.73774,     0.73874,     0.73974,     0.74074,     0.74174,     0.74274,     0.74374,\n",
       "           0.74474,     0.74575,     0.74675,     0.74775,     0.74875,     0.74975,     0.75075,     0.75175,     0.75275,     0.75375,     0.75475,     0.75576,     0.75676,     0.75776,     0.75876,     0.75976,     0.76076,     0.76176,     0.76276,     0.76376,     0.76476,     0.76577,     0.76677,     0.76777,\n",
       "           0.76877,     0.76977,     0.77077,     0.77177,     0.77277,     0.77377,     0.77477,     0.77578,     0.77678,     0.77778,     0.77878,     0.77978,     0.78078,     0.78178,     0.78278,     0.78378,     0.78478,     0.78579,     0.78679,     0.78779,     0.78879,     0.78979,     0.79079,     0.79179,\n",
       "           0.79279,     0.79379,     0.79479,      0.7958,      0.7968,      0.7978,      0.7988,      0.7998,      0.8008,      0.8018,      0.8028,      0.8038,      0.8048,     0.80581,     0.80681,     0.80781,     0.80881,     0.80981,     0.81081,     0.81181,     0.81281,     0.81381,     0.81481,     0.81582,\n",
       "           0.81682,     0.81782,     0.81882,     0.81982,     0.82082,     0.82182,     0.82282,     0.82382,     0.82482,     0.82583,     0.82683,     0.82783,     0.82883,     0.82983,     0.83083,     0.83183,     0.83283,     0.83383,     0.83483,     0.83584,     0.83684,     0.83784,     0.83884,     0.83984,\n",
       "           0.84084,     0.84184,     0.84284,     0.84384,     0.84484,     0.84585,     0.84685,     0.84785,     0.84885,     0.84985,     0.85085,     0.85185,     0.85285,     0.85385,     0.85485,     0.85586,     0.85686,     0.85786,     0.85886,     0.85986,     0.86086,     0.86186,     0.86286,     0.86386,\n",
       "           0.86486,     0.86587,     0.86687,     0.86787,     0.86887,     0.86987,     0.87087,     0.87187,     0.87287,     0.87387,     0.87487,     0.87588,     0.87688,     0.87788,     0.87888,     0.87988,     0.88088,     0.88188,     0.88288,     0.88388,     0.88488,     0.88589,     0.88689,     0.88789,\n",
       "           0.88889,     0.88989,     0.89089,     0.89189,     0.89289,     0.89389,     0.89489,      0.8959,      0.8969,      0.8979,      0.8989,      0.8999,      0.9009,      0.9019,      0.9029,      0.9039,      0.9049,     0.90591,     0.90691,     0.90791,     0.90891,     0.90991,     0.91091,     0.91191,\n",
       "           0.91291,     0.91391,     0.91491,     0.91592,     0.91692,     0.91792,     0.91892,     0.91992,     0.92092,     0.92192,     0.92292,     0.92392,     0.92492,     0.92593,     0.92693,     0.92793,     0.92893,     0.92993,     0.93093,     0.93193,     0.93293,     0.93393,     0.93493,     0.93594,\n",
       "           0.93694,     0.93794,     0.93894,     0.93994,     0.94094,     0.94194,     0.94294,     0.94394,     0.94494,     0.94595,     0.94695,     0.94795,     0.94895,     0.94995,     0.95095,     0.95195,     0.95295,     0.95395,     0.95495,     0.95596,     0.95696,     0.95796,     0.95896,     0.95996,\n",
       "           0.96096,     0.96196,     0.96296,     0.96396,     0.96496,     0.96597,     0.96697,     0.96797,     0.96897,     0.96997,     0.97097,     0.97197,     0.97297,     0.97397,     0.97497,     0.97598,     0.97698,     0.97798,     0.97898,     0.97998,     0.98098,     0.98198,     0.98298,     0.98398,\n",
       "           0.98498,     0.98599,     0.98699,     0.98799,     0.98899,     0.98999,     0.99099,     0.99199,     0.99299,     0.99399,     0.99499,       0.996,       0.997,       0.998,       0.999,           1]), array([[          1,           1,           1, ...,           0,           0,           0],\n",
       "       [          1,           1,           1, ...,           0,           0,           0],\n",
       "       [          1,           1,           1, ...,           0,           0,           0]]), 'Confidence', 'Recall'], [array([          0,    0.001001,    0.002002,    0.003003,    0.004004,    0.005005,    0.006006,    0.007007,    0.008008,    0.009009,     0.01001,    0.011011,    0.012012,    0.013013,    0.014014,    0.015015,    0.016016,    0.017017,    0.018018,    0.019019,     0.02002,    0.021021,    0.022022,    0.023023,\n",
       "          0.024024,    0.025025,    0.026026,    0.027027,    0.028028,    0.029029,     0.03003,    0.031031,    0.032032,    0.033033,    0.034034,    0.035035,    0.036036,    0.037037,    0.038038,    0.039039,     0.04004,    0.041041,    0.042042,    0.043043,    0.044044,    0.045045,    0.046046,    0.047047,\n",
       "          0.048048,    0.049049,     0.05005,    0.051051,    0.052052,    0.053053,    0.054054,    0.055055,    0.056056,    0.057057,    0.058058,    0.059059,     0.06006,    0.061061,    0.062062,    0.063063,    0.064064,    0.065065,    0.066066,    0.067067,    0.068068,    0.069069,     0.07007,    0.071071,\n",
       "          0.072072,    0.073073,    0.074074,    0.075075,    0.076076,    0.077077,    0.078078,    0.079079,     0.08008,    0.081081,    0.082082,    0.083083,    0.084084,    0.085085,    0.086086,    0.087087,    0.088088,    0.089089,     0.09009,    0.091091,    0.092092,    0.093093,    0.094094,    0.095095,\n",
       "          0.096096,    0.097097,    0.098098,    0.099099,      0.1001,      0.1011,      0.1021,      0.1031,      0.1041,     0.10511,     0.10611,     0.10711,     0.10811,     0.10911,     0.11011,     0.11111,     0.11211,     0.11311,     0.11411,     0.11512,     0.11612,     0.11712,     0.11812,     0.11912,\n",
       "           0.12012,     0.12112,     0.12212,     0.12312,     0.12412,     0.12513,     0.12613,     0.12713,     0.12813,     0.12913,     0.13013,     0.13113,     0.13213,     0.13313,     0.13413,     0.13514,     0.13614,     0.13714,     0.13814,     0.13914,     0.14014,     0.14114,     0.14214,     0.14314,\n",
       "           0.14414,     0.14515,     0.14615,     0.14715,     0.14815,     0.14915,     0.15015,     0.15115,     0.15215,     0.15315,     0.15415,     0.15516,     0.15616,     0.15716,     0.15816,     0.15916,     0.16016,     0.16116,     0.16216,     0.16316,     0.16416,     0.16517,     0.16617,     0.16717,\n",
       "           0.16817,     0.16917,     0.17017,     0.17117,     0.17217,     0.17317,     0.17417,     0.17518,     0.17618,     0.17718,     0.17818,     0.17918,     0.18018,     0.18118,     0.18218,     0.18318,     0.18418,     0.18519,     0.18619,     0.18719,     0.18819,     0.18919,     0.19019,     0.19119,\n",
       "           0.19219,     0.19319,     0.19419,      0.1952,      0.1962,      0.1972,      0.1982,      0.1992,      0.2002,      0.2012,      0.2022,      0.2032,      0.2042,     0.20521,     0.20621,     0.20721,     0.20821,     0.20921,     0.21021,     0.21121,     0.21221,     0.21321,     0.21421,     0.21522,\n",
       "           0.21622,     0.21722,     0.21822,     0.21922,     0.22022,     0.22122,     0.22222,     0.22322,     0.22422,     0.22523,     0.22623,     0.22723,     0.22823,     0.22923,     0.23023,     0.23123,     0.23223,     0.23323,     0.23423,     0.23524,     0.23624,     0.23724,     0.23824,     0.23924,\n",
       "           0.24024,     0.24124,     0.24224,     0.24324,     0.24424,     0.24525,     0.24625,     0.24725,     0.24825,     0.24925,     0.25025,     0.25125,     0.25225,     0.25325,     0.25425,     0.25526,     0.25626,     0.25726,     0.25826,     0.25926,     0.26026,     0.26126,     0.26226,     0.26326,\n",
       "           0.26426,     0.26527,     0.26627,     0.26727,     0.26827,     0.26927,     0.27027,     0.27127,     0.27227,     0.27327,     0.27427,     0.27528,     0.27628,     0.27728,     0.27828,     0.27928,     0.28028,     0.28128,     0.28228,     0.28328,     0.28428,     0.28529,     0.28629,     0.28729,\n",
       "           0.28829,     0.28929,     0.29029,     0.29129,     0.29229,     0.29329,     0.29429,      0.2953,      0.2963,      0.2973,      0.2983,      0.2993,      0.3003,      0.3013,      0.3023,      0.3033,      0.3043,     0.30531,     0.30631,     0.30731,     0.30831,     0.30931,     0.31031,     0.31131,\n",
       "           0.31231,     0.31331,     0.31431,     0.31532,     0.31632,     0.31732,     0.31832,     0.31932,     0.32032,     0.32132,     0.32232,     0.32332,     0.32432,     0.32533,     0.32633,     0.32733,     0.32833,     0.32933,     0.33033,     0.33133,     0.33233,     0.33333,     0.33433,     0.33534,\n",
       "           0.33634,     0.33734,     0.33834,     0.33934,     0.34034,     0.34134,     0.34234,     0.34334,     0.34434,     0.34535,     0.34635,     0.34735,     0.34835,     0.34935,     0.35035,     0.35135,     0.35235,     0.35335,     0.35435,     0.35536,     0.35636,     0.35736,     0.35836,     0.35936,\n",
       "           0.36036,     0.36136,     0.36236,     0.36336,     0.36436,     0.36537,     0.36637,     0.36737,     0.36837,     0.36937,     0.37037,     0.37137,     0.37237,     0.37337,     0.37437,     0.37538,     0.37638,     0.37738,     0.37838,     0.37938,     0.38038,     0.38138,     0.38238,     0.38338,\n",
       "           0.38438,     0.38539,     0.38639,     0.38739,     0.38839,     0.38939,     0.39039,     0.39139,     0.39239,     0.39339,     0.39439,      0.3954,      0.3964,      0.3974,      0.3984,      0.3994,      0.4004,      0.4014,      0.4024,      0.4034,      0.4044,     0.40541,     0.40641,     0.40741,\n",
       "           0.40841,     0.40941,     0.41041,     0.41141,     0.41241,     0.41341,     0.41441,     0.41542,     0.41642,     0.41742,     0.41842,     0.41942,     0.42042,     0.42142,     0.42242,     0.42342,     0.42442,     0.42543,     0.42643,     0.42743,     0.42843,     0.42943,     0.43043,     0.43143,\n",
       "           0.43243,     0.43343,     0.43443,     0.43544,     0.43644,     0.43744,     0.43844,     0.43944,     0.44044,     0.44144,     0.44244,     0.44344,     0.44444,     0.44545,     0.44645,     0.44745,     0.44845,     0.44945,     0.45045,     0.45145,     0.45245,     0.45345,     0.45445,     0.45546,\n",
       "           0.45646,     0.45746,     0.45846,     0.45946,     0.46046,     0.46146,     0.46246,     0.46346,     0.46446,     0.46547,     0.46647,     0.46747,     0.46847,     0.46947,     0.47047,     0.47147,     0.47247,     0.47347,     0.47447,     0.47548,     0.47648,     0.47748,     0.47848,     0.47948,\n",
       "           0.48048,     0.48148,     0.48248,     0.48348,     0.48448,     0.48549,     0.48649,     0.48749,     0.48849,     0.48949,     0.49049,     0.49149,     0.49249,     0.49349,     0.49449,      0.4955,      0.4965,      0.4975,      0.4985,      0.4995,      0.5005,      0.5015,      0.5025,      0.5035,\n",
       "            0.5045,     0.50551,     0.50651,     0.50751,     0.50851,     0.50951,     0.51051,     0.51151,     0.51251,     0.51351,     0.51451,     0.51552,     0.51652,     0.51752,     0.51852,     0.51952,     0.52052,     0.52152,     0.52252,     0.52352,     0.52452,     0.52553,     0.52653,     0.52753,\n",
       "           0.52853,     0.52953,     0.53053,     0.53153,     0.53253,     0.53353,     0.53453,     0.53554,     0.53654,     0.53754,     0.53854,     0.53954,     0.54054,     0.54154,     0.54254,     0.54354,     0.54454,     0.54555,     0.54655,     0.54755,     0.54855,     0.54955,     0.55055,     0.55155,\n",
       "           0.55255,     0.55355,     0.55455,     0.55556,     0.55656,     0.55756,     0.55856,     0.55956,     0.56056,     0.56156,     0.56256,     0.56356,     0.56456,     0.56557,     0.56657,     0.56757,     0.56857,     0.56957,     0.57057,     0.57157,     0.57257,     0.57357,     0.57457,     0.57558,\n",
       "           0.57658,     0.57758,     0.57858,     0.57958,     0.58058,     0.58158,     0.58258,     0.58358,     0.58458,     0.58559,     0.58659,     0.58759,     0.58859,     0.58959,     0.59059,     0.59159,     0.59259,     0.59359,     0.59459,      0.5956,      0.5966,      0.5976,      0.5986,      0.5996,\n",
       "            0.6006,      0.6016,      0.6026,      0.6036,      0.6046,     0.60561,     0.60661,     0.60761,     0.60861,     0.60961,     0.61061,     0.61161,     0.61261,     0.61361,     0.61461,     0.61562,     0.61662,     0.61762,     0.61862,     0.61962,     0.62062,     0.62162,     0.62262,     0.62362,\n",
       "           0.62462,     0.62563,     0.62663,     0.62763,     0.62863,     0.62963,     0.63063,     0.63163,     0.63263,     0.63363,     0.63463,     0.63564,     0.63664,     0.63764,     0.63864,     0.63964,     0.64064,     0.64164,     0.64264,     0.64364,     0.64464,     0.64565,     0.64665,     0.64765,\n",
       "           0.64865,     0.64965,     0.65065,     0.65165,     0.65265,     0.65365,     0.65465,     0.65566,     0.65666,     0.65766,     0.65866,     0.65966,     0.66066,     0.66166,     0.66266,     0.66366,     0.66466,     0.66567,     0.66667,     0.66767,     0.66867,     0.66967,     0.67067,     0.67167,\n",
       "           0.67267,     0.67367,     0.67467,     0.67568,     0.67668,     0.67768,     0.67868,     0.67968,     0.68068,     0.68168,     0.68268,     0.68368,     0.68468,     0.68569,     0.68669,     0.68769,     0.68869,     0.68969,     0.69069,     0.69169,     0.69269,     0.69369,     0.69469,      0.6957,\n",
       "            0.6967,      0.6977,      0.6987,      0.6997,      0.7007,      0.7017,      0.7027,      0.7037,      0.7047,     0.70571,     0.70671,     0.70771,     0.70871,     0.70971,     0.71071,     0.71171,     0.71271,     0.71371,     0.71471,     0.71572,     0.71672,     0.71772,     0.71872,     0.71972,\n",
       "           0.72072,     0.72172,     0.72272,     0.72372,     0.72472,     0.72573,     0.72673,     0.72773,     0.72873,     0.72973,     0.73073,     0.73173,     0.73273,     0.73373,     0.73473,     0.73574,     0.73674,     0.73774,     0.73874,     0.73974,     0.74074,     0.74174,     0.74274,     0.74374,\n",
       "           0.74474,     0.74575,     0.74675,     0.74775,     0.74875,     0.74975,     0.75075,     0.75175,     0.75275,     0.75375,     0.75475,     0.75576,     0.75676,     0.75776,     0.75876,     0.75976,     0.76076,     0.76176,     0.76276,     0.76376,     0.76476,     0.76577,     0.76677,     0.76777,\n",
       "           0.76877,     0.76977,     0.77077,     0.77177,     0.77277,     0.77377,     0.77477,     0.77578,     0.77678,     0.77778,     0.77878,     0.77978,     0.78078,     0.78178,     0.78278,     0.78378,     0.78478,     0.78579,     0.78679,     0.78779,     0.78879,     0.78979,     0.79079,     0.79179,\n",
       "           0.79279,     0.79379,     0.79479,      0.7958,      0.7968,      0.7978,      0.7988,      0.7998,      0.8008,      0.8018,      0.8028,      0.8038,      0.8048,     0.80581,     0.80681,     0.80781,     0.80881,     0.80981,     0.81081,     0.81181,     0.81281,     0.81381,     0.81481,     0.81582,\n",
       "           0.81682,     0.81782,     0.81882,     0.81982,     0.82082,     0.82182,     0.82282,     0.82382,     0.82482,     0.82583,     0.82683,     0.82783,     0.82883,     0.82983,     0.83083,     0.83183,     0.83283,     0.83383,     0.83483,     0.83584,     0.83684,     0.83784,     0.83884,     0.83984,\n",
       "           0.84084,     0.84184,     0.84284,     0.84384,     0.84484,     0.84585,     0.84685,     0.84785,     0.84885,     0.84985,     0.85085,     0.85185,     0.85285,     0.85385,     0.85485,     0.85586,     0.85686,     0.85786,     0.85886,     0.85986,     0.86086,     0.86186,     0.86286,     0.86386,\n",
       "           0.86486,     0.86587,     0.86687,     0.86787,     0.86887,     0.86987,     0.87087,     0.87187,     0.87287,     0.87387,     0.87487,     0.87588,     0.87688,     0.87788,     0.87888,     0.87988,     0.88088,     0.88188,     0.88288,     0.88388,     0.88488,     0.88589,     0.88689,     0.88789,\n",
       "           0.88889,     0.88989,     0.89089,     0.89189,     0.89289,     0.89389,     0.89489,      0.8959,      0.8969,      0.8979,      0.8989,      0.8999,      0.9009,      0.9019,      0.9029,      0.9039,      0.9049,     0.90591,     0.90691,     0.90791,     0.90891,     0.90991,     0.91091,     0.91191,\n",
       "           0.91291,     0.91391,     0.91491,     0.91592,     0.91692,     0.91792,     0.91892,     0.91992,     0.92092,     0.92192,     0.92292,     0.92392,     0.92492,     0.92593,     0.92693,     0.92793,     0.92893,     0.92993,     0.93093,     0.93193,     0.93293,     0.93393,     0.93493,     0.93594,\n",
       "           0.93694,     0.93794,     0.93894,     0.93994,     0.94094,     0.94194,     0.94294,     0.94394,     0.94494,     0.94595,     0.94695,     0.94795,     0.94895,     0.94995,     0.95095,     0.95195,     0.95295,     0.95395,     0.95495,     0.95596,     0.95696,     0.95796,     0.95896,     0.95996,\n",
       "           0.96096,     0.96196,     0.96296,     0.96396,     0.96496,     0.96597,     0.96697,     0.96797,     0.96897,     0.96997,     0.97097,     0.97197,     0.97297,     0.97397,     0.97497,     0.97598,     0.97698,     0.97798,     0.97898,     0.97998,     0.98098,     0.98198,     0.98298,     0.98398,\n",
       "           0.98498,     0.98599,     0.98699,     0.98799,     0.98899,     0.98999,     0.99099,     0.99199,     0.99299,     0.99399,     0.99499,       0.996,       0.997,       0.998,       0.999,           1]), array([[          1,           1,           1, ...,  8.2437e-05,  4.1219e-05,           0],\n",
       "       [          1,           1,           1, ...,  2.8222e-05,  1.4111e-05,           0],\n",
       "       [          1,           1,           1, ...,  8.1266e-05,  4.0633e-05,           0]]), 'Recall', 'Precision'], [array([          0,    0.001001,    0.002002,    0.003003,    0.004004,    0.005005,    0.006006,    0.007007,    0.008008,    0.009009,     0.01001,    0.011011,    0.012012,    0.013013,    0.014014,    0.015015,    0.016016,    0.017017,    0.018018,    0.019019,     0.02002,    0.021021,    0.022022,    0.023023,\n",
       "          0.024024,    0.025025,    0.026026,    0.027027,    0.028028,    0.029029,     0.03003,    0.031031,    0.032032,    0.033033,    0.034034,    0.035035,    0.036036,    0.037037,    0.038038,    0.039039,     0.04004,    0.041041,    0.042042,    0.043043,    0.044044,    0.045045,    0.046046,    0.047047,\n",
       "          0.048048,    0.049049,     0.05005,    0.051051,    0.052052,    0.053053,    0.054054,    0.055055,    0.056056,    0.057057,    0.058058,    0.059059,     0.06006,    0.061061,    0.062062,    0.063063,    0.064064,    0.065065,    0.066066,    0.067067,    0.068068,    0.069069,     0.07007,    0.071071,\n",
       "          0.072072,    0.073073,    0.074074,    0.075075,    0.076076,    0.077077,    0.078078,    0.079079,     0.08008,    0.081081,    0.082082,    0.083083,    0.084084,    0.085085,    0.086086,    0.087087,    0.088088,    0.089089,     0.09009,    0.091091,    0.092092,    0.093093,    0.094094,    0.095095,\n",
       "          0.096096,    0.097097,    0.098098,    0.099099,      0.1001,      0.1011,      0.1021,      0.1031,      0.1041,     0.10511,     0.10611,     0.10711,     0.10811,     0.10911,     0.11011,     0.11111,     0.11211,     0.11311,     0.11411,     0.11512,     0.11612,     0.11712,     0.11812,     0.11912,\n",
       "           0.12012,     0.12112,     0.12212,     0.12312,     0.12412,     0.12513,     0.12613,     0.12713,     0.12813,     0.12913,     0.13013,     0.13113,     0.13213,     0.13313,     0.13413,     0.13514,     0.13614,     0.13714,     0.13814,     0.13914,     0.14014,     0.14114,     0.14214,     0.14314,\n",
       "           0.14414,     0.14515,     0.14615,     0.14715,     0.14815,     0.14915,     0.15015,     0.15115,     0.15215,     0.15315,     0.15415,     0.15516,     0.15616,     0.15716,     0.15816,     0.15916,     0.16016,     0.16116,     0.16216,     0.16316,     0.16416,     0.16517,     0.16617,     0.16717,\n",
       "           0.16817,     0.16917,     0.17017,     0.17117,     0.17217,     0.17317,     0.17417,     0.17518,     0.17618,     0.17718,     0.17818,     0.17918,     0.18018,     0.18118,     0.18218,     0.18318,     0.18418,     0.18519,     0.18619,     0.18719,     0.18819,     0.18919,     0.19019,     0.19119,\n",
       "           0.19219,     0.19319,     0.19419,      0.1952,      0.1962,      0.1972,      0.1982,      0.1992,      0.2002,      0.2012,      0.2022,      0.2032,      0.2042,     0.20521,     0.20621,     0.20721,     0.20821,     0.20921,     0.21021,     0.21121,     0.21221,     0.21321,     0.21421,     0.21522,\n",
       "           0.21622,     0.21722,     0.21822,     0.21922,     0.22022,     0.22122,     0.22222,     0.22322,     0.22422,     0.22523,     0.22623,     0.22723,     0.22823,     0.22923,     0.23023,     0.23123,     0.23223,     0.23323,     0.23423,     0.23524,     0.23624,     0.23724,     0.23824,     0.23924,\n",
       "           0.24024,     0.24124,     0.24224,     0.24324,     0.24424,     0.24525,     0.24625,     0.24725,     0.24825,     0.24925,     0.25025,     0.25125,     0.25225,     0.25325,     0.25425,     0.25526,     0.25626,     0.25726,     0.25826,     0.25926,     0.26026,     0.26126,     0.26226,     0.26326,\n",
       "           0.26426,     0.26527,     0.26627,     0.26727,     0.26827,     0.26927,     0.27027,     0.27127,     0.27227,     0.27327,     0.27427,     0.27528,     0.27628,     0.27728,     0.27828,     0.27928,     0.28028,     0.28128,     0.28228,     0.28328,     0.28428,     0.28529,     0.28629,     0.28729,\n",
       "           0.28829,     0.28929,     0.29029,     0.29129,     0.29229,     0.29329,     0.29429,      0.2953,      0.2963,      0.2973,      0.2983,      0.2993,      0.3003,      0.3013,      0.3023,      0.3033,      0.3043,     0.30531,     0.30631,     0.30731,     0.30831,     0.30931,     0.31031,     0.31131,\n",
       "           0.31231,     0.31331,     0.31431,     0.31532,     0.31632,     0.31732,     0.31832,     0.31932,     0.32032,     0.32132,     0.32232,     0.32332,     0.32432,     0.32533,     0.32633,     0.32733,     0.32833,     0.32933,     0.33033,     0.33133,     0.33233,     0.33333,     0.33433,     0.33534,\n",
       "           0.33634,     0.33734,     0.33834,     0.33934,     0.34034,     0.34134,     0.34234,     0.34334,     0.34434,     0.34535,     0.34635,     0.34735,     0.34835,     0.34935,     0.35035,     0.35135,     0.35235,     0.35335,     0.35435,     0.35536,     0.35636,     0.35736,     0.35836,     0.35936,\n",
       "           0.36036,     0.36136,     0.36236,     0.36336,     0.36436,     0.36537,     0.36637,     0.36737,     0.36837,     0.36937,     0.37037,     0.37137,     0.37237,     0.37337,     0.37437,     0.37538,     0.37638,     0.37738,     0.37838,     0.37938,     0.38038,     0.38138,     0.38238,     0.38338,\n",
       "           0.38438,     0.38539,     0.38639,     0.38739,     0.38839,     0.38939,     0.39039,     0.39139,     0.39239,     0.39339,     0.39439,      0.3954,      0.3964,      0.3974,      0.3984,      0.3994,      0.4004,      0.4014,      0.4024,      0.4034,      0.4044,     0.40541,     0.40641,     0.40741,\n",
       "           0.40841,     0.40941,     0.41041,     0.41141,     0.41241,     0.41341,     0.41441,     0.41542,     0.41642,     0.41742,     0.41842,     0.41942,     0.42042,     0.42142,     0.42242,     0.42342,     0.42442,     0.42543,     0.42643,     0.42743,     0.42843,     0.42943,     0.43043,     0.43143,\n",
       "           0.43243,     0.43343,     0.43443,     0.43544,     0.43644,     0.43744,     0.43844,     0.43944,     0.44044,     0.44144,     0.44244,     0.44344,     0.44444,     0.44545,     0.44645,     0.44745,     0.44845,     0.44945,     0.45045,     0.45145,     0.45245,     0.45345,     0.45445,     0.45546,\n",
       "           0.45646,     0.45746,     0.45846,     0.45946,     0.46046,     0.46146,     0.46246,     0.46346,     0.46446,     0.46547,     0.46647,     0.46747,     0.46847,     0.46947,     0.47047,     0.47147,     0.47247,     0.47347,     0.47447,     0.47548,     0.47648,     0.47748,     0.47848,     0.47948,\n",
       "           0.48048,     0.48148,     0.48248,     0.48348,     0.48448,     0.48549,     0.48649,     0.48749,     0.48849,     0.48949,     0.49049,     0.49149,     0.49249,     0.49349,     0.49449,      0.4955,      0.4965,      0.4975,      0.4985,      0.4995,      0.5005,      0.5015,      0.5025,      0.5035,\n",
       "            0.5045,     0.50551,     0.50651,     0.50751,     0.50851,     0.50951,     0.51051,     0.51151,     0.51251,     0.51351,     0.51451,     0.51552,     0.51652,     0.51752,     0.51852,     0.51952,     0.52052,     0.52152,     0.52252,     0.52352,     0.52452,     0.52553,     0.52653,     0.52753,\n",
       "           0.52853,     0.52953,     0.53053,     0.53153,     0.53253,     0.53353,     0.53453,     0.53554,     0.53654,     0.53754,     0.53854,     0.53954,     0.54054,     0.54154,     0.54254,     0.54354,     0.54454,     0.54555,     0.54655,     0.54755,     0.54855,     0.54955,     0.55055,     0.55155,\n",
       "           0.55255,     0.55355,     0.55455,     0.55556,     0.55656,     0.55756,     0.55856,     0.55956,     0.56056,     0.56156,     0.56256,     0.56356,     0.56456,     0.56557,     0.56657,     0.56757,     0.56857,     0.56957,     0.57057,     0.57157,     0.57257,     0.57357,     0.57457,     0.57558,\n",
       "           0.57658,     0.57758,     0.57858,     0.57958,     0.58058,     0.58158,     0.58258,     0.58358,     0.58458,     0.58559,     0.58659,     0.58759,     0.58859,     0.58959,     0.59059,     0.59159,     0.59259,     0.59359,     0.59459,      0.5956,      0.5966,      0.5976,      0.5986,      0.5996,\n",
       "            0.6006,      0.6016,      0.6026,      0.6036,      0.6046,     0.60561,     0.60661,     0.60761,     0.60861,     0.60961,     0.61061,     0.61161,     0.61261,     0.61361,     0.61461,     0.61562,     0.61662,     0.61762,     0.61862,     0.61962,     0.62062,     0.62162,     0.62262,     0.62362,\n",
       "           0.62462,     0.62563,     0.62663,     0.62763,     0.62863,     0.62963,     0.63063,     0.63163,     0.63263,     0.63363,     0.63463,     0.63564,     0.63664,     0.63764,     0.63864,     0.63964,     0.64064,     0.64164,     0.64264,     0.64364,     0.64464,     0.64565,     0.64665,     0.64765,\n",
       "           0.64865,     0.64965,     0.65065,     0.65165,     0.65265,     0.65365,     0.65465,     0.65566,     0.65666,     0.65766,     0.65866,     0.65966,     0.66066,     0.66166,     0.66266,     0.66366,     0.66466,     0.66567,     0.66667,     0.66767,     0.66867,     0.66967,     0.67067,     0.67167,\n",
       "           0.67267,     0.67367,     0.67467,     0.67568,     0.67668,     0.67768,     0.67868,     0.67968,     0.68068,     0.68168,     0.68268,     0.68368,     0.68468,     0.68569,     0.68669,     0.68769,     0.68869,     0.68969,     0.69069,     0.69169,     0.69269,     0.69369,     0.69469,      0.6957,\n",
       "            0.6967,      0.6977,      0.6987,      0.6997,      0.7007,      0.7017,      0.7027,      0.7037,      0.7047,     0.70571,     0.70671,     0.70771,     0.70871,     0.70971,     0.71071,     0.71171,     0.71271,     0.71371,     0.71471,     0.71572,     0.71672,     0.71772,     0.71872,     0.71972,\n",
       "           0.72072,     0.72172,     0.72272,     0.72372,     0.72472,     0.72573,     0.72673,     0.72773,     0.72873,     0.72973,     0.73073,     0.73173,     0.73273,     0.73373,     0.73473,     0.73574,     0.73674,     0.73774,     0.73874,     0.73974,     0.74074,     0.74174,     0.74274,     0.74374,\n",
       "           0.74474,     0.74575,     0.74675,     0.74775,     0.74875,     0.74975,     0.75075,     0.75175,     0.75275,     0.75375,     0.75475,     0.75576,     0.75676,     0.75776,     0.75876,     0.75976,     0.76076,     0.76176,     0.76276,     0.76376,     0.76476,     0.76577,     0.76677,     0.76777,\n",
       "           0.76877,     0.76977,     0.77077,     0.77177,     0.77277,     0.77377,     0.77477,     0.77578,     0.77678,     0.77778,     0.77878,     0.77978,     0.78078,     0.78178,     0.78278,     0.78378,     0.78478,     0.78579,     0.78679,     0.78779,     0.78879,     0.78979,     0.79079,     0.79179,\n",
       "           0.79279,     0.79379,     0.79479,      0.7958,      0.7968,      0.7978,      0.7988,      0.7998,      0.8008,      0.8018,      0.8028,      0.8038,      0.8048,     0.80581,     0.80681,     0.80781,     0.80881,     0.80981,     0.81081,     0.81181,     0.81281,     0.81381,     0.81481,     0.81582,\n",
       "           0.81682,     0.81782,     0.81882,     0.81982,     0.82082,     0.82182,     0.82282,     0.82382,     0.82482,     0.82583,     0.82683,     0.82783,     0.82883,     0.82983,     0.83083,     0.83183,     0.83283,     0.83383,     0.83483,     0.83584,     0.83684,     0.83784,     0.83884,     0.83984,\n",
       "           0.84084,     0.84184,     0.84284,     0.84384,     0.84484,     0.84585,     0.84685,     0.84785,     0.84885,     0.84985,     0.85085,     0.85185,     0.85285,     0.85385,     0.85485,     0.85586,     0.85686,     0.85786,     0.85886,     0.85986,     0.86086,     0.86186,     0.86286,     0.86386,\n",
       "           0.86486,     0.86587,     0.86687,     0.86787,     0.86887,     0.86987,     0.87087,     0.87187,     0.87287,     0.87387,     0.87487,     0.87588,     0.87688,     0.87788,     0.87888,     0.87988,     0.88088,     0.88188,     0.88288,     0.88388,     0.88488,     0.88589,     0.88689,     0.88789,\n",
       "           0.88889,     0.88989,     0.89089,     0.89189,     0.89289,     0.89389,     0.89489,      0.8959,      0.8969,      0.8979,      0.8989,      0.8999,      0.9009,      0.9019,      0.9029,      0.9039,      0.9049,     0.90591,     0.90691,     0.90791,     0.90891,     0.90991,     0.91091,     0.91191,\n",
       "           0.91291,     0.91391,     0.91491,     0.91592,     0.91692,     0.91792,     0.91892,     0.91992,     0.92092,     0.92192,     0.92292,     0.92392,     0.92492,     0.92593,     0.92693,     0.92793,     0.92893,     0.92993,     0.93093,     0.93193,     0.93293,     0.93393,     0.93493,     0.93594,\n",
       "           0.93694,     0.93794,     0.93894,     0.93994,     0.94094,     0.94194,     0.94294,     0.94394,     0.94494,     0.94595,     0.94695,     0.94795,     0.94895,     0.94995,     0.95095,     0.95195,     0.95295,     0.95395,     0.95495,     0.95596,     0.95696,     0.95796,     0.95896,     0.95996,\n",
       "           0.96096,     0.96196,     0.96296,     0.96396,     0.96496,     0.96597,     0.96697,     0.96797,     0.96897,     0.96997,     0.97097,     0.97197,     0.97297,     0.97397,     0.97497,     0.97598,     0.97698,     0.97798,     0.97898,     0.97998,     0.98098,     0.98198,     0.98298,     0.98398,\n",
       "           0.98498,     0.98599,     0.98699,     0.98799,     0.98899,     0.98999,     0.99099,     0.99199,     0.99299,     0.99399,     0.99499,       0.996,       0.997,       0.998,       0.999,           1]), array([[   0.008198,    0.008198,    0.038785, ...,           0,           0,           0],\n",
       "       [   0.012033,    0.012033,    0.018529, ...,           0,           0,           0],\n",
       "       [   0.014371,    0.014371,    0.030326, ...,           0,           0,           0]]), 'Confidence', 'F1'], [array([          0,    0.001001,    0.002002,    0.003003,    0.004004,    0.005005,    0.006006,    0.007007,    0.008008,    0.009009,     0.01001,    0.011011,    0.012012,    0.013013,    0.014014,    0.015015,    0.016016,    0.017017,    0.018018,    0.019019,     0.02002,    0.021021,    0.022022,    0.023023,\n",
       "          0.024024,    0.025025,    0.026026,    0.027027,    0.028028,    0.029029,     0.03003,    0.031031,    0.032032,    0.033033,    0.034034,    0.035035,    0.036036,    0.037037,    0.038038,    0.039039,     0.04004,    0.041041,    0.042042,    0.043043,    0.044044,    0.045045,    0.046046,    0.047047,\n",
       "          0.048048,    0.049049,     0.05005,    0.051051,    0.052052,    0.053053,    0.054054,    0.055055,    0.056056,    0.057057,    0.058058,    0.059059,     0.06006,    0.061061,    0.062062,    0.063063,    0.064064,    0.065065,    0.066066,    0.067067,    0.068068,    0.069069,     0.07007,    0.071071,\n",
       "          0.072072,    0.073073,    0.074074,    0.075075,    0.076076,    0.077077,    0.078078,    0.079079,     0.08008,    0.081081,    0.082082,    0.083083,    0.084084,    0.085085,    0.086086,    0.087087,    0.088088,    0.089089,     0.09009,    0.091091,    0.092092,    0.093093,    0.094094,    0.095095,\n",
       "          0.096096,    0.097097,    0.098098,    0.099099,      0.1001,      0.1011,      0.1021,      0.1031,      0.1041,     0.10511,     0.10611,     0.10711,     0.10811,     0.10911,     0.11011,     0.11111,     0.11211,     0.11311,     0.11411,     0.11512,     0.11612,     0.11712,     0.11812,     0.11912,\n",
       "           0.12012,     0.12112,     0.12212,     0.12312,     0.12412,     0.12513,     0.12613,     0.12713,     0.12813,     0.12913,     0.13013,     0.13113,     0.13213,     0.13313,     0.13413,     0.13514,     0.13614,     0.13714,     0.13814,     0.13914,     0.14014,     0.14114,     0.14214,     0.14314,\n",
       "           0.14414,     0.14515,     0.14615,     0.14715,     0.14815,     0.14915,     0.15015,     0.15115,     0.15215,     0.15315,     0.15415,     0.15516,     0.15616,     0.15716,     0.15816,     0.15916,     0.16016,     0.16116,     0.16216,     0.16316,     0.16416,     0.16517,     0.16617,     0.16717,\n",
       "           0.16817,     0.16917,     0.17017,     0.17117,     0.17217,     0.17317,     0.17417,     0.17518,     0.17618,     0.17718,     0.17818,     0.17918,     0.18018,     0.18118,     0.18218,     0.18318,     0.18418,     0.18519,     0.18619,     0.18719,     0.18819,     0.18919,     0.19019,     0.19119,\n",
       "           0.19219,     0.19319,     0.19419,      0.1952,      0.1962,      0.1972,      0.1982,      0.1992,      0.2002,      0.2012,      0.2022,      0.2032,      0.2042,     0.20521,     0.20621,     0.20721,     0.20821,     0.20921,     0.21021,     0.21121,     0.21221,     0.21321,     0.21421,     0.21522,\n",
       "           0.21622,     0.21722,     0.21822,     0.21922,     0.22022,     0.22122,     0.22222,     0.22322,     0.22422,     0.22523,     0.22623,     0.22723,     0.22823,     0.22923,     0.23023,     0.23123,     0.23223,     0.23323,     0.23423,     0.23524,     0.23624,     0.23724,     0.23824,     0.23924,\n",
       "           0.24024,     0.24124,     0.24224,     0.24324,     0.24424,     0.24525,     0.24625,     0.24725,     0.24825,     0.24925,     0.25025,     0.25125,     0.25225,     0.25325,     0.25425,     0.25526,     0.25626,     0.25726,     0.25826,     0.25926,     0.26026,     0.26126,     0.26226,     0.26326,\n",
       "           0.26426,     0.26527,     0.26627,     0.26727,     0.26827,     0.26927,     0.27027,     0.27127,     0.27227,     0.27327,     0.27427,     0.27528,     0.27628,     0.27728,     0.27828,     0.27928,     0.28028,     0.28128,     0.28228,     0.28328,     0.28428,     0.28529,     0.28629,     0.28729,\n",
       "           0.28829,     0.28929,     0.29029,     0.29129,     0.29229,     0.29329,     0.29429,      0.2953,      0.2963,      0.2973,      0.2983,      0.2993,      0.3003,      0.3013,      0.3023,      0.3033,      0.3043,     0.30531,     0.30631,     0.30731,     0.30831,     0.30931,     0.31031,     0.31131,\n",
       "           0.31231,     0.31331,     0.31431,     0.31532,     0.31632,     0.31732,     0.31832,     0.31932,     0.32032,     0.32132,     0.32232,     0.32332,     0.32432,     0.32533,     0.32633,     0.32733,     0.32833,     0.32933,     0.33033,     0.33133,     0.33233,     0.33333,     0.33433,     0.33534,\n",
       "           0.33634,     0.33734,     0.33834,     0.33934,     0.34034,     0.34134,     0.34234,     0.34334,     0.34434,     0.34535,     0.34635,     0.34735,     0.34835,     0.34935,     0.35035,     0.35135,     0.35235,     0.35335,     0.35435,     0.35536,     0.35636,     0.35736,     0.35836,     0.35936,\n",
       "           0.36036,     0.36136,     0.36236,     0.36336,     0.36436,     0.36537,     0.36637,     0.36737,     0.36837,     0.36937,     0.37037,     0.37137,     0.37237,     0.37337,     0.37437,     0.37538,     0.37638,     0.37738,     0.37838,     0.37938,     0.38038,     0.38138,     0.38238,     0.38338,\n",
       "           0.38438,     0.38539,     0.38639,     0.38739,     0.38839,     0.38939,     0.39039,     0.39139,     0.39239,     0.39339,     0.39439,      0.3954,      0.3964,      0.3974,      0.3984,      0.3994,      0.4004,      0.4014,      0.4024,      0.4034,      0.4044,     0.40541,     0.40641,     0.40741,\n",
       "           0.40841,     0.40941,     0.41041,     0.41141,     0.41241,     0.41341,     0.41441,     0.41542,     0.41642,     0.41742,     0.41842,     0.41942,     0.42042,     0.42142,     0.42242,     0.42342,     0.42442,     0.42543,     0.42643,     0.42743,     0.42843,     0.42943,     0.43043,     0.43143,\n",
       "           0.43243,     0.43343,     0.43443,     0.43544,     0.43644,     0.43744,     0.43844,     0.43944,     0.44044,     0.44144,     0.44244,     0.44344,     0.44444,     0.44545,     0.44645,     0.44745,     0.44845,     0.44945,     0.45045,     0.45145,     0.45245,     0.45345,     0.45445,     0.45546,\n",
       "           0.45646,     0.45746,     0.45846,     0.45946,     0.46046,     0.46146,     0.46246,     0.46346,     0.46446,     0.46547,     0.46647,     0.46747,     0.46847,     0.46947,     0.47047,     0.47147,     0.47247,     0.47347,     0.47447,     0.47548,     0.47648,     0.47748,     0.47848,     0.47948,\n",
       "           0.48048,     0.48148,     0.48248,     0.48348,     0.48448,     0.48549,     0.48649,     0.48749,     0.48849,     0.48949,     0.49049,     0.49149,     0.49249,     0.49349,     0.49449,      0.4955,      0.4965,      0.4975,      0.4985,      0.4995,      0.5005,      0.5015,      0.5025,      0.5035,\n",
       "            0.5045,     0.50551,     0.50651,     0.50751,     0.50851,     0.50951,     0.51051,     0.51151,     0.51251,     0.51351,     0.51451,     0.51552,     0.51652,     0.51752,     0.51852,     0.51952,     0.52052,     0.52152,     0.52252,     0.52352,     0.52452,     0.52553,     0.52653,     0.52753,\n",
       "           0.52853,     0.52953,     0.53053,     0.53153,     0.53253,     0.53353,     0.53453,     0.53554,     0.53654,     0.53754,     0.53854,     0.53954,     0.54054,     0.54154,     0.54254,     0.54354,     0.54454,     0.54555,     0.54655,     0.54755,     0.54855,     0.54955,     0.55055,     0.55155,\n",
       "           0.55255,     0.55355,     0.55455,     0.55556,     0.55656,     0.55756,     0.55856,     0.55956,     0.56056,     0.56156,     0.56256,     0.56356,     0.56456,     0.56557,     0.56657,     0.56757,     0.56857,     0.56957,     0.57057,     0.57157,     0.57257,     0.57357,     0.57457,     0.57558,\n",
       "           0.57658,     0.57758,     0.57858,     0.57958,     0.58058,     0.58158,     0.58258,     0.58358,     0.58458,     0.58559,     0.58659,     0.58759,     0.58859,     0.58959,     0.59059,     0.59159,     0.59259,     0.59359,     0.59459,      0.5956,      0.5966,      0.5976,      0.5986,      0.5996,\n",
       "            0.6006,      0.6016,      0.6026,      0.6036,      0.6046,     0.60561,     0.60661,     0.60761,     0.60861,     0.60961,     0.61061,     0.61161,     0.61261,     0.61361,     0.61461,     0.61562,     0.61662,     0.61762,     0.61862,     0.61962,     0.62062,     0.62162,     0.62262,     0.62362,\n",
       "           0.62462,     0.62563,     0.62663,     0.62763,     0.62863,     0.62963,     0.63063,     0.63163,     0.63263,     0.63363,     0.63463,     0.63564,     0.63664,     0.63764,     0.63864,     0.63964,     0.64064,     0.64164,     0.64264,     0.64364,     0.64464,     0.64565,     0.64665,     0.64765,\n",
       "           0.64865,     0.64965,     0.65065,     0.65165,     0.65265,     0.65365,     0.65465,     0.65566,     0.65666,     0.65766,     0.65866,     0.65966,     0.66066,     0.66166,     0.66266,     0.66366,     0.66466,     0.66567,     0.66667,     0.66767,     0.66867,     0.66967,     0.67067,     0.67167,\n",
       "           0.67267,     0.67367,     0.67467,     0.67568,     0.67668,     0.67768,     0.67868,     0.67968,     0.68068,     0.68168,     0.68268,     0.68368,     0.68468,     0.68569,     0.68669,     0.68769,     0.68869,     0.68969,     0.69069,     0.69169,     0.69269,     0.69369,     0.69469,      0.6957,\n",
       "            0.6967,      0.6977,      0.6987,      0.6997,      0.7007,      0.7017,      0.7027,      0.7037,      0.7047,     0.70571,     0.70671,     0.70771,     0.70871,     0.70971,     0.71071,     0.71171,     0.71271,     0.71371,     0.71471,     0.71572,     0.71672,     0.71772,     0.71872,     0.71972,\n",
       "           0.72072,     0.72172,     0.72272,     0.72372,     0.72472,     0.72573,     0.72673,     0.72773,     0.72873,     0.72973,     0.73073,     0.73173,     0.73273,     0.73373,     0.73473,     0.73574,     0.73674,     0.73774,     0.73874,     0.73974,     0.74074,     0.74174,     0.74274,     0.74374,\n",
       "           0.74474,     0.74575,     0.74675,     0.74775,     0.74875,     0.74975,     0.75075,     0.75175,     0.75275,     0.75375,     0.75475,     0.75576,     0.75676,     0.75776,     0.75876,     0.75976,     0.76076,     0.76176,     0.76276,     0.76376,     0.76476,     0.76577,     0.76677,     0.76777,\n",
       "           0.76877,     0.76977,     0.77077,     0.77177,     0.77277,     0.77377,     0.77477,     0.77578,     0.77678,     0.77778,     0.77878,     0.77978,     0.78078,     0.78178,     0.78278,     0.78378,     0.78478,     0.78579,     0.78679,     0.78779,     0.78879,     0.78979,     0.79079,     0.79179,\n",
       "           0.79279,     0.79379,     0.79479,      0.7958,      0.7968,      0.7978,      0.7988,      0.7998,      0.8008,      0.8018,      0.8028,      0.8038,      0.8048,     0.80581,     0.80681,     0.80781,     0.80881,     0.80981,     0.81081,     0.81181,     0.81281,     0.81381,     0.81481,     0.81582,\n",
       "           0.81682,     0.81782,     0.81882,     0.81982,     0.82082,     0.82182,     0.82282,     0.82382,     0.82482,     0.82583,     0.82683,     0.82783,     0.82883,     0.82983,     0.83083,     0.83183,     0.83283,     0.83383,     0.83483,     0.83584,     0.83684,     0.83784,     0.83884,     0.83984,\n",
       "           0.84084,     0.84184,     0.84284,     0.84384,     0.84484,     0.84585,     0.84685,     0.84785,     0.84885,     0.84985,     0.85085,     0.85185,     0.85285,     0.85385,     0.85485,     0.85586,     0.85686,     0.85786,     0.85886,     0.85986,     0.86086,     0.86186,     0.86286,     0.86386,\n",
       "           0.86486,     0.86587,     0.86687,     0.86787,     0.86887,     0.86987,     0.87087,     0.87187,     0.87287,     0.87387,     0.87487,     0.87588,     0.87688,     0.87788,     0.87888,     0.87988,     0.88088,     0.88188,     0.88288,     0.88388,     0.88488,     0.88589,     0.88689,     0.88789,\n",
       "           0.88889,     0.88989,     0.89089,     0.89189,     0.89289,     0.89389,     0.89489,      0.8959,      0.8969,      0.8979,      0.8989,      0.8999,      0.9009,      0.9019,      0.9029,      0.9039,      0.9049,     0.90591,     0.90691,     0.90791,     0.90891,     0.90991,     0.91091,     0.91191,\n",
       "           0.91291,     0.91391,     0.91491,     0.91592,     0.91692,     0.91792,     0.91892,     0.91992,     0.92092,     0.92192,     0.92292,     0.92392,     0.92492,     0.92593,     0.92693,     0.92793,     0.92893,     0.92993,     0.93093,     0.93193,     0.93293,     0.93393,     0.93493,     0.93594,\n",
       "           0.93694,     0.93794,     0.93894,     0.93994,     0.94094,     0.94194,     0.94294,     0.94394,     0.94494,     0.94595,     0.94695,     0.94795,     0.94895,     0.94995,     0.95095,     0.95195,     0.95295,     0.95395,     0.95495,     0.95596,     0.95696,     0.95796,     0.95896,     0.95996,\n",
       "           0.96096,     0.96196,     0.96296,     0.96396,     0.96496,     0.96597,     0.96697,     0.96797,     0.96897,     0.96997,     0.97097,     0.97197,     0.97297,     0.97397,     0.97497,     0.97598,     0.97698,     0.97798,     0.97898,     0.97998,     0.98098,     0.98198,     0.98298,     0.98398,\n",
       "           0.98498,     0.98599,     0.98699,     0.98799,     0.98899,     0.98999,     0.99099,     0.99199,     0.99299,     0.99399,     0.99499,       0.996,       0.997,       0.998,       0.999,           1]), array([[  0.0041177,   0.0041177,     0.01982, ...,           1,           1,           1],\n",
       "       [  0.0060809,   0.0060809,    0.009418, ...,           1,           1,           1],\n",
       "       [  0.0072487,   0.0072487,    0.015462, ...,           1,           1,           1]]), 'Confidence', 'Precision'], [array([          0,    0.001001,    0.002002,    0.003003,    0.004004,    0.005005,    0.006006,    0.007007,    0.008008,    0.009009,     0.01001,    0.011011,    0.012012,    0.013013,    0.014014,    0.015015,    0.016016,    0.017017,    0.018018,    0.019019,     0.02002,    0.021021,    0.022022,    0.023023,\n",
       "          0.024024,    0.025025,    0.026026,    0.027027,    0.028028,    0.029029,     0.03003,    0.031031,    0.032032,    0.033033,    0.034034,    0.035035,    0.036036,    0.037037,    0.038038,    0.039039,     0.04004,    0.041041,    0.042042,    0.043043,    0.044044,    0.045045,    0.046046,    0.047047,\n",
       "          0.048048,    0.049049,     0.05005,    0.051051,    0.052052,    0.053053,    0.054054,    0.055055,    0.056056,    0.057057,    0.058058,    0.059059,     0.06006,    0.061061,    0.062062,    0.063063,    0.064064,    0.065065,    0.066066,    0.067067,    0.068068,    0.069069,     0.07007,    0.071071,\n",
       "          0.072072,    0.073073,    0.074074,    0.075075,    0.076076,    0.077077,    0.078078,    0.079079,     0.08008,    0.081081,    0.082082,    0.083083,    0.084084,    0.085085,    0.086086,    0.087087,    0.088088,    0.089089,     0.09009,    0.091091,    0.092092,    0.093093,    0.094094,    0.095095,\n",
       "          0.096096,    0.097097,    0.098098,    0.099099,      0.1001,      0.1011,      0.1021,      0.1031,      0.1041,     0.10511,     0.10611,     0.10711,     0.10811,     0.10911,     0.11011,     0.11111,     0.11211,     0.11311,     0.11411,     0.11512,     0.11612,     0.11712,     0.11812,     0.11912,\n",
       "           0.12012,     0.12112,     0.12212,     0.12312,     0.12412,     0.12513,     0.12613,     0.12713,     0.12813,     0.12913,     0.13013,     0.13113,     0.13213,     0.13313,     0.13413,     0.13514,     0.13614,     0.13714,     0.13814,     0.13914,     0.14014,     0.14114,     0.14214,     0.14314,\n",
       "           0.14414,     0.14515,     0.14615,     0.14715,     0.14815,     0.14915,     0.15015,     0.15115,     0.15215,     0.15315,     0.15415,     0.15516,     0.15616,     0.15716,     0.15816,     0.15916,     0.16016,     0.16116,     0.16216,     0.16316,     0.16416,     0.16517,     0.16617,     0.16717,\n",
       "           0.16817,     0.16917,     0.17017,     0.17117,     0.17217,     0.17317,     0.17417,     0.17518,     0.17618,     0.17718,     0.17818,     0.17918,     0.18018,     0.18118,     0.18218,     0.18318,     0.18418,     0.18519,     0.18619,     0.18719,     0.18819,     0.18919,     0.19019,     0.19119,\n",
       "           0.19219,     0.19319,     0.19419,      0.1952,      0.1962,      0.1972,      0.1982,      0.1992,      0.2002,      0.2012,      0.2022,      0.2032,      0.2042,     0.20521,     0.20621,     0.20721,     0.20821,     0.20921,     0.21021,     0.21121,     0.21221,     0.21321,     0.21421,     0.21522,\n",
       "           0.21622,     0.21722,     0.21822,     0.21922,     0.22022,     0.22122,     0.22222,     0.22322,     0.22422,     0.22523,     0.22623,     0.22723,     0.22823,     0.22923,     0.23023,     0.23123,     0.23223,     0.23323,     0.23423,     0.23524,     0.23624,     0.23724,     0.23824,     0.23924,\n",
       "           0.24024,     0.24124,     0.24224,     0.24324,     0.24424,     0.24525,     0.24625,     0.24725,     0.24825,     0.24925,     0.25025,     0.25125,     0.25225,     0.25325,     0.25425,     0.25526,     0.25626,     0.25726,     0.25826,     0.25926,     0.26026,     0.26126,     0.26226,     0.26326,\n",
       "           0.26426,     0.26527,     0.26627,     0.26727,     0.26827,     0.26927,     0.27027,     0.27127,     0.27227,     0.27327,     0.27427,     0.27528,     0.27628,     0.27728,     0.27828,     0.27928,     0.28028,     0.28128,     0.28228,     0.28328,     0.28428,     0.28529,     0.28629,     0.28729,\n",
       "           0.28829,     0.28929,     0.29029,     0.29129,     0.29229,     0.29329,     0.29429,      0.2953,      0.2963,      0.2973,      0.2983,      0.2993,      0.3003,      0.3013,      0.3023,      0.3033,      0.3043,     0.30531,     0.30631,     0.30731,     0.30831,     0.30931,     0.31031,     0.31131,\n",
       "           0.31231,     0.31331,     0.31431,     0.31532,     0.31632,     0.31732,     0.31832,     0.31932,     0.32032,     0.32132,     0.32232,     0.32332,     0.32432,     0.32533,     0.32633,     0.32733,     0.32833,     0.32933,     0.33033,     0.33133,     0.33233,     0.33333,     0.33433,     0.33534,\n",
       "           0.33634,     0.33734,     0.33834,     0.33934,     0.34034,     0.34134,     0.34234,     0.34334,     0.34434,     0.34535,     0.34635,     0.34735,     0.34835,     0.34935,     0.35035,     0.35135,     0.35235,     0.35335,     0.35435,     0.35536,     0.35636,     0.35736,     0.35836,     0.35936,\n",
       "           0.36036,     0.36136,     0.36236,     0.36336,     0.36436,     0.36537,     0.36637,     0.36737,     0.36837,     0.36937,     0.37037,     0.37137,     0.37237,     0.37337,     0.37437,     0.37538,     0.37638,     0.37738,     0.37838,     0.37938,     0.38038,     0.38138,     0.38238,     0.38338,\n",
       "           0.38438,     0.38539,     0.38639,     0.38739,     0.38839,     0.38939,     0.39039,     0.39139,     0.39239,     0.39339,     0.39439,      0.3954,      0.3964,      0.3974,      0.3984,      0.3994,      0.4004,      0.4014,      0.4024,      0.4034,      0.4044,     0.40541,     0.40641,     0.40741,\n",
       "           0.40841,     0.40941,     0.41041,     0.41141,     0.41241,     0.41341,     0.41441,     0.41542,     0.41642,     0.41742,     0.41842,     0.41942,     0.42042,     0.42142,     0.42242,     0.42342,     0.42442,     0.42543,     0.42643,     0.42743,     0.42843,     0.42943,     0.43043,     0.43143,\n",
       "           0.43243,     0.43343,     0.43443,     0.43544,     0.43644,     0.43744,     0.43844,     0.43944,     0.44044,     0.44144,     0.44244,     0.44344,     0.44444,     0.44545,     0.44645,     0.44745,     0.44845,     0.44945,     0.45045,     0.45145,     0.45245,     0.45345,     0.45445,     0.45546,\n",
       "           0.45646,     0.45746,     0.45846,     0.45946,     0.46046,     0.46146,     0.46246,     0.46346,     0.46446,     0.46547,     0.46647,     0.46747,     0.46847,     0.46947,     0.47047,     0.47147,     0.47247,     0.47347,     0.47447,     0.47548,     0.47648,     0.47748,     0.47848,     0.47948,\n",
       "           0.48048,     0.48148,     0.48248,     0.48348,     0.48448,     0.48549,     0.48649,     0.48749,     0.48849,     0.48949,     0.49049,     0.49149,     0.49249,     0.49349,     0.49449,      0.4955,      0.4965,      0.4975,      0.4985,      0.4995,      0.5005,      0.5015,      0.5025,      0.5035,\n",
       "            0.5045,     0.50551,     0.50651,     0.50751,     0.50851,     0.50951,     0.51051,     0.51151,     0.51251,     0.51351,     0.51451,     0.51552,     0.51652,     0.51752,     0.51852,     0.51952,     0.52052,     0.52152,     0.52252,     0.52352,     0.52452,     0.52553,     0.52653,     0.52753,\n",
       "           0.52853,     0.52953,     0.53053,     0.53153,     0.53253,     0.53353,     0.53453,     0.53554,     0.53654,     0.53754,     0.53854,     0.53954,     0.54054,     0.54154,     0.54254,     0.54354,     0.54454,     0.54555,     0.54655,     0.54755,     0.54855,     0.54955,     0.55055,     0.55155,\n",
       "           0.55255,     0.55355,     0.55455,     0.55556,     0.55656,     0.55756,     0.55856,     0.55956,     0.56056,     0.56156,     0.56256,     0.56356,     0.56456,     0.56557,     0.56657,     0.56757,     0.56857,     0.56957,     0.57057,     0.57157,     0.57257,     0.57357,     0.57457,     0.57558,\n",
       "           0.57658,     0.57758,     0.57858,     0.57958,     0.58058,     0.58158,     0.58258,     0.58358,     0.58458,     0.58559,     0.58659,     0.58759,     0.58859,     0.58959,     0.59059,     0.59159,     0.59259,     0.59359,     0.59459,      0.5956,      0.5966,      0.5976,      0.5986,      0.5996,\n",
       "            0.6006,      0.6016,      0.6026,      0.6036,      0.6046,     0.60561,     0.60661,     0.60761,     0.60861,     0.60961,     0.61061,     0.61161,     0.61261,     0.61361,     0.61461,     0.61562,     0.61662,     0.61762,     0.61862,     0.61962,     0.62062,     0.62162,     0.62262,     0.62362,\n",
       "           0.62462,     0.62563,     0.62663,     0.62763,     0.62863,     0.62963,     0.63063,     0.63163,     0.63263,     0.63363,     0.63463,     0.63564,     0.63664,     0.63764,     0.63864,     0.63964,     0.64064,     0.64164,     0.64264,     0.64364,     0.64464,     0.64565,     0.64665,     0.64765,\n",
       "           0.64865,     0.64965,     0.65065,     0.65165,     0.65265,     0.65365,     0.65465,     0.65566,     0.65666,     0.65766,     0.65866,     0.65966,     0.66066,     0.66166,     0.66266,     0.66366,     0.66466,     0.66567,     0.66667,     0.66767,     0.66867,     0.66967,     0.67067,     0.67167,\n",
       "           0.67267,     0.67367,     0.67467,     0.67568,     0.67668,     0.67768,     0.67868,     0.67968,     0.68068,     0.68168,     0.68268,     0.68368,     0.68468,     0.68569,     0.68669,     0.68769,     0.68869,     0.68969,     0.69069,     0.69169,     0.69269,     0.69369,     0.69469,      0.6957,\n",
       "            0.6967,      0.6977,      0.6987,      0.6997,      0.7007,      0.7017,      0.7027,      0.7037,      0.7047,     0.70571,     0.70671,     0.70771,     0.70871,     0.70971,     0.71071,     0.71171,     0.71271,     0.71371,     0.71471,     0.71572,     0.71672,     0.71772,     0.71872,     0.71972,\n",
       "           0.72072,     0.72172,     0.72272,     0.72372,     0.72472,     0.72573,     0.72673,     0.72773,     0.72873,     0.72973,     0.73073,     0.73173,     0.73273,     0.73373,     0.73473,     0.73574,     0.73674,     0.73774,     0.73874,     0.73974,     0.74074,     0.74174,     0.74274,     0.74374,\n",
       "           0.74474,     0.74575,     0.74675,     0.74775,     0.74875,     0.74975,     0.75075,     0.75175,     0.75275,     0.75375,     0.75475,     0.75576,     0.75676,     0.75776,     0.75876,     0.75976,     0.76076,     0.76176,     0.76276,     0.76376,     0.76476,     0.76577,     0.76677,     0.76777,\n",
       "           0.76877,     0.76977,     0.77077,     0.77177,     0.77277,     0.77377,     0.77477,     0.77578,     0.77678,     0.77778,     0.77878,     0.77978,     0.78078,     0.78178,     0.78278,     0.78378,     0.78478,     0.78579,     0.78679,     0.78779,     0.78879,     0.78979,     0.79079,     0.79179,\n",
       "           0.79279,     0.79379,     0.79479,      0.7958,      0.7968,      0.7978,      0.7988,      0.7998,      0.8008,      0.8018,      0.8028,      0.8038,      0.8048,     0.80581,     0.80681,     0.80781,     0.80881,     0.80981,     0.81081,     0.81181,     0.81281,     0.81381,     0.81481,     0.81582,\n",
       "           0.81682,     0.81782,     0.81882,     0.81982,     0.82082,     0.82182,     0.82282,     0.82382,     0.82482,     0.82583,     0.82683,     0.82783,     0.82883,     0.82983,     0.83083,     0.83183,     0.83283,     0.83383,     0.83483,     0.83584,     0.83684,     0.83784,     0.83884,     0.83984,\n",
       "           0.84084,     0.84184,     0.84284,     0.84384,     0.84484,     0.84585,     0.84685,     0.84785,     0.84885,     0.84985,     0.85085,     0.85185,     0.85285,     0.85385,     0.85485,     0.85586,     0.85686,     0.85786,     0.85886,     0.85986,     0.86086,     0.86186,     0.86286,     0.86386,\n",
       "           0.86486,     0.86587,     0.86687,     0.86787,     0.86887,     0.86987,     0.87087,     0.87187,     0.87287,     0.87387,     0.87487,     0.87588,     0.87688,     0.87788,     0.87888,     0.87988,     0.88088,     0.88188,     0.88288,     0.88388,     0.88488,     0.88589,     0.88689,     0.88789,\n",
       "           0.88889,     0.88989,     0.89089,     0.89189,     0.89289,     0.89389,     0.89489,      0.8959,      0.8969,      0.8979,      0.8989,      0.8999,      0.9009,      0.9019,      0.9029,      0.9039,      0.9049,     0.90591,     0.90691,     0.90791,     0.90891,     0.90991,     0.91091,     0.91191,\n",
       "           0.91291,     0.91391,     0.91491,     0.91592,     0.91692,     0.91792,     0.91892,     0.91992,     0.92092,     0.92192,     0.92292,     0.92392,     0.92492,     0.92593,     0.92693,     0.92793,     0.92893,     0.92993,     0.93093,     0.93193,     0.93293,     0.93393,     0.93493,     0.93594,\n",
       "           0.93694,     0.93794,     0.93894,     0.93994,     0.94094,     0.94194,     0.94294,     0.94394,     0.94494,     0.94595,     0.94695,     0.94795,     0.94895,     0.94995,     0.95095,     0.95195,     0.95295,     0.95395,     0.95495,     0.95596,     0.95696,     0.95796,     0.95896,     0.95996,\n",
       "           0.96096,     0.96196,     0.96296,     0.96396,     0.96496,     0.96597,     0.96697,     0.96797,     0.96897,     0.96997,     0.97097,     0.97197,     0.97297,     0.97397,     0.97497,     0.97598,     0.97698,     0.97798,     0.97898,     0.97998,     0.98098,     0.98198,     0.98298,     0.98398,\n",
       "           0.98498,     0.98599,     0.98699,     0.98799,     0.98899,     0.98999,     0.99099,     0.99199,     0.99299,     0.99399,     0.99499,       0.996,       0.997,       0.998,       0.999,           1]), array([[        0.9,         0.9,         0.9, ...,           0,           0,           0],\n",
       "       [    0.56863,     0.56863,     0.56863, ...,           0,           0,           0],\n",
       "       [    0.82143,     0.82143,     0.78571, ...,           0,           0,           0]]), 'Confidence', 'Recall']]\n",
       "fitness: np.float64(0.7926359981363362)\n",
       "keys: ['metrics/precision(B)', 'metrics/recall(B)', 'metrics/mAP50(B)', 'metrics/mAP50-95(B)', 'metrics/precision(M)', 'metrics/recall(M)', 'metrics/mAP50(M)', 'metrics/mAP50-95(M)']\n",
       "maps: array([    0.72536,     0.91624,     0.48967,     0.77016])\n",
       "names: {0: 'none', 1: 'apple', 2: 'banana', 3: 'orange'}\n",
       "plot: True\n",
       "results_dict: {'metrics/precision(B)': np.float64(0.8778942765950305), 'metrics/recall(B)': np.float64(0.6683006535947712), 'metrics/mAP50(B)': np.float64(0.8216918792044897), 'metrics/mAP50-95(B)': np.float64(0.5266373737448119), 'metrics/precision(M)': np.float64(0.7463788066479958), 'metrics/recall(M)': np.float64(0.5514658369206047), 'metrics/mAP50(M)': np.float64(0.576428487951875), 'metrics/mAP50-95(M)': np.float64(0.1987225833892989), 'fitness': np.float64(0.7926359981363362)}\n",
       "save_dir: WindowsPath('fruit_detection_1/yolov8_fruit_detector_3')\n",
       "seg: ultralytics.utils.metrics.Metric object\n",
       "speed: {'preprocess': 4.998466102564234, 'inference': 217.3519762611743, 'loss': 0.00033898563203165085, 'postprocess': 9.581028815295737}\n",
       "task: 'segment'"
      ]
     },
     "execution_count": 154,
     "metadata": {},
     "output_type": "execute_result"
    }
   ],
   "source": [
    "model = YOLO(\"yolov8n-seg.pt\")  # detection model\n",
    "\n",
    "model.train(\n",
    "    data=\"fruit_dataset/data1.yaml\",\n",
    "    epochs=30,\n",
    "    imgsz=416,\n",
    "    batch=8,\n",
    "    project=\"fruit_detection_1\",\n",
    "    name=\"yolov8_fruit_detector_3\",\n",
    "    val=True\n",
    ")\n",
    "\n"
   ]
  },
  {
   "cell_type": "code",
   "execution_count": 156,
   "id": "f7aeca72-777a-44b4-9c52-f3b41be51aa7",
   "metadata": {},
   "outputs": [
    {
     "name": "stdout",
     "output_type": "stream",
     "text": [
      "Ultralytics 8.3.86  Python-3.12.4 torch-2.6.0+cu118 CPU (Intel Core(TM) i3-4005U 1.70GHz)\n",
      "YOLOv8n-seg summary (fused): 85 layers, 3,258,844 parameters, 0 gradients, 12.0 GFLOPs\n"
     ]
    },
    {
     "name": "stderr",
     "output_type": "stream",
     "text": [
      "\u001b[34m\u001b[1mval: \u001b[0mScanning C:\\Users\\user\\fruit_dataset\\valid\\labels.cache... 59 images, 0 backgrounds, 0 corrupt: 100%|██████████| 59/59 [00:00<?, ?it/s]\n",
      "                 Class     Images  Instances      Box(P          R      mAP50  mAP50-95)     Mask(P          R      mAP50  mAP50-95): 100%|██████████| 8/8 [00:22<00:00,  2.83s/it]\n"
     ]
    },
    {
     "name": "stdout",
     "output_type": "stream",
     "text": [
      "                   all         59        109      0.936      0.647      0.822      0.528      0.731      0.551      0.573        0.2\n",
      "                 apple         23         30      0.878      0.667      0.802      0.604      0.913      0.703      0.829      0.315\n",
      "                banana         25         51       0.93      0.549      0.784      0.456      0.359      0.235      0.171     0.0394\n",
      "                orange         16         28          1      0.726       0.88      0.524       0.92      0.714      0.718      0.245\n",
      "Speed: 4.1ms preprocess, 261.8ms inference, 0.0ms loss, 10.9ms postprocess per image\n",
      "Results saved to \u001b[1mfruit_detection_1\\yolov8_fruit_detector_32\u001b[0m\n",
      "ultralytics.utils.metrics.SegmentMetrics object with attributes:\n",
      "\n",
      "ap_class_index: array([1, 2, 3])\n",
      "box: ultralytics.utils.metrics.Metric object\n",
      "confusion_matrix: <ultralytics.utils.metrics.ConfusionMatrix object at 0x00000186D5CCCC20>\n",
      "curves: ['Precision-Recall(B)', 'F1-Confidence(B)', 'Precision-Confidence(B)', 'Recall-Confidence(B)', 'Precision-Recall(M)', 'F1-Confidence(M)', 'Precision-Confidence(M)', 'Recall-Confidence(M)']\n",
      "curves_results: [[array([          0,    0.001001,    0.002002,    0.003003,    0.004004,    0.005005,    0.006006,    0.007007,    0.008008,    0.009009,     0.01001,    0.011011,    0.012012,    0.013013,    0.014014,    0.015015,    0.016016,    0.017017,    0.018018,    0.019019,     0.02002,    0.021021,    0.022022,    0.023023,\n",
      "          0.024024,    0.025025,    0.026026,    0.027027,    0.028028,    0.029029,     0.03003,    0.031031,    0.032032,    0.033033,    0.034034,    0.035035,    0.036036,    0.037037,    0.038038,    0.039039,     0.04004,    0.041041,    0.042042,    0.043043,    0.044044,    0.045045,    0.046046,    0.047047,\n",
      "          0.048048,    0.049049,     0.05005,    0.051051,    0.052052,    0.053053,    0.054054,    0.055055,    0.056056,    0.057057,    0.058058,    0.059059,     0.06006,    0.061061,    0.062062,    0.063063,    0.064064,    0.065065,    0.066066,    0.067067,    0.068068,    0.069069,     0.07007,    0.071071,\n",
      "          0.072072,    0.073073,    0.074074,    0.075075,    0.076076,    0.077077,    0.078078,    0.079079,     0.08008,    0.081081,    0.082082,    0.083083,    0.084084,    0.085085,    0.086086,    0.087087,    0.088088,    0.089089,     0.09009,    0.091091,    0.092092,    0.093093,    0.094094,    0.095095,\n",
      "          0.096096,    0.097097,    0.098098,    0.099099,      0.1001,      0.1011,      0.1021,      0.1031,      0.1041,     0.10511,     0.10611,     0.10711,     0.10811,     0.10911,     0.11011,     0.11111,     0.11211,     0.11311,     0.11411,     0.11512,     0.11612,     0.11712,     0.11812,     0.11912,\n",
      "           0.12012,     0.12112,     0.12212,     0.12312,     0.12412,     0.12513,     0.12613,     0.12713,     0.12813,     0.12913,     0.13013,     0.13113,     0.13213,     0.13313,     0.13413,     0.13514,     0.13614,     0.13714,     0.13814,     0.13914,     0.14014,     0.14114,     0.14214,     0.14314,\n",
      "           0.14414,     0.14515,     0.14615,     0.14715,     0.14815,     0.14915,     0.15015,     0.15115,     0.15215,     0.15315,     0.15415,     0.15516,     0.15616,     0.15716,     0.15816,     0.15916,     0.16016,     0.16116,     0.16216,     0.16316,     0.16416,     0.16517,     0.16617,     0.16717,\n",
      "           0.16817,     0.16917,     0.17017,     0.17117,     0.17217,     0.17317,     0.17417,     0.17518,     0.17618,     0.17718,     0.17818,     0.17918,     0.18018,     0.18118,     0.18218,     0.18318,     0.18418,     0.18519,     0.18619,     0.18719,     0.18819,     0.18919,     0.19019,     0.19119,\n",
      "           0.19219,     0.19319,     0.19419,      0.1952,      0.1962,      0.1972,      0.1982,      0.1992,      0.2002,      0.2012,      0.2022,      0.2032,      0.2042,     0.20521,     0.20621,     0.20721,     0.20821,     0.20921,     0.21021,     0.21121,     0.21221,     0.21321,     0.21421,     0.21522,\n",
      "           0.21622,     0.21722,     0.21822,     0.21922,     0.22022,     0.22122,     0.22222,     0.22322,     0.22422,     0.22523,     0.22623,     0.22723,     0.22823,     0.22923,     0.23023,     0.23123,     0.23223,     0.23323,     0.23423,     0.23524,     0.23624,     0.23724,     0.23824,     0.23924,\n",
      "           0.24024,     0.24124,     0.24224,     0.24324,     0.24424,     0.24525,     0.24625,     0.24725,     0.24825,     0.24925,     0.25025,     0.25125,     0.25225,     0.25325,     0.25425,     0.25526,     0.25626,     0.25726,     0.25826,     0.25926,     0.26026,     0.26126,     0.26226,     0.26326,\n",
      "           0.26426,     0.26527,     0.26627,     0.26727,     0.26827,     0.26927,     0.27027,     0.27127,     0.27227,     0.27327,     0.27427,     0.27528,     0.27628,     0.27728,     0.27828,     0.27928,     0.28028,     0.28128,     0.28228,     0.28328,     0.28428,     0.28529,     0.28629,     0.28729,\n",
      "           0.28829,     0.28929,     0.29029,     0.29129,     0.29229,     0.29329,     0.29429,      0.2953,      0.2963,      0.2973,      0.2983,      0.2993,      0.3003,      0.3013,      0.3023,      0.3033,      0.3043,     0.30531,     0.30631,     0.30731,     0.30831,     0.30931,     0.31031,     0.31131,\n",
      "           0.31231,     0.31331,     0.31431,     0.31532,     0.31632,     0.31732,     0.31832,     0.31932,     0.32032,     0.32132,     0.32232,     0.32332,     0.32432,     0.32533,     0.32633,     0.32733,     0.32833,     0.32933,     0.33033,     0.33133,     0.33233,     0.33333,     0.33433,     0.33534,\n",
      "           0.33634,     0.33734,     0.33834,     0.33934,     0.34034,     0.34134,     0.34234,     0.34334,     0.34434,     0.34535,     0.34635,     0.34735,     0.34835,     0.34935,     0.35035,     0.35135,     0.35235,     0.35335,     0.35435,     0.35536,     0.35636,     0.35736,     0.35836,     0.35936,\n",
      "           0.36036,     0.36136,     0.36236,     0.36336,     0.36436,     0.36537,     0.36637,     0.36737,     0.36837,     0.36937,     0.37037,     0.37137,     0.37237,     0.37337,     0.37437,     0.37538,     0.37638,     0.37738,     0.37838,     0.37938,     0.38038,     0.38138,     0.38238,     0.38338,\n",
      "           0.38438,     0.38539,     0.38639,     0.38739,     0.38839,     0.38939,     0.39039,     0.39139,     0.39239,     0.39339,     0.39439,      0.3954,      0.3964,      0.3974,      0.3984,      0.3994,      0.4004,      0.4014,      0.4024,      0.4034,      0.4044,     0.40541,     0.40641,     0.40741,\n",
      "           0.40841,     0.40941,     0.41041,     0.41141,     0.41241,     0.41341,     0.41441,     0.41542,     0.41642,     0.41742,     0.41842,     0.41942,     0.42042,     0.42142,     0.42242,     0.42342,     0.42442,     0.42543,     0.42643,     0.42743,     0.42843,     0.42943,     0.43043,     0.43143,\n",
      "           0.43243,     0.43343,     0.43443,     0.43544,     0.43644,     0.43744,     0.43844,     0.43944,     0.44044,     0.44144,     0.44244,     0.44344,     0.44444,     0.44545,     0.44645,     0.44745,     0.44845,     0.44945,     0.45045,     0.45145,     0.45245,     0.45345,     0.45445,     0.45546,\n",
      "           0.45646,     0.45746,     0.45846,     0.45946,     0.46046,     0.46146,     0.46246,     0.46346,     0.46446,     0.46547,     0.46647,     0.46747,     0.46847,     0.46947,     0.47047,     0.47147,     0.47247,     0.47347,     0.47447,     0.47548,     0.47648,     0.47748,     0.47848,     0.47948,\n",
      "           0.48048,     0.48148,     0.48248,     0.48348,     0.48448,     0.48549,     0.48649,     0.48749,     0.48849,     0.48949,     0.49049,     0.49149,     0.49249,     0.49349,     0.49449,      0.4955,      0.4965,      0.4975,      0.4985,      0.4995,      0.5005,      0.5015,      0.5025,      0.5035,\n",
      "            0.5045,     0.50551,     0.50651,     0.50751,     0.50851,     0.50951,     0.51051,     0.51151,     0.51251,     0.51351,     0.51451,     0.51552,     0.51652,     0.51752,     0.51852,     0.51952,     0.52052,     0.52152,     0.52252,     0.52352,     0.52452,     0.52553,     0.52653,     0.52753,\n",
      "           0.52853,     0.52953,     0.53053,     0.53153,     0.53253,     0.53353,     0.53453,     0.53554,     0.53654,     0.53754,     0.53854,     0.53954,     0.54054,     0.54154,     0.54254,     0.54354,     0.54454,     0.54555,     0.54655,     0.54755,     0.54855,     0.54955,     0.55055,     0.55155,\n",
      "           0.55255,     0.55355,     0.55455,     0.55556,     0.55656,     0.55756,     0.55856,     0.55956,     0.56056,     0.56156,     0.56256,     0.56356,     0.56456,     0.56557,     0.56657,     0.56757,     0.56857,     0.56957,     0.57057,     0.57157,     0.57257,     0.57357,     0.57457,     0.57558,\n",
      "           0.57658,     0.57758,     0.57858,     0.57958,     0.58058,     0.58158,     0.58258,     0.58358,     0.58458,     0.58559,     0.58659,     0.58759,     0.58859,     0.58959,     0.59059,     0.59159,     0.59259,     0.59359,     0.59459,      0.5956,      0.5966,      0.5976,      0.5986,      0.5996,\n",
      "            0.6006,      0.6016,      0.6026,      0.6036,      0.6046,     0.60561,     0.60661,     0.60761,     0.60861,     0.60961,     0.61061,     0.61161,     0.61261,     0.61361,     0.61461,     0.61562,     0.61662,     0.61762,     0.61862,     0.61962,     0.62062,     0.62162,     0.62262,     0.62362,\n",
      "           0.62462,     0.62563,     0.62663,     0.62763,     0.62863,     0.62963,     0.63063,     0.63163,     0.63263,     0.63363,     0.63463,     0.63564,     0.63664,     0.63764,     0.63864,     0.63964,     0.64064,     0.64164,     0.64264,     0.64364,     0.64464,     0.64565,     0.64665,     0.64765,\n",
      "           0.64865,     0.64965,     0.65065,     0.65165,     0.65265,     0.65365,     0.65465,     0.65566,     0.65666,     0.65766,     0.65866,     0.65966,     0.66066,     0.66166,     0.66266,     0.66366,     0.66466,     0.66567,     0.66667,     0.66767,     0.66867,     0.66967,     0.67067,     0.67167,\n",
      "           0.67267,     0.67367,     0.67467,     0.67568,     0.67668,     0.67768,     0.67868,     0.67968,     0.68068,     0.68168,     0.68268,     0.68368,     0.68468,     0.68569,     0.68669,     0.68769,     0.68869,     0.68969,     0.69069,     0.69169,     0.69269,     0.69369,     0.69469,      0.6957,\n",
      "            0.6967,      0.6977,      0.6987,      0.6997,      0.7007,      0.7017,      0.7027,      0.7037,      0.7047,     0.70571,     0.70671,     0.70771,     0.70871,     0.70971,     0.71071,     0.71171,     0.71271,     0.71371,     0.71471,     0.71572,     0.71672,     0.71772,     0.71872,     0.71972,\n",
      "           0.72072,     0.72172,     0.72272,     0.72372,     0.72472,     0.72573,     0.72673,     0.72773,     0.72873,     0.72973,     0.73073,     0.73173,     0.73273,     0.73373,     0.73473,     0.73574,     0.73674,     0.73774,     0.73874,     0.73974,     0.74074,     0.74174,     0.74274,     0.74374,\n",
      "           0.74474,     0.74575,     0.74675,     0.74775,     0.74875,     0.74975,     0.75075,     0.75175,     0.75275,     0.75375,     0.75475,     0.75576,     0.75676,     0.75776,     0.75876,     0.75976,     0.76076,     0.76176,     0.76276,     0.76376,     0.76476,     0.76577,     0.76677,     0.76777,\n",
      "           0.76877,     0.76977,     0.77077,     0.77177,     0.77277,     0.77377,     0.77477,     0.77578,     0.77678,     0.77778,     0.77878,     0.77978,     0.78078,     0.78178,     0.78278,     0.78378,     0.78478,     0.78579,     0.78679,     0.78779,     0.78879,     0.78979,     0.79079,     0.79179,\n",
      "           0.79279,     0.79379,     0.79479,      0.7958,      0.7968,      0.7978,      0.7988,      0.7998,      0.8008,      0.8018,      0.8028,      0.8038,      0.8048,     0.80581,     0.80681,     0.80781,     0.80881,     0.80981,     0.81081,     0.81181,     0.81281,     0.81381,     0.81481,     0.81582,\n",
      "           0.81682,     0.81782,     0.81882,     0.81982,     0.82082,     0.82182,     0.82282,     0.82382,     0.82482,     0.82583,     0.82683,     0.82783,     0.82883,     0.82983,     0.83083,     0.83183,     0.83283,     0.83383,     0.83483,     0.83584,     0.83684,     0.83784,     0.83884,     0.83984,\n",
      "           0.84084,     0.84184,     0.84284,     0.84384,     0.84484,     0.84585,     0.84685,     0.84785,     0.84885,     0.84985,     0.85085,     0.85185,     0.85285,     0.85385,     0.85485,     0.85586,     0.85686,     0.85786,     0.85886,     0.85986,     0.86086,     0.86186,     0.86286,     0.86386,\n",
      "           0.86486,     0.86587,     0.86687,     0.86787,     0.86887,     0.86987,     0.87087,     0.87187,     0.87287,     0.87387,     0.87487,     0.87588,     0.87688,     0.87788,     0.87888,     0.87988,     0.88088,     0.88188,     0.88288,     0.88388,     0.88488,     0.88589,     0.88689,     0.88789,\n",
      "           0.88889,     0.88989,     0.89089,     0.89189,     0.89289,     0.89389,     0.89489,      0.8959,      0.8969,      0.8979,      0.8989,      0.8999,      0.9009,      0.9019,      0.9029,      0.9039,      0.9049,     0.90591,     0.90691,     0.90791,     0.90891,     0.90991,     0.91091,     0.91191,\n",
      "           0.91291,     0.91391,     0.91491,     0.91592,     0.91692,     0.91792,     0.91892,     0.91992,     0.92092,     0.92192,     0.92292,     0.92392,     0.92492,     0.92593,     0.92693,     0.92793,     0.92893,     0.92993,     0.93093,     0.93193,     0.93293,     0.93393,     0.93493,     0.93594,\n",
      "           0.93694,     0.93794,     0.93894,     0.93994,     0.94094,     0.94194,     0.94294,     0.94394,     0.94494,     0.94595,     0.94695,     0.94795,     0.94895,     0.94995,     0.95095,     0.95195,     0.95295,     0.95395,     0.95495,     0.95596,     0.95696,     0.95796,     0.95896,     0.95996,\n",
      "           0.96096,     0.96196,     0.96296,     0.96396,     0.96496,     0.96597,     0.96697,     0.96797,     0.96897,     0.96997,     0.97097,     0.97197,     0.97297,     0.97397,     0.97497,     0.97598,     0.97698,     0.97798,     0.97898,     0.97998,     0.98098,     0.98198,     0.98298,     0.98398,\n",
      "           0.98498,     0.98599,     0.98699,     0.98799,     0.98899,     0.98999,     0.99099,     0.99199,     0.99299,     0.99399,     0.99499,       0.996,       0.997,       0.998,       0.999,           1]), array([[          1,           1,           1, ...,     0.10417,     0.10417,           0],\n",
      "       [          1,           1,           1, ...,    0.029634,    0.029634,           0],\n",
      "       [          1,           1,           1, ...,    0.026415,    0.026415,           0]]), 'Recall', 'Precision'], [array([          0,    0.001001,    0.002002,    0.003003,    0.004004,    0.005005,    0.006006,    0.007007,    0.008008,    0.009009,     0.01001,    0.011011,    0.012012,    0.013013,    0.014014,    0.015015,    0.016016,    0.017017,    0.018018,    0.019019,     0.02002,    0.021021,    0.022022,    0.023023,\n",
      "          0.024024,    0.025025,    0.026026,    0.027027,    0.028028,    0.029029,     0.03003,    0.031031,    0.032032,    0.033033,    0.034034,    0.035035,    0.036036,    0.037037,    0.038038,    0.039039,     0.04004,    0.041041,    0.042042,    0.043043,    0.044044,    0.045045,    0.046046,    0.047047,\n",
      "          0.048048,    0.049049,     0.05005,    0.051051,    0.052052,    0.053053,    0.054054,    0.055055,    0.056056,    0.057057,    0.058058,    0.059059,     0.06006,    0.061061,    0.062062,    0.063063,    0.064064,    0.065065,    0.066066,    0.067067,    0.068068,    0.069069,     0.07007,    0.071071,\n",
      "          0.072072,    0.073073,    0.074074,    0.075075,    0.076076,    0.077077,    0.078078,    0.079079,     0.08008,    0.081081,    0.082082,    0.083083,    0.084084,    0.085085,    0.086086,    0.087087,    0.088088,    0.089089,     0.09009,    0.091091,    0.092092,    0.093093,    0.094094,    0.095095,\n",
      "          0.096096,    0.097097,    0.098098,    0.099099,      0.1001,      0.1011,      0.1021,      0.1031,      0.1041,     0.10511,     0.10611,     0.10711,     0.10811,     0.10911,     0.11011,     0.11111,     0.11211,     0.11311,     0.11411,     0.11512,     0.11612,     0.11712,     0.11812,     0.11912,\n",
      "           0.12012,     0.12112,     0.12212,     0.12312,     0.12412,     0.12513,     0.12613,     0.12713,     0.12813,     0.12913,     0.13013,     0.13113,     0.13213,     0.13313,     0.13413,     0.13514,     0.13614,     0.13714,     0.13814,     0.13914,     0.14014,     0.14114,     0.14214,     0.14314,\n",
      "           0.14414,     0.14515,     0.14615,     0.14715,     0.14815,     0.14915,     0.15015,     0.15115,     0.15215,     0.15315,     0.15415,     0.15516,     0.15616,     0.15716,     0.15816,     0.15916,     0.16016,     0.16116,     0.16216,     0.16316,     0.16416,     0.16517,     0.16617,     0.16717,\n",
      "           0.16817,     0.16917,     0.17017,     0.17117,     0.17217,     0.17317,     0.17417,     0.17518,     0.17618,     0.17718,     0.17818,     0.17918,     0.18018,     0.18118,     0.18218,     0.18318,     0.18418,     0.18519,     0.18619,     0.18719,     0.18819,     0.18919,     0.19019,     0.19119,\n",
      "           0.19219,     0.19319,     0.19419,      0.1952,      0.1962,      0.1972,      0.1982,      0.1992,      0.2002,      0.2012,      0.2022,      0.2032,      0.2042,     0.20521,     0.20621,     0.20721,     0.20821,     0.20921,     0.21021,     0.21121,     0.21221,     0.21321,     0.21421,     0.21522,\n",
      "           0.21622,     0.21722,     0.21822,     0.21922,     0.22022,     0.22122,     0.22222,     0.22322,     0.22422,     0.22523,     0.22623,     0.22723,     0.22823,     0.22923,     0.23023,     0.23123,     0.23223,     0.23323,     0.23423,     0.23524,     0.23624,     0.23724,     0.23824,     0.23924,\n",
      "           0.24024,     0.24124,     0.24224,     0.24324,     0.24424,     0.24525,     0.24625,     0.24725,     0.24825,     0.24925,     0.25025,     0.25125,     0.25225,     0.25325,     0.25425,     0.25526,     0.25626,     0.25726,     0.25826,     0.25926,     0.26026,     0.26126,     0.26226,     0.26326,\n",
      "           0.26426,     0.26527,     0.26627,     0.26727,     0.26827,     0.26927,     0.27027,     0.27127,     0.27227,     0.27327,     0.27427,     0.27528,     0.27628,     0.27728,     0.27828,     0.27928,     0.28028,     0.28128,     0.28228,     0.28328,     0.28428,     0.28529,     0.28629,     0.28729,\n",
      "           0.28829,     0.28929,     0.29029,     0.29129,     0.29229,     0.29329,     0.29429,      0.2953,      0.2963,      0.2973,      0.2983,      0.2993,      0.3003,      0.3013,      0.3023,      0.3033,      0.3043,     0.30531,     0.30631,     0.30731,     0.30831,     0.30931,     0.31031,     0.31131,\n",
      "           0.31231,     0.31331,     0.31431,     0.31532,     0.31632,     0.31732,     0.31832,     0.31932,     0.32032,     0.32132,     0.32232,     0.32332,     0.32432,     0.32533,     0.32633,     0.32733,     0.32833,     0.32933,     0.33033,     0.33133,     0.33233,     0.33333,     0.33433,     0.33534,\n",
      "           0.33634,     0.33734,     0.33834,     0.33934,     0.34034,     0.34134,     0.34234,     0.34334,     0.34434,     0.34535,     0.34635,     0.34735,     0.34835,     0.34935,     0.35035,     0.35135,     0.35235,     0.35335,     0.35435,     0.35536,     0.35636,     0.35736,     0.35836,     0.35936,\n",
      "           0.36036,     0.36136,     0.36236,     0.36336,     0.36436,     0.36537,     0.36637,     0.36737,     0.36837,     0.36937,     0.37037,     0.37137,     0.37237,     0.37337,     0.37437,     0.37538,     0.37638,     0.37738,     0.37838,     0.37938,     0.38038,     0.38138,     0.38238,     0.38338,\n",
      "           0.38438,     0.38539,     0.38639,     0.38739,     0.38839,     0.38939,     0.39039,     0.39139,     0.39239,     0.39339,     0.39439,      0.3954,      0.3964,      0.3974,      0.3984,      0.3994,      0.4004,      0.4014,      0.4024,      0.4034,      0.4044,     0.40541,     0.40641,     0.40741,\n",
      "           0.40841,     0.40941,     0.41041,     0.41141,     0.41241,     0.41341,     0.41441,     0.41542,     0.41642,     0.41742,     0.41842,     0.41942,     0.42042,     0.42142,     0.42242,     0.42342,     0.42442,     0.42543,     0.42643,     0.42743,     0.42843,     0.42943,     0.43043,     0.43143,\n",
      "           0.43243,     0.43343,     0.43443,     0.43544,     0.43644,     0.43744,     0.43844,     0.43944,     0.44044,     0.44144,     0.44244,     0.44344,     0.44444,     0.44545,     0.44645,     0.44745,     0.44845,     0.44945,     0.45045,     0.45145,     0.45245,     0.45345,     0.45445,     0.45546,\n",
      "           0.45646,     0.45746,     0.45846,     0.45946,     0.46046,     0.46146,     0.46246,     0.46346,     0.46446,     0.46547,     0.46647,     0.46747,     0.46847,     0.46947,     0.47047,     0.47147,     0.47247,     0.47347,     0.47447,     0.47548,     0.47648,     0.47748,     0.47848,     0.47948,\n",
      "           0.48048,     0.48148,     0.48248,     0.48348,     0.48448,     0.48549,     0.48649,     0.48749,     0.48849,     0.48949,     0.49049,     0.49149,     0.49249,     0.49349,     0.49449,      0.4955,      0.4965,      0.4975,      0.4985,      0.4995,      0.5005,      0.5015,      0.5025,      0.5035,\n",
      "            0.5045,     0.50551,     0.50651,     0.50751,     0.50851,     0.50951,     0.51051,     0.51151,     0.51251,     0.51351,     0.51451,     0.51552,     0.51652,     0.51752,     0.51852,     0.51952,     0.52052,     0.52152,     0.52252,     0.52352,     0.52452,     0.52553,     0.52653,     0.52753,\n",
      "           0.52853,     0.52953,     0.53053,     0.53153,     0.53253,     0.53353,     0.53453,     0.53554,     0.53654,     0.53754,     0.53854,     0.53954,     0.54054,     0.54154,     0.54254,     0.54354,     0.54454,     0.54555,     0.54655,     0.54755,     0.54855,     0.54955,     0.55055,     0.55155,\n",
      "           0.55255,     0.55355,     0.55455,     0.55556,     0.55656,     0.55756,     0.55856,     0.55956,     0.56056,     0.56156,     0.56256,     0.56356,     0.56456,     0.56557,     0.56657,     0.56757,     0.56857,     0.56957,     0.57057,     0.57157,     0.57257,     0.57357,     0.57457,     0.57558,\n",
      "           0.57658,     0.57758,     0.57858,     0.57958,     0.58058,     0.58158,     0.58258,     0.58358,     0.58458,     0.58559,     0.58659,     0.58759,     0.58859,     0.58959,     0.59059,     0.59159,     0.59259,     0.59359,     0.59459,      0.5956,      0.5966,      0.5976,      0.5986,      0.5996,\n",
      "            0.6006,      0.6016,      0.6026,      0.6036,      0.6046,     0.60561,     0.60661,     0.60761,     0.60861,     0.60961,     0.61061,     0.61161,     0.61261,     0.61361,     0.61461,     0.61562,     0.61662,     0.61762,     0.61862,     0.61962,     0.62062,     0.62162,     0.62262,     0.62362,\n",
      "           0.62462,     0.62563,     0.62663,     0.62763,     0.62863,     0.62963,     0.63063,     0.63163,     0.63263,     0.63363,     0.63463,     0.63564,     0.63664,     0.63764,     0.63864,     0.63964,     0.64064,     0.64164,     0.64264,     0.64364,     0.64464,     0.64565,     0.64665,     0.64765,\n",
      "           0.64865,     0.64965,     0.65065,     0.65165,     0.65265,     0.65365,     0.65465,     0.65566,     0.65666,     0.65766,     0.65866,     0.65966,     0.66066,     0.66166,     0.66266,     0.66366,     0.66466,     0.66567,     0.66667,     0.66767,     0.66867,     0.66967,     0.67067,     0.67167,\n",
      "           0.67267,     0.67367,     0.67467,     0.67568,     0.67668,     0.67768,     0.67868,     0.67968,     0.68068,     0.68168,     0.68268,     0.68368,     0.68468,     0.68569,     0.68669,     0.68769,     0.68869,     0.68969,     0.69069,     0.69169,     0.69269,     0.69369,     0.69469,      0.6957,\n",
      "            0.6967,      0.6977,      0.6987,      0.6997,      0.7007,      0.7017,      0.7027,      0.7037,      0.7047,     0.70571,     0.70671,     0.70771,     0.70871,     0.70971,     0.71071,     0.71171,     0.71271,     0.71371,     0.71471,     0.71572,     0.71672,     0.71772,     0.71872,     0.71972,\n",
      "           0.72072,     0.72172,     0.72272,     0.72372,     0.72472,     0.72573,     0.72673,     0.72773,     0.72873,     0.72973,     0.73073,     0.73173,     0.73273,     0.73373,     0.73473,     0.73574,     0.73674,     0.73774,     0.73874,     0.73974,     0.74074,     0.74174,     0.74274,     0.74374,\n",
      "           0.74474,     0.74575,     0.74675,     0.74775,     0.74875,     0.74975,     0.75075,     0.75175,     0.75275,     0.75375,     0.75475,     0.75576,     0.75676,     0.75776,     0.75876,     0.75976,     0.76076,     0.76176,     0.76276,     0.76376,     0.76476,     0.76577,     0.76677,     0.76777,\n",
      "           0.76877,     0.76977,     0.77077,     0.77177,     0.77277,     0.77377,     0.77477,     0.77578,     0.77678,     0.77778,     0.77878,     0.77978,     0.78078,     0.78178,     0.78278,     0.78378,     0.78478,     0.78579,     0.78679,     0.78779,     0.78879,     0.78979,     0.79079,     0.79179,\n",
      "           0.79279,     0.79379,     0.79479,      0.7958,      0.7968,      0.7978,      0.7988,      0.7998,      0.8008,      0.8018,      0.8028,      0.8038,      0.8048,     0.80581,     0.80681,     0.80781,     0.80881,     0.80981,     0.81081,     0.81181,     0.81281,     0.81381,     0.81481,     0.81582,\n",
      "           0.81682,     0.81782,     0.81882,     0.81982,     0.82082,     0.82182,     0.82282,     0.82382,     0.82482,     0.82583,     0.82683,     0.82783,     0.82883,     0.82983,     0.83083,     0.83183,     0.83283,     0.83383,     0.83483,     0.83584,     0.83684,     0.83784,     0.83884,     0.83984,\n",
      "           0.84084,     0.84184,     0.84284,     0.84384,     0.84484,     0.84585,     0.84685,     0.84785,     0.84885,     0.84985,     0.85085,     0.85185,     0.85285,     0.85385,     0.85485,     0.85586,     0.85686,     0.85786,     0.85886,     0.85986,     0.86086,     0.86186,     0.86286,     0.86386,\n",
      "           0.86486,     0.86587,     0.86687,     0.86787,     0.86887,     0.86987,     0.87087,     0.87187,     0.87287,     0.87387,     0.87487,     0.87588,     0.87688,     0.87788,     0.87888,     0.87988,     0.88088,     0.88188,     0.88288,     0.88388,     0.88488,     0.88589,     0.88689,     0.88789,\n",
      "           0.88889,     0.88989,     0.89089,     0.89189,     0.89289,     0.89389,     0.89489,      0.8959,      0.8969,      0.8979,      0.8989,      0.8999,      0.9009,      0.9019,      0.9029,      0.9039,      0.9049,     0.90591,     0.90691,     0.90791,     0.90891,     0.90991,     0.91091,     0.91191,\n",
      "           0.91291,     0.91391,     0.91491,     0.91592,     0.91692,     0.91792,     0.91892,     0.91992,     0.92092,     0.92192,     0.92292,     0.92392,     0.92492,     0.92593,     0.92693,     0.92793,     0.92893,     0.92993,     0.93093,     0.93193,     0.93293,     0.93393,     0.93493,     0.93594,\n",
      "           0.93694,     0.93794,     0.93894,     0.93994,     0.94094,     0.94194,     0.94294,     0.94394,     0.94494,     0.94595,     0.94695,     0.94795,     0.94895,     0.94995,     0.95095,     0.95195,     0.95295,     0.95395,     0.95495,     0.95596,     0.95696,     0.95796,     0.95896,     0.95996,\n",
      "           0.96096,     0.96196,     0.96296,     0.96396,     0.96496,     0.96597,     0.96697,     0.96797,     0.96897,     0.96997,     0.97097,     0.97197,     0.97297,     0.97397,     0.97497,     0.97598,     0.97698,     0.97798,     0.97898,     0.97998,     0.98098,     0.98198,     0.98298,     0.98398,\n",
      "           0.98498,     0.98599,     0.98699,     0.98799,     0.98899,     0.98999,     0.99099,     0.99199,     0.99299,     0.99399,     0.99499,       0.996,       0.997,       0.998,       0.999,           1]), array([[  0.0089153,   0.0089153,    0.043407, ...,           0,           0,           0],\n",
      "       [   0.021447,    0.021447,     0.03384, ...,           0,           0,           0],\n",
      "       [   0.017795,    0.017795,    0.041516, ...,           0,           0,           0]]), 'Confidence', 'F1'], [array([          0,    0.001001,    0.002002,    0.003003,    0.004004,    0.005005,    0.006006,    0.007007,    0.008008,    0.009009,     0.01001,    0.011011,    0.012012,    0.013013,    0.014014,    0.015015,    0.016016,    0.017017,    0.018018,    0.019019,     0.02002,    0.021021,    0.022022,    0.023023,\n",
      "          0.024024,    0.025025,    0.026026,    0.027027,    0.028028,    0.029029,     0.03003,    0.031031,    0.032032,    0.033033,    0.034034,    0.035035,    0.036036,    0.037037,    0.038038,    0.039039,     0.04004,    0.041041,    0.042042,    0.043043,    0.044044,    0.045045,    0.046046,    0.047047,\n",
      "          0.048048,    0.049049,     0.05005,    0.051051,    0.052052,    0.053053,    0.054054,    0.055055,    0.056056,    0.057057,    0.058058,    0.059059,     0.06006,    0.061061,    0.062062,    0.063063,    0.064064,    0.065065,    0.066066,    0.067067,    0.068068,    0.069069,     0.07007,    0.071071,\n",
      "          0.072072,    0.073073,    0.074074,    0.075075,    0.076076,    0.077077,    0.078078,    0.079079,     0.08008,    0.081081,    0.082082,    0.083083,    0.084084,    0.085085,    0.086086,    0.087087,    0.088088,    0.089089,     0.09009,    0.091091,    0.092092,    0.093093,    0.094094,    0.095095,\n",
      "          0.096096,    0.097097,    0.098098,    0.099099,      0.1001,      0.1011,      0.1021,      0.1031,      0.1041,     0.10511,     0.10611,     0.10711,     0.10811,     0.10911,     0.11011,     0.11111,     0.11211,     0.11311,     0.11411,     0.11512,     0.11612,     0.11712,     0.11812,     0.11912,\n",
      "           0.12012,     0.12112,     0.12212,     0.12312,     0.12412,     0.12513,     0.12613,     0.12713,     0.12813,     0.12913,     0.13013,     0.13113,     0.13213,     0.13313,     0.13413,     0.13514,     0.13614,     0.13714,     0.13814,     0.13914,     0.14014,     0.14114,     0.14214,     0.14314,\n",
      "           0.14414,     0.14515,     0.14615,     0.14715,     0.14815,     0.14915,     0.15015,     0.15115,     0.15215,     0.15315,     0.15415,     0.15516,     0.15616,     0.15716,     0.15816,     0.15916,     0.16016,     0.16116,     0.16216,     0.16316,     0.16416,     0.16517,     0.16617,     0.16717,\n",
      "           0.16817,     0.16917,     0.17017,     0.17117,     0.17217,     0.17317,     0.17417,     0.17518,     0.17618,     0.17718,     0.17818,     0.17918,     0.18018,     0.18118,     0.18218,     0.18318,     0.18418,     0.18519,     0.18619,     0.18719,     0.18819,     0.18919,     0.19019,     0.19119,\n",
      "           0.19219,     0.19319,     0.19419,      0.1952,      0.1962,      0.1972,      0.1982,      0.1992,      0.2002,      0.2012,      0.2022,      0.2032,      0.2042,     0.20521,     0.20621,     0.20721,     0.20821,     0.20921,     0.21021,     0.21121,     0.21221,     0.21321,     0.21421,     0.21522,\n",
      "           0.21622,     0.21722,     0.21822,     0.21922,     0.22022,     0.22122,     0.22222,     0.22322,     0.22422,     0.22523,     0.22623,     0.22723,     0.22823,     0.22923,     0.23023,     0.23123,     0.23223,     0.23323,     0.23423,     0.23524,     0.23624,     0.23724,     0.23824,     0.23924,\n",
      "           0.24024,     0.24124,     0.24224,     0.24324,     0.24424,     0.24525,     0.24625,     0.24725,     0.24825,     0.24925,     0.25025,     0.25125,     0.25225,     0.25325,     0.25425,     0.25526,     0.25626,     0.25726,     0.25826,     0.25926,     0.26026,     0.26126,     0.26226,     0.26326,\n",
      "           0.26426,     0.26527,     0.26627,     0.26727,     0.26827,     0.26927,     0.27027,     0.27127,     0.27227,     0.27327,     0.27427,     0.27528,     0.27628,     0.27728,     0.27828,     0.27928,     0.28028,     0.28128,     0.28228,     0.28328,     0.28428,     0.28529,     0.28629,     0.28729,\n",
      "           0.28829,     0.28929,     0.29029,     0.29129,     0.29229,     0.29329,     0.29429,      0.2953,      0.2963,      0.2973,      0.2983,      0.2993,      0.3003,      0.3013,      0.3023,      0.3033,      0.3043,     0.30531,     0.30631,     0.30731,     0.30831,     0.30931,     0.31031,     0.31131,\n",
      "           0.31231,     0.31331,     0.31431,     0.31532,     0.31632,     0.31732,     0.31832,     0.31932,     0.32032,     0.32132,     0.32232,     0.32332,     0.32432,     0.32533,     0.32633,     0.32733,     0.32833,     0.32933,     0.33033,     0.33133,     0.33233,     0.33333,     0.33433,     0.33534,\n",
      "           0.33634,     0.33734,     0.33834,     0.33934,     0.34034,     0.34134,     0.34234,     0.34334,     0.34434,     0.34535,     0.34635,     0.34735,     0.34835,     0.34935,     0.35035,     0.35135,     0.35235,     0.35335,     0.35435,     0.35536,     0.35636,     0.35736,     0.35836,     0.35936,\n",
      "           0.36036,     0.36136,     0.36236,     0.36336,     0.36436,     0.36537,     0.36637,     0.36737,     0.36837,     0.36937,     0.37037,     0.37137,     0.37237,     0.37337,     0.37437,     0.37538,     0.37638,     0.37738,     0.37838,     0.37938,     0.38038,     0.38138,     0.38238,     0.38338,\n",
      "           0.38438,     0.38539,     0.38639,     0.38739,     0.38839,     0.38939,     0.39039,     0.39139,     0.39239,     0.39339,     0.39439,      0.3954,      0.3964,      0.3974,      0.3984,      0.3994,      0.4004,      0.4014,      0.4024,      0.4034,      0.4044,     0.40541,     0.40641,     0.40741,\n",
      "           0.40841,     0.40941,     0.41041,     0.41141,     0.41241,     0.41341,     0.41441,     0.41542,     0.41642,     0.41742,     0.41842,     0.41942,     0.42042,     0.42142,     0.42242,     0.42342,     0.42442,     0.42543,     0.42643,     0.42743,     0.42843,     0.42943,     0.43043,     0.43143,\n",
      "           0.43243,     0.43343,     0.43443,     0.43544,     0.43644,     0.43744,     0.43844,     0.43944,     0.44044,     0.44144,     0.44244,     0.44344,     0.44444,     0.44545,     0.44645,     0.44745,     0.44845,     0.44945,     0.45045,     0.45145,     0.45245,     0.45345,     0.45445,     0.45546,\n",
      "           0.45646,     0.45746,     0.45846,     0.45946,     0.46046,     0.46146,     0.46246,     0.46346,     0.46446,     0.46547,     0.46647,     0.46747,     0.46847,     0.46947,     0.47047,     0.47147,     0.47247,     0.47347,     0.47447,     0.47548,     0.47648,     0.47748,     0.47848,     0.47948,\n",
      "           0.48048,     0.48148,     0.48248,     0.48348,     0.48448,     0.48549,     0.48649,     0.48749,     0.48849,     0.48949,     0.49049,     0.49149,     0.49249,     0.49349,     0.49449,      0.4955,      0.4965,      0.4975,      0.4985,      0.4995,      0.5005,      0.5015,      0.5025,      0.5035,\n",
      "            0.5045,     0.50551,     0.50651,     0.50751,     0.50851,     0.50951,     0.51051,     0.51151,     0.51251,     0.51351,     0.51451,     0.51552,     0.51652,     0.51752,     0.51852,     0.51952,     0.52052,     0.52152,     0.52252,     0.52352,     0.52452,     0.52553,     0.52653,     0.52753,\n",
      "           0.52853,     0.52953,     0.53053,     0.53153,     0.53253,     0.53353,     0.53453,     0.53554,     0.53654,     0.53754,     0.53854,     0.53954,     0.54054,     0.54154,     0.54254,     0.54354,     0.54454,     0.54555,     0.54655,     0.54755,     0.54855,     0.54955,     0.55055,     0.55155,\n",
      "           0.55255,     0.55355,     0.55455,     0.55556,     0.55656,     0.55756,     0.55856,     0.55956,     0.56056,     0.56156,     0.56256,     0.56356,     0.56456,     0.56557,     0.56657,     0.56757,     0.56857,     0.56957,     0.57057,     0.57157,     0.57257,     0.57357,     0.57457,     0.57558,\n",
      "           0.57658,     0.57758,     0.57858,     0.57958,     0.58058,     0.58158,     0.58258,     0.58358,     0.58458,     0.58559,     0.58659,     0.58759,     0.58859,     0.58959,     0.59059,     0.59159,     0.59259,     0.59359,     0.59459,      0.5956,      0.5966,      0.5976,      0.5986,      0.5996,\n",
      "            0.6006,      0.6016,      0.6026,      0.6036,      0.6046,     0.60561,     0.60661,     0.60761,     0.60861,     0.60961,     0.61061,     0.61161,     0.61261,     0.61361,     0.61461,     0.61562,     0.61662,     0.61762,     0.61862,     0.61962,     0.62062,     0.62162,     0.62262,     0.62362,\n",
      "           0.62462,     0.62563,     0.62663,     0.62763,     0.62863,     0.62963,     0.63063,     0.63163,     0.63263,     0.63363,     0.63463,     0.63564,     0.63664,     0.63764,     0.63864,     0.63964,     0.64064,     0.64164,     0.64264,     0.64364,     0.64464,     0.64565,     0.64665,     0.64765,\n",
      "           0.64865,     0.64965,     0.65065,     0.65165,     0.65265,     0.65365,     0.65465,     0.65566,     0.65666,     0.65766,     0.65866,     0.65966,     0.66066,     0.66166,     0.66266,     0.66366,     0.66466,     0.66567,     0.66667,     0.66767,     0.66867,     0.66967,     0.67067,     0.67167,\n",
      "           0.67267,     0.67367,     0.67467,     0.67568,     0.67668,     0.67768,     0.67868,     0.67968,     0.68068,     0.68168,     0.68268,     0.68368,     0.68468,     0.68569,     0.68669,     0.68769,     0.68869,     0.68969,     0.69069,     0.69169,     0.69269,     0.69369,     0.69469,      0.6957,\n",
      "            0.6967,      0.6977,      0.6987,      0.6997,      0.7007,      0.7017,      0.7027,      0.7037,      0.7047,     0.70571,     0.70671,     0.70771,     0.70871,     0.70971,     0.71071,     0.71171,     0.71271,     0.71371,     0.71471,     0.71572,     0.71672,     0.71772,     0.71872,     0.71972,\n",
      "           0.72072,     0.72172,     0.72272,     0.72372,     0.72472,     0.72573,     0.72673,     0.72773,     0.72873,     0.72973,     0.73073,     0.73173,     0.73273,     0.73373,     0.73473,     0.73574,     0.73674,     0.73774,     0.73874,     0.73974,     0.74074,     0.74174,     0.74274,     0.74374,\n",
      "           0.74474,     0.74575,     0.74675,     0.74775,     0.74875,     0.74975,     0.75075,     0.75175,     0.75275,     0.75375,     0.75475,     0.75576,     0.75676,     0.75776,     0.75876,     0.75976,     0.76076,     0.76176,     0.76276,     0.76376,     0.76476,     0.76577,     0.76677,     0.76777,\n",
      "           0.76877,     0.76977,     0.77077,     0.77177,     0.77277,     0.77377,     0.77477,     0.77578,     0.77678,     0.77778,     0.77878,     0.77978,     0.78078,     0.78178,     0.78278,     0.78378,     0.78478,     0.78579,     0.78679,     0.78779,     0.78879,     0.78979,     0.79079,     0.79179,\n",
      "           0.79279,     0.79379,     0.79479,      0.7958,      0.7968,      0.7978,      0.7988,      0.7998,      0.8008,      0.8018,      0.8028,      0.8038,      0.8048,     0.80581,     0.80681,     0.80781,     0.80881,     0.80981,     0.81081,     0.81181,     0.81281,     0.81381,     0.81481,     0.81582,\n",
      "           0.81682,     0.81782,     0.81882,     0.81982,     0.82082,     0.82182,     0.82282,     0.82382,     0.82482,     0.82583,     0.82683,     0.82783,     0.82883,     0.82983,     0.83083,     0.83183,     0.83283,     0.83383,     0.83483,     0.83584,     0.83684,     0.83784,     0.83884,     0.83984,\n",
      "           0.84084,     0.84184,     0.84284,     0.84384,     0.84484,     0.84585,     0.84685,     0.84785,     0.84885,     0.84985,     0.85085,     0.85185,     0.85285,     0.85385,     0.85485,     0.85586,     0.85686,     0.85786,     0.85886,     0.85986,     0.86086,     0.86186,     0.86286,     0.86386,\n",
      "           0.86486,     0.86587,     0.86687,     0.86787,     0.86887,     0.86987,     0.87087,     0.87187,     0.87287,     0.87387,     0.87487,     0.87588,     0.87688,     0.87788,     0.87888,     0.87988,     0.88088,     0.88188,     0.88288,     0.88388,     0.88488,     0.88589,     0.88689,     0.88789,\n",
      "           0.88889,     0.88989,     0.89089,     0.89189,     0.89289,     0.89389,     0.89489,      0.8959,      0.8969,      0.8979,      0.8989,      0.8999,      0.9009,      0.9019,      0.9029,      0.9039,      0.9049,     0.90591,     0.90691,     0.90791,     0.90891,     0.90991,     0.91091,     0.91191,\n",
      "           0.91291,     0.91391,     0.91491,     0.91592,     0.91692,     0.91792,     0.91892,     0.91992,     0.92092,     0.92192,     0.92292,     0.92392,     0.92492,     0.92593,     0.92693,     0.92793,     0.92893,     0.92993,     0.93093,     0.93193,     0.93293,     0.93393,     0.93493,     0.93594,\n",
      "           0.93694,     0.93794,     0.93894,     0.93994,     0.94094,     0.94194,     0.94294,     0.94394,     0.94494,     0.94595,     0.94695,     0.94795,     0.94895,     0.94995,     0.95095,     0.95195,     0.95295,     0.95395,     0.95495,     0.95596,     0.95696,     0.95796,     0.95896,     0.95996,\n",
      "           0.96096,     0.96196,     0.96296,     0.96396,     0.96496,     0.96597,     0.96697,     0.96797,     0.96897,     0.96997,     0.97097,     0.97197,     0.97297,     0.97397,     0.97497,     0.97598,     0.97698,     0.97798,     0.97898,     0.97998,     0.98098,     0.98198,     0.98298,     0.98398,\n",
      "           0.98498,     0.98599,     0.98699,     0.98799,     0.98899,     0.98999,     0.99099,     0.99199,     0.99299,     0.99399,     0.99499,       0.996,       0.997,       0.998,       0.999,           1]), array([[  0.0044776,   0.0044776,    0.022185, ...,           1,           1,           1],\n",
      "       [    0.01084,     0.01084,    0.017211, ...,           1,           1,           1],\n",
      "       [  0.0089772,   0.0089772,    0.021198, ...,           1,           1,           1]]), 'Confidence', 'Precision'], [array([          0,    0.001001,    0.002002,    0.003003,    0.004004,    0.005005,    0.006006,    0.007007,    0.008008,    0.009009,     0.01001,    0.011011,    0.012012,    0.013013,    0.014014,    0.015015,    0.016016,    0.017017,    0.018018,    0.019019,     0.02002,    0.021021,    0.022022,    0.023023,\n",
      "          0.024024,    0.025025,    0.026026,    0.027027,    0.028028,    0.029029,     0.03003,    0.031031,    0.032032,    0.033033,    0.034034,    0.035035,    0.036036,    0.037037,    0.038038,    0.039039,     0.04004,    0.041041,    0.042042,    0.043043,    0.044044,    0.045045,    0.046046,    0.047047,\n",
      "          0.048048,    0.049049,     0.05005,    0.051051,    0.052052,    0.053053,    0.054054,    0.055055,    0.056056,    0.057057,    0.058058,    0.059059,     0.06006,    0.061061,    0.062062,    0.063063,    0.064064,    0.065065,    0.066066,    0.067067,    0.068068,    0.069069,     0.07007,    0.071071,\n",
      "          0.072072,    0.073073,    0.074074,    0.075075,    0.076076,    0.077077,    0.078078,    0.079079,     0.08008,    0.081081,    0.082082,    0.083083,    0.084084,    0.085085,    0.086086,    0.087087,    0.088088,    0.089089,     0.09009,    0.091091,    0.092092,    0.093093,    0.094094,    0.095095,\n",
      "          0.096096,    0.097097,    0.098098,    0.099099,      0.1001,      0.1011,      0.1021,      0.1031,      0.1041,     0.10511,     0.10611,     0.10711,     0.10811,     0.10911,     0.11011,     0.11111,     0.11211,     0.11311,     0.11411,     0.11512,     0.11612,     0.11712,     0.11812,     0.11912,\n",
      "           0.12012,     0.12112,     0.12212,     0.12312,     0.12412,     0.12513,     0.12613,     0.12713,     0.12813,     0.12913,     0.13013,     0.13113,     0.13213,     0.13313,     0.13413,     0.13514,     0.13614,     0.13714,     0.13814,     0.13914,     0.14014,     0.14114,     0.14214,     0.14314,\n",
      "           0.14414,     0.14515,     0.14615,     0.14715,     0.14815,     0.14915,     0.15015,     0.15115,     0.15215,     0.15315,     0.15415,     0.15516,     0.15616,     0.15716,     0.15816,     0.15916,     0.16016,     0.16116,     0.16216,     0.16316,     0.16416,     0.16517,     0.16617,     0.16717,\n",
      "           0.16817,     0.16917,     0.17017,     0.17117,     0.17217,     0.17317,     0.17417,     0.17518,     0.17618,     0.17718,     0.17818,     0.17918,     0.18018,     0.18118,     0.18218,     0.18318,     0.18418,     0.18519,     0.18619,     0.18719,     0.18819,     0.18919,     0.19019,     0.19119,\n",
      "           0.19219,     0.19319,     0.19419,      0.1952,      0.1962,      0.1972,      0.1982,      0.1992,      0.2002,      0.2012,      0.2022,      0.2032,      0.2042,     0.20521,     0.20621,     0.20721,     0.20821,     0.20921,     0.21021,     0.21121,     0.21221,     0.21321,     0.21421,     0.21522,\n",
      "           0.21622,     0.21722,     0.21822,     0.21922,     0.22022,     0.22122,     0.22222,     0.22322,     0.22422,     0.22523,     0.22623,     0.22723,     0.22823,     0.22923,     0.23023,     0.23123,     0.23223,     0.23323,     0.23423,     0.23524,     0.23624,     0.23724,     0.23824,     0.23924,\n",
      "           0.24024,     0.24124,     0.24224,     0.24324,     0.24424,     0.24525,     0.24625,     0.24725,     0.24825,     0.24925,     0.25025,     0.25125,     0.25225,     0.25325,     0.25425,     0.25526,     0.25626,     0.25726,     0.25826,     0.25926,     0.26026,     0.26126,     0.26226,     0.26326,\n",
      "           0.26426,     0.26527,     0.26627,     0.26727,     0.26827,     0.26927,     0.27027,     0.27127,     0.27227,     0.27327,     0.27427,     0.27528,     0.27628,     0.27728,     0.27828,     0.27928,     0.28028,     0.28128,     0.28228,     0.28328,     0.28428,     0.28529,     0.28629,     0.28729,\n",
      "           0.28829,     0.28929,     0.29029,     0.29129,     0.29229,     0.29329,     0.29429,      0.2953,      0.2963,      0.2973,      0.2983,      0.2993,      0.3003,      0.3013,      0.3023,      0.3033,      0.3043,     0.30531,     0.30631,     0.30731,     0.30831,     0.30931,     0.31031,     0.31131,\n",
      "           0.31231,     0.31331,     0.31431,     0.31532,     0.31632,     0.31732,     0.31832,     0.31932,     0.32032,     0.32132,     0.32232,     0.32332,     0.32432,     0.32533,     0.32633,     0.32733,     0.32833,     0.32933,     0.33033,     0.33133,     0.33233,     0.33333,     0.33433,     0.33534,\n",
      "           0.33634,     0.33734,     0.33834,     0.33934,     0.34034,     0.34134,     0.34234,     0.34334,     0.34434,     0.34535,     0.34635,     0.34735,     0.34835,     0.34935,     0.35035,     0.35135,     0.35235,     0.35335,     0.35435,     0.35536,     0.35636,     0.35736,     0.35836,     0.35936,\n",
      "           0.36036,     0.36136,     0.36236,     0.36336,     0.36436,     0.36537,     0.36637,     0.36737,     0.36837,     0.36937,     0.37037,     0.37137,     0.37237,     0.37337,     0.37437,     0.37538,     0.37638,     0.37738,     0.37838,     0.37938,     0.38038,     0.38138,     0.38238,     0.38338,\n",
      "           0.38438,     0.38539,     0.38639,     0.38739,     0.38839,     0.38939,     0.39039,     0.39139,     0.39239,     0.39339,     0.39439,      0.3954,      0.3964,      0.3974,      0.3984,      0.3994,      0.4004,      0.4014,      0.4024,      0.4034,      0.4044,     0.40541,     0.40641,     0.40741,\n",
      "           0.40841,     0.40941,     0.41041,     0.41141,     0.41241,     0.41341,     0.41441,     0.41542,     0.41642,     0.41742,     0.41842,     0.41942,     0.42042,     0.42142,     0.42242,     0.42342,     0.42442,     0.42543,     0.42643,     0.42743,     0.42843,     0.42943,     0.43043,     0.43143,\n",
      "           0.43243,     0.43343,     0.43443,     0.43544,     0.43644,     0.43744,     0.43844,     0.43944,     0.44044,     0.44144,     0.44244,     0.44344,     0.44444,     0.44545,     0.44645,     0.44745,     0.44845,     0.44945,     0.45045,     0.45145,     0.45245,     0.45345,     0.45445,     0.45546,\n",
      "           0.45646,     0.45746,     0.45846,     0.45946,     0.46046,     0.46146,     0.46246,     0.46346,     0.46446,     0.46547,     0.46647,     0.46747,     0.46847,     0.46947,     0.47047,     0.47147,     0.47247,     0.47347,     0.47447,     0.47548,     0.47648,     0.47748,     0.47848,     0.47948,\n",
      "           0.48048,     0.48148,     0.48248,     0.48348,     0.48448,     0.48549,     0.48649,     0.48749,     0.48849,     0.48949,     0.49049,     0.49149,     0.49249,     0.49349,     0.49449,      0.4955,      0.4965,      0.4975,      0.4985,      0.4995,      0.5005,      0.5015,      0.5025,      0.5035,\n",
      "            0.5045,     0.50551,     0.50651,     0.50751,     0.50851,     0.50951,     0.51051,     0.51151,     0.51251,     0.51351,     0.51451,     0.51552,     0.51652,     0.51752,     0.51852,     0.51952,     0.52052,     0.52152,     0.52252,     0.52352,     0.52452,     0.52553,     0.52653,     0.52753,\n",
      "           0.52853,     0.52953,     0.53053,     0.53153,     0.53253,     0.53353,     0.53453,     0.53554,     0.53654,     0.53754,     0.53854,     0.53954,     0.54054,     0.54154,     0.54254,     0.54354,     0.54454,     0.54555,     0.54655,     0.54755,     0.54855,     0.54955,     0.55055,     0.55155,\n",
      "           0.55255,     0.55355,     0.55455,     0.55556,     0.55656,     0.55756,     0.55856,     0.55956,     0.56056,     0.56156,     0.56256,     0.56356,     0.56456,     0.56557,     0.56657,     0.56757,     0.56857,     0.56957,     0.57057,     0.57157,     0.57257,     0.57357,     0.57457,     0.57558,\n",
      "           0.57658,     0.57758,     0.57858,     0.57958,     0.58058,     0.58158,     0.58258,     0.58358,     0.58458,     0.58559,     0.58659,     0.58759,     0.58859,     0.58959,     0.59059,     0.59159,     0.59259,     0.59359,     0.59459,      0.5956,      0.5966,      0.5976,      0.5986,      0.5996,\n",
      "            0.6006,      0.6016,      0.6026,      0.6036,      0.6046,     0.60561,     0.60661,     0.60761,     0.60861,     0.60961,     0.61061,     0.61161,     0.61261,     0.61361,     0.61461,     0.61562,     0.61662,     0.61762,     0.61862,     0.61962,     0.62062,     0.62162,     0.62262,     0.62362,\n",
      "           0.62462,     0.62563,     0.62663,     0.62763,     0.62863,     0.62963,     0.63063,     0.63163,     0.63263,     0.63363,     0.63463,     0.63564,     0.63664,     0.63764,     0.63864,     0.63964,     0.64064,     0.64164,     0.64264,     0.64364,     0.64464,     0.64565,     0.64665,     0.64765,\n",
      "           0.64865,     0.64965,     0.65065,     0.65165,     0.65265,     0.65365,     0.65465,     0.65566,     0.65666,     0.65766,     0.65866,     0.65966,     0.66066,     0.66166,     0.66266,     0.66366,     0.66466,     0.66567,     0.66667,     0.66767,     0.66867,     0.66967,     0.67067,     0.67167,\n",
      "           0.67267,     0.67367,     0.67467,     0.67568,     0.67668,     0.67768,     0.67868,     0.67968,     0.68068,     0.68168,     0.68268,     0.68368,     0.68468,     0.68569,     0.68669,     0.68769,     0.68869,     0.68969,     0.69069,     0.69169,     0.69269,     0.69369,     0.69469,      0.6957,\n",
      "            0.6967,      0.6977,      0.6987,      0.6997,      0.7007,      0.7017,      0.7027,      0.7037,      0.7047,     0.70571,     0.70671,     0.70771,     0.70871,     0.70971,     0.71071,     0.71171,     0.71271,     0.71371,     0.71471,     0.71572,     0.71672,     0.71772,     0.71872,     0.71972,\n",
      "           0.72072,     0.72172,     0.72272,     0.72372,     0.72472,     0.72573,     0.72673,     0.72773,     0.72873,     0.72973,     0.73073,     0.73173,     0.73273,     0.73373,     0.73473,     0.73574,     0.73674,     0.73774,     0.73874,     0.73974,     0.74074,     0.74174,     0.74274,     0.74374,\n",
      "           0.74474,     0.74575,     0.74675,     0.74775,     0.74875,     0.74975,     0.75075,     0.75175,     0.75275,     0.75375,     0.75475,     0.75576,     0.75676,     0.75776,     0.75876,     0.75976,     0.76076,     0.76176,     0.76276,     0.76376,     0.76476,     0.76577,     0.76677,     0.76777,\n",
      "           0.76877,     0.76977,     0.77077,     0.77177,     0.77277,     0.77377,     0.77477,     0.77578,     0.77678,     0.77778,     0.77878,     0.77978,     0.78078,     0.78178,     0.78278,     0.78378,     0.78478,     0.78579,     0.78679,     0.78779,     0.78879,     0.78979,     0.79079,     0.79179,\n",
      "           0.79279,     0.79379,     0.79479,      0.7958,      0.7968,      0.7978,      0.7988,      0.7998,      0.8008,      0.8018,      0.8028,      0.8038,      0.8048,     0.80581,     0.80681,     0.80781,     0.80881,     0.80981,     0.81081,     0.81181,     0.81281,     0.81381,     0.81481,     0.81582,\n",
      "           0.81682,     0.81782,     0.81882,     0.81982,     0.82082,     0.82182,     0.82282,     0.82382,     0.82482,     0.82583,     0.82683,     0.82783,     0.82883,     0.82983,     0.83083,     0.83183,     0.83283,     0.83383,     0.83483,     0.83584,     0.83684,     0.83784,     0.83884,     0.83984,\n",
      "           0.84084,     0.84184,     0.84284,     0.84384,     0.84484,     0.84585,     0.84685,     0.84785,     0.84885,     0.84985,     0.85085,     0.85185,     0.85285,     0.85385,     0.85485,     0.85586,     0.85686,     0.85786,     0.85886,     0.85986,     0.86086,     0.86186,     0.86286,     0.86386,\n",
      "           0.86486,     0.86587,     0.86687,     0.86787,     0.86887,     0.86987,     0.87087,     0.87187,     0.87287,     0.87387,     0.87487,     0.87588,     0.87688,     0.87788,     0.87888,     0.87988,     0.88088,     0.88188,     0.88288,     0.88388,     0.88488,     0.88589,     0.88689,     0.88789,\n",
      "           0.88889,     0.88989,     0.89089,     0.89189,     0.89289,     0.89389,     0.89489,      0.8959,      0.8969,      0.8979,      0.8989,      0.8999,      0.9009,      0.9019,      0.9029,      0.9039,      0.9049,     0.90591,     0.90691,     0.90791,     0.90891,     0.90991,     0.91091,     0.91191,\n",
      "           0.91291,     0.91391,     0.91491,     0.91592,     0.91692,     0.91792,     0.91892,     0.91992,     0.92092,     0.92192,     0.92292,     0.92392,     0.92492,     0.92593,     0.92693,     0.92793,     0.92893,     0.92993,     0.93093,     0.93193,     0.93293,     0.93393,     0.93493,     0.93594,\n",
      "           0.93694,     0.93794,     0.93894,     0.93994,     0.94094,     0.94194,     0.94294,     0.94394,     0.94494,     0.94595,     0.94695,     0.94795,     0.94895,     0.94995,     0.95095,     0.95195,     0.95295,     0.95395,     0.95495,     0.95596,     0.95696,     0.95796,     0.95896,     0.95996,\n",
      "           0.96096,     0.96196,     0.96296,     0.96396,     0.96496,     0.96597,     0.96697,     0.96797,     0.96897,     0.96997,     0.97097,     0.97197,     0.97297,     0.97397,     0.97497,     0.97598,     0.97698,     0.97798,     0.97898,     0.97998,     0.98098,     0.98198,     0.98298,     0.98398,\n",
      "           0.98498,     0.98599,     0.98699,     0.98799,     0.98899,     0.98999,     0.99099,     0.99199,     0.99299,     0.99399,     0.99499,       0.996,       0.997,       0.998,       0.999,           1]), array([[          1,           1,           1, ...,           0,           0,           0],\n",
      "       [          1,           1,           1, ...,           0,           0,           0],\n",
      "       [          1,           1,           1, ...,           0,           0,           0]]), 'Confidence', 'Recall'], [array([          0,    0.001001,    0.002002,    0.003003,    0.004004,    0.005005,    0.006006,    0.007007,    0.008008,    0.009009,     0.01001,    0.011011,    0.012012,    0.013013,    0.014014,    0.015015,    0.016016,    0.017017,    0.018018,    0.019019,     0.02002,    0.021021,    0.022022,    0.023023,\n",
      "          0.024024,    0.025025,    0.026026,    0.027027,    0.028028,    0.029029,     0.03003,    0.031031,    0.032032,    0.033033,    0.034034,    0.035035,    0.036036,    0.037037,    0.038038,    0.039039,     0.04004,    0.041041,    0.042042,    0.043043,    0.044044,    0.045045,    0.046046,    0.047047,\n",
      "          0.048048,    0.049049,     0.05005,    0.051051,    0.052052,    0.053053,    0.054054,    0.055055,    0.056056,    0.057057,    0.058058,    0.059059,     0.06006,    0.061061,    0.062062,    0.063063,    0.064064,    0.065065,    0.066066,    0.067067,    0.068068,    0.069069,     0.07007,    0.071071,\n",
      "          0.072072,    0.073073,    0.074074,    0.075075,    0.076076,    0.077077,    0.078078,    0.079079,     0.08008,    0.081081,    0.082082,    0.083083,    0.084084,    0.085085,    0.086086,    0.087087,    0.088088,    0.089089,     0.09009,    0.091091,    0.092092,    0.093093,    0.094094,    0.095095,\n",
      "          0.096096,    0.097097,    0.098098,    0.099099,      0.1001,      0.1011,      0.1021,      0.1031,      0.1041,     0.10511,     0.10611,     0.10711,     0.10811,     0.10911,     0.11011,     0.11111,     0.11211,     0.11311,     0.11411,     0.11512,     0.11612,     0.11712,     0.11812,     0.11912,\n",
      "           0.12012,     0.12112,     0.12212,     0.12312,     0.12412,     0.12513,     0.12613,     0.12713,     0.12813,     0.12913,     0.13013,     0.13113,     0.13213,     0.13313,     0.13413,     0.13514,     0.13614,     0.13714,     0.13814,     0.13914,     0.14014,     0.14114,     0.14214,     0.14314,\n",
      "           0.14414,     0.14515,     0.14615,     0.14715,     0.14815,     0.14915,     0.15015,     0.15115,     0.15215,     0.15315,     0.15415,     0.15516,     0.15616,     0.15716,     0.15816,     0.15916,     0.16016,     0.16116,     0.16216,     0.16316,     0.16416,     0.16517,     0.16617,     0.16717,\n",
      "           0.16817,     0.16917,     0.17017,     0.17117,     0.17217,     0.17317,     0.17417,     0.17518,     0.17618,     0.17718,     0.17818,     0.17918,     0.18018,     0.18118,     0.18218,     0.18318,     0.18418,     0.18519,     0.18619,     0.18719,     0.18819,     0.18919,     0.19019,     0.19119,\n",
      "           0.19219,     0.19319,     0.19419,      0.1952,      0.1962,      0.1972,      0.1982,      0.1992,      0.2002,      0.2012,      0.2022,      0.2032,      0.2042,     0.20521,     0.20621,     0.20721,     0.20821,     0.20921,     0.21021,     0.21121,     0.21221,     0.21321,     0.21421,     0.21522,\n",
      "           0.21622,     0.21722,     0.21822,     0.21922,     0.22022,     0.22122,     0.22222,     0.22322,     0.22422,     0.22523,     0.22623,     0.22723,     0.22823,     0.22923,     0.23023,     0.23123,     0.23223,     0.23323,     0.23423,     0.23524,     0.23624,     0.23724,     0.23824,     0.23924,\n",
      "           0.24024,     0.24124,     0.24224,     0.24324,     0.24424,     0.24525,     0.24625,     0.24725,     0.24825,     0.24925,     0.25025,     0.25125,     0.25225,     0.25325,     0.25425,     0.25526,     0.25626,     0.25726,     0.25826,     0.25926,     0.26026,     0.26126,     0.26226,     0.26326,\n",
      "           0.26426,     0.26527,     0.26627,     0.26727,     0.26827,     0.26927,     0.27027,     0.27127,     0.27227,     0.27327,     0.27427,     0.27528,     0.27628,     0.27728,     0.27828,     0.27928,     0.28028,     0.28128,     0.28228,     0.28328,     0.28428,     0.28529,     0.28629,     0.28729,\n",
      "           0.28829,     0.28929,     0.29029,     0.29129,     0.29229,     0.29329,     0.29429,      0.2953,      0.2963,      0.2973,      0.2983,      0.2993,      0.3003,      0.3013,      0.3023,      0.3033,      0.3043,     0.30531,     0.30631,     0.30731,     0.30831,     0.30931,     0.31031,     0.31131,\n",
      "           0.31231,     0.31331,     0.31431,     0.31532,     0.31632,     0.31732,     0.31832,     0.31932,     0.32032,     0.32132,     0.32232,     0.32332,     0.32432,     0.32533,     0.32633,     0.32733,     0.32833,     0.32933,     0.33033,     0.33133,     0.33233,     0.33333,     0.33433,     0.33534,\n",
      "           0.33634,     0.33734,     0.33834,     0.33934,     0.34034,     0.34134,     0.34234,     0.34334,     0.34434,     0.34535,     0.34635,     0.34735,     0.34835,     0.34935,     0.35035,     0.35135,     0.35235,     0.35335,     0.35435,     0.35536,     0.35636,     0.35736,     0.35836,     0.35936,\n",
      "           0.36036,     0.36136,     0.36236,     0.36336,     0.36436,     0.36537,     0.36637,     0.36737,     0.36837,     0.36937,     0.37037,     0.37137,     0.37237,     0.37337,     0.37437,     0.37538,     0.37638,     0.37738,     0.37838,     0.37938,     0.38038,     0.38138,     0.38238,     0.38338,\n",
      "           0.38438,     0.38539,     0.38639,     0.38739,     0.38839,     0.38939,     0.39039,     0.39139,     0.39239,     0.39339,     0.39439,      0.3954,      0.3964,      0.3974,      0.3984,      0.3994,      0.4004,      0.4014,      0.4024,      0.4034,      0.4044,     0.40541,     0.40641,     0.40741,\n",
      "           0.40841,     0.40941,     0.41041,     0.41141,     0.41241,     0.41341,     0.41441,     0.41542,     0.41642,     0.41742,     0.41842,     0.41942,     0.42042,     0.42142,     0.42242,     0.42342,     0.42442,     0.42543,     0.42643,     0.42743,     0.42843,     0.42943,     0.43043,     0.43143,\n",
      "           0.43243,     0.43343,     0.43443,     0.43544,     0.43644,     0.43744,     0.43844,     0.43944,     0.44044,     0.44144,     0.44244,     0.44344,     0.44444,     0.44545,     0.44645,     0.44745,     0.44845,     0.44945,     0.45045,     0.45145,     0.45245,     0.45345,     0.45445,     0.45546,\n",
      "           0.45646,     0.45746,     0.45846,     0.45946,     0.46046,     0.46146,     0.46246,     0.46346,     0.46446,     0.46547,     0.46647,     0.46747,     0.46847,     0.46947,     0.47047,     0.47147,     0.47247,     0.47347,     0.47447,     0.47548,     0.47648,     0.47748,     0.47848,     0.47948,\n",
      "           0.48048,     0.48148,     0.48248,     0.48348,     0.48448,     0.48549,     0.48649,     0.48749,     0.48849,     0.48949,     0.49049,     0.49149,     0.49249,     0.49349,     0.49449,      0.4955,      0.4965,      0.4975,      0.4985,      0.4995,      0.5005,      0.5015,      0.5025,      0.5035,\n",
      "            0.5045,     0.50551,     0.50651,     0.50751,     0.50851,     0.50951,     0.51051,     0.51151,     0.51251,     0.51351,     0.51451,     0.51552,     0.51652,     0.51752,     0.51852,     0.51952,     0.52052,     0.52152,     0.52252,     0.52352,     0.52452,     0.52553,     0.52653,     0.52753,\n",
      "           0.52853,     0.52953,     0.53053,     0.53153,     0.53253,     0.53353,     0.53453,     0.53554,     0.53654,     0.53754,     0.53854,     0.53954,     0.54054,     0.54154,     0.54254,     0.54354,     0.54454,     0.54555,     0.54655,     0.54755,     0.54855,     0.54955,     0.55055,     0.55155,\n",
      "           0.55255,     0.55355,     0.55455,     0.55556,     0.55656,     0.55756,     0.55856,     0.55956,     0.56056,     0.56156,     0.56256,     0.56356,     0.56456,     0.56557,     0.56657,     0.56757,     0.56857,     0.56957,     0.57057,     0.57157,     0.57257,     0.57357,     0.57457,     0.57558,\n",
      "           0.57658,     0.57758,     0.57858,     0.57958,     0.58058,     0.58158,     0.58258,     0.58358,     0.58458,     0.58559,     0.58659,     0.58759,     0.58859,     0.58959,     0.59059,     0.59159,     0.59259,     0.59359,     0.59459,      0.5956,      0.5966,      0.5976,      0.5986,      0.5996,\n",
      "            0.6006,      0.6016,      0.6026,      0.6036,      0.6046,     0.60561,     0.60661,     0.60761,     0.60861,     0.60961,     0.61061,     0.61161,     0.61261,     0.61361,     0.61461,     0.61562,     0.61662,     0.61762,     0.61862,     0.61962,     0.62062,     0.62162,     0.62262,     0.62362,\n",
      "           0.62462,     0.62563,     0.62663,     0.62763,     0.62863,     0.62963,     0.63063,     0.63163,     0.63263,     0.63363,     0.63463,     0.63564,     0.63664,     0.63764,     0.63864,     0.63964,     0.64064,     0.64164,     0.64264,     0.64364,     0.64464,     0.64565,     0.64665,     0.64765,\n",
      "           0.64865,     0.64965,     0.65065,     0.65165,     0.65265,     0.65365,     0.65465,     0.65566,     0.65666,     0.65766,     0.65866,     0.65966,     0.66066,     0.66166,     0.66266,     0.66366,     0.66466,     0.66567,     0.66667,     0.66767,     0.66867,     0.66967,     0.67067,     0.67167,\n",
      "           0.67267,     0.67367,     0.67467,     0.67568,     0.67668,     0.67768,     0.67868,     0.67968,     0.68068,     0.68168,     0.68268,     0.68368,     0.68468,     0.68569,     0.68669,     0.68769,     0.68869,     0.68969,     0.69069,     0.69169,     0.69269,     0.69369,     0.69469,      0.6957,\n",
      "            0.6967,      0.6977,      0.6987,      0.6997,      0.7007,      0.7017,      0.7027,      0.7037,      0.7047,     0.70571,     0.70671,     0.70771,     0.70871,     0.70971,     0.71071,     0.71171,     0.71271,     0.71371,     0.71471,     0.71572,     0.71672,     0.71772,     0.71872,     0.71972,\n",
      "           0.72072,     0.72172,     0.72272,     0.72372,     0.72472,     0.72573,     0.72673,     0.72773,     0.72873,     0.72973,     0.73073,     0.73173,     0.73273,     0.73373,     0.73473,     0.73574,     0.73674,     0.73774,     0.73874,     0.73974,     0.74074,     0.74174,     0.74274,     0.74374,\n",
      "           0.74474,     0.74575,     0.74675,     0.74775,     0.74875,     0.74975,     0.75075,     0.75175,     0.75275,     0.75375,     0.75475,     0.75576,     0.75676,     0.75776,     0.75876,     0.75976,     0.76076,     0.76176,     0.76276,     0.76376,     0.76476,     0.76577,     0.76677,     0.76777,\n",
      "           0.76877,     0.76977,     0.77077,     0.77177,     0.77277,     0.77377,     0.77477,     0.77578,     0.77678,     0.77778,     0.77878,     0.77978,     0.78078,     0.78178,     0.78278,     0.78378,     0.78478,     0.78579,     0.78679,     0.78779,     0.78879,     0.78979,     0.79079,     0.79179,\n",
      "           0.79279,     0.79379,     0.79479,      0.7958,      0.7968,      0.7978,      0.7988,      0.7998,      0.8008,      0.8018,      0.8028,      0.8038,      0.8048,     0.80581,     0.80681,     0.80781,     0.80881,     0.80981,     0.81081,     0.81181,     0.81281,     0.81381,     0.81481,     0.81582,\n",
      "           0.81682,     0.81782,     0.81882,     0.81982,     0.82082,     0.82182,     0.82282,     0.82382,     0.82482,     0.82583,     0.82683,     0.82783,     0.82883,     0.82983,     0.83083,     0.83183,     0.83283,     0.83383,     0.83483,     0.83584,     0.83684,     0.83784,     0.83884,     0.83984,\n",
      "           0.84084,     0.84184,     0.84284,     0.84384,     0.84484,     0.84585,     0.84685,     0.84785,     0.84885,     0.84985,     0.85085,     0.85185,     0.85285,     0.85385,     0.85485,     0.85586,     0.85686,     0.85786,     0.85886,     0.85986,     0.86086,     0.86186,     0.86286,     0.86386,\n",
      "           0.86486,     0.86587,     0.86687,     0.86787,     0.86887,     0.86987,     0.87087,     0.87187,     0.87287,     0.87387,     0.87487,     0.87588,     0.87688,     0.87788,     0.87888,     0.87988,     0.88088,     0.88188,     0.88288,     0.88388,     0.88488,     0.88589,     0.88689,     0.88789,\n",
      "           0.88889,     0.88989,     0.89089,     0.89189,     0.89289,     0.89389,     0.89489,      0.8959,      0.8969,      0.8979,      0.8989,      0.8999,      0.9009,      0.9019,      0.9029,      0.9039,      0.9049,     0.90591,     0.90691,     0.90791,     0.90891,     0.90991,     0.91091,     0.91191,\n",
      "           0.91291,     0.91391,     0.91491,     0.91592,     0.91692,     0.91792,     0.91892,     0.91992,     0.92092,     0.92192,     0.92292,     0.92392,     0.92492,     0.92593,     0.92693,     0.92793,     0.92893,     0.92993,     0.93093,     0.93193,     0.93293,     0.93393,     0.93493,     0.93594,\n",
      "           0.93694,     0.93794,     0.93894,     0.93994,     0.94094,     0.94194,     0.94294,     0.94394,     0.94494,     0.94595,     0.94695,     0.94795,     0.94895,     0.94995,     0.95095,     0.95195,     0.95295,     0.95395,     0.95495,     0.95596,     0.95696,     0.95796,     0.95896,     0.95996,\n",
      "           0.96096,     0.96196,     0.96296,     0.96396,     0.96496,     0.96597,     0.96697,     0.96797,     0.96897,     0.96997,     0.97097,     0.97197,     0.97297,     0.97397,     0.97497,     0.97598,     0.97698,     0.97798,     0.97898,     0.97998,     0.98098,     0.98198,     0.98298,     0.98398,\n",
      "           0.98498,     0.98599,     0.98699,     0.98799,     0.98899,     0.98999,     0.99099,     0.99199,     0.99299,     0.99399,     0.99499,       0.996,       0.997,       0.998,       0.999,           1]), array([[          1,           1,           1, ...,  8.0678e-05,  4.0339e-05,           0],\n",
      "       [    0.66667,     0.66667,     0.66667, ...,  3.3636e-05,  1.6818e-05,           0],\n",
      "       [          1,           1,           1, ...,  8.2673e-05,  4.1337e-05,           0]]), 'Recall', 'Precision'], [array([          0,    0.001001,    0.002002,    0.003003,    0.004004,    0.005005,    0.006006,    0.007007,    0.008008,    0.009009,     0.01001,    0.011011,    0.012012,    0.013013,    0.014014,    0.015015,    0.016016,    0.017017,    0.018018,    0.019019,     0.02002,    0.021021,    0.022022,    0.023023,\n",
      "          0.024024,    0.025025,    0.026026,    0.027027,    0.028028,    0.029029,     0.03003,    0.031031,    0.032032,    0.033033,    0.034034,    0.035035,    0.036036,    0.037037,    0.038038,    0.039039,     0.04004,    0.041041,    0.042042,    0.043043,    0.044044,    0.045045,    0.046046,    0.047047,\n",
      "          0.048048,    0.049049,     0.05005,    0.051051,    0.052052,    0.053053,    0.054054,    0.055055,    0.056056,    0.057057,    0.058058,    0.059059,     0.06006,    0.061061,    0.062062,    0.063063,    0.064064,    0.065065,    0.066066,    0.067067,    0.068068,    0.069069,     0.07007,    0.071071,\n",
      "          0.072072,    0.073073,    0.074074,    0.075075,    0.076076,    0.077077,    0.078078,    0.079079,     0.08008,    0.081081,    0.082082,    0.083083,    0.084084,    0.085085,    0.086086,    0.087087,    0.088088,    0.089089,     0.09009,    0.091091,    0.092092,    0.093093,    0.094094,    0.095095,\n",
      "          0.096096,    0.097097,    0.098098,    0.099099,      0.1001,      0.1011,      0.1021,      0.1031,      0.1041,     0.10511,     0.10611,     0.10711,     0.10811,     0.10911,     0.11011,     0.11111,     0.11211,     0.11311,     0.11411,     0.11512,     0.11612,     0.11712,     0.11812,     0.11912,\n",
      "           0.12012,     0.12112,     0.12212,     0.12312,     0.12412,     0.12513,     0.12613,     0.12713,     0.12813,     0.12913,     0.13013,     0.13113,     0.13213,     0.13313,     0.13413,     0.13514,     0.13614,     0.13714,     0.13814,     0.13914,     0.14014,     0.14114,     0.14214,     0.14314,\n",
      "           0.14414,     0.14515,     0.14615,     0.14715,     0.14815,     0.14915,     0.15015,     0.15115,     0.15215,     0.15315,     0.15415,     0.15516,     0.15616,     0.15716,     0.15816,     0.15916,     0.16016,     0.16116,     0.16216,     0.16316,     0.16416,     0.16517,     0.16617,     0.16717,\n",
      "           0.16817,     0.16917,     0.17017,     0.17117,     0.17217,     0.17317,     0.17417,     0.17518,     0.17618,     0.17718,     0.17818,     0.17918,     0.18018,     0.18118,     0.18218,     0.18318,     0.18418,     0.18519,     0.18619,     0.18719,     0.18819,     0.18919,     0.19019,     0.19119,\n",
      "           0.19219,     0.19319,     0.19419,      0.1952,      0.1962,      0.1972,      0.1982,      0.1992,      0.2002,      0.2012,      0.2022,      0.2032,      0.2042,     0.20521,     0.20621,     0.20721,     0.20821,     0.20921,     0.21021,     0.21121,     0.21221,     0.21321,     0.21421,     0.21522,\n",
      "           0.21622,     0.21722,     0.21822,     0.21922,     0.22022,     0.22122,     0.22222,     0.22322,     0.22422,     0.22523,     0.22623,     0.22723,     0.22823,     0.22923,     0.23023,     0.23123,     0.23223,     0.23323,     0.23423,     0.23524,     0.23624,     0.23724,     0.23824,     0.23924,\n",
      "           0.24024,     0.24124,     0.24224,     0.24324,     0.24424,     0.24525,     0.24625,     0.24725,     0.24825,     0.24925,     0.25025,     0.25125,     0.25225,     0.25325,     0.25425,     0.25526,     0.25626,     0.25726,     0.25826,     0.25926,     0.26026,     0.26126,     0.26226,     0.26326,\n",
      "           0.26426,     0.26527,     0.26627,     0.26727,     0.26827,     0.26927,     0.27027,     0.27127,     0.27227,     0.27327,     0.27427,     0.27528,     0.27628,     0.27728,     0.27828,     0.27928,     0.28028,     0.28128,     0.28228,     0.28328,     0.28428,     0.28529,     0.28629,     0.28729,\n",
      "           0.28829,     0.28929,     0.29029,     0.29129,     0.29229,     0.29329,     0.29429,      0.2953,      0.2963,      0.2973,      0.2983,      0.2993,      0.3003,      0.3013,      0.3023,      0.3033,      0.3043,     0.30531,     0.30631,     0.30731,     0.30831,     0.30931,     0.31031,     0.31131,\n",
      "           0.31231,     0.31331,     0.31431,     0.31532,     0.31632,     0.31732,     0.31832,     0.31932,     0.32032,     0.32132,     0.32232,     0.32332,     0.32432,     0.32533,     0.32633,     0.32733,     0.32833,     0.32933,     0.33033,     0.33133,     0.33233,     0.33333,     0.33433,     0.33534,\n",
      "           0.33634,     0.33734,     0.33834,     0.33934,     0.34034,     0.34134,     0.34234,     0.34334,     0.34434,     0.34535,     0.34635,     0.34735,     0.34835,     0.34935,     0.35035,     0.35135,     0.35235,     0.35335,     0.35435,     0.35536,     0.35636,     0.35736,     0.35836,     0.35936,\n",
      "           0.36036,     0.36136,     0.36236,     0.36336,     0.36436,     0.36537,     0.36637,     0.36737,     0.36837,     0.36937,     0.37037,     0.37137,     0.37237,     0.37337,     0.37437,     0.37538,     0.37638,     0.37738,     0.37838,     0.37938,     0.38038,     0.38138,     0.38238,     0.38338,\n",
      "           0.38438,     0.38539,     0.38639,     0.38739,     0.38839,     0.38939,     0.39039,     0.39139,     0.39239,     0.39339,     0.39439,      0.3954,      0.3964,      0.3974,      0.3984,      0.3994,      0.4004,      0.4014,      0.4024,      0.4034,      0.4044,     0.40541,     0.40641,     0.40741,\n",
      "           0.40841,     0.40941,     0.41041,     0.41141,     0.41241,     0.41341,     0.41441,     0.41542,     0.41642,     0.41742,     0.41842,     0.41942,     0.42042,     0.42142,     0.42242,     0.42342,     0.42442,     0.42543,     0.42643,     0.42743,     0.42843,     0.42943,     0.43043,     0.43143,\n",
      "           0.43243,     0.43343,     0.43443,     0.43544,     0.43644,     0.43744,     0.43844,     0.43944,     0.44044,     0.44144,     0.44244,     0.44344,     0.44444,     0.44545,     0.44645,     0.44745,     0.44845,     0.44945,     0.45045,     0.45145,     0.45245,     0.45345,     0.45445,     0.45546,\n",
      "           0.45646,     0.45746,     0.45846,     0.45946,     0.46046,     0.46146,     0.46246,     0.46346,     0.46446,     0.46547,     0.46647,     0.46747,     0.46847,     0.46947,     0.47047,     0.47147,     0.47247,     0.47347,     0.47447,     0.47548,     0.47648,     0.47748,     0.47848,     0.47948,\n",
      "           0.48048,     0.48148,     0.48248,     0.48348,     0.48448,     0.48549,     0.48649,     0.48749,     0.48849,     0.48949,     0.49049,     0.49149,     0.49249,     0.49349,     0.49449,      0.4955,      0.4965,      0.4975,      0.4985,      0.4995,      0.5005,      0.5015,      0.5025,      0.5035,\n",
      "            0.5045,     0.50551,     0.50651,     0.50751,     0.50851,     0.50951,     0.51051,     0.51151,     0.51251,     0.51351,     0.51451,     0.51552,     0.51652,     0.51752,     0.51852,     0.51952,     0.52052,     0.52152,     0.52252,     0.52352,     0.52452,     0.52553,     0.52653,     0.52753,\n",
      "           0.52853,     0.52953,     0.53053,     0.53153,     0.53253,     0.53353,     0.53453,     0.53554,     0.53654,     0.53754,     0.53854,     0.53954,     0.54054,     0.54154,     0.54254,     0.54354,     0.54454,     0.54555,     0.54655,     0.54755,     0.54855,     0.54955,     0.55055,     0.55155,\n",
      "           0.55255,     0.55355,     0.55455,     0.55556,     0.55656,     0.55756,     0.55856,     0.55956,     0.56056,     0.56156,     0.56256,     0.56356,     0.56456,     0.56557,     0.56657,     0.56757,     0.56857,     0.56957,     0.57057,     0.57157,     0.57257,     0.57357,     0.57457,     0.57558,\n",
      "           0.57658,     0.57758,     0.57858,     0.57958,     0.58058,     0.58158,     0.58258,     0.58358,     0.58458,     0.58559,     0.58659,     0.58759,     0.58859,     0.58959,     0.59059,     0.59159,     0.59259,     0.59359,     0.59459,      0.5956,      0.5966,      0.5976,      0.5986,      0.5996,\n",
      "            0.6006,      0.6016,      0.6026,      0.6036,      0.6046,     0.60561,     0.60661,     0.60761,     0.60861,     0.60961,     0.61061,     0.61161,     0.61261,     0.61361,     0.61461,     0.61562,     0.61662,     0.61762,     0.61862,     0.61962,     0.62062,     0.62162,     0.62262,     0.62362,\n",
      "           0.62462,     0.62563,     0.62663,     0.62763,     0.62863,     0.62963,     0.63063,     0.63163,     0.63263,     0.63363,     0.63463,     0.63564,     0.63664,     0.63764,     0.63864,     0.63964,     0.64064,     0.64164,     0.64264,     0.64364,     0.64464,     0.64565,     0.64665,     0.64765,\n",
      "           0.64865,     0.64965,     0.65065,     0.65165,     0.65265,     0.65365,     0.65465,     0.65566,     0.65666,     0.65766,     0.65866,     0.65966,     0.66066,     0.66166,     0.66266,     0.66366,     0.66466,     0.66567,     0.66667,     0.66767,     0.66867,     0.66967,     0.67067,     0.67167,\n",
      "           0.67267,     0.67367,     0.67467,     0.67568,     0.67668,     0.67768,     0.67868,     0.67968,     0.68068,     0.68168,     0.68268,     0.68368,     0.68468,     0.68569,     0.68669,     0.68769,     0.68869,     0.68969,     0.69069,     0.69169,     0.69269,     0.69369,     0.69469,      0.6957,\n",
      "            0.6967,      0.6977,      0.6987,      0.6997,      0.7007,      0.7017,      0.7027,      0.7037,      0.7047,     0.70571,     0.70671,     0.70771,     0.70871,     0.70971,     0.71071,     0.71171,     0.71271,     0.71371,     0.71471,     0.71572,     0.71672,     0.71772,     0.71872,     0.71972,\n",
      "           0.72072,     0.72172,     0.72272,     0.72372,     0.72472,     0.72573,     0.72673,     0.72773,     0.72873,     0.72973,     0.73073,     0.73173,     0.73273,     0.73373,     0.73473,     0.73574,     0.73674,     0.73774,     0.73874,     0.73974,     0.74074,     0.74174,     0.74274,     0.74374,\n",
      "           0.74474,     0.74575,     0.74675,     0.74775,     0.74875,     0.74975,     0.75075,     0.75175,     0.75275,     0.75375,     0.75475,     0.75576,     0.75676,     0.75776,     0.75876,     0.75976,     0.76076,     0.76176,     0.76276,     0.76376,     0.76476,     0.76577,     0.76677,     0.76777,\n",
      "           0.76877,     0.76977,     0.77077,     0.77177,     0.77277,     0.77377,     0.77477,     0.77578,     0.77678,     0.77778,     0.77878,     0.77978,     0.78078,     0.78178,     0.78278,     0.78378,     0.78478,     0.78579,     0.78679,     0.78779,     0.78879,     0.78979,     0.79079,     0.79179,\n",
      "           0.79279,     0.79379,     0.79479,      0.7958,      0.7968,      0.7978,      0.7988,      0.7998,      0.8008,      0.8018,      0.8028,      0.8038,      0.8048,     0.80581,     0.80681,     0.80781,     0.80881,     0.80981,     0.81081,     0.81181,     0.81281,     0.81381,     0.81481,     0.81582,\n",
      "           0.81682,     0.81782,     0.81882,     0.81982,     0.82082,     0.82182,     0.82282,     0.82382,     0.82482,     0.82583,     0.82683,     0.82783,     0.82883,     0.82983,     0.83083,     0.83183,     0.83283,     0.83383,     0.83483,     0.83584,     0.83684,     0.83784,     0.83884,     0.83984,\n",
      "           0.84084,     0.84184,     0.84284,     0.84384,     0.84484,     0.84585,     0.84685,     0.84785,     0.84885,     0.84985,     0.85085,     0.85185,     0.85285,     0.85385,     0.85485,     0.85586,     0.85686,     0.85786,     0.85886,     0.85986,     0.86086,     0.86186,     0.86286,     0.86386,\n",
      "           0.86486,     0.86587,     0.86687,     0.86787,     0.86887,     0.86987,     0.87087,     0.87187,     0.87287,     0.87387,     0.87487,     0.87588,     0.87688,     0.87788,     0.87888,     0.87988,     0.88088,     0.88188,     0.88288,     0.88388,     0.88488,     0.88589,     0.88689,     0.88789,\n",
      "           0.88889,     0.88989,     0.89089,     0.89189,     0.89289,     0.89389,     0.89489,      0.8959,      0.8969,      0.8979,      0.8989,      0.8999,      0.9009,      0.9019,      0.9029,      0.9039,      0.9049,     0.90591,     0.90691,     0.90791,     0.90891,     0.90991,     0.91091,     0.91191,\n",
      "           0.91291,     0.91391,     0.91491,     0.91592,     0.91692,     0.91792,     0.91892,     0.91992,     0.92092,     0.92192,     0.92292,     0.92392,     0.92492,     0.92593,     0.92693,     0.92793,     0.92893,     0.92993,     0.93093,     0.93193,     0.93293,     0.93393,     0.93493,     0.93594,\n",
      "           0.93694,     0.93794,     0.93894,     0.93994,     0.94094,     0.94194,     0.94294,     0.94394,     0.94494,     0.94595,     0.94695,     0.94795,     0.94895,     0.94995,     0.95095,     0.95195,     0.95295,     0.95395,     0.95495,     0.95596,     0.95696,     0.95796,     0.95896,     0.95996,\n",
      "           0.96096,     0.96196,     0.96296,     0.96396,     0.96496,     0.96597,     0.96697,     0.96797,     0.96897,     0.96997,     0.97097,     0.97197,     0.97297,     0.97397,     0.97497,     0.97598,     0.97698,     0.97798,     0.97898,     0.97998,     0.98098,     0.98198,     0.98298,     0.98398,\n",
      "           0.98498,     0.98599,     0.98699,     0.98799,     0.98899,     0.98999,     0.99099,     0.99199,     0.99299,     0.99399,     0.99499,       0.996,       0.997,       0.998,       0.999,           1]), array([[  0.0080238,   0.0080238,    0.039066, ...,           0,           0,           0],\n",
      "       [   0.013036,    0.013036,    0.020569, ...,           0,           0,           0],\n",
      "       [   0.014617,    0.014617,     0.03262, ...,           0,           0,           0]]), 'Confidence', 'F1'], [array([          0,    0.001001,    0.002002,    0.003003,    0.004004,    0.005005,    0.006006,    0.007007,    0.008008,    0.009009,     0.01001,    0.011011,    0.012012,    0.013013,    0.014014,    0.015015,    0.016016,    0.017017,    0.018018,    0.019019,     0.02002,    0.021021,    0.022022,    0.023023,\n",
      "          0.024024,    0.025025,    0.026026,    0.027027,    0.028028,    0.029029,     0.03003,    0.031031,    0.032032,    0.033033,    0.034034,    0.035035,    0.036036,    0.037037,    0.038038,    0.039039,     0.04004,    0.041041,    0.042042,    0.043043,    0.044044,    0.045045,    0.046046,    0.047047,\n",
      "          0.048048,    0.049049,     0.05005,    0.051051,    0.052052,    0.053053,    0.054054,    0.055055,    0.056056,    0.057057,    0.058058,    0.059059,     0.06006,    0.061061,    0.062062,    0.063063,    0.064064,    0.065065,    0.066066,    0.067067,    0.068068,    0.069069,     0.07007,    0.071071,\n",
      "          0.072072,    0.073073,    0.074074,    0.075075,    0.076076,    0.077077,    0.078078,    0.079079,     0.08008,    0.081081,    0.082082,    0.083083,    0.084084,    0.085085,    0.086086,    0.087087,    0.088088,    0.089089,     0.09009,    0.091091,    0.092092,    0.093093,    0.094094,    0.095095,\n",
      "          0.096096,    0.097097,    0.098098,    0.099099,      0.1001,      0.1011,      0.1021,      0.1031,      0.1041,     0.10511,     0.10611,     0.10711,     0.10811,     0.10911,     0.11011,     0.11111,     0.11211,     0.11311,     0.11411,     0.11512,     0.11612,     0.11712,     0.11812,     0.11912,\n",
      "           0.12012,     0.12112,     0.12212,     0.12312,     0.12412,     0.12513,     0.12613,     0.12713,     0.12813,     0.12913,     0.13013,     0.13113,     0.13213,     0.13313,     0.13413,     0.13514,     0.13614,     0.13714,     0.13814,     0.13914,     0.14014,     0.14114,     0.14214,     0.14314,\n",
      "           0.14414,     0.14515,     0.14615,     0.14715,     0.14815,     0.14915,     0.15015,     0.15115,     0.15215,     0.15315,     0.15415,     0.15516,     0.15616,     0.15716,     0.15816,     0.15916,     0.16016,     0.16116,     0.16216,     0.16316,     0.16416,     0.16517,     0.16617,     0.16717,\n",
      "           0.16817,     0.16917,     0.17017,     0.17117,     0.17217,     0.17317,     0.17417,     0.17518,     0.17618,     0.17718,     0.17818,     0.17918,     0.18018,     0.18118,     0.18218,     0.18318,     0.18418,     0.18519,     0.18619,     0.18719,     0.18819,     0.18919,     0.19019,     0.19119,\n",
      "           0.19219,     0.19319,     0.19419,      0.1952,      0.1962,      0.1972,      0.1982,      0.1992,      0.2002,      0.2012,      0.2022,      0.2032,      0.2042,     0.20521,     0.20621,     0.20721,     0.20821,     0.20921,     0.21021,     0.21121,     0.21221,     0.21321,     0.21421,     0.21522,\n",
      "           0.21622,     0.21722,     0.21822,     0.21922,     0.22022,     0.22122,     0.22222,     0.22322,     0.22422,     0.22523,     0.22623,     0.22723,     0.22823,     0.22923,     0.23023,     0.23123,     0.23223,     0.23323,     0.23423,     0.23524,     0.23624,     0.23724,     0.23824,     0.23924,\n",
      "           0.24024,     0.24124,     0.24224,     0.24324,     0.24424,     0.24525,     0.24625,     0.24725,     0.24825,     0.24925,     0.25025,     0.25125,     0.25225,     0.25325,     0.25425,     0.25526,     0.25626,     0.25726,     0.25826,     0.25926,     0.26026,     0.26126,     0.26226,     0.26326,\n",
      "           0.26426,     0.26527,     0.26627,     0.26727,     0.26827,     0.26927,     0.27027,     0.27127,     0.27227,     0.27327,     0.27427,     0.27528,     0.27628,     0.27728,     0.27828,     0.27928,     0.28028,     0.28128,     0.28228,     0.28328,     0.28428,     0.28529,     0.28629,     0.28729,\n",
      "           0.28829,     0.28929,     0.29029,     0.29129,     0.29229,     0.29329,     0.29429,      0.2953,      0.2963,      0.2973,      0.2983,      0.2993,      0.3003,      0.3013,      0.3023,      0.3033,      0.3043,     0.30531,     0.30631,     0.30731,     0.30831,     0.30931,     0.31031,     0.31131,\n",
      "           0.31231,     0.31331,     0.31431,     0.31532,     0.31632,     0.31732,     0.31832,     0.31932,     0.32032,     0.32132,     0.32232,     0.32332,     0.32432,     0.32533,     0.32633,     0.32733,     0.32833,     0.32933,     0.33033,     0.33133,     0.33233,     0.33333,     0.33433,     0.33534,\n",
      "           0.33634,     0.33734,     0.33834,     0.33934,     0.34034,     0.34134,     0.34234,     0.34334,     0.34434,     0.34535,     0.34635,     0.34735,     0.34835,     0.34935,     0.35035,     0.35135,     0.35235,     0.35335,     0.35435,     0.35536,     0.35636,     0.35736,     0.35836,     0.35936,\n",
      "           0.36036,     0.36136,     0.36236,     0.36336,     0.36436,     0.36537,     0.36637,     0.36737,     0.36837,     0.36937,     0.37037,     0.37137,     0.37237,     0.37337,     0.37437,     0.37538,     0.37638,     0.37738,     0.37838,     0.37938,     0.38038,     0.38138,     0.38238,     0.38338,\n",
      "           0.38438,     0.38539,     0.38639,     0.38739,     0.38839,     0.38939,     0.39039,     0.39139,     0.39239,     0.39339,     0.39439,      0.3954,      0.3964,      0.3974,      0.3984,      0.3994,      0.4004,      0.4014,      0.4024,      0.4034,      0.4044,     0.40541,     0.40641,     0.40741,\n",
      "           0.40841,     0.40941,     0.41041,     0.41141,     0.41241,     0.41341,     0.41441,     0.41542,     0.41642,     0.41742,     0.41842,     0.41942,     0.42042,     0.42142,     0.42242,     0.42342,     0.42442,     0.42543,     0.42643,     0.42743,     0.42843,     0.42943,     0.43043,     0.43143,\n",
      "           0.43243,     0.43343,     0.43443,     0.43544,     0.43644,     0.43744,     0.43844,     0.43944,     0.44044,     0.44144,     0.44244,     0.44344,     0.44444,     0.44545,     0.44645,     0.44745,     0.44845,     0.44945,     0.45045,     0.45145,     0.45245,     0.45345,     0.45445,     0.45546,\n",
      "           0.45646,     0.45746,     0.45846,     0.45946,     0.46046,     0.46146,     0.46246,     0.46346,     0.46446,     0.46547,     0.46647,     0.46747,     0.46847,     0.46947,     0.47047,     0.47147,     0.47247,     0.47347,     0.47447,     0.47548,     0.47648,     0.47748,     0.47848,     0.47948,\n",
      "           0.48048,     0.48148,     0.48248,     0.48348,     0.48448,     0.48549,     0.48649,     0.48749,     0.48849,     0.48949,     0.49049,     0.49149,     0.49249,     0.49349,     0.49449,      0.4955,      0.4965,      0.4975,      0.4985,      0.4995,      0.5005,      0.5015,      0.5025,      0.5035,\n",
      "            0.5045,     0.50551,     0.50651,     0.50751,     0.50851,     0.50951,     0.51051,     0.51151,     0.51251,     0.51351,     0.51451,     0.51552,     0.51652,     0.51752,     0.51852,     0.51952,     0.52052,     0.52152,     0.52252,     0.52352,     0.52452,     0.52553,     0.52653,     0.52753,\n",
      "           0.52853,     0.52953,     0.53053,     0.53153,     0.53253,     0.53353,     0.53453,     0.53554,     0.53654,     0.53754,     0.53854,     0.53954,     0.54054,     0.54154,     0.54254,     0.54354,     0.54454,     0.54555,     0.54655,     0.54755,     0.54855,     0.54955,     0.55055,     0.55155,\n",
      "           0.55255,     0.55355,     0.55455,     0.55556,     0.55656,     0.55756,     0.55856,     0.55956,     0.56056,     0.56156,     0.56256,     0.56356,     0.56456,     0.56557,     0.56657,     0.56757,     0.56857,     0.56957,     0.57057,     0.57157,     0.57257,     0.57357,     0.57457,     0.57558,\n",
      "           0.57658,     0.57758,     0.57858,     0.57958,     0.58058,     0.58158,     0.58258,     0.58358,     0.58458,     0.58559,     0.58659,     0.58759,     0.58859,     0.58959,     0.59059,     0.59159,     0.59259,     0.59359,     0.59459,      0.5956,      0.5966,      0.5976,      0.5986,      0.5996,\n",
      "            0.6006,      0.6016,      0.6026,      0.6036,      0.6046,     0.60561,     0.60661,     0.60761,     0.60861,     0.60961,     0.61061,     0.61161,     0.61261,     0.61361,     0.61461,     0.61562,     0.61662,     0.61762,     0.61862,     0.61962,     0.62062,     0.62162,     0.62262,     0.62362,\n",
      "           0.62462,     0.62563,     0.62663,     0.62763,     0.62863,     0.62963,     0.63063,     0.63163,     0.63263,     0.63363,     0.63463,     0.63564,     0.63664,     0.63764,     0.63864,     0.63964,     0.64064,     0.64164,     0.64264,     0.64364,     0.64464,     0.64565,     0.64665,     0.64765,\n",
      "           0.64865,     0.64965,     0.65065,     0.65165,     0.65265,     0.65365,     0.65465,     0.65566,     0.65666,     0.65766,     0.65866,     0.65966,     0.66066,     0.66166,     0.66266,     0.66366,     0.66466,     0.66567,     0.66667,     0.66767,     0.66867,     0.66967,     0.67067,     0.67167,\n",
      "           0.67267,     0.67367,     0.67467,     0.67568,     0.67668,     0.67768,     0.67868,     0.67968,     0.68068,     0.68168,     0.68268,     0.68368,     0.68468,     0.68569,     0.68669,     0.68769,     0.68869,     0.68969,     0.69069,     0.69169,     0.69269,     0.69369,     0.69469,      0.6957,\n",
      "            0.6967,      0.6977,      0.6987,      0.6997,      0.7007,      0.7017,      0.7027,      0.7037,      0.7047,     0.70571,     0.70671,     0.70771,     0.70871,     0.70971,     0.71071,     0.71171,     0.71271,     0.71371,     0.71471,     0.71572,     0.71672,     0.71772,     0.71872,     0.71972,\n",
      "           0.72072,     0.72172,     0.72272,     0.72372,     0.72472,     0.72573,     0.72673,     0.72773,     0.72873,     0.72973,     0.73073,     0.73173,     0.73273,     0.73373,     0.73473,     0.73574,     0.73674,     0.73774,     0.73874,     0.73974,     0.74074,     0.74174,     0.74274,     0.74374,\n",
      "           0.74474,     0.74575,     0.74675,     0.74775,     0.74875,     0.74975,     0.75075,     0.75175,     0.75275,     0.75375,     0.75475,     0.75576,     0.75676,     0.75776,     0.75876,     0.75976,     0.76076,     0.76176,     0.76276,     0.76376,     0.76476,     0.76577,     0.76677,     0.76777,\n",
      "           0.76877,     0.76977,     0.77077,     0.77177,     0.77277,     0.77377,     0.77477,     0.77578,     0.77678,     0.77778,     0.77878,     0.77978,     0.78078,     0.78178,     0.78278,     0.78378,     0.78478,     0.78579,     0.78679,     0.78779,     0.78879,     0.78979,     0.79079,     0.79179,\n",
      "           0.79279,     0.79379,     0.79479,      0.7958,      0.7968,      0.7978,      0.7988,      0.7998,      0.8008,      0.8018,      0.8028,      0.8038,      0.8048,     0.80581,     0.80681,     0.80781,     0.80881,     0.80981,     0.81081,     0.81181,     0.81281,     0.81381,     0.81481,     0.81582,\n",
      "           0.81682,     0.81782,     0.81882,     0.81982,     0.82082,     0.82182,     0.82282,     0.82382,     0.82482,     0.82583,     0.82683,     0.82783,     0.82883,     0.82983,     0.83083,     0.83183,     0.83283,     0.83383,     0.83483,     0.83584,     0.83684,     0.83784,     0.83884,     0.83984,\n",
      "           0.84084,     0.84184,     0.84284,     0.84384,     0.84484,     0.84585,     0.84685,     0.84785,     0.84885,     0.84985,     0.85085,     0.85185,     0.85285,     0.85385,     0.85485,     0.85586,     0.85686,     0.85786,     0.85886,     0.85986,     0.86086,     0.86186,     0.86286,     0.86386,\n",
      "           0.86486,     0.86587,     0.86687,     0.86787,     0.86887,     0.86987,     0.87087,     0.87187,     0.87287,     0.87387,     0.87487,     0.87588,     0.87688,     0.87788,     0.87888,     0.87988,     0.88088,     0.88188,     0.88288,     0.88388,     0.88488,     0.88589,     0.88689,     0.88789,\n",
      "           0.88889,     0.88989,     0.89089,     0.89189,     0.89289,     0.89389,     0.89489,      0.8959,      0.8969,      0.8979,      0.8989,      0.8999,      0.9009,      0.9019,      0.9029,      0.9039,      0.9049,     0.90591,     0.90691,     0.90791,     0.90891,     0.90991,     0.91091,     0.91191,\n",
      "           0.91291,     0.91391,     0.91491,     0.91592,     0.91692,     0.91792,     0.91892,     0.91992,     0.92092,     0.92192,     0.92292,     0.92392,     0.92492,     0.92593,     0.92693,     0.92793,     0.92893,     0.92993,     0.93093,     0.93193,     0.93293,     0.93393,     0.93493,     0.93594,\n",
      "           0.93694,     0.93794,     0.93894,     0.93994,     0.94094,     0.94194,     0.94294,     0.94394,     0.94494,     0.94595,     0.94695,     0.94795,     0.94895,     0.94995,     0.95095,     0.95195,     0.95295,     0.95395,     0.95495,     0.95596,     0.95696,     0.95796,     0.95896,     0.95996,\n",
      "           0.96096,     0.96196,     0.96296,     0.96396,     0.96496,     0.96597,     0.96697,     0.96797,     0.96897,     0.96997,     0.97097,     0.97197,     0.97297,     0.97397,     0.97497,     0.97598,     0.97698,     0.97798,     0.97898,     0.97998,     0.98098,     0.98198,     0.98298,     0.98398,\n",
      "           0.98498,     0.98599,     0.98699,     0.98799,     0.98899,     0.98999,     0.99099,     0.99199,     0.99299,     0.99399,     0.99499,       0.996,       0.997,       0.998,       0.999,           1]), array([[  0.0040299,   0.0040299,    0.019966, ...,           1,           1,           1],\n",
      "       [  0.0065887,   0.0065887,    0.010462, ...,           1,           1,           1],\n",
      "       [  0.0073742,   0.0073742,    0.016656, ...,           1,           1,           1]]), 'Confidence', 'Precision'], [array([          0,    0.001001,    0.002002,    0.003003,    0.004004,    0.005005,    0.006006,    0.007007,    0.008008,    0.009009,     0.01001,    0.011011,    0.012012,    0.013013,    0.014014,    0.015015,    0.016016,    0.017017,    0.018018,    0.019019,     0.02002,    0.021021,    0.022022,    0.023023,\n",
      "          0.024024,    0.025025,    0.026026,    0.027027,    0.028028,    0.029029,     0.03003,    0.031031,    0.032032,    0.033033,    0.034034,    0.035035,    0.036036,    0.037037,    0.038038,    0.039039,     0.04004,    0.041041,    0.042042,    0.043043,    0.044044,    0.045045,    0.046046,    0.047047,\n",
      "          0.048048,    0.049049,     0.05005,    0.051051,    0.052052,    0.053053,    0.054054,    0.055055,    0.056056,    0.057057,    0.058058,    0.059059,     0.06006,    0.061061,    0.062062,    0.063063,    0.064064,    0.065065,    0.066066,    0.067067,    0.068068,    0.069069,     0.07007,    0.071071,\n",
      "          0.072072,    0.073073,    0.074074,    0.075075,    0.076076,    0.077077,    0.078078,    0.079079,     0.08008,    0.081081,    0.082082,    0.083083,    0.084084,    0.085085,    0.086086,    0.087087,    0.088088,    0.089089,     0.09009,    0.091091,    0.092092,    0.093093,    0.094094,    0.095095,\n",
      "          0.096096,    0.097097,    0.098098,    0.099099,      0.1001,      0.1011,      0.1021,      0.1031,      0.1041,     0.10511,     0.10611,     0.10711,     0.10811,     0.10911,     0.11011,     0.11111,     0.11211,     0.11311,     0.11411,     0.11512,     0.11612,     0.11712,     0.11812,     0.11912,\n",
      "           0.12012,     0.12112,     0.12212,     0.12312,     0.12412,     0.12513,     0.12613,     0.12713,     0.12813,     0.12913,     0.13013,     0.13113,     0.13213,     0.13313,     0.13413,     0.13514,     0.13614,     0.13714,     0.13814,     0.13914,     0.14014,     0.14114,     0.14214,     0.14314,\n",
      "           0.14414,     0.14515,     0.14615,     0.14715,     0.14815,     0.14915,     0.15015,     0.15115,     0.15215,     0.15315,     0.15415,     0.15516,     0.15616,     0.15716,     0.15816,     0.15916,     0.16016,     0.16116,     0.16216,     0.16316,     0.16416,     0.16517,     0.16617,     0.16717,\n",
      "           0.16817,     0.16917,     0.17017,     0.17117,     0.17217,     0.17317,     0.17417,     0.17518,     0.17618,     0.17718,     0.17818,     0.17918,     0.18018,     0.18118,     0.18218,     0.18318,     0.18418,     0.18519,     0.18619,     0.18719,     0.18819,     0.18919,     0.19019,     0.19119,\n",
      "           0.19219,     0.19319,     0.19419,      0.1952,      0.1962,      0.1972,      0.1982,      0.1992,      0.2002,      0.2012,      0.2022,      0.2032,      0.2042,     0.20521,     0.20621,     0.20721,     0.20821,     0.20921,     0.21021,     0.21121,     0.21221,     0.21321,     0.21421,     0.21522,\n",
      "           0.21622,     0.21722,     0.21822,     0.21922,     0.22022,     0.22122,     0.22222,     0.22322,     0.22422,     0.22523,     0.22623,     0.22723,     0.22823,     0.22923,     0.23023,     0.23123,     0.23223,     0.23323,     0.23423,     0.23524,     0.23624,     0.23724,     0.23824,     0.23924,\n",
      "           0.24024,     0.24124,     0.24224,     0.24324,     0.24424,     0.24525,     0.24625,     0.24725,     0.24825,     0.24925,     0.25025,     0.25125,     0.25225,     0.25325,     0.25425,     0.25526,     0.25626,     0.25726,     0.25826,     0.25926,     0.26026,     0.26126,     0.26226,     0.26326,\n",
      "           0.26426,     0.26527,     0.26627,     0.26727,     0.26827,     0.26927,     0.27027,     0.27127,     0.27227,     0.27327,     0.27427,     0.27528,     0.27628,     0.27728,     0.27828,     0.27928,     0.28028,     0.28128,     0.28228,     0.28328,     0.28428,     0.28529,     0.28629,     0.28729,\n",
      "           0.28829,     0.28929,     0.29029,     0.29129,     0.29229,     0.29329,     0.29429,      0.2953,      0.2963,      0.2973,      0.2983,      0.2993,      0.3003,      0.3013,      0.3023,      0.3033,      0.3043,     0.30531,     0.30631,     0.30731,     0.30831,     0.30931,     0.31031,     0.31131,\n",
      "           0.31231,     0.31331,     0.31431,     0.31532,     0.31632,     0.31732,     0.31832,     0.31932,     0.32032,     0.32132,     0.32232,     0.32332,     0.32432,     0.32533,     0.32633,     0.32733,     0.32833,     0.32933,     0.33033,     0.33133,     0.33233,     0.33333,     0.33433,     0.33534,\n",
      "           0.33634,     0.33734,     0.33834,     0.33934,     0.34034,     0.34134,     0.34234,     0.34334,     0.34434,     0.34535,     0.34635,     0.34735,     0.34835,     0.34935,     0.35035,     0.35135,     0.35235,     0.35335,     0.35435,     0.35536,     0.35636,     0.35736,     0.35836,     0.35936,\n",
      "           0.36036,     0.36136,     0.36236,     0.36336,     0.36436,     0.36537,     0.36637,     0.36737,     0.36837,     0.36937,     0.37037,     0.37137,     0.37237,     0.37337,     0.37437,     0.37538,     0.37638,     0.37738,     0.37838,     0.37938,     0.38038,     0.38138,     0.38238,     0.38338,\n",
      "           0.38438,     0.38539,     0.38639,     0.38739,     0.38839,     0.38939,     0.39039,     0.39139,     0.39239,     0.39339,     0.39439,      0.3954,      0.3964,      0.3974,      0.3984,      0.3994,      0.4004,      0.4014,      0.4024,      0.4034,      0.4044,     0.40541,     0.40641,     0.40741,\n",
      "           0.40841,     0.40941,     0.41041,     0.41141,     0.41241,     0.41341,     0.41441,     0.41542,     0.41642,     0.41742,     0.41842,     0.41942,     0.42042,     0.42142,     0.42242,     0.42342,     0.42442,     0.42543,     0.42643,     0.42743,     0.42843,     0.42943,     0.43043,     0.43143,\n",
      "           0.43243,     0.43343,     0.43443,     0.43544,     0.43644,     0.43744,     0.43844,     0.43944,     0.44044,     0.44144,     0.44244,     0.44344,     0.44444,     0.44545,     0.44645,     0.44745,     0.44845,     0.44945,     0.45045,     0.45145,     0.45245,     0.45345,     0.45445,     0.45546,\n",
      "           0.45646,     0.45746,     0.45846,     0.45946,     0.46046,     0.46146,     0.46246,     0.46346,     0.46446,     0.46547,     0.46647,     0.46747,     0.46847,     0.46947,     0.47047,     0.47147,     0.47247,     0.47347,     0.47447,     0.47548,     0.47648,     0.47748,     0.47848,     0.47948,\n",
      "           0.48048,     0.48148,     0.48248,     0.48348,     0.48448,     0.48549,     0.48649,     0.48749,     0.48849,     0.48949,     0.49049,     0.49149,     0.49249,     0.49349,     0.49449,      0.4955,      0.4965,      0.4975,      0.4985,      0.4995,      0.5005,      0.5015,      0.5025,      0.5035,\n",
      "            0.5045,     0.50551,     0.50651,     0.50751,     0.50851,     0.50951,     0.51051,     0.51151,     0.51251,     0.51351,     0.51451,     0.51552,     0.51652,     0.51752,     0.51852,     0.51952,     0.52052,     0.52152,     0.52252,     0.52352,     0.52452,     0.52553,     0.52653,     0.52753,\n",
      "           0.52853,     0.52953,     0.53053,     0.53153,     0.53253,     0.53353,     0.53453,     0.53554,     0.53654,     0.53754,     0.53854,     0.53954,     0.54054,     0.54154,     0.54254,     0.54354,     0.54454,     0.54555,     0.54655,     0.54755,     0.54855,     0.54955,     0.55055,     0.55155,\n",
      "           0.55255,     0.55355,     0.55455,     0.55556,     0.55656,     0.55756,     0.55856,     0.55956,     0.56056,     0.56156,     0.56256,     0.56356,     0.56456,     0.56557,     0.56657,     0.56757,     0.56857,     0.56957,     0.57057,     0.57157,     0.57257,     0.57357,     0.57457,     0.57558,\n",
      "           0.57658,     0.57758,     0.57858,     0.57958,     0.58058,     0.58158,     0.58258,     0.58358,     0.58458,     0.58559,     0.58659,     0.58759,     0.58859,     0.58959,     0.59059,     0.59159,     0.59259,     0.59359,     0.59459,      0.5956,      0.5966,      0.5976,      0.5986,      0.5996,\n",
      "            0.6006,      0.6016,      0.6026,      0.6036,      0.6046,     0.60561,     0.60661,     0.60761,     0.60861,     0.60961,     0.61061,     0.61161,     0.61261,     0.61361,     0.61461,     0.61562,     0.61662,     0.61762,     0.61862,     0.61962,     0.62062,     0.62162,     0.62262,     0.62362,\n",
      "           0.62462,     0.62563,     0.62663,     0.62763,     0.62863,     0.62963,     0.63063,     0.63163,     0.63263,     0.63363,     0.63463,     0.63564,     0.63664,     0.63764,     0.63864,     0.63964,     0.64064,     0.64164,     0.64264,     0.64364,     0.64464,     0.64565,     0.64665,     0.64765,\n",
      "           0.64865,     0.64965,     0.65065,     0.65165,     0.65265,     0.65365,     0.65465,     0.65566,     0.65666,     0.65766,     0.65866,     0.65966,     0.66066,     0.66166,     0.66266,     0.66366,     0.66466,     0.66567,     0.66667,     0.66767,     0.66867,     0.66967,     0.67067,     0.67167,\n",
      "           0.67267,     0.67367,     0.67467,     0.67568,     0.67668,     0.67768,     0.67868,     0.67968,     0.68068,     0.68168,     0.68268,     0.68368,     0.68468,     0.68569,     0.68669,     0.68769,     0.68869,     0.68969,     0.69069,     0.69169,     0.69269,     0.69369,     0.69469,      0.6957,\n",
      "            0.6967,      0.6977,      0.6987,      0.6997,      0.7007,      0.7017,      0.7027,      0.7037,      0.7047,     0.70571,     0.70671,     0.70771,     0.70871,     0.70971,     0.71071,     0.71171,     0.71271,     0.71371,     0.71471,     0.71572,     0.71672,     0.71772,     0.71872,     0.71972,\n",
      "           0.72072,     0.72172,     0.72272,     0.72372,     0.72472,     0.72573,     0.72673,     0.72773,     0.72873,     0.72973,     0.73073,     0.73173,     0.73273,     0.73373,     0.73473,     0.73574,     0.73674,     0.73774,     0.73874,     0.73974,     0.74074,     0.74174,     0.74274,     0.74374,\n",
      "           0.74474,     0.74575,     0.74675,     0.74775,     0.74875,     0.74975,     0.75075,     0.75175,     0.75275,     0.75375,     0.75475,     0.75576,     0.75676,     0.75776,     0.75876,     0.75976,     0.76076,     0.76176,     0.76276,     0.76376,     0.76476,     0.76577,     0.76677,     0.76777,\n",
      "           0.76877,     0.76977,     0.77077,     0.77177,     0.77277,     0.77377,     0.77477,     0.77578,     0.77678,     0.77778,     0.77878,     0.77978,     0.78078,     0.78178,     0.78278,     0.78378,     0.78478,     0.78579,     0.78679,     0.78779,     0.78879,     0.78979,     0.79079,     0.79179,\n",
      "           0.79279,     0.79379,     0.79479,      0.7958,      0.7968,      0.7978,      0.7988,      0.7998,      0.8008,      0.8018,      0.8028,      0.8038,      0.8048,     0.80581,     0.80681,     0.80781,     0.80881,     0.80981,     0.81081,     0.81181,     0.81281,     0.81381,     0.81481,     0.81582,\n",
      "           0.81682,     0.81782,     0.81882,     0.81982,     0.82082,     0.82182,     0.82282,     0.82382,     0.82482,     0.82583,     0.82683,     0.82783,     0.82883,     0.82983,     0.83083,     0.83183,     0.83283,     0.83383,     0.83483,     0.83584,     0.83684,     0.83784,     0.83884,     0.83984,\n",
      "           0.84084,     0.84184,     0.84284,     0.84384,     0.84484,     0.84585,     0.84685,     0.84785,     0.84885,     0.84985,     0.85085,     0.85185,     0.85285,     0.85385,     0.85485,     0.85586,     0.85686,     0.85786,     0.85886,     0.85986,     0.86086,     0.86186,     0.86286,     0.86386,\n",
      "           0.86486,     0.86587,     0.86687,     0.86787,     0.86887,     0.86987,     0.87087,     0.87187,     0.87287,     0.87387,     0.87487,     0.87588,     0.87688,     0.87788,     0.87888,     0.87988,     0.88088,     0.88188,     0.88288,     0.88388,     0.88488,     0.88589,     0.88689,     0.88789,\n",
      "           0.88889,     0.88989,     0.89089,     0.89189,     0.89289,     0.89389,     0.89489,      0.8959,      0.8969,      0.8979,      0.8989,      0.8999,      0.9009,      0.9019,      0.9029,      0.9039,      0.9049,     0.90591,     0.90691,     0.90791,     0.90891,     0.90991,     0.91091,     0.91191,\n",
      "           0.91291,     0.91391,     0.91491,     0.91592,     0.91692,     0.91792,     0.91892,     0.91992,     0.92092,     0.92192,     0.92292,     0.92392,     0.92492,     0.92593,     0.92693,     0.92793,     0.92893,     0.92993,     0.93093,     0.93193,     0.93293,     0.93393,     0.93493,     0.93594,\n",
      "           0.93694,     0.93794,     0.93894,     0.93994,     0.94094,     0.94194,     0.94294,     0.94394,     0.94494,     0.94595,     0.94695,     0.94795,     0.94895,     0.94995,     0.95095,     0.95195,     0.95295,     0.95395,     0.95495,     0.95596,     0.95696,     0.95796,     0.95896,     0.95996,\n",
      "           0.96096,     0.96196,     0.96296,     0.96396,     0.96496,     0.96597,     0.96697,     0.96797,     0.96897,     0.96997,     0.97097,     0.97197,     0.97297,     0.97397,     0.97497,     0.97598,     0.97698,     0.97798,     0.97898,     0.97998,     0.98098,     0.98198,     0.98298,     0.98398,\n",
      "           0.98498,     0.98599,     0.98699,     0.98799,     0.98899,     0.98999,     0.99099,     0.99199,     0.99299,     0.99399,     0.99499,       0.996,       0.997,       0.998,       0.999,           1]), array([[        0.9,         0.9,         0.9, ...,           0,           0,           0],\n",
      "       [    0.60784,     0.60784,     0.60784, ...,           0,           0,           0],\n",
      "       [    0.82143,     0.82143,     0.78571, ...,           0,           0,           0]]), 'Confidence', 'Recall']]\n",
      "fitness: np.float64(0.7949273625131816)\n",
      "keys: ['metrics/precision(B)', 'metrics/recall(B)', 'metrics/mAP50(B)', 'metrics/mAP50-95(B)', 'metrics/precision(M)', 'metrics/recall(M)', 'metrics/mAP50(M)', 'metrics/mAP50-95(M)']\n",
      "maps: array([    0.72831,     0.91994,     0.49587,     0.76913])\n",
      "names: {0: 'none', 1: 'apple', 2: 'banana', 3: 'orange'}\n",
      "plot: True\n",
      "results_dict: {'metrics/precision(B)': np.float64(0.9359039586392139), 'metrics/recall(B)': np.float64(0.6473736009527365), 'metrics/mAP50(B)': np.float64(0.8219083371114068), 'metrics/mAP50-95(B)': np.float64(0.5282014301134988), 'metrics/precision(M)': np.float64(0.7308704124104396), 'metrics/recall(M)': np.float64(0.5507018938620973), 'metrics/mAP50(M)': np.float64(0.5725413797747735), 'metrics/mAP50-95(M)': np.float64(0.20011233746934956), 'fitness': np.float64(0.7949273625131816)}\n",
      "save_dir: WindowsPath('fruit_detection_1/yolov8_fruit_detector_32')\n",
      "seg: ultralytics.utils.metrics.Metric object\n",
      "speed: {'preprocess': 4.145184744907133, 'inference': 261.77681186157514, 'loss': 0.0005711848705501879, 'postprocess': 10.853283052032783}\n",
      "task: 'segment'\n"
     ]
    }
   ],
   "source": [
    "# Evaluate on validation set\n",
    "metrics=model.val(data=\"fruit_dataset/data1.yaml\")\n",
    "\n",
    "print(metrics)"
   ]
  },
  {
   "cell_type": "code",
   "execution_count": 158,
   "id": "8baa7d16-2b98-4c48-97a0-40910ae77fd2",
   "metadata": {},
   "outputs": [
    {
     "name": "stdout",
     "output_type": "stream",
     "text": [
      "Ultralytics 8.3.86  Python-3.12.4 torch-2.6.0+cu118 CPU (Intel Core(TM) i3-4005U 1.70GHz)\n",
      "YOLOv8n-seg summary (fused): 85 layers, 3,258,844 parameters, 0 gradients, 12.0 GFLOPs\n"
     ]
    },
    {
     "name": "stderr",
     "output_type": "stream",
     "text": [
      "\u001b[34m\u001b[1mval: \u001b[0mScanning C:\\Users\\user\\fruit_dataset\\valid\\labels.cache... 59 images, 0 backgrounds, 0 corrupt: 100%|██████████| 59/59 [00:00<?, ?it/s]\n",
      "                 Class     Images  Instances      Box(P          R      mAP50  mAP50-95)     Mask(P          R      mAP50  mAP50-95): 100%|██████████| 4/4 [00:17<00:00,  4.40s/it]\n"
     ]
    },
    {
     "name": "stdout",
     "output_type": "stream",
     "text": [
      "                   all         59        109      0.878      0.668      0.822      0.527      0.746      0.551      0.576      0.199\n",
      "                 apple         23         30      0.848      0.667      0.802      0.605      0.914        0.7      0.829      0.311\n",
      "                banana         25         51      0.856      0.588       0.78      0.451      0.392       0.24      0.181     0.0391\n",
      "                orange         16         28       0.93       0.75      0.882      0.524      0.933      0.714      0.719      0.246\n",
      "Speed: 4.7ms preprocess, 200.4ms inference, 0.0ms loss, 9.8ms postprocess per image\n",
      "Results saved to \u001b[1mruns\\segment\\val2\u001b[0m\n"
     ]
    }
   ],
   "source": [
    "\n",
    "# Load your trained model (change path as needed)\n",
    "model = YOLO(\"fruit_detection_1/yolov8_fruit_detector_3/weights/best.pt\")\n",
    "\n",
    "# Evaluate on validation data\n",
    "results = model.val(data=\"fruit_dataset/data1.yaml\")"
   ]
  },
  {
   "cell_type": "code",
   "execution_count": 163,
   "id": "7b586b0e-2439-4a32-bde0-467a397b0c13",
   "metadata": {},
   "outputs": [
    {
     "name": "stdout",
     "output_type": "stream",
     "text": [
      "\n",
      "image 1/1 C:\\Users\\user\\fruit_dataset\\test\\images\\043_jpg.rf.fa255d6b50bbd925aa2ae76c33c530b0.jpg: 320x416 1 orange, 277.2ms\n",
      "Speed: 7.6ms preprocess, 277.2ms inference, 7.6ms postprocess per image at shape (1, 3, 320, 416)\n",
      "Results saved to \u001b[1mruns\\segment\\predict6\u001b[0m\n"
     ]
    },
    {
     "data": {
      "text/plain": [
       "'results_043_jpg.rf.fa255d6b50bbd925aa2ae76c33c530b0.jpg'"
      ]
     },
     "execution_count": 163,
     "metadata": {},
     "output_type": "execute_result"
    }
   ],
   "source": [
    "\n",
    "# Load your trained model (change path as needed)\n",
    "model = YOLO(\"fruit_detection_1/yolov8_fruit_detector_3/weights/best.pt\")\n",
    "\n",
    "# Evaluate on validation data\n",
    "results = model(\"fruit_dataset/test/images/043_jpg.rf.fa255d6b50bbd925aa2ae76c33c530b0.jpg\", save=True)\n",
    "\n",
    "# Show or save output\n",
    "results[0].show()      # Visualize with masks\n",
    "results[0].save()    "
   ]
  },
  {
   "cell_type": "code",
   "execution_count": 167,
   "id": "8f214cfa-19ab-4439-b3cb-27d23c5fa2f1",
   "metadata": {},
   "outputs": [
    {
     "name": "stdout",
     "output_type": "stream",
     "text": [
      " Segmentation Evaluation Metrics:\n",
      "Segmentation mAP@0.5: 0.5725\n",
      "Segmentation mAP@0.5:0.95: 0.2001\n",
      "Segmentation Precision (mean): 0.7309\n",
      "Segmentation Recall (mean): 0.5507\n",
      "Segmentation F1 Score (mean): 0.6276\n",
      "\n",
      " Detection Evaluation Metrics:\n",
      "Detection mAP@0.5: 0.8219\n",
      "Detection mAP@0.5:0.95: 0.5282\n",
      "Detection Precision (mean): 0.9359\n",
      "Detection Recall (mean): 0.6474\n",
      "Detection F1 Score (mean): 0.7632\n"
     ]
    }
   ],
   "source": [
    "print(\" Segmentation Evaluation Metrics:\")\n",
    "\n",
    "# Segmentation metrics\n",
    "print(f\"Segmentation mAP@0.5: {metrics.seg.map50:.4f}\")\n",
    "print(f\"Segmentation mAP@0.5:0.95: {metrics.seg.map:.4f}\")\n",
    "print(f\"Segmentation Precision (mean): {sum(metrics.seg.p)/len(metrics.seg.p):.4f}\")\n",
    "print(f\"Segmentation Recall (mean): {sum(metrics.seg.r)/len(metrics.seg.r):.4f}\")\n",
    "print(f\"Segmentation F1 Score (mean): {sum(metrics.seg.f1)/len(metrics.seg.f1):.4f}\")\n",
    "\n",
    "print(\"\\n Detection Evaluation Metrics:\")\n",
    "# Detection metrics\n",
    "print(f\"Detection mAP@0.5: {metrics.box.map50:.4f}\")\n",
    "print(f\"Detection mAP@0.5:0.95: {metrics.box.map:.4f}\")\n",
    "print(f\"Detection Precision (mean): {sum(metrics.box.p)/len(metrics.box.p):.4f}\")\n",
    "print(f\"Detection Recall (mean): {sum(metrics.box.r)/len(metrics.box.r):.4f}\")\n",
    "print(f\"Detection F1 Score (mean): {sum(metrics.box.f1)/len(metrics.box.f1):.4f}\")\n"
   ]
  },
  {
   "cell_type": "code",
   "execution_count": 169,
   "id": "001f96a7-bb26-4d10-8b56-cdb587cf5118",
   "metadata": {},
   "outputs": [
    {
     "name": "stderr",
     "output_type": "stream",
     "text": [
      "Classifying test images:   0%|          | 0/66 [00:00<?, ?it/s]"
     ]
    },
    {
     "name": "stdout",
     "output_type": "stream",
     "text": [
      "\n",
      "image 1/1 C:\\Users\\user\\fruit_dataset\\test\\images\\005_jpg.rf.63fb699c8a264f9deb14125b7f9b50e5.jpg: 288x416 2 apples, 620.4ms\n",
      "Speed: 23.6ms preprocess, 620.4ms inference, 31.0ms postprocess per image at shape (1, 3, 288, 416)\n"
     ]
    },
    {
     "name": "stderr",
     "output_type": "stream",
     "text": [
      "Classifying test images:   3%|▎         | 2/66 [00:01<00:37,  1.72it/s]"
     ]
    },
    {
     "name": "stdout",
     "output_type": "stream",
     "text": [
      "\n",
      "image 1/1 C:\\Users\\user\\fruit_dataset\\test\\images\\005_jpg.rf.a581adee25782cb8b677c67cd40d1af7.jpg: 288x416 2 apples, 181.9ms\n",
      "Speed: 19.3ms preprocess, 181.9ms inference, 7.8ms postprocess per image at shape (1, 3, 288, 416)\n"
     ]
    },
    {
     "name": "stderr",
     "output_type": "stream",
     "text": [
      "Classifying test images:   5%|▍         | 3/66 [00:01<00:27,  2.32it/s]"
     ]
    },
    {
     "name": "stdout",
     "output_type": "stream",
     "text": [
      "\n",
      "image 1/1 C:\\Users\\user\\fruit_dataset\\test\\images\\006_jpg.rf.351a6317de7a01b81d10e7bae162e2de.jpg: 320x416 1 orange, 243.0ms\n",
      "Speed: 4.0ms preprocess, 243.0ms inference, 6.1ms postprocess per image at shape (1, 3, 320, 416)\n"
     ]
    },
    {
     "name": "stderr",
     "output_type": "stream",
     "text": [
      "Classifying test images:   6%|▌         | 4/66 [00:01<00:23,  2.62it/s]"
     ]
    },
    {
     "name": "stdout",
     "output_type": "stream",
     "text": [
      "\n",
      "image 1/1 C:\\Users\\user\\fruit_dataset\\test\\images\\006_jpg.rf.92a92069631d5e51810c19edea43be96.jpg: 320x416 1 orange, 195.9ms\n",
      "Speed: 4.2ms preprocess, 195.9ms inference, 6.0ms postprocess per image at shape (1, 3, 320, 416)\n"
     ]
    },
    {
     "name": "stderr",
     "output_type": "stream",
     "text": [
      "Classifying test images:   8%|▊         | 5/66 [00:01<00:19,  3.06it/s]"
     ]
    },
    {
     "name": "stdout",
     "output_type": "stream",
     "text": [
      "\n",
      "image 1/1 C:\\Users\\user\\fruit_dataset\\test\\images\\017_jpg.rf.1a6cdb9475b9dbecdc666f5929dc19be.jpg: 416x416 3 oranges, 459.4ms\n",
      "Speed: 16.9ms preprocess, 459.4ms inference, 12.2ms postprocess per image at shape (1, 3, 416, 416)\n"
     ]
    },
    {
     "name": "stderr",
     "output_type": "stream",
     "text": [
      "Classifying test images:   9%|▉         | 6/66 [00:02<00:23,  2.56it/s]"
     ]
    },
    {
     "name": "stdout",
     "output_type": "stream",
     "text": [
      "\n",
      "image 1/1 C:\\Users\\user\\fruit_dataset\\test\\images\\017_jpg.rf.76a682182271d1c94f4bdf8bbff4b49b.jpg: 416x416 3 oranges, 356.5ms\n",
      "Speed: 5.0ms preprocess, 356.5ms inference, 12.0ms postprocess per image at shape (1, 3, 416, 416)\n"
     ]
    },
    {
     "name": "stderr",
     "output_type": "stream",
     "text": [
      "Classifying test images:  11%|█         | 7/66 [00:02<00:22,  2.57it/s]"
     ]
    },
    {
     "name": "stdout",
     "output_type": "stream",
     "text": [
      "\n",
      "image 1/1 C:\\Users\\user\\fruit_dataset\\test\\images\\026_jpg.rf.16f41d747e27436141f554a3d98d8d14.jpg: 256x416 1 banana, 238.9ms\n",
      "Speed: 5.9ms preprocess, 238.9ms inference, 6.0ms postprocess per image at shape (1, 3, 256, 416)\n"
     ]
    },
    {
     "name": "stderr",
     "output_type": "stream",
     "text": [
      "Classifying test images:  12%|█▏        | 8/66 [00:03<00:20,  2.81it/s]"
     ]
    },
    {
     "name": "stdout",
     "output_type": "stream",
     "text": [
      "\n",
      "image 1/1 C:\\Users\\user\\fruit_dataset\\test\\images\\026_jpg.rf.c98b3c3ee5a1f86de77a0890e3aa0307.jpg: 256x416 1 banana, 161.2ms\n",
      "Speed: 4.6ms preprocess, 161.2ms inference, 6.3ms postprocess per image at shape (1, 3, 256, 416)\n"
     ]
    },
    {
     "name": "stderr",
     "output_type": "stream",
     "text": [
      "Classifying test images:  14%|█▎        | 9/66 [00:03<00:17,  3.23it/s]"
     ]
    },
    {
     "name": "stdout",
     "output_type": "stream",
     "text": [
      "\n",
      "image 1/1 C:\\Users\\user\\fruit_dataset\\test\\images\\027_jpg.rf.616db5dd7860cfaf6b928128064c91be.jpg: 416x416 1 orange, 240.5ms\n",
      "Speed: 6.7ms preprocess, 240.5ms inference, 11.0ms postprocess per image at shape (1, 3, 416, 416)\n"
     ]
    },
    {
     "name": "stderr",
     "output_type": "stream",
     "text": [
      "Classifying test images:  15%|█▌        | 10/66 [00:03<00:16,  3.33it/s]"
     ]
    },
    {
     "name": "stdout",
     "output_type": "stream",
     "text": [
      "\n",
      "image 1/1 C:\\Users\\user\\fruit_dataset\\test\\images\\027_jpg.rf.a631cd67031f205d2d6bdf2e52467f01.jpg: 416x416 1 orange, 215.3ms\n",
      "Speed: 5.1ms preprocess, 215.3ms inference, 6.5ms postprocess per image at shape (1, 3, 416, 416)\n"
     ]
    },
    {
     "name": "stderr",
     "output_type": "stream",
     "text": [
      "Classifying test images:  17%|█▋        | 11/66 [00:03<00:15,  3.48it/s]"
     ]
    },
    {
     "name": "stdout",
     "output_type": "stream",
     "text": [
      "\n",
      "image 1/1 C:\\Users\\user\\fruit_dataset\\test\\images\\028_jpg.rf.4ef14f74b5bd8cd68ac91d75cf82e8d3.jpg: 288x416 1 apple, 1 banana, 1 orange, 163.2ms\n",
      "Speed: 3.3ms preprocess, 163.2ms inference, 8.6ms postprocess per image at shape (1, 3, 288, 416)\n"
     ]
    },
    {
     "name": "stderr",
     "output_type": "stream",
     "text": [
      "Classifying test images:  18%|█▊        | 12/66 [00:04<00:13,  3.90it/s]"
     ]
    },
    {
     "name": "stdout",
     "output_type": "stream",
     "text": [
      "\n",
      "image 1/1 C:\\Users\\user\\fruit_dataset\\test\\images\\028_jpg.rf.50b9fc480e39f8fe588b3880616fb9a7.jpg: 288x416 1 apple, 1 banana, 1 orange, 158.0ms\n",
      "Speed: 3.6ms preprocess, 158.0ms inference, 9.3ms postprocess per image at shape (1, 3, 288, 416)\n"
     ]
    },
    {
     "name": "stderr",
     "output_type": "stream",
     "text": [
      "Classifying test images:  20%|█▉        | 13/66 [00:04<00:12,  4.17it/s]"
     ]
    },
    {
     "name": "stdout",
     "output_type": "stream",
     "text": [
      "\n",
      "image 1/1 C:\\Users\\user\\fruit_dataset\\test\\images\\032_jpg.rf.039fbf379fc4841c90bb5a5a0c9d2cd7.jpg: 416x416 1 banana, 210.4ms\n",
      "Speed: 5.2ms preprocess, 210.4ms inference, 6.8ms postprocess per image at shape (1, 3, 416, 416)\n"
     ]
    },
    {
     "name": "stderr",
     "output_type": "stream",
     "text": [
      "Classifying test images:  21%|██        | 14/66 [00:04<00:12,  4.22it/s]"
     ]
    },
    {
     "name": "stdout",
     "output_type": "stream",
     "text": [
      "\n",
      "image 1/1 C:\\Users\\user\\fruit_dataset\\test\\images\\032_jpg.rf.9aa045d9d689a258775023ed3f251018.jpg: 416x416 1 banana, 206.0ms\n",
      "Speed: 4.5ms preprocess, 206.0ms inference, 6.7ms postprocess per image at shape (1, 3, 416, 416)\n"
     ]
    },
    {
     "name": "stderr",
     "output_type": "stream",
     "text": [
      "Classifying test images:  23%|██▎       | 15/66 [00:04<00:12,  4.18it/s]"
     ]
    },
    {
     "name": "stdout",
     "output_type": "stream",
     "text": [
      "\n",
      "image 1/1 C:\\Users\\user\\fruit_dataset\\test\\images\\033_jpg.rf.83dbb33cd0a3e96b2e19697c3a7aeb6a.jpg: 384x416 1 apple, 1 banana, 397.3ms\n",
      "Speed: 5.2ms preprocess, 397.3ms inference, 7.2ms postprocess per image at shape (1, 3, 384, 416)\n"
     ]
    },
    {
     "name": "stderr",
     "output_type": "stream",
     "text": [
      "Classifying test images:  24%|██▍       | 16/66 [00:05<00:15,  3.29it/s]"
     ]
    },
    {
     "name": "stdout",
     "output_type": "stream",
     "text": [
      "\n",
      "image 1/1 C:\\Users\\user\\fruit_dataset\\test\\images\\033_jpg.rf.bb73e26a949396cba20997a2e5634b84.jpg: 384x416 1 apple, 1 banana, 178.5ms\n",
      "Speed: 6.0ms preprocess, 178.5ms inference, 8.2ms postprocess per image at shape (1, 3, 384, 416)\n"
     ]
    },
    {
     "name": "stderr",
     "output_type": "stream",
     "text": [
      "Classifying test images:  26%|██▌       | 17/66 [00:05<00:13,  3.52it/s]"
     ]
    },
    {
     "name": "stdout",
     "output_type": "stream",
     "text": [
      "\n",
      "image 1/1 C:\\Users\\user\\fruit_dataset\\test\\images\\036_jpg.rf.1bb1cec0f23729bf7056ccbfa38eeb86.jpg: 288x416 2 bananas, 157.7ms\n",
      "Speed: 4.2ms preprocess, 157.7ms inference, 5.8ms postprocess per image at shape (1, 3, 288, 416)\n"
     ]
    },
    {
     "name": "stderr",
     "output_type": "stream",
     "text": [
      "Classifying test images:  27%|██▋       | 18/66 [00:05<00:12,  3.86it/s]"
     ]
    },
    {
     "name": "stdout",
     "output_type": "stream",
     "text": [
      "\n",
      "image 1/1 C:\\Users\\user\\fruit_dataset\\test\\images\\036_jpg.rf.51df8e165e2d041dd279ae9d8c9ddfa4.jpg: 288x416 2 bananas, 164.2ms\n",
      "Speed: 3.5ms preprocess, 164.2ms inference, 7.2ms postprocess per image at shape (1, 3, 288, 416)\n"
     ]
    },
    {
     "name": "stderr",
     "output_type": "stream",
     "text": [
      "Classifying test images:  29%|██▉       | 19/66 [00:05<00:11,  4.23it/s]"
     ]
    },
    {
     "name": "stdout",
     "output_type": "stream",
     "text": [
      "\n",
      "image 1/1 C:\\Users\\user\\fruit_dataset\\test\\images\\043_jpg.rf.793825dac18932b5ad6303ea5a711169.jpg: 320x416 1 orange, 170.5ms\n",
      "Speed: 5.4ms preprocess, 170.5ms inference, 6.1ms postprocess per image at shape (1, 3, 320, 416)\n"
     ]
    },
    {
     "name": "stderr",
     "output_type": "stream",
     "text": [
      "Classifying test images:  30%|███       | 20/66 [00:05<00:10,  4.34it/s]"
     ]
    },
    {
     "name": "stdout",
     "output_type": "stream",
     "text": [
      "\n",
      "image 1/1 C:\\Users\\user\\fruit_dataset\\test\\images\\043_jpg.rf.fa255d6b50bbd925aa2ae76c33c530b0.jpg: 320x416 1 orange, 163.1ms\n",
      "Speed: 6.0ms preprocess, 163.1ms inference, 4.7ms postprocess per image at shape (1, 3, 320, 416)\n"
     ]
    },
    {
     "name": "stderr",
     "output_type": "stream",
     "text": [
      "Classifying test images:  32%|███▏      | 21/66 [00:06<00:10,  4.49it/s]"
     ]
    },
    {
     "name": "stdout",
     "output_type": "stream",
     "text": [
      "\n",
      "image 1/1 C:\\Users\\user\\fruit_dataset\\test\\images\\052_jpg.rf.adf72fdad9aeeace39188c27920f88e7.jpg: 224x416 1 orange, 313.0ms\n",
      "Speed: 6.9ms preprocess, 313.0ms inference, 5.6ms postprocess per image at shape (1, 3, 224, 416)\n"
     ]
    },
    {
     "name": "stderr",
     "output_type": "stream",
     "text": [
      "Classifying test images:  33%|███▎      | 22/66 [00:06<00:11,  3.91it/s]"
     ]
    },
    {
     "name": "stdout",
     "output_type": "stream",
     "text": [
      "\n",
      "image 1/1 C:\\Users\\user\\fruit_dataset\\test\\images\\058_jpg.rf.de1a6cc3bc6a0fb5c8d44d7e8ffaa189.jpg: 288x416 3 bananas, 170.7ms\n",
      "Speed: 8.2ms preprocess, 170.7ms inference, 7.1ms postprocess per image at shape (1, 3, 288, 416)\n"
     ]
    },
    {
     "name": "stderr",
     "output_type": "stream",
     "text": [
      "Classifying test images:  35%|███▍      | 23/66 [00:06<00:10,  4.02it/s]"
     ]
    },
    {
     "name": "stdout",
     "output_type": "stream",
     "text": [
      "\n",
      "image 1/1 C:\\Users\\user\\fruit_dataset\\test\\images\\059_jpg.rf.443b0bc8588755de38598c29d21520ef.jpg: 320x416 1 orange, 177.2ms\n",
      "Speed: 5.0ms preprocess, 177.2ms inference, 6.1ms postprocess per image at shape (1, 3, 320, 416)\n"
     ]
    },
    {
     "name": "stderr",
     "output_type": "stream",
     "text": [
      "Classifying test images:  36%|███▋      | 24/66 [00:06<00:10,  4.14it/s]"
     ]
    },
    {
     "name": "stdout",
     "output_type": "stream",
     "text": [
      "\n",
      "image 1/1 C:\\Users\\user\\fruit_dataset\\test\\images\\060_jpg.rf.1077f50f2a66d4c2ae2674b9dca6fe10.jpg: 320x416 1 apple, 1 banana, 2 oranges, 176.3ms\n",
      "Speed: 5.0ms preprocess, 176.3ms inference, 11.5ms postprocess per image at shape (1, 3, 320, 416)\n"
     ]
    },
    {
     "name": "stderr",
     "output_type": "stream",
     "text": [
      "Classifying test images:  38%|███▊      | 25/66 [00:07<00:09,  4.25it/s]"
     ]
    },
    {
     "name": "stdout",
     "output_type": "stream",
     "text": [
      "\n",
      "image 1/1 C:\\Users\\user\\fruit_dataset\\test\\images\\064_jpg.rf.1fb797d5bf0f9facf5b14ea870420c8d.jpg: 416x416 1 orange, 212.0ms\n",
      "Speed: 5.8ms preprocess, 212.0ms inference, 6.7ms postprocess per image at shape (1, 3, 416, 416)\n"
     ]
    },
    {
     "name": "stderr",
     "output_type": "stream",
     "text": [
      "Classifying test images:  39%|███▉      | 26/66 [00:07<00:09,  4.19it/s]"
     ]
    },
    {
     "name": "stdout",
     "output_type": "stream",
     "text": [
      "\n",
      "image 1/1 C:\\Users\\user\\fruit_dataset\\test\\images\\070_jpg.rf.93c6c165fc5895c2da9b1b93059090b5.jpg: 288x416 2 apples, 1 orange, 156.1ms\n",
      "Speed: 4.6ms preprocess, 156.1ms inference, 7.6ms postprocess per image at shape (1, 3, 288, 416)\n"
     ]
    },
    {
     "name": "stderr",
     "output_type": "stream",
     "text": [
      "Classifying test images:  41%|████      | 27/66 [00:07<00:08,  4.40it/s]"
     ]
    },
    {
     "name": "stdout",
     "output_type": "stream",
     "text": [
      "\n",
      "image 1/1 C:\\Users\\user\\fruit_dataset\\test\\images\\079_jpg.rf.4b019062eae2966a50f091d35188fe3a.jpg: 416x416 1 orange, 202.7ms\n",
      "Speed: 2.8ms preprocess, 202.7ms inference, 7.1ms postprocess per image at shape (1, 3, 416, 416)\n"
     ]
    },
    {
     "name": "stderr",
     "output_type": "stream",
     "text": [
      "Classifying test images:  42%|████▏     | 28/66 [00:07<00:08,  4.43it/s]"
     ]
    },
    {
     "name": "stdout",
     "output_type": "stream",
     "text": [
      "\n",
      "image 1/1 C:\\Users\\user\\fruit_dataset\\test\\images\\092_jpg.rf.0259c89fc476dfb1ed60a68e052b4d27.jpg: 288x416 1 orange, 272.5ms\n",
      "Speed: 4.7ms preprocess, 272.5ms inference, 7.9ms postprocess per image at shape (1, 3, 288, 416)\n"
     ]
    },
    {
     "name": "stderr",
     "output_type": "stream",
     "text": [
      "Classifying test images:  44%|████▍     | 29/66 [00:08<00:10,  3.61it/s]"
     ]
    },
    {
     "name": "stdout",
     "output_type": "stream",
     "text": [
      "\n",
      "image 1/1 C:\\Users\\user\\fruit_dataset\\test\\images\\094_jpg.rf.920e34da211089c661d16c2b543ba0f8.jpg: 416x416 (no detections), 391.8ms\n",
      "Speed: 106.9ms preprocess, 391.8ms inference, 1.0ms postprocess per image at shape (1, 3, 416, 416)\n"
     ]
    },
    {
     "name": "stderr",
     "output_type": "stream",
     "text": [
      "Classifying test images:  45%|████▌     | 30/66 [00:08<00:12,  2.80it/s]"
     ]
    },
    {
     "name": "stdout",
     "output_type": "stream",
     "text": [
      "\n",
      "image 1/1 C:\\Users\\user\\fruit_dataset\\test\\images\\096_jpg.rf.c58c4e58fa291a715a7293fc7d68f3a0.jpg: 160x416 3 bananas, 376.0ms\n",
      "Speed: 3.5ms preprocess, 376.0ms inference, 10.8ms postprocess per image at shape (1, 3, 160, 416)\n"
     ]
    },
    {
     "name": "stderr",
     "output_type": "stream",
     "text": [
      "Classifying test images:  47%|████▋     | 31/66 [00:09<00:13,  2.68it/s]"
     ]
    },
    {
     "name": "stdout",
     "output_type": "stream",
     "text": [
      "\n",
      "image 1/1 C:\\Users\\user\\fruit_dataset\\test\\images\\102_jpg.rf.d6ae754055dcb29449bb5b44d44b6a6d.jpg: 416x416 1 orange, 369.7ms\n",
      "Speed: 5.1ms preprocess, 369.7ms inference, 22.1ms postprocess per image at shape (1, 3, 416, 416)\n"
     ]
    },
    {
     "name": "stderr",
     "output_type": "stream",
     "text": [
      "Classifying test images:  48%|████▊     | 32/66 [00:09<00:13,  2.57it/s]"
     ]
    },
    {
     "name": "stdout",
     "output_type": "stream",
     "text": [
      "\n",
      "image 1/1 C:\\Users\\user\\fruit_dataset\\test\\images\\109_jpg.rf.d96fbf16ff1c4901b0a9d261fc2cba7d.jpg: 416x416 3 apples, 352.0ms\n",
      "Speed: 5.5ms preprocess, 352.0ms inference, 12.7ms postprocess per image at shape (1, 3, 416, 416)\n"
     ]
    },
    {
     "name": "stderr",
     "output_type": "stream",
     "text": [
      "Classifying test images:  50%|█████     | 33/66 [00:10<00:12,  2.56it/s]"
     ]
    },
    {
     "name": "stdout",
     "output_type": "stream",
     "text": [
      "\n",
      "image 1/1 C:\\Users\\user\\fruit_dataset\\test\\images\\111_jpg.rf.983e277acd01719dda7aa013e9466d37.jpg: 416x416 1 apple, 301.1ms\n",
      "Speed: 15.3ms preprocess, 301.1ms inference, 9.0ms postprocess per image at shape (1, 3, 416, 416)\n"
     ]
    },
    {
     "name": "stderr",
     "output_type": "stream",
     "text": [
      "Classifying test images:  52%|█████▏    | 34/66 [00:10<00:12,  2.65it/s]"
     ]
    },
    {
     "name": "stdout",
     "output_type": "stream",
     "text": [
      "\n",
      "image 1/1 C:\\Users\\user\\fruit_dataset\\test\\images\\117_jpg.rf.4eeeed97dc5a6f6db65e5bcaf96c06ec.jpg: 416x320 1 apple, 1 banana, 299.5ms\n",
      "Speed: 8.1ms preprocess, 299.5ms inference, 13.3ms postprocess per image at shape (1, 3, 416, 320)\n"
     ]
    },
    {
     "name": "stderr",
     "output_type": "stream",
     "text": [
      "Classifying test images:  53%|█████▎    | 35/66 [00:10<00:11,  2.74it/s]"
     ]
    },
    {
     "name": "stdout",
     "output_type": "stream",
     "text": [
      "\n",
      "image 1/1 C:\\Users\\user\\fruit_dataset\\test\\images\\125_jpg.rf.16b00d2bbbc80419ea72c9d375a01c8b.jpg: 224x416 1 orange, 257.7ms\n",
      "Speed: 13.3ms preprocess, 257.7ms inference, 5.5ms postprocess per image at shape (1, 3, 224, 416)\n"
     ]
    },
    {
     "name": "stderr",
     "output_type": "stream",
     "text": [
      "Classifying test images:  55%|█████▍    | 36/66 [00:11<00:10,  2.89it/s]"
     ]
    },
    {
     "name": "stdout",
     "output_type": "stream",
     "text": [
      "\n",
      "image 1/1 C:\\Users\\user\\fruit_dataset\\test\\images\\138_jpg.rf.0438a5f96bbdbb5346fbb04cf4ac1cfc.jpg: 288x416 2 bananas, 365.5ms\n",
      "Speed: 5.8ms preprocess, 365.5ms inference, 12.8ms postprocess per image at shape (1, 3, 288, 416)\n"
     ]
    },
    {
     "name": "stderr",
     "output_type": "stream",
     "text": [
      "Classifying test images:  56%|█████▌    | 37/66 [00:11<00:10,  2.69it/s]"
     ]
    },
    {
     "name": "stdout",
     "output_type": "stream",
     "text": [
      "\n",
      "image 1/1 C:\\Users\\user\\fruit_dataset\\test\\images\\140_jpg.rf.6fbc56acdfbd1a8146fa5b9653c4fdad.jpg: 320x416 2 apples, 317.5ms\n",
      "Speed: 11.4ms preprocess, 317.5ms inference, 9.6ms postprocess per image at shape (1, 3, 320, 416)\n"
     ]
    },
    {
     "name": "stderr",
     "output_type": "stream",
     "text": [
      "Classifying test images:  58%|█████▊    | 38/66 [00:11<00:10,  2.70it/s]"
     ]
    },
    {
     "name": "stdout",
     "output_type": "stream",
     "text": [
      "\n",
      "image 1/1 C:\\Users\\user\\fruit_dataset\\test\\images\\150_jpg.rf.8a9442c61f6f8237befc3e75037ac738.jpg: 288x416 6 bananas, 315.2ms\n",
      "Speed: 10.1ms preprocess, 315.2ms inference, 18.9ms postprocess per image at shape (1, 3, 288, 416)\n"
     ]
    },
    {
     "name": "stderr",
     "output_type": "stream",
     "text": [
      "Classifying test images:  59%|█████▉    | 39/66 [00:12<00:10,  2.61it/s]"
     ]
    },
    {
     "name": "stdout",
     "output_type": "stream",
     "text": [
      "\n",
      "image 1/1 C:\\Users\\user\\fruit_dataset\\test\\images\\153_jpg.rf.944f92fd3f566882bacd86ec311b7ba7.jpg: 416x416 1 orange, 463.1ms\n",
      "Speed: 9.4ms preprocess, 463.1ms inference, 9.0ms postprocess per image at shape (1, 3, 416, 416)\n"
     ]
    },
    {
     "name": "stderr",
     "output_type": "stream",
     "text": [
      "Classifying test images:  61%|██████    | 40/66 [00:12<00:10,  2.38it/s]"
     ]
    },
    {
     "name": "stdout",
     "output_type": "stream",
     "text": [
      "\n",
      "image 1/1 C:\\Users\\user\\fruit_dataset\\test\\images\\158_jpg.rf.e117a4b42a1cb7ab30bb6f3237b6ae5b.jpg: 288x416 3 apples, 253.9ms\n",
      "Speed: 7.3ms preprocess, 253.9ms inference, 10.9ms postprocess per image at shape (1, 3, 288, 416)\n"
     ]
    },
    {
     "name": "stderr",
     "output_type": "stream",
     "text": [
      "Classifying test images:  62%|██████▏   | 41/66 [00:13<00:09,  2.59it/s]"
     ]
    },
    {
     "name": "stdout",
     "output_type": "stream",
     "text": [
      "\n",
      "image 1/1 C:\\Users\\user\\fruit_dataset\\test\\images\\164_jpg.rf.bf346638b8ad9a531db4e69c7b2a1616.jpg: 384x416 1 orange, 237.9ms\n",
      "Speed: 5.9ms preprocess, 237.9ms inference, 6.9ms postprocess per image at shape (1, 3, 384, 416)\n"
     ]
    },
    {
     "name": "stderr",
     "output_type": "stream",
     "text": [
      "Classifying test images:  64%|██████▎   | 42/66 [00:13<00:08,  2.80it/s]"
     ]
    },
    {
     "name": "stdout",
     "output_type": "stream",
     "text": [
      "\n",
      "image 1/1 C:\\Users\\user\\fruit_dataset\\test\\images\\174_jpg.rf.400f09061d6db84fb7a724d193e6dd1f.jpg: 416x416 9 apples, 252.7ms\n",
      "Speed: 5.6ms preprocess, 252.7ms inference, 28.0ms postprocess per image at shape (1, 3, 416, 416)\n"
     ]
    },
    {
     "name": "stderr",
     "output_type": "stream",
     "text": [
      "Classifying test images:  65%|██████▌   | 43/66 [00:13<00:07,  2.90it/s]"
     ]
    },
    {
     "name": "stdout",
     "output_type": "stream",
     "text": [
      "\n",
      "image 1/1 C:\\Users\\user\\fruit_dataset\\test\\images\\179_jpg.rf.d9d31a0e5aac6895f35254f5a5fcc0f0.jpg: 288x416 4 apples, 208.5ms\n",
      "Speed: 3.9ms preprocess, 208.5ms inference, 12.0ms postprocess per image at shape (1, 3, 288, 416)\n"
     ]
    },
    {
     "name": "stderr",
     "output_type": "stream",
     "text": [
      "Classifying test images:  67%|██████▋   | 44/66 [00:13<00:07,  3.13it/s]"
     ]
    },
    {
     "name": "stdout",
     "output_type": "stream",
     "text": [
      "\n",
      "image 1/1 C:\\Users\\user\\fruit_dataset\\test\\images\\183_jpg.rf.e5e20bd912c063422dbca0a5d89e650b.jpg: 256x416 1 banana, 183.5ms\n",
      "Speed: 4.0ms preprocess, 183.5ms inference, 10.4ms postprocess per image at shape (1, 3, 256, 416)\n"
     ]
    },
    {
     "name": "stderr",
     "output_type": "stream",
     "text": [
      "Classifying test images:  68%|██████▊   | 45/66 [00:14<00:06,  3.46it/s]"
     ]
    },
    {
     "name": "stdout",
     "output_type": "stream",
     "text": [
      "\n",
      "image 1/1 C:\\Users\\user\\fruit_dataset\\test\\images\\184_jpg.rf.9a0120bf2bab3a3ef56227d24a3cbe4c.jpg: 288x416 1 apple, 2 bananas, 1 orange, 226.0ms\n",
      "Speed: 8.8ms preprocess, 226.0ms inference, 11.7ms postprocess per image at shape (1, 3, 288, 416)\n"
     ]
    },
    {
     "name": "stderr",
     "output_type": "stream",
     "text": [
      "Classifying test images:  70%|██████▉   | 46/66 [00:14<00:05,  3.50it/s]"
     ]
    },
    {
     "name": "stdout",
     "output_type": "stream",
     "text": [
      "\n",
      "image 1/1 C:\\Users\\user\\fruit_dataset\\test\\images\\185_jpg.rf.156a42b877ca58d9164060b3eac90c07.jpg: 224x416 3 bananas, 174.9ms\n",
      "Speed: 8.7ms preprocess, 174.9ms inference, 8.7ms postprocess per image at shape (1, 3, 224, 416)\n"
     ]
    },
    {
     "name": "stderr",
     "output_type": "stream",
     "text": [
      "Classifying test images:  71%|███████   | 47/66 [00:14<00:05,  3.79it/s]"
     ]
    },
    {
     "name": "stdout",
     "output_type": "stream",
     "text": [
      "\n",
      "image 1/1 C:\\Users\\user\\fruit_dataset\\test\\images\\193_jpg.rf.f81aea4cff1b4c4d546bcdb12f4866d0.jpg: 416x416 6 oranges, 563.2ms\n",
      "Speed: 6.2ms preprocess, 563.2ms inference, 30.1ms postprocess per image at shape (1, 3, 416, 416)\n"
     ]
    },
    {
     "name": "stderr",
     "output_type": "stream",
     "text": [
      "Classifying test images:  73%|███████▎  | 48/66 [00:15<00:06,  2.70it/s]"
     ]
    },
    {
     "name": "stdout",
     "output_type": "stream",
     "text": [
      "\n",
      "image 1/1 C:\\Users\\user\\fruit_dataset\\test\\images\\201_jpg.rf.b6ffe4b913373ab6f16aab47df1d019e.jpg: 416x320 3 oranges, 245.2ms\n",
      "Speed: 5.3ms preprocess, 245.2ms inference, 14.8ms postprocess per image at shape (1, 3, 416, 320)\n"
     ]
    },
    {
     "name": "stderr",
     "output_type": "stream",
     "text": [
      "Classifying test images:  74%|███████▍  | 49/66 [00:15<00:05,  2.91it/s]"
     ]
    },
    {
     "name": "stdout",
     "output_type": "stream",
     "text": [
      "\n",
      "image 1/1 C:\\Users\\user\\fruit_dataset\\test\\images\\224_jpg.rf.32ab353134b81fe06fddb030dffd737f.jpg: 320x416 2 oranges, 358.2ms\n",
      "Speed: 8.8ms preprocess, 358.2ms inference, 13.5ms postprocess per image at shape (1, 3, 320, 416)\n"
     ]
    },
    {
     "name": "stderr",
     "output_type": "stream",
     "text": [
      "Classifying test images:  76%|███████▌  | 50/66 [00:15<00:06,  2.66it/s]"
     ]
    },
    {
     "name": "stdout",
     "output_type": "stream",
     "text": [
      "\n",
      "image 1/1 C:\\Users\\user\\fruit_dataset\\test\\images\\226_jpg.rf.16bd92ef388b09d361aa04245e6d3837.jpg: 288x416 2 apples, 232.4ms\n",
      "Speed: 3.5ms preprocess, 232.4ms inference, 8.0ms postprocess per image at shape (1, 3, 288, 416)\n"
     ]
    },
    {
     "name": "stderr",
     "output_type": "stream",
     "text": [
      "Classifying test images:  77%|███████▋  | 51/66 [00:16<00:05,  2.91it/s]"
     ]
    },
    {
     "name": "stdout",
     "output_type": "stream",
     "text": [
      "\n",
      "image 1/1 C:\\Users\\user\\fruit_dataset\\test\\images\\231_jpg.rf.f8b4392d101bfd95b9e84e31465db97d.jpg: 288x416 1 banana, 190.3ms\n",
      "Speed: 6.7ms preprocess, 190.3ms inference, 6.5ms postprocess per image at shape (1, 3, 288, 416)\n"
     ]
    },
    {
     "name": "stderr",
     "output_type": "stream",
     "text": [
      "Classifying test images:  79%|███████▉  | 52/66 [00:16<00:04,  3.21it/s]"
     ]
    },
    {
     "name": "stdout",
     "output_type": "stream",
     "text": [
      "\n",
      "image 1/1 C:\\Users\\user\\fruit_dataset\\test\\images\\234_jpg.rf.00278f9025fbf8cdb5aa70a06d48c5a1.jpg: 256x416 1 banana, 173.0ms\n",
      "Speed: 4.0ms preprocess, 173.0ms inference, 6.1ms postprocess per image at shape (1, 3, 256, 416)\n"
     ]
    },
    {
     "name": "stderr",
     "output_type": "stream",
     "text": [
      "Classifying test images:  80%|████████  | 53/66 [00:16<00:03,  3.60it/s]"
     ]
    },
    {
     "name": "stdout",
     "output_type": "stream",
     "text": [
      "\n",
      "image 1/1 C:\\Users\\user\\fruit_dataset\\test\\images\\237_jpg.rf.bec999f407f4891ab8e420d70c58a82f.jpg: 224x416 1 orange, 170.6ms\n",
      "Speed: 12.6ms preprocess, 170.6ms inference, 5.0ms postprocess per image at shape (1, 3, 224, 416)\n"
     ]
    },
    {
     "name": "stderr",
     "output_type": "stream",
     "text": [
      "Classifying test images:  82%|████████▏ | 54/66 [00:16<00:03,  3.91it/s]"
     ]
    },
    {
     "name": "stdout",
     "output_type": "stream",
     "text": [
      "\n",
      "image 1/1 C:\\Users\\user\\fruit_dataset\\test\\images\\249_jpg.rf.ab8c393498aafa8ada8a12f55ac8d6a2.jpg: 256x416 2 apples, 174.0ms\n",
      "Speed: 3.6ms preprocess, 174.0ms inference, 7.1ms postprocess per image at shape (1, 3, 256, 416)\n"
     ]
    },
    {
     "name": "stderr",
     "output_type": "stream",
     "text": [
      "Classifying test images:  83%|████████▎ | 55/66 [00:17<00:02,  4.10it/s]"
     ]
    },
    {
     "name": "stdout",
     "output_type": "stream",
     "text": [
      "\n",
      "image 1/1 C:\\Users\\user\\fruit_dataset\\test\\images\\253_jpg.rf.ff8357d64c1a354404f4e578d65d57ad.jpg: 256x416 4 bananas, 207.4ms\n",
      "Speed: 13.2ms preprocess, 207.4ms inference, 10.1ms postprocess per image at shape (1, 3, 256, 416)\n"
     ]
    },
    {
     "name": "stderr",
     "output_type": "stream",
     "text": [
      "Classifying test images:  85%|████████▍ | 56/66 [00:17<00:02,  4.04it/s]"
     ]
    },
    {
     "name": "stdout",
     "output_type": "stream",
     "text": [
      "\n",
      "image 1/1 C:\\Users\\user\\fruit_dataset\\test\\images\\254_jpg.rf.2c2acbfc5a13a0381f8e2d51539564e8.jpg: 416x416 2 oranges, 226.6ms\n",
      "Speed: 8.6ms preprocess, 226.6ms inference, 8.8ms postprocess per image at shape (1, 3, 416, 416)\n"
     ]
    },
    {
     "name": "stderr",
     "output_type": "stream",
     "text": [
      "Classifying test images:  86%|████████▋ | 57/66 [00:17<00:02,  3.85it/s]"
     ]
    },
    {
     "name": "stdout",
     "output_type": "stream",
     "text": [
      "\n",
      "image 1/1 C:\\Users\\user\\fruit_dataset\\test\\images\\257_jpg.rf.0732ef489e391cf683c8b6d85ba254a4.jpg: 384x416 2 bananas, 246.8ms\n",
      "Speed: 5.7ms preprocess, 246.8ms inference, 9.7ms postprocess per image at shape (1, 3, 384, 416)\n"
     ]
    },
    {
     "name": "stderr",
     "output_type": "stream",
     "text": [
      "Classifying test images:  88%|████████▊ | 58/66 [00:17<00:02,  3.67it/s]"
     ]
    },
    {
     "name": "stdout",
     "output_type": "stream",
     "text": [
      "\n",
      "image 1/1 C:\\Users\\user\\fruit_dataset\\test\\images\\265_jpg.rf.efe297a56773a4856e4d0d36770794ee.jpg: 416x416 2 bananas, 243.7ms\n",
      "Speed: 5.8ms preprocess, 243.7ms inference, 9.7ms postprocess per image at shape (1, 3, 416, 416)\n"
     ]
    },
    {
     "name": "stderr",
     "output_type": "stream",
     "text": [
      "Classifying test images:  89%|████████▉ | 59/66 [00:18<00:01,  3.65it/s]"
     ]
    },
    {
     "name": "stdout",
     "output_type": "stream",
     "text": [
      "\n",
      "image 1/1 C:\\Users\\user\\fruit_dataset\\test\\images\\268_jpg.rf.f23f1a34632a3c196089034a305ef50f.jpg: 416x416 1 orange, 227.0ms\n",
      "Speed: 6.5ms preprocess, 227.0ms inference, 9.1ms postprocess per image at shape (1, 3, 416, 416)\n"
     ]
    },
    {
     "name": "stderr",
     "output_type": "stream",
     "text": [
      "Classifying test images:  91%|█████████ | 60/66 [00:18<00:01,  3.67it/s]"
     ]
    },
    {
     "name": "stdout",
     "output_type": "stream",
     "text": [
      "\n",
      "image 1/1 C:\\Users\\user\\fruit_dataset\\test\\images\\269_jpg.rf.148fde2d034971d1be7cfa86bccf2450.jpg: 384x416 1 orange, 246.1ms\n",
      "Speed: 4.7ms preprocess, 246.1ms inference, 4.6ms postprocess per image at shape (1, 3, 384, 416)\n"
     ]
    },
    {
     "name": "stderr",
     "output_type": "stream",
     "text": [
      "Classifying test images:  92%|█████████▏| 61/66 [00:18<00:01,  3.68it/s]"
     ]
    },
    {
     "name": "stdout",
     "output_type": "stream",
     "text": [
      "\n",
      "image 1/1 C:\\Users\\user\\fruit_dataset\\test\\images\\277_jpg.rf.c85acad8fae21d10eb972ac6f3a4ba18.jpg: 416x416 1 apple, 210.6ms\n",
      "Speed: 5.1ms preprocess, 210.6ms inference, 6.6ms postprocess per image at shape (1, 3, 416, 416)\n"
     ]
    },
    {
     "name": "stderr",
     "output_type": "stream",
     "text": [
      "Classifying test images:  94%|█████████▍| 62/66 [00:19<00:01,  3.81it/s]"
     ]
    },
    {
     "name": "stdout",
     "output_type": "stream",
     "text": [
      "\n",
      "image 1/1 C:\\Users\\user\\fruit_dataset\\test\\images\\283_jpg.rf.f3954f403c9b55617dd21539301687fc.jpg: 416x416 6 bananas, 366.3ms\n",
      "Speed: 6.4ms preprocess, 366.3ms inference, 18.9ms postprocess per image at shape (1, 3, 416, 416)\n"
     ]
    },
    {
     "name": "stderr",
     "output_type": "stream",
     "text": [
      "Classifying test images:  95%|█████████▌| 63/66 [00:19<00:00,  3.26it/s]"
     ]
    },
    {
     "name": "stdout",
     "output_type": "stream",
     "text": [
      "\n",
      "image 1/1 C:\\Users\\user\\fruit_dataset\\test\\images\\284_jpg.rf.7f1f14cd588933a4e1a1ee90a19a5f2e.jpg: 288x416 3 apples, 162.3ms\n",
      "Speed: 4.0ms preprocess, 162.3ms inference, 7.1ms postprocess per image at shape (1, 3, 288, 416)\n"
     ]
    },
    {
     "name": "stderr",
     "output_type": "stream",
     "text": [
      "Classifying test images:  97%|█████████▋| 64/66 [00:19<00:00,  3.67it/s]"
     ]
    },
    {
     "name": "stdout",
     "output_type": "stream",
     "text": [
      "\n",
      "image 1/1 C:\\Users\\user\\fruit_dataset\\test\\images\\290_jpg.rf.fbc55420ccb018f20961a4fc7dae2dfe.jpg: 416x288 3 apples, 349.4ms\n",
      "Speed: 6.3ms preprocess, 349.4ms inference, 7.2ms postprocess per image at shape (1, 3, 416, 288)\n"
     ]
    },
    {
     "name": "stderr",
     "output_type": "stream",
     "text": [
      "Classifying test images:  98%|█████████▊| 65/66 [00:20<00:00,  3.20it/s]"
     ]
    },
    {
     "name": "stdout",
     "output_type": "stream",
     "text": [
      "\n",
      "image 1/1 C:\\Users\\user\\fruit_dataset\\test\\images\\296_jpg.rf.02e361dc12db57152b239b3bceee546e.jpg: 352x416 4 bananas, 387.1ms\n",
      "Speed: 4.3ms preprocess, 387.1ms inference, 14.5ms postprocess per image at shape (1, 3, 352, 416)\n"
     ]
    },
    {
     "name": "stderr",
     "output_type": "stream",
     "text": [
      "Classifying test images: 100%|██████████| 66/66 [00:20<00:00,  3.23it/s]"
     ]
    },
    {
     "name": "stdout",
     "output_type": "stream",
     "text": [
      "✅ Image-level classification saved to test_image.csv\n"
     ]
    },
    {
     "name": "stderr",
     "output_type": "stream",
     "text": [
      "\n"
     ]
    }
   ],
   "source": [
    "import os\n",
    "import pandas as pd\n",
    "from tqdm import tqdm\n",
    "from ultralytics import YOLO\n",
    "\n",
    "# Load trained segmentation model\n",
    "model = YOLO(\"fruit_detection_1/yolov8_fruit_detector_3/weights/best.pt\")  # path to your best model\n",
    "\n",
    "# Test image directory\n",
    "test_img_dir = \"fruit_dataset/test/images\"\n",
    "\n",
    "# Output CSV\n",
    "output_csv = \"test_image.csv\"\n",
    "\n",
    "# Store results\n",
    "results_list = []\n",
    "\n",
    "for filename in tqdm(os.listdir(test_img_dir), desc=\"Classifying test images\"):\n",
    "    if not filename.lower().endswith((\".jpg\", \".png\", \".jpeg\")):\n",
    "        continue\n",
    "\n",
    "    img_path = os.path.join(test_img_dir, filename)\n",
    "    result = model(img_path)[0]  # predict\n",
    "\n",
    "    if result.boxes is None or len(result.boxes.cls) == 0:\n",
    "        predicted_labels = [\"none\"]  # 0 = no fruit\n",
    "    else:\n",
    "        class_ids = result.boxes.cls.int().tolist()\n",
    "        unique_class_ids = sorted(set(class_ids))\n",
    "        predicted_labels = [model.names[i] for i in unique_class_ids]\n",
    "\n",
    "    results_list.append({\n",
    "        \"image\": filename,\n",
    "        \"predicted_classes\": \", \".join(predicted_labels)\n",
    "    })\n",
    "\n",
    "# Save to CSV\n",
    "df = pd.DataFrame(results_list)\n",
    "df.to_csv(output_csv, index=False)\n",
    "print(f\"✅ Image-level classification saved to {output_csv}\")"
   ]
  },
  {
   "cell_type": "code",
   "execution_count": 171,
   "id": "835b2088-c014-4362-98ba-270df0615ec5",
   "metadata": {},
   "outputs": [
    {
     "name": "stderr",
     "output_type": "stream",
     "text": [
      "Predicting and saving masks:   0%|          | 0/65 [00:00<?, ?it/s]"
     ]
    },
    {
     "name": "stdout",
     "output_type": "stream",
     "text": [
      "\n",
      "image 1/1 C:\\Users\\user\\fruit_dataset\\test\\images\\005_jpg.rf.63fb699c8a264f9deb14125b7f9b50e5.jpg: 288x416 2 apples, 215.5ms\n",
      "Speed: 17.7ms preprocess, 215.5ms inference, 7.8ms postprocess per image at shape (1, 3, 288, 416)\n"
     ]
    },
    {
     "name": "stderr",
     "output_type": "stream",
     "text": [
      "Predicting and saving masks:   2%|▏         | 1/65 [00:00<00:37,  1.69it/s]"
     ]
    },
    {
     "name": "stdout",
     "output_type": "stream",
     "text": [
      "\n",
      "image 1/1 C:\\Users\\user\\fruit_dataset\\test\\images\\005_jpg.rf.a581adee25782cb8b677c67cd40d1af7.jpg: 288x416 2 apples, 200.7ms\n",
      "Speed: 4.1ms preprocess, 200.7ms inference, 12.9ms postprocess per image at shape (1, 3, 288, 416)\n"
     ]
    },
    {
     "name": "stderr",
     "output_type": "stream",
     "text": [
      "Predicting and saving masks:   3%|▎         | 2/65 [00:00<00:25,  2.44it/s]"
     ]
    },
    {
     "name": "stdout",
     "output_type": "stream",
     "text": [
      "\n",
      "image 1/1 C:\\Users\\user\\fruit_dataset\\test\\images\\006_jpg.rf.351a6317de7a01b81d10e7bae162e2de.jpg: 320x416 1 orange, 229.5ms\n",
      "Speed: 3.3ms preprocess, 229.5ms inference, 8.8ms postprocess per image at shape (1, 3, 320, 416)\n"
     ]
    },
    {
     "name": "stderr",
     "output_type": "stream",
     "text": [
      "Predicting and saving masks:   5%|▍         | 3/65 [00:01<00:22,  2.78it/s]"
     ]
    },
    {
     "name": "stdout",
     "output_type": "stream",
     "text": [
      "\n",
      "image 1/1 C:\\Users\\user\\fruit_dataset\\test\\images\\006_jpg.rf.92a92069631d5e51810c19edea43be96.jpg: 320x416 1 orange, 194.4ms\n",
      "Speed: 5.1ms preprocess, 194.4ms inference, 6.3ms postprocess per image at shape (1, 3, 320, 416)\n"
     ]
    },
    {
     "name": "stderr",
     "output_type": "stream",
     "text": [
      "Predicting and saving masks:   6%|▌         | 4/65 [00:01<00:19,  3.10it/s]"
     ]
    },
    {
     "name": "stdout",
     "output_type": "stream",
     "text": [
      "\n",
      "image 1/1 C:\\Users\\user\\fruit_dataset\\test\\images\\017_jpg.rf.1a6cdb9475b9dbecdc666f5929dc19be.jpg: 416x416 3 oranges, 233.0ms\n",
      "Speed: 6.1ms preprocess, 233.0ms inference, 9.2ms postprocess per image at shape (1, 3, 416, 416)\n"
     ]
    },
    {
     "name": "stderr",
     "output_type": "stream",
     "text": [
      "Predicting and saving masks:   8%|▊         | 5/65 [00:01<00:19,  3.03it/s]"
     ]
    },
    {
     "name": "stdout",
     "output_type": "stream",
     "text": [
      "\n",
      "image 1/1 C:\\Users\\user\\fruit_dataset\\test\\images\\017_jpg.rf.76a682182271d1c94f4bdf8bbff4b49b.jpg: 416x416 3 oranges, 217.7ms\n",
      "Speed: 4.9ms preprocess, 217.7ms inference, 13.2ms postprocess per image at shape (1, 3, 416, 416)\n"
     ]
    },
    {
     "name": "stderr",
     "output_type": "stream",
     "text": [
      "Predicting and saving masks:   9%|▉         | 6/65 [00:02<00:19,  3.00it/s]"
     ]
    },
    {
     "name": "stdout",
     "output_type": "stream",
     "text": [
      "\n",
      "image 1/1 C:\\Users\\user\\fruit_dataset\\test\\images\\026_jpg.rf.16f41d747e27436141f554a3d98d8d14.jpg: 256x416 1 banana, 383.8ms\n",
      "Speed: 4.1ms preprocess, 383.8ms inference, 5.8ms postprocess per image at shape (1, 3, 256, 416)\n"
     ]
    },
    {
     "name": "stderr",
     "output_type": "stream",
     "text": [
      "Predicting and saving masks:  11%|█         | 7/65 [00:02<00:23,  2.42it/s]"
     ]
    },
    {
     "name": "stdout",
     "output_type": "stream",
     "text": [
      "\n",
      "image 1/1 C:\\Users\\user\\fruit_dataset\\test\\images\\026_jpg.rf.c98b3c3ee5a1f86de77a0890e3aa0307.jpg: 256x416 1 banana, 162.5ms\n",
      "Speed: 3.3ms preprocess, 162.5ms inference, 7.5ms postprocess per image at shape (1, 3, 256, 416)\n"
     ]
    },
    {
     "name": "stderr",
     "output_type": "stream",
     "text": [
      "Predicting and saving masks:  12%|█▏        | 8/65 [00:03<00:22,  2.54it/s]"
     ]
    },
    {
     "name": "stdout",
     "output_type": "stream",
     "text": [
      "\n",
      "image 1/1 C:\\Users\\user\\fruit_dataset\\test\\images\\027_jpg.rf.616db5dd7860cfaf6b928128064c91be.jpg: 416x416 1 orange, 212.9ms\n",
      "Speed: 4.1ms preprocess, 212.9ms inference, 6.6ms postprocess per image at shape (1, 3, 416, 416)\n"
     ]
    },
    {
     "name": "stderr",
     "output_type": "stream",
     "text": [
      "Predicting and saving masks:  14%|█▍        | 9/65 [00:03<00:20,  2.77it/s]"
     ]
    },
    {
     "name": "stdout",
     "output_type": "stream",
     "text": [
      "\n",
      "image 1/1 C:\\Users\\user\\fruit_dataset\\test\\images\\027_jpg.rf.a631cd67031f205d2d6bdf2e52467f01.jpg: 416x416 1 orange, 223.3ms\n",
      "Speed: 5.4ms preprocess, 223.3ms inference, 6.7ms postprocess per image at shape (1, 3, 416, 416)\n"
     ]
    },
    {
     "name": "stderr",
     "output_type": "stream",
     "text": [
      "Predicting and saving masks:  15%|█▌        | 10/65 [00:03<00:18,  2.96it/s]"
     ]
    },
    {
     "name": "stdout",
     "output_type": "stream",
     "text": [
      "\n",
      "image 1/1 C:\\Users\\user\\fruit_dataset\\test\\images\\028_jpg.rf.4ef14f74b5bd8cd68ac91d75cf82e8d3.jpg: 288x416 1 apple, 1 banana, 1 orange, 200.5ms\n",
      "Speed: 3.4ms preprocess, 200.5ms inference, 16.8ms postprocess per image at shape (1, 3, 288, 416)\n"
     ]
    },
    {
     "name": "stderr",
     "output_type": "stream",
     "text": [
      "Predicting and saving masks:  17%|█▋        | 11/65 [00:03<00:17,  3.02it/s]"
     ]
    },
    {
     "name": "stdout",
     "output_type": "stream",
     "text": [
      "\n",
      "image 1/1 C:\\Users\\user\\fruit_dataset\\test\\images\\028_jpg.rf.50b9fc480e39f8fe588b3880616fb9a7.jpg: 288x416 1 apple, 1 banana, 1 orange, 172.0ms\n",
      "Speed: 4.8ms preprocess, 172.0ms inference, 9.4ms postprocess per image at shape (1, 3, 288, 416)\n"
     ]
    },
    {
     "name": "stderr",
     "output_type": "stream",
     "text": [
      "Predicting and saving masks:  18%|█▊        | 12/65 [00:04<00:16,  3.31it/s]"
     ]
    },
    {
     "name": "stdout",
     "output_type": "stream",
     "text": [
      "\n",
      "image 1/1 C:\\Users\\user\\fruit_dataset\\test\\images\\032_jpg.rf.039fbf379fc4841c90bb5a5a0c9d2cd7.jpg: 416x416 1 banana, 193.5ms\n",
      "Speed: 4.5ms preprocess, 193.5ms inference, 6.1ms postprocess per image at shape (1, 3, 416, 416)\n"
     ]
    },
    {
     "name": "stderr",
     "output_type": "stream",
     "text": [
      "Predicting and saving masks:  20%|██        | 13/65 [00:04<00:15,  3.44it/s]"
     ]
    },
    {
     "name": "stdout",
     "output_type": "stream",
     "text": [
      "\n",
      "image 1/1 C:\\Users\\user\\fruit_dataset\\test\\images\\032_jpg.rf.9aa045d9d689a258775023ed3f251018.jpg: 416x416 1 banana, 205.2ms\n",
      "Speed: 4.8ms preprocess, 205.2ms inference, 7.4ms postprocess per image at shape (1, 3, 416, 416)\n"
     ]
    },
    {
     "name": "stderr",
     "output_type": "stream",
     "text": [
      "Predicting and saving masks:  22%|██▏       | 14/65 [00:04<00:14,  3.45it/s]"
     ]
    },
    {
     "name": "stdout",
     "output_type": "stream",
     "text": [
      "\n",
      "image 1/1 C:\\Users\\user\\fruit_dataset\\test\\images\\033_jpg.rf.83dbb33cd0a3e96b2e19697c3a7aeb6a.jpg: 384x416 1 apple, 1 banana, 197.3ms\n",
      "Speed: 5.7ms preprocess, 197.3ms inference, 8.7ms postprocess per image at shape (1, 3, 384, 416)\n"
     ]
    },
    {
     "name": "stderr",
     "output_type": "stream",
     "text": [
      "Predicting and saving masks:  23%|██▎       | 15/65 [00:05<00:16,  3.03it/s]"
     ]
    },
    {
     "name": "stdout",
     "output_type": "stream",
     "text": [
      "\n",
      "image 1/1 C:\\Users\\user\\fruit_dataset\\test\\images\\033_jpg.rf.bb73e26a949396cba20997a2e5634b84.jpg: 384x416 1 apple, 1 banana, 201.2ms\n",
      "Speed: 4.9ms preprocess, 201.2ms inference, 8.8ms postprocess per image at shape (1, 3, 384, 416)\n"
     ]
    },
    {
     "name": "stderr",
     "output_type": "stream",
     "text": [
      "Predicting and saving masks:  25%|██▍       | 16/65 [00:05<00:17,  2.75it/s]"
     ]
    },
    {
     "name": "stdout",
     "output_type": "stream",
     "text": [
      "\n",
      "image 1/1 C:\\Users\\user\\fruit_dataset\\test\\images\\036_jpg.rf.1bb1cec0f23729bf7056ccbfa38eeb86.jpg: 288x416 2 bananas, 165.8ms\n",
      "Speed: 3.6ms preprocess, 165.8ms inference, 8.3ms postprocess per image at shape (1, 3, 288, 416)\n"
     ]
    },
    {
     "name": "stderr",
     "output_type": "stream",
     "text": [
      "Predicting and saving masks:  26%|██▌       | 17/65 [00:05<00:16,  2.97it/s]"
     ]
    },
    {
     "name": "stdout",
     "output_type": "stream",
     "text": [
      "\n",
      "image 1/1 C:\\Users\\user\\fruit_dataset\\test\\images\\036_jpg.rf.51df8e165e2d041dd279ae9d8c9ddfa4.jpg: 288x416 2 bananas, 157.6ms\n",
      "Speed: 4.6ms preprocess, 157.6ms inference, 6.8ms postprocess per image at shape (1, 3, 288, 416)\n"
     ]
    },
    {
     "name": "stderr",
     "output_type": "stream",
     "text": [
      "Predicting and saving masks:  28%|██▊       | 18/65 [00:06<00:14,  3.17it/s]"
     ]
    },
    {
     "name": "stdout",
     "output_type": "stream",
     "text": [
      "\n",
      "image 1/1 C:\\Users\\user\\fruit_dataset\\test\\images\\043_jpg.rf.793825dac18932b5ad6303ea5a711169.jpg: 320x416 1 orange, 155.4ms\n",
      "Speed: 3.9ms preprocess, 155.4ms inference, 6.2ms postprocess per image at shape (1, 3, 320, 416)\n"
     ]
    },
    {
     "name": "stderr",
     "output_type": "stream",
     "text": [
      "Predicting and saving masks:  29%|██▉       | 19/65 [00:06<00:14,  3.27it/s]"
     ]
    },
    {
     "name": "stdout",
     "output_type": "stream",
     "text": [
      "\n",
      "image 1/1 C:\\Users\\user\\fruit_dataset\\test\\images\\043_jpg.rf.fa255d6b50bbd925aa2ae76c33c530b0.jpg: 320x416 1 orange, 170.1ms\n",
      "Speed: 4.8ms preprocess, 170.1ms inference, 6.9ms postprocess per image at shape (1, 3, 320, 416)\n"
     ]
    },
    {
     "name": "stderr",
     "output_type": "stream",
     "text": [
      "Predicting and saving masks:  31%|███       | 20/65 [00:06<00:13,  3.23it/s]"
     ]
    },
    {
     "name": "stdout",
     "output_type": "stream",
     "text": [
      "\n",
      "image 1/1 C:\\Users\\user\\fruit_dataset\\test\\images\\052_jpg.rf.adf72fdad9aeeace39188c27920f88e7.jpg: 224x416 1 orange, 249.8ms\n",
      "Speed: 3.0ms preprocess, 249.8ms inference, 5.4ms postprocess per image at shape (1, 3, 224, 416)\n"
     ]
    },
    {
     "name": "stderr",
     "output_type": "stream",
     "text": [
      "Predicting and saving masks:  32%|███▏      | 21/65 [00:07<00:14,  3.10it/s]"
     ]
    },
    {
     "name": "stdout",
     "output_type": "stream",
     "text": [
      "\n",
      "image 1/1 C:\\Users\\user\\fruit_dataset\\test\\images\\058_jpg.rf.de1a6cc3bc6a0fb5c8d44d7e8ffaa189.jpg: 288x416 3 bananas, 207.6ms\n",
      "Speed: 4.1ms preprocess, 207.6ms inference, 13.8ms postprocess per image at shape (1, 3, 288, 416)\n"
     ]
    },
    {
     "name": "stderr",
     "output_type": "stream",
     "text": [
      "Predicting and saving masks:  34%|███▍      | 22/65 [00:07<00:14,  3.03it/s]"
     ]
    },
    {
     "name": "stdout",
     "output_type": "stream",
     "text": [
      "\n",
      "image 1/1 C:\\Users\\user\\fruit_dataset\\test\\images\\059_jpg.rf.443b0bc8588755de38598c29d21520ef.jpg: 320x416 1 orange, 370.8ms\n",
      "Speed: 10.9ms preprocess, 370.8ms inference, 12.6ms postprocess per image at shape (1, 3, 320, 416)\n"
     ]
    },
    {
     "name": "stderr",
     "output_type": "stream",
     "text": [
      "Predicting and saving masks:  35%|███▌      | 23/65 [00:08<00:18,  2.29it/s]"
     ]
    },
    {
     "name": "stdout",
     "output_type": "stream",
     "text": [
      "\n",
      "image 1/1 C:\\Users\\user\\fruit_dataset\\test\\images\\060_jpg.rf.1077f50f2a66d4c2ae2674b9dca6fe10.jpg: 320x416 1 apple, 1 banana, 2 oranges, 439.5ms\n",
      "Speed: 9.6ms preprocess, 439.5ms inference, 26.2ms postprocess per image at shape (1, 3, 320, 416)\n"
     ]
    },
    {
     "name": "stderr",
     "output_type": "stream",
     "text": [
      "Predicting and saving masks:  37%|███▋      | 24/65 [00:08<00:21,  1.94it/s]"
     ]
    },
    {
     "name": "stdout",
     "output_type": "stream",
     "text": [
      "\n",
      "image 1/1 C:\\Users\\user\\fruit_dataset\\test\\images\\064_jpg.rf.1fb797d5bf0f9facf5b14ea870420c8d.jpg: 416x416 1 orange, 492.1ms\n",
      "Speed: 8.8ms preprocess, 492.1ms inference, 14.4ms postprocess per image at shape (1, 3, 416, 416)\n"
     ]
    },
    {
     "name": "stderr",
     "output_type": "stream",
     "text": [
      "Predicting and saving masks:  38%|███▊      | 25/65 [00:09<00:24,  1.66it/s]"
     ]
    },
    {
     "name": "stdout",
     "output_type": "stream",
     "text": [
      "\n",
      "image 1/1 C:\\Users\\user\\fruit_dataset\\test\\images\\070_jpg.rf.93c6c165fc5895c2da9b1b93059090b5.jpg: 288x416 2 apples, 1 orange, 282.8ms\n",
      "Speed: 4.5ms preprocess, 282.8ms inference, 10.6ms postprocess per image at shape (1, 3, 288, 416)\n"
     ]
    },
    {
     "name": "stderr",
     "output_type": "stream",
     "text": [
      "Predicting and saving masks:  40%|████      | 26/65 [00:10<00:21,  1.86it/s]"
     ]
    },
    {
     "name": "stdout",
     "output_type": "stream",
     "text": [
      "\n",
      "image 1/1 C:\\Users\\user\\fruit_dataset\\test\\images\\079_jpg.rf.4b019062eae2966a50f091d35188fe3a.jpg: 416x416 1 orange, 254.9ms\n",
      "Speed: 3.7ms preprocess, 254.9ms inference, 7.1ms postprocess per image at shape (1, 3, 416, 416)\n"
     ]
    },
    {
     "name": "stderr",
     "output_type": "stream",
     "text": [
      "Predicting and saving masks:  42%|████▏     | 27/65 [00:10<00:18,  2.09it/s]"
     ]
    },
    {
     "name": "stdout",
     "output_type": "stream",
     "text": [
      "\n",
      "image 1/1 C:\\Users\\user\\fruit_dataset\\test\\images\\092_jpg.rf.0259c89fc476dfb1ed60a68e052b4d27.jpg: 288x416 1 orange, 239.2ms\n",
      "Speed: 30.1ms preprocess, 239.2ms inference, 6.2ms postprocess per image at shape (1, 3, 288, 416)\n"
     ]
    },
    {
     "name": "stderr",
     "output_type": "stream",
     "text": [
      "Predicting and saving masks:  43%|████▎     | 28/65 [00:11<00:23,  1.60it/s]"
     ]
    },
    {
     "name": "stdout",
     "output_type": "stream",
     "text": [
      "\n",
      "image 1/1 C:\\Users\\user\\fruit_dataset\\test\\images\\094_jpg.rf.920e34da211089c661d16c2b543ba0f8.jpg: 416x416 (no detections), 284.0ms\n",
      "Speed: 7.2ms preprocess, 284.0ms inference, 1.1ms postprocess per image at shape (1, 3, 416, 416)\n"
     ]
    },
    {
     "name": "stderr",
     "output_type": "stream",
     "text": [
      "Predicting and saving masks:  45%|████▍     | 29/65 [00:11<00:20,  1.72it/s]"
     ]
    },
    {
     "name": "stdout",
     "output_type": "stream",
     "text": [
      "\n",
      "image 1/1 C:\\Users\\user\\fruit_dataset\\test\\images\\096_jpg.rf.c58c4e58fa291a715a7293fc7d68f3a0.jpg: 160x416 3 bananas, 134.3ms\n",
      "Speed: 2.6ms preprocess, 134.3ms inference, 7.4ms postprocess per image at shape (1, 3, 160, 416)\n"
     ]
    },
    {
     "name": "stderr",
     "output_type": "stream",
     "text": [
      "Predicting and saving masks:  46%|████▌     | 30/65 [00:11<00:16,  2.16it/s]"
     ]
    },
    {
     "name": "stdout",
     "output_type": "stream",
     "text": [
      "\n",
      "image 1/1 C:\\Users\\user\\fruit_dataset\\test\\images\\102_jpg.rf.d6ae754055dcb29449bb5b44d44b6a6d.jpg: 416x416 1 orange, 259.4ms\n",
      "Speed: 4.6ms preprocess, 259.4ms inference, 8.3ms postprocess per image at shape (1, 3, 416, 416)\n"
     ]
    },
    {
     "name": "stderr",
     "output_type": "stream",
     "text": [
      "Predicting and saving masks:  48%|████▊     | 31/65 [00:12<00:14,  2.36it/s]"
     ]
    },
    {
     "name": "stdout",
     "output_type": "stream",
     "text": [
      "\n",
      "image 1/1 C:\\Users\\user\\fruit_dataset\\test\\images\\109_jpg.rf.d96fbf16ff1c4901b0a9d261fc2cba7d.jpg: 416x416 3 apples, 297.6ms\n",
      "Speed: 4.9ms preprocess, 297.6ms inference, 14.1ms postprocess per image at shape (1, 3, 416, 416)\n"
     ]
    },
    {
     "name": "stderr",
     "output_type": "stream",
     "text": [
      "Predicting and saving masks:  49%|████▉     | 32/65 [00:12<00:13,  2.40it/s]"
     ]
    },
    {
     "name": "stdout",
     "output_type": "stream",
     "text": [
      "\n",
      "image 1/1 C:\\Users\\user\\fruit_dataset\\test\\images\\111_jpg.rf.983e277acd01719dda7aa013e9466d37.jpg: 416x416 1 apple, 244.0ms\n",
      "Speed: 4.7ms preprocess, 244.0ms inference, 8.3ms postprocess per image at shape (1, 3, 416, 416)\n"
     ]
    },
    {
     "name": "stderr",
     "output_type": "stream",
     "text": [
      "Predicting and saving masks:  51%|█████     | 33/65 [00:13<00:12,  2.55it/s]"
     ]
    },
    {
     "name": "stdout",
     "output_type": "stream",
     "text": [
      "\n",
      "image 1/1 C:\\Users\\user\\fruit_dataset\\test\\images\\117_jpg.rf.4eeeed97dc5a6f6db65e5bcaf96c06ec.jpg: 416x320 1 apple, 1 banana, 206.2ms\n",
      "Speed: 4.7ms preprocess, 206.2ms inference, 9.4ms postprocess per image at shape (1, 3, 416, 320)\n"
     ]
    },
    {
     "name": "stderr",
     "output_type": "stream",
     "text": [
      "Predicting and saving masks:  52%|█████▏    | 34/65 [00:13<00:11,  2.65it/s]"
     ]
    },
    {
     "name": "stdout",
     "output_type": "stream",
     "text": [
      "\n",
      "image 1/1 C:\\Users\\user\\fruit_dataset\\test\\images\\125_jpg.rf.16b00d2bbbc80419ea72c9d375a01c8b.jpg: 224x416 1 orange, 159.3ms\n",
      "Speed: 2.7ms preprocess, 159.3ms inference, 7.6ms postprocess per image at shape (1, 3, 224, 416)\n"
     ]
    },
    {
     "name": "stderr",
     "output_type": "stream",
     "text": [
      "Predicting and saving masks:  54%|█████▍    | 35/65 [00:13<00:10,  2.94it/s]"
     ]
    },
    {
     "name": "stdout",
     "output_type": "stream",
     "text": [
      "\n",
      "image 1/1 C:\\Users\\user\\fruit_dataset\\test\\images\\138_jpg.rf.0438a5f96bbdbb5346fbb04cf4ac1cfc.jpg: 288x416 2 bananas, 226.8ms\n",
      "Speed: 4.2ms preprocess, 226.8ms inference, 8.6ms postprocess per image at shape (1, 3, 288, 416)\n"
     ]
    },
    {
     "name": "stderr",
     "output_type": "stream",
     "text": [
      "Predicting and saving masks:  55%|█████▌    | 36/65 [00:14<00:10,  2.79it/s]"
     ]
    },
    {
     "name": "stdout",
     "output_type": "stream",
     "text": [
      "\n",
      "image 1/1 C:\\Users\\user\\fruit_dataset\\test\\images\\140_jpg.rf.6fbc56acdfbd1a8146fa5b9653c4fdad.jpg: 320x416 2 apples, 385.3ms\n",
      "Speed: 8.7ms preprocess, 385.3ms inference, 8.6ms postprocess per image at shape (1, 3, 320, 416)\n"
     ]
    },
    {
     "name": "stderr",
     "output_type": "stream",
     "text": [
      "Predicting and saving masks:  57%|█████▋    | 37/65 [00:14<00:12,  2.22it/s]"
     ]
    },
    {
     "name": "stdout",
     "output_type": "stream",
     "text": [
      "\n",
      "image 1/1 C:\\Users\\user\\fruit_dataset\\test\\images\\150_jpg.rf.8a9442c61f6f8237befc3e75037ac738.jpg: 288x416 6 bananas, 185.4ms\n",
      "Speed: 2.8ms preprocess, 185.4ms inference, 17.3ms postprocess per image at shape (1, 3, 288, 416)\n"
     ]
    },
    {
     "name": "stderr",
     "output_type": "stream",
     "text": [
      "Predicting and saving masks:  58%|█████▊    | 38/65 [00:15<00:13,  1.94it/s]"
     ]
    },
    {
     "name": "stdout",
     "output_type": "stream",
     "text": [
      "\n",
      "image 1/1 C:\\Users\\user\\fruit_dataset\\test\\images\\153_jpg.rf.944f92fd3f566882bacd86ec311b7ba7.jpg: 416x416 1 orange, 231.9ms\n",
      "Speed: 4.1ms preprocess, 231.9ms inference, 6.7ms postprocess per image at shape (1, 3, 416, 416)\n"
     ]
    },
    {
     "name": "stderr",
     "output_type": "stream",
     "text": [
      "Predicting and saving masks:  60%|██████    | 39/65 [00:15<00:11,  2.19it/s]"
     ]
    },
    {
     "name": "stdout",
     "output_type": "stream",
     "text": [
      "\n",
      "image 1/1 C:\\Users\\user\\fruit_dataset\\test\\images\\158_jpg.rf.e117a4b42a1cb7ab30bb6f3237b6ae5b.jpg: 288x416 3 apples, 230.9ms\n",
      "Speed: 4.2ms preprocess, 230.9ms inference, 10.1ms postprocess per image at shape (1, 3, 288, 416)\n"
     ]
    },
    {
     "name": "stderr",
     "output_type": "stream",
     "text": [
      "Predicting and saving masks:  62%|██████▏   | 40/65 [00:16<00:10,  2.38it/s]"
     ]
    },
    {
     "name": "stdout",
     "output_type": "stream",
     "text": [
      "\n",
      "image 1/1 C:\\Users\\user\\fruit_dataset\\test\\images\\164_jpg.rf.bf346638b8ad9a531db4e69c7b2a1616.jpg: 384x416 1 orange, 209.6ms\n",
      "Speed: 6.9ms preprocess, 209.6ms inference, 7.1ms postprocess per image at shape (1, 3, 384, 416)\n"
     ]
    },
    {
     "name": "stderr",
     "output_type": "stream",
     "text": [
      "Predicting and saving masks:  63%|██████▎   | 41/65 [00:16<00:10,  2.28it/s]"
     ]
    },
    {
     "name": "stdout",
     "output_type": "stream",
     "text": [
      "\n",
      "image 1/1 C:\\Users\\user\\fruit_dataset\\test\\images\\174_jpg.rf.400f09061d6db84fb7a724d193e6dd1f.jpg: 416x416 9 apples, 216.6ms\n",
      "Speed: 3.9ms preprocess, 216.6ms inference, 27.7ms postprocess per image at shape (1, 3, 416, 416)\n"
     ]
    },
    {
     "name": "stderr",
     "output_type": "stream",
     "text": [
      "Predicting and saving masks:  65%|██████▍   | 42/65 [00:17<00:10,  2.18it/s]"
     ]
    },
    {
     "name": "stdout",
     "output_type": "stream",
     "text": [
      "\n",
      "image 1/1 C:\\Users\\user\\fruit_dataset\\test\\images\\179_jpg.rf.d9d31a0e5aac6895f35254f5a5fcc0f0.jpg: 288x416 4 apples, 168.6ms\n",
      "Speed: 3.4ms preprocess, 168.6ms inference, 11.8ms postprocess per image at shape (1, 3, 288, 416)\n"
     ]
    },
    {
     "name": "stderr",
     "output_type": "stream",
     "text": [
      "Predicting and saving masks:  66%|██████▌   | 43/65 [00:17<00:08,  2.45it/s]"
     ]
    },
    {
     "name": "stdout",
     "output_type": "stream",
     "text": [
      "\n",
      "image 1/1 C:\\Users\\user\\fruit_dataset\\test\\images\\183_jpg.rf.e5e20bd912c063422dbca0a5d89e650b.jpg: 256x416 1 banana, 162.6ms\n",
      "Speed: 3.4ms preprocess, 162.6ms inference, 3.8ms postprocess per image at shape (1, 3, 256, 416)\n"
     ]
    },
    {
     "name": "stderr",
     "output_type": "stream",
     "text": [
      "Predicting and saving masks:  68%|██████▊   | 44/65 [00:17<00:08,  2.48it/s]"
     ]
    },
    {
     "name": "stdout",
     "output_type": "stream",
     "text": [
      "\n",
      "image 1/1 C:\\Users\\user\\fruit_dataset\\test\\images\\184_jpg.rf.9a0120bf2bab3a3ef56227d24a3cbe4c.jpg: 288x416 1 apple, 2 bananas, 1 orange, 141.9ms\n",
      "Speed: 4.0ms preprocess, 141.9ms inference, 11.9ms postprocess per image at shape (1, 3, 288, 416)\n"
     ]
    },
    {
     "name": "stderr",
     "output_type": "stream",
     "text": [
      "Predicting and saving masks:  69%|██████▉   | 45/65 [00:18<00:07,  2.71it/s]"
     ]
    },
    {
     "name": "stdout",
     "output_type": "stream",
     "text": [
      "\n",
      "image 1/1 C:\\Users\\user\\fruit_dataset\\test\\images\\185_jpg.rf.156a42b877ca58d9164060b3eac90c07.jpg: 224x416 3 bananas, 146.0ms\n",
      "Speed: 3.9ms preprocess, 146.0ms inference, 7.8ms postprocess per image at shape (1, 3, 224, 416)\n"
     ]
    },
    {
     "name": "stderr",
     "output_type": "stream",
     "text": [
      "Predicting and saving masks:  71%|███████   | 46/65 [00:18<00:06,  2.99it/s]"
     ]
    },
    {
     "name": "stdout",
     "output_type": "stream",
     "text": [
      "\n",
      "image 1/1 C:\\Users\\user\\fruit_dataset\\test\\images\\193_jpg.rf.f81aea4cff1b4c4d546bcdb12f4866d0.jpg: 416x416 6 oranges, 215.3ms\n",
      "Speed: 4.9ms preprocess, 215.3ms inference, 20.1ms postprocess per image at shape (1, 3, 416, 416)\n"
     ]
    },
    {
     "name": "stderr",
     "output_type": "stream",
     "text": [
      "Predicting and saving masks:  72%|███████▏  | 47/65 [00:18<00:06,  2.95it/s]"
     ]
    },
    {
     "name": "stdout",
     "output_type": "stream",
     "text": [
      "\n",
      "image 1/1 C:\\Users\\user\\fruit_dataset\\test\\images\\201_jpg.rf.b6ffe4b913373ab6f16aab47df1d019e.jpg: 416x320 3 oranges, 173.0ms\n",
      "Speed: 4.7ms preprocess, 173.0ms inference, 11.1ms postprocess per image at shape (1, 3, 416, 320)\n"
     ]
    },
    {
     "name": "stderr",
     "output_type": "stream",
     "text": [
      "Predicting and saving masks:  74%|███████▍  | 48/65 [00:18<00:05,  2.92it/s]"
     ]
    },
    {
     "name": "stdout",
     "output_type": "stream",
     "text": [
      "\n",
      "image 1/1 C:\\Users\\user\\fruit_dataset\\test\\images\\224_jpg.rf.32ab353134b81fe06fddb030dffd737f.jpg: 320x416 2 oranges, 183.4ms\n",
      "Speed: 4.4ms preprocess, 183.4ms inference, 9.5ms postprocess per image at shape (1, 3, 320, 416)\n"
     ]
    },
    {
     "name": "stderr",
     "output_type": "stream",
     "text": [
      "Predicting and saving masks:  75%|███████▌  | 49/65 [00:19<00:06,  2.45it/s]"
     ]
    },
    {
     "name": "stdout",
     "output_type": "stream",
     "text": [
      "\n",
      "image 1/1 C:\\Users\\user\\fruit_dataset\\test\\images\\226_jpg.rf.16bd92ef388b09d361aa04245e6d3837.jpg: 288x416 2 apples, 154.4ms\n",
      "Speed: 7.1ms preprocess, 154.4ms inference, 8.0ms postprocess per image at shape (1, 3, 288, 416)\n"
     ]
    },
    {
     "name": "stderr",
     "output_type": "stream",
     "text": [
      "Predicting and saving masks:  77%|███████▋  | 50/65 [00:19<00:05,  2.84it/s]"
     ]
    },
    {
     "name": "stdout",
     "output_type": "stream",
     "text": [
      "\n",
      "image 1/1 C:\\Users\\user\\fruit_dataset\\test\\images\\231_jpg.rf.f8b4392d101bfd95b9e84e31465db97d.jpg: 288x416 1 banana, 174.1ms\n",
      "Speed: 4.0ms preprocess, 174.1ms inference, 6.2ms postprocess per image at shape (1, 3, 288, 416)\n"
     ]
    },
    {
     "name": "stderr",
     "output_type": "stream",
     "text": [
      "Predicting and saving masks:  78%|███████▊  | 51/65 [00:20<00:04,  3.02it/s]"
     ]
    },
    {
     "name": "stdout",
     "output_type": "stream",
     "text": [
      "\n",
      "image 1/1 C:\\Users\\user\\fruit_dataset\\test\\images\\234_jpg.rf.00278f9025fbf8cdb5aa70a06d48c5a1.jpg: 256x416 1 banana, 162.2ms\n",
      "Speed: 3.5ms preprocess, 162.2ms inference, 6.8ms postprocess per image at shape (1, 3, 256, 416)\n"
     ]
    },
    {
     "name": "stderr",
     "output_type": "stream",
     "text": [
      "Predicting and saving masks:  80%|████████  | 52/65 [00:20<00:03,  3.36it/s]"
     ]
    },
    {
     "name": "stdout",
     "output_type": "stream",
     "text": [
      "\n",
      "image 1/1 C:\\Users\\user\\fruit_dataset\\test\\images\\237_jpg.rf.bec999f407f4891ab8e420d70c58a82f.jpg: 224x416 1 orange, 127.3ms\n",
      "Speed: 3.2ms preprocess, 127.3ms inference, 5.6ms postprocess per image at shape (1, 3, 224, 416)\n"
     ]
    },
    {
     "name": "stderr",
     "output_type": "stream",
     "text": [
      "Predicting and saving masks:  82%|████████▏ | 53/65 [00:20<00:03,  3.66it/s]"
     ]
    },
    {
     "name": "stdout",
     "output_type": "stream",
     "text": [
      "\n",
      "image 1/1 C:\\Users\\user\\fruit_dataset\\test\\images\\249_jpg.rf.ab8c393498aafa8ada8a12f55ac8d6a2.jpg: 256x416 2 apples, 170.1ms\n",
      "Speed: 3.8ms preprocess, 170.1ms inference, 6.0ms postprocess per image at shape (1, 3, 256, 416)\n"
     ]
    },
    {
     "name": "stderr",
     "output_type": "stream",
     "text": [
      "Predicting and saving masks:  83%|████████▎ | 54/65 [00:20<00:03,  3.25it/s]"
     ]
    },
    {
     "name": "stdout",
     "output_type": "stream",
     "text": [
      "\n",
      "image 1/1 C:\\Users\\user\\fruit_dataset\\test\\images\\253_jpg.rf.ff8357d64c1a354404f4e578d65d57ad.jpg: 256x416 4 bananas, 189.7ms\n",
      "Speed: 3.6ms preprocess, 189.7ms inference, 16.6ms postprocess per image at shape (1, 3, 256, 416)\n"
     ]
    },
    {
     "name": "stderr",
     "output_type": "stream",
     "text": [
      "Predicting and saving masks:  85%|████████▍ | 55/65 [00:21<00:03,  3.25it/s]"
     ]
    },
    {
     "name": "stdout",
     "output_type": "stream",
     "text": [
      "\n",
      "image 1/1 C:\\Users\\user\\fruit_dataset\\test\\images\\254_jpg.rf.2c2acbfc5a13a0381f8e2d51539564e8.jpg: 416x416 2 oranges, 274.8ms\n",
      "Speed: 7.5ms preprocess, 274.8ms inference, 11.2ms postprocess per image at shape (1, 3, 416, 416)\n"
     ]
    },
    {
     "name": "stderr",
     "output_type": "stream",
     "text": [
      "Predicting and saving masks:  86%|████████▌ | 56/65 [00:21<00:03,  2.62it/s]"
     ]
    },
    {
     "name": "stdout",
     "output_type": "stream",
     "text": [
      "\n",
      "image 1/1 C:\\Users\\user\\fruit_dataset\\test\\images\\257_jpg.rf.0732ef489e391cf683c8b6d85ba254a4.jpg: 384x416 2 bananas, 320.6ms\n",
      "Speed: 6.6ms preprocess, 320.6ms inference, 16.4ms postprocess per image at shape (1, 3, 384, 416)\n"
     ]
    },
    {
     "name": "stderr",
     "output_type": "stream",
     "text": [
      "Predicting and saving masks:  88%|████████▊ | 57/65 [00:22<00:03,  2.23it/s]"
     ]
    },
    {
     "name": "stdout",
     "output_type": "stream",
     "text": [
      "\n",
      "image 1/1 C:\\Users\\user\\fruit_dataset\\test\\images\\265_jpg.rf.efe297a56773a4856e4d0d36770794ee.jpg: 416x416 2 bananas, 317.1ms\n",
      "Speed: 8.1ms preprocess, 317.1ms inference, 17.1ms postprocess per image at shape (1, 3, 416, 416)\n"
     ]
    },
    {
     "name": "stderr",
     "output_type": "stream",
     "text": [
      "Predicting and saving masks:  89%|████████▉ | 58/65 [00:22<00:03,  2.26it/s]"
     ]
    },
    {
     "name": "stdout",
     "output_type": "stream",
     "text": [
      "\n",
      "image 1/1 C:\\Users\\user\\fruit_dataset\\test\\images\\268_jpg.rf.f23f1a34632a3c196089034a305ef50f.jpg: 416x416 1 orange, 304.0ms\n",
      "Speed: 5.9ms preprocess, 304.0ms inference, 11.5ms postprocess per image at shape (1, 3, 416, 416)\n"
     ]
    },
    {
     "name": "stderr",
     "output_type": "stream",
     "text": [
      "Predicting and saving masks:  91%|█████████ | 59/65 [00:23<00:02,  2.22it/s]"
     ]
    },
    {
     "name": "stdout",
     "output_type": "stream",
     "text": [
      "\n",
      "image 1/1 C:\\Users\\user\\fruit_dataset\\test\\images\\269_jpg.rf.148fde2d034971d1be7cfa86bccf2450.jpg: 384x416 1 orange, 313.7ms\n",
      "Speed: 4.8ms preprocess, 313.7ms inference, 4.6ms postprocess per image at shape (1, 3, 384, 416)\n"
     ]
    },
    {
     "name": "stderr",
     "output_type": "stream",
     "text": [
      "Predicting and saving masks:  92%|█████████▏| 60/65 [00:23<00:02,  2.30it/s]"
     ]
    },
    {
     "name": "stdout",
     "output_type": "stream",
     "text": [
      "\n",
      "image 1/1 C:\\Users\\user\\fruit_dataset\\test\\images\\277_jpg.rf.c85acad8fae21d10eb972ac6f3a4ba18.jpg: 416x416 1 apple, 430.7ms\n",
      "Speed: 4.9ms preprocess, 430.7ms inference, 12.8ms postprocess per image at shape (1, 3, 416, 416)\n"
     ]
    },
    {
     "name": "stderr",
     "output_type": "stream",
     "text": [
      "Predicting and saving masks:  94%|█████████▍| 61/65 [00:24<00:01,  2.13it/s]"
     ]
    },
    {
     "name": "stdout",
     "output_type": "stream",
     "text": [
      "\n",
      "image 1/1 C:\\Users\\user\\fruit_dataset\\test\\images\\283_jpg.rf.f3954f403c9b55617dd21539301687fc.jpg: 416x416 6 bananas, 354.2ms\n",
      "Speed: 8.8ms preprocess, 354.2ms inference, 21.2ms postprocess per image at shape (1, 3, 416, 416)\n"
     ]
    },
    {
     "name": "stderr",
     "output_type": "stream",
     "text": [
      "Predicting and saving masks:  95%|█████████▌| 62/65 [00:24<00:01,  2.10it/s]"
     ]
    },
    {
     "name": "stdout",
     "output_type": "stream",
     "text": [
      "\n",
      "image 1/1 C:\\Users\\user\\fruit_dataset\\test\\images\\284_jpg.rf.7f1f14cd588933a4e1a1ee90a19a5f2e.jpg: 288x416 3 apples, 234.4ms\n",
      "Speed: 3.7ms preprocess, 234.4ms inference, 20.1ms postprocess per image at shape (1, 3, 288, 416)\n"
     ]
    },
    {
     "name": "stderr",
     "output_type": "stream",
     "text": [
      "Predicting and saving masks:  97%|█████████▋| 63/65 [00:25<00:00,  2.21it/s]"
     ]
    },
    {
     "name": "stdout",
     "output_type": "stream",
     "text": [
      "\n",
      "image 1/1 C:\\Users\\user\\fruit_dataset\\test\\images\\290_jpg.rf.fbc55420ccb018f20961a4fc7dae2dfe.jpg: 416x288 3 apples, 235.7ms\n",
      "Speed: 4.5ms preprocess, 235.7ms inference, 13.5ms postprocess per image at shape (1, 3, 416, 288)\n"
     ]
    },
    {
     "name": "stderr",
     "output_type": "stream",
     "text": [
      "Predicting and saving masks:  98%|█████████▊| 64/65 [00:25<00:00,  2.00it/s]"
     ]
    },
    {
     "name": "stdout",
     "output_type": "stream",
     "text": [
      "\n",
      "image 1/1 C:\\Users\\user\\fruit_dataset\\test\\images\\296_jpg.rf.02e361dc12db57152b239b3bceee546e.jpg: 352x416 4 bananas, 266.8ms\n",
      "Speed: 7.2ms preprocess, 266.8ms inference, 12.6ms postprocess per image at shape (1, 3, 352, 416)\n"
     ]
    },
    {
     "name": "stderr",
     "output_type": "stream",
     "text": [
      "Predicting and saving masks: 100%|██████████| 65/65 [00:26<00:00,  2.50it/s]"
     ]
    },
    {
     "name": "stdout",
     "output_type": "stream",
     "text": [
      "\n",
      "✅ All predictions saved in 'test_predictions' folder.\n"
     ]
    },
    {
     "name": "stderr",
     "output_type": "stream",
     "text": [
      "\n"
     ]
    }
   ],
   "source": [
    "import os\n",
    "\n",
    "from tqdm import tqdm\n",
    "\n",
    "# Load the trained model\n",
    "model = YOLO(\"fruit_detection_1/yolov8_fruit_detector_3/weights/best.pt\")\n",
    "\n",
    "# Input test image folder\n",
    "test_img_dir = \"fruit_dataset/test/images\"\n",
    "\n",
    "# Output folder to save the prediction images\n",
    "output_dir = \"test_predictions\"\n",
    "os.makedirs(output_dir, exist_ok=True)\n",
    "\n",
    "# Get all image paths\n",
    "image_files = [f for f in os.listdir(test_img_dir) if f.endswith(('.jpg', '.jpeg', '.png'))]\n",
    "\n",
    "# Run inference and save results\n",
    "for image_file in tqdm(image_files, desc=\"Predicting and saving masks\"):\n",
    "    image_path = os.path.join(test_img_dir, image_file)\n",
    "    results = model(image_path)  # Run inference\n",
    "\n",
    "    # Save result with masks as PNG\n",
    "    save_path = os.path.join(output_dir, os.path.splitext(image_file)[0] + \".png\")\n",
    "    results[0].save(filename=save_path)\n",
    "\n",
    "print(f\"\\n✅ All predictions saved in '{output_dir}' folder.\")"
   ]
  },
  {
   "cell_type": "code",
   "execution_count": null,
   "id": "ee7314f2-48d0-4b31-bec1-bc60e04b3301",
   "metadata": {},
   "outputs": [],
   "source": []
  }
 ],
 "metadata": {
  "kernelspec": {
   "display_name": "Python 3 (ipykernel)",
   "language": "python",
   "name": "python3"
  },
  "language_info": {
   "codemirror_mode": {
    "name": "ipython",
    "version": 3
   },
   "file_extension": ".py",
   "mimetype": "text/x-python",
   "name": "python",
   "nbconvert_exporter": "python",
   "pygments_lexer": "ipython3",
   "version": "3.12.4"
  }
 },
 "nbformat": 4,
 "nbformat_minor": 5
}
